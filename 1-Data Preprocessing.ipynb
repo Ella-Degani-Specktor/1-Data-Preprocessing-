{
 "cells": [
  {
   "cell_type": "markdown",
   "metadata": {},
   "source": [
    "# Analyzing borrowers’ risk of defaulting\n",
    "\n",
    "Your project is to prepare a report for a bank’s loan division. You’ll need to find out if a customer’s marital status and number of children has an impact on whether they will default on a loan. The bank already has some data on customers’ credit worthiness.\n",
    "\n",
    "Your report will be considered when building a **credit scoring** of a potential customer. A **credit scoring** is used to evaluate the ability of a potential borrower to repay their loan."
   ]
  },
  {
   "cell_type": "code",
   "execution_count": 1,
   "metadata": {},
   "outputs": [],
   "source": [
    "# Libraries and project environment setup:\n",
    "\n",
    "## pandas and numpy for data preprocessing and manipulation\n",
    "import pandas as pd\n",
    "import numpy as np\n",
    "\n",
    "## WordNet Lemmatizer and SnowballStemmer for handling categorical variables\n",
    "import nltk\n",
    "from nltk.stem import WordNetLemmatizer\n",
    "from collections import Counter\n",
    "from nltk.stem import SnowballStemmer\n",
    "english_stemmer = SnowballStemmer('english')\n",
    "\n",
    "##Remove warnings\n",
    "import sys\n",
    "import warnings\n",
    "if not sys.warnoptions:\n",
    "    warnings.simplefilter(\"ignore\");"
   ]
  },
  {
   "cell_type": "markdown",
   "metadata": {},
   "source": [
    "## Open the data file and have a look at the general information. "
   ]
  },
  {
   "cell_type": "code",
   "execution_count": 2,
   "metadata": {
    "scrolled": true
   },
   "outputs": [
    {
     "data": {
      "text/html": [
       "<div>\n",
       "<style scoped>\n",
       "    .dataframe tbody tr th:only-of-type {\n",
       "        vertical-align: middle;\n",
       "    }\n",
       "\n",
       "    .dataframe tbody tr th {\n",
       "        vertical-align: top;\n",
       "    }\n",
       "\n",
       "    .dataframe thead th {\n",
       "        text-align: right;\n",
       "    }\n",
       "</style>\n",
       "<table border=\"1\" class=\"dataframe\">\n",
       "  <thead>\n",
       "    <tr style=\"text-align: right;\">\n",
       "      <th></th>\n",
       "      <th>children</th>\n",
       "      <th>days_employed</th>\n",
       "      <th>dob_years</th>\n",
       "      <th>education</th>\n",
       "      <th>education_id</th>\n",
       "      <th>family_status</th>\n",
       "      <th>family_status_id</th>\n",
       "      <th>gender</th>\n",
       "      <th>income_type</th>\n",
       "      <th>debt</th>\n",
       "      <th>total_income</th>\n",
       "      <th>purpose</th>\n",
       "    </tr>\n",
       "  </thead>\n",
       "  <tbody>\n",
       "    <tr>\n",
       "      <th>0</th>\n",
       "      <td>1</td>\n",
       "      <td>-8437.673028</td>\n",
       "      <td>42</td>\n",
       "      <td>bachelor's degree</td>\n",
       "      <td>0</td>\n",
       "      <td>married</td>\n",
       "      <td>0</td>\n",
       "      <td>F</td>\n",
       "      <td>employee</td>\n",
       "      <td>0</td>\n",
       "      <td>40620.102</td>\n",
       "      <td>purchase of the house</td>\n",
       "    </tr>\n",
       "    <tr>\n",
       "      <th>1</th>\n",
       "      <td>1</td>\n",
       "      <td>-4024.803754</td>\n",
       "      <td>36</td>\n",
       "      <td>secondary education</td>\n",
       "      <td>1</td>\n",
       "      <td>married</td>\n",
       "      <td>0</td>\n",
       "      <td>F</td>\n",
       "      <td>employee</td>\n",
       "      <td>0</td>\n",
       "      <td>17932.802</td>\n",
       "      <td>car purchase</td>\n",
       "    </tr>\n",
       "    <tr>\n",
       "      <th>2</th>\n",
       "      <td>0</td>\n",
       "      <td>-5623.422610</td>\n",
       "      <td>33</td>\n",
       "      <td>Secondary Education</td>\n",
       "      <td>1</td>\n",
       "      <td>married</td>\n",
       "      <td>0</td>\n",
       "      <td>M</td>\n",
       "      <td>employee</td>\n",
       "      <td>0</td>\n",
       "      <td>23341.752</td>\n",
       "      <td>purchase of the house</td>\n",
       "    </tr>\n",
       "    <tr>\n",
       "      <th>3</th>\n",
       "      <td>3</td>\n",
       "      <td>-4124.747207</td>\n",
       "      <td>32</td>\n",
       "      <td>secondary education</td>\n",
       "      <td>1</td>\n",
       "      <td>married</td>\n",
       "      <td>0</td>\n",
       "      <td>M</td>\n",
       "      <td>employee</td>\n",
       "      <td>0</td>\n",
       "      <td>42820.568</td>\n",
       "      <td>supplementary education</td>\n",
       "    </tr>\n",
       "    <tr>\n",
       "      <th>4</th>\n",
       "      <td>0</td>\n",
       "      <td>340266.072047</td>\n",
       "      <td>53</td>\n",
       "      <td>secondary education</td>\n",
       "      <td>1</td>\n",
       "      <td>civil partnership</td>\n",
       "      <td>1</td>\n",
       "      <td>F</td>\n",
       "      <td>retiree</td>\n",
       "      <td>0</td>\n",
       "      <td>25378.572</td>\n",
       "      <td>to have a wedding</td>\n",
       "    </tr>\n",
       "    <tr>\n",
       "      <th>...</th>\n",
       "      <td>...</td>\n",
       "      <td>...</td>\n",
       "      <td>...</td>\n",
       "      <td>...</td>\n",
       "      <td>...</td>\n",
       "      <td>...</td>\n",
       "      <td>...</td>\n",
       "      <td>...</td>\n",
       "      <td>...</td>\n",
       "      <td>...</td>\n",
       "      <td>...</td>\n",
       "      <td>...</td>\n",
       "    </tr>\n",
       "    <tr>\n",
       "      <th>21520</th>\n",
       "      <td>1</td>\n",
       "      <td>-4529.316663</td>\n",
       "      <td>43</td>\n",
       "      <td>secondary education</td>\n",
       "      <td>1</td>\n",
       "      <td>civil partnership</td>\n",
       "      <td>1</td>\n",
       "      <td>F</td>\n",
       "      <td>business</td>\n",
       "      <td>0</td>\n",
       "      <td>35966.698</td>\n",
       "      <td>housing transactions</td>\n",
       "    </tr>\n",
       "    <tr>\n",
       "      <th>21521</th>\n",
       "      <td>0</td>\n",
       "      <td>343937.404131</td>\n",
       "      <td>67</td>\n",
       "      <td>secondary education</td>\n",
       "      <td>1</td>\n",
       "      <td>married</td>\n",
       "      <td>0</td>\n",
       "      <td>F</td>\n",
       "      <td>retiree</td>\n",
       "      <td>0</td>\n",
       "      <td>24959.969</td>\n",
       "      <td>purchase of a car</td>\n",
       "    </tr>\n",
       "    <tr>\n",
       "      <th>21522</th>\n",
       "      <td>1</td>\n",
       "      <td>-2113.346888</td>\n",
       "      <td>38</td>\n",
       "      <td>secondary education</td>\n",
       "      <td>1</td>\n",
       "      <td>civil partnership</td>\n",
       "      <td>1</td>\n",
       "      <td>M</td>\n",
       "      <td>employee</td>\n",
       "      <td>1</td>\n",
       "      <td>14347.610</td>\n",
       "      <td>property</td>\n",
       "    </tr>\n",
       "    <tr>\n",
       "      <th>21523</th>\n",
       "      <td>3</td>\n",
       "      <td>-3112.481705</td>\n",
       "      <td>38</td>\n",
       "      <td>secondary education</td>\n",
       "      <td>1</td>\n",
       "      <td>married</td>\n",
       "      <td>0</td>\n",
       "      <td>M</td>\n",
       "      <td>employee</td>\n",
       "      <td>1</td>\n",
       "      <td>39054.888</td>\n",
       "      <td>buying my own car</td>\n",
       "    </tr>\n",
       "    <tr>\n",
       "      <th>21524</th>\n",
       "      <td>2</td>\n",
       "      <td>-1984.507589</td>\n",
       "      <td>40</td>\n",
       "      <td>secondary education</td>\n",
       "      <td>1</td>\n",
       "      <td>married</td>\n",
       "      <td>0</td>\n",
       "      <td>F</td>\n",
       "      <td>employee</td>\n",
       "      <td>0</td>\n",
       "      <td>13127.587</td>\n",
       "      <td>to buy a car</td>\n",
       "    </tr>\n",
       "  </tbody>\n",
       "</table>\n",
       "<p>21525 rows × 12 columns</p>\n",
       "</div>"
      ],
      "text/plain": [
       "       children  days_employed  dob_years            education  education_id  \\\n",
       "0             1   -8437.673028         42    bachelor's degree             0   \n",
       "1             1   -4024.803754         36  secondary education             1   \n",
       "2             0   -5623.422610         33  Secondary Education             1   \n",
       "3             3   -4124.747207         32  secondary education             1   \n",
       "4             0  340266.072047         53  secondary education             1   \n",
       "...         ...            ...        ...                  ...           ...   \n",
       "21520         1   -4529.316663         43  secondary education             1   \n",
       "21521         0  343937.404131         67  secondary education             1   \n",
       "21522         1   -2113.346888         38  secondary education             1   \n",
       "21523         3   -3112.481705         38  secondary education             1   \n",
       "21524         2   -1984.507589         40  secondary education             1   \n",
       "\n",
       "           family_status  family_status_id gender income_type  debt  \\\n",
       "0                married                 0      F    employee     0   \n",
       "1                married                 0      F    employee     0   \n",
       "2                married                 0      M    employee     0   \n",
       "3                married                 0      M    employee     0   \n",
       "4      civil partnership                 1      F     retiree     0   \n",
       "...                  ...               ...    ...         ...   ...   \n",
       "21520  civil partnership                 1      F    business     0   \n",
       "21521            married                 0      F     retiree     0   \n",
       "21522  civil partnership                 1      M    employee     1   \n",
       "21523            married                 0      M    employee     1   \n",
       "21524            married                 0      F    employee     0   \n",
       "\n",
       "       total_income                  purpose  \n",
       "0         40620.102    purchase of the house  \n",
       "1         17932.802             car purchase  \n",
       "2         23341.752    purchase of the house  \n",
       "3         42820.568  supplementary education  \n",
       "4         25378.572        to have a wedding  \n",
       "...             ...                      ...  \n",
       "21520     35966.698     housing transactions  \n",
       "21521     24959.969        purchase of a car  \n",
       "21522     14347.610                 property  \n",
       "21523     39054.888        buying my own car  \n",
       "21524     13127.587             to buy a car  \n",
       "\n",
       "[21525 rows x 12 columns]"
      ]
     },
     "execution_count": 2,
     "metadata": {},
     "output_type": "execute_result"
    }
   ],
   "source": [
    "# Csv file read\n",
    "## Use try-except to handle unexpected errors\n",
    "try:\n",
    "    credit = pd.read_csv('/datasets/credit_scoring_eng.csv')\n",
    "except: \n",
    "    credit = pd.read_csv('https://code.s3.yandex.net/datasets/credit_scoring_eng.csv')\n",
    "credit"
   ]
  },
  {
   "cell_type": "markdown",
   "metadata": {},
   "source": [
    "Reading the file we immediately find errors when it comes to **days_employed** (can't be negative values)"
   ]
  },
  {
   "cell_type": "code",
   "execution_count": 3,
   "metadata": {
    "scrolled": true
   },
   "outputs": [
    {
     "name": "stdout",
     "output_type": "stream",
     "text": [
      "<class 'pandas.core.frame.DataFrame'>\n",
      "RangeIndex: 21525 entries, 0 to 21524\n",
      "Data columns (total 12 columns):\n",
      " #   Column            Non-Null Count  Dtype  \n",
      "---  ------            --------------  -----  \n",
      " 0   children          21525 non-null  int64  \n",
      " 1   days_employed     19351 non-null  float64\n",
      " 2   dob_years         21525 non-null  int64  \n",
      " 3   education         21525 non-null  object \n",
      " 4   education_id      21525 non-null  int64  \n",
      " 5   family_status     21525 non-null  object \n",
      " 6   family_status_id  21525 non-null  int64  \n",
      " 7   gender            21525 non-null  object \n",
      " 8   income_type       21525 non-null  object \n",
      " 9   debt              21525 non-null  int64  \n",
      " 10  total_income      19351 non-null  float64\n",
      " 11  purpose           21525 non-null  object \n",
      "dtypes: float64(2), int64(5), object(5)\n",
      "memory usage: 2.0+ MB\n"
     ]
    }
   ],
   "source": [
    "# General file examination\n",
    "credit.info()"
   ]
  },
  {
   "cell_type": "markdown",
   "metadata": {},
   "source": [
    "Results show column names are accurate to the project data description.\n",
    "\n",
    "There are 3 data types: float, object and integer.\n",
    "\n",
    "The dataset includes 21525 entries and 12 columns.\n",
    "\n",
    "We can clearly see that **days_employed** and **total_income** columns contain missing values.\n",
    "\n",
    "5 columns are categorical, 6 are quantical, and **debt** contains quantical labels rather than quantical values."
   ]
  },
  {
   "cell_type": "code",
   "execution_count": 4,
   "metadata": {
    "scrolled": false
   },
   "outputs": [
    {
     "data": {
      "text/html": [
       "<div>\n",
       "<style scoped>\n",
       "    .dataframe tbody tr th:only-of-type {\n",
       "        vertical-align: middle;\n",
       "    }\n",
       "\n",
       "    .dataframe tbody tr th {\n",
       "        vertical-align: top;\n",
       "    }\n",
       "\n",
       "    .dataframe thead th {\n",
       "        text-align: right;\n",
       "    }\n",
       "</style>\n",
       "<table border=\"1\" class=\"dataframe\">\n",
       "  <thead>\n",
       "    <tr style=\"text-align: right;\">\n",
       "      <th></th>\n",
       "      <th>children</th>\n",
       "      <th>days_employed</th>\n",
       "      <th>dob_years</th>\n",
       "      <th>education</th>\n",
       "      <th>education_id</th>\n",
       "      <th>family_status</th>\n",
       "      <th>family_status_id</th>\n",
       "      <th>gender</th>\n",
       "      <th>income_type</th>\n",
       "      <th>debt</th>\n",
       "      <th>total_income</th>\n",
       "      <th>purpose</th>\n",
       "    </tr>\n",
       "  </thead>\n",
       "  <tbody>\n",
       "    <tr>\n",
       "      <th>count</th>\n",
       "      <td>21525.000000</td>\n",
       "      <td>19351.000000</td>\n",
       "      <td>21525.000000</td>\n",
       "      <td>21525</td>\n",
       "      <td>21525.000000</td>\n",
       "      <td>21525</td>\n",
       "      <td>21525.000000</td>\n",
       "      <td>21525</td>\n",
       "      <td>21525</td>\n",
       "      <td>21525.000000</td>\n",
       "      <td>19351.000000</td>\n",
       "      <td>21525</td>\n",
       "    </tr>\n",
       "    <tr>\n",
       "      <th>unique</th>\n",
       "      <td>NaN</td>\n",
       "      <td>NaN</td>\n",
       "      <td>NaN</td>\n",
       "      <td>15</td>\n",
       "      <td>NaN</td>\n",
       "      <td>5</td>\n",
       "      <td>NaN</td>\n",
       "      <td>3</td>\n",
       "      <td>8</td>\n",
       "      <td>NaN</td>\n",
       "      <td>NaN</td>\n",
       "      <td>38</td>\n",
       "    </tr>\n",
       "    <tr>\n",
       "      <th>top</th>\n",
       "      <td>NaN</td>\n",
       "      <td>NaN</td>\n",
       "      <td>NaN</td>\n",
       "      <td>secondary education</td>\n",
       "      <td>NaN</td>\n",
       "      <td>married</td>\n",
       "      <td>NaN</td>\n",
       "      <td>F</td>\n",
       "      <td>employee</td>\n",
       "      <td>NaN</td>\n",
       "      <td>NaN</td>\n",
       "      <td>wedding ceremony</td>\n",
       "    </tr>\n",
       "    <tr>\n",
       "      <th>freq</th>\n",
       "      <td>NaN</td>\n",
       "      <td>NaN</td>\n",
       "      <td>NaN</td>\n",
       "      <td>13750</td>\n",
       "      <td>NaN</td>\n",
       "      <td>12380</td>\n",
       "      <td>NaN</td>\n",
       "      <td>14236</td>\n",
       "      <td>11119</td>\n",
       "      <td>NaN</td>\n",
       "      <td>NaN</td>\n",
       "      <td>797</td>\n",
       "    </tr>\n",
       "    <tr>\n",
       "      <th>mean</th>\n",
       "      <td>0.538908</td>\n",
       "      <td>63046.497661</td>\n",
       "      <td>43.293380</td>\n",
       "      <td>NaN</td>\n",
       "      <td>0.817236</td>\n",
       "      <td>NaN</td>\n",
       "      <td>0.972544</td>\n",
       "      <td>NaN</td>\n",
       "      <td>NaN</td>\n",
       "      <td>0.080883</td>\n",
       "      <td>26787.568355</td>\n",
       "      <td>NaN</td>\n",
       "    </tr>\n",
       "    <tr>\n",
       "      <th>std</th>\n",
       "      <td>1.381587</td>\n",
       "      <td>140827.311974</td>\n",
       "      <td>12.574584</td>\n",
       "      <td>NaN</td>\n",
       "      <td>0.548138</td>\n",
       "      <td>NaN</td>\n",
       "      <td>1.420324</td>\n",
       "      <td>NaN</td>\n",
       "      <td>NaN</td>\n",
       "      <td>0.272661</td>\n",
       "      <td>16475.450632</td>\n",
       "      <td>NaN</td>\n",
       "    </tr>\n",
       "    <tr>\n",
       "      <th>min</th>\n",
       "      <td>-1.000000</td>\n",
       "      <td>-18388.949901</td>\n",
       "      <td>0.000000</td>\n",
       "      <td>NaN</td>\n",
       "      <td>0.000000</td>\n",
       "      <td>NaN</td>\n",
       "      <td>0.000000</td>\n",
       "      <td>NaN</td>\n",
       "      <td>NaN</td>\n",
       "      <td>0.000000</td>\n",
       "      <td>3306.762000</td>\n",
       "      <td>NaN</td>\n",
       "    </tr>\n",
       "    <tr>\n",
       "      <th>25%</th>\n",
       "      <td>0.000000</td>\n",
       "      <td>-2747.423625</td>\n",
       "      <td>33.000000</td>\n",
       "      <td>NaN</td>\n",
       "      <td>1.000000</td>\n",
       "      <td>NaN</td>\n",
       "      <td>0.000000</td>\n",
       "      <td>NaN</td>\n",
       "      <td>NaN</td>\n",
       "      <td>0.000000</td>\n",
       "      <td>16488.504500</td>\n",
       "      <td>NaN</td>\n",
       "    </tr>\n",
       "    <tr>\n",
       "      <th>50%</th>\n",
       "      <td>0.000000</td>\n",
       "      <td>-1203.369529</td>\n",
       "      <td>42.000000</td>\n",
       "      <td>NaN</td>\n",
       "      <td>1.000000</td>\n",
       "      <td>NaN</td>\n",
       "      <td>0.000000</td>\n",
       "      <td>NaN</td>\n",
       "      <td>NaN</td>\n",
       "      <td>0.000000</td>\n",
       "      <td>23202.870000</td>\n",
       "      <td>NaN</td>\n",
       "    </tr>\n",
       "    <tr>\n",
       "      <th>75%</th>\n",
       "      <td>1.000000</td>\n",
       "      <td>-291.095954</td>\n",
       "      <td>53.000000</td>\n",
       "      <td>NaN</td>\n",
       "      <td>1.000000</td>\n",
       "      <td>NaN</td>\n",
       "      <td>1.000000</td>\n",
       "      <td>NaN</td>\n",
       "      <td>NaN</td>\n",
       "      <td>0.000000</td>\n",
       "      <td>32549.611000</td>\n",
       "      <td>NaN</td>\n",
       "    </tr>\n",
       "    <tr>\n",
       "      <th>max</th>\n",
       "      <td>20.000000</td>\n",
       "      <td>401755.400475</td>\n",
       "      <td>75.000000</td>\n",
       "      <td>NaN</td>\n",
       "      <td>4.000000</td>\n",
       "      <td>NaN</td>\n",
       "      <td>4.000000</td>\n",
       "      <td>NaN</td>\n",
       "      <td>NaN</td>\n",
       "      <td>1.000000</td>\n",
       "      <td>362496.645000</td>\n",
       "      <td>NaN</td>\n",
       "    </tr>\n",
       "  </tbody>\n",
       "</table>\n",
       "</div>"
      ],
      "text/plain": [
       "            children  days_employed     dob_years            education  \\\n",
       "count   21525.000000   19351.000000  21525.000000                21525   \n",
       "unique           NaN            NaN           NaN                   15   \n",
       "top              NaN            NaN           NaN  secondary education   \n",
       "freq             NaN            NaN           NaN                13750   \n",
       "mean        0.538908   63046.497661     43.293380                  NaN   \n",
       "std         1.381587  140827.311974     12.574584                  NaN   \n",
       "min        -1.000000  -18388.949901      0.000000                  NaN   \n",
       "25%         0.000000   -2747.423625     33.000000                  NaN   \n",
       "50%         0.000000   -1203.369529     42.000000                  NaN   \n",
       "75%         1.000000    -291.095954     53.000000                  NaN   \n",
       "max        20.000000  401755.400475     75.000000                  NaN   \n",
       "\n",
       "        education_id family_status  family_status_id gender income_type  \\\n",
       "count   21525.000000         21525      21525.000000  21525       21525   \n",
       "unique           NaN             5               NaN      3           8   \n",
       "top              NaN       married               NaN      F    employee   \n",
       "freq             NaN         12380               NaN  14236       11119   \n",
       "mean        0.817236           NaN          0.972544    NaN         NaN   \n",
       "std         0.548138           NaN          1.420324    NaN         NaN   \n",
       "min         0.000000           NaN          0.000000    NaN         NaN   \n",
       "25%         1.000000           NaN          0.000000    NaN         NaN   \n",
       "50%         1.000000           NaN          0.000000    NaN         NaN   \n",
       "75%         1.000000           NaN          1.000000    NaN         NaN   \n",
       "max         4.000000           NaN          4.000000    NaN         NaN   \n",
       "\n",
       "                debt   total_income           purpose  \n",
       "count   21525.000000   19351.000000             21525  \n",
       "unique           NaN            NaN                38  \n",
       "top              NaN            NaN  wedding ceremony  \n",
       "freq             NaN            NaN               797  \n",
       "mean        0.080883   26787.568355               NaN  \n",
       "std         0.272661   16475.450632               NaN  \n",
       "min         0.000000    3306.762000               NaN  \n",
       "25%         0.000000   16488.504500               NaN  \n",
       "50%         0.000000   23202.870000               NaN  \n",
       "75%         0.000000   32549.611000               NaN  \n",
       "max         1.000000  362496.645000               NaN  "
      ]
     },
     "execution_count": 4,
     "metadata": {},
     "output_type": "execute_result"
    }
   ],
   "source": [
    "# Integreted display of the quantical columns\n",
    "credit.describe(include='all')"
   ]
  },
  {
   "cell_type": "markdown",
   "metadata": {},
   "source": [
    "Output shows minimum value in **children** column -1 and maximum of 20, -1 is a distinct error, whereas 20 seems too high and must be further investigated.\n",
    "\n",
    "**dob_years** column min is 0, an error that needs to be fixed.\n",
    "\n",
    "Mean value of **debt column** is closer to 0 than 1 meaning most people in the dataset repay their loan."
   ]
  },
  {
   "cell_type": "markdown",
   "metadata": {},
   "source": [
    "### Conclusion"
   ]
  },
  {
   "cell_type": "markdown",
   "metadata": {},
   "source": [
    "During this first phase we setup the project environment, open the dataset, and initially examine the data.\n",
    "\n",
    "The dataset contains some errors and missing data, which need to be fixed, for example:\n",
    "\n",
    "**children** quantical. Min value is -1 and max 20, unlikely values.\n",
    "\n",
    "**day_employed**  quantical. Contains negative values, nulls and max of 401755 which is aprox 1110 years, an impossible figure.\n",
    "\n",
    "**total_income**  quantical. Contains nulls.\n",
    "\n",
    "**dob_years**  quantical. Min value is 0, an error value for age, most likely need to be over 18 years old to take/get a bank loan.\n",
    "\n",
    "**family_status** categorical and **family_status_id**  quantical. Both provide us with the same information.\n",
    "\n",
    "**gender** categorical. Contains 3 possible values, errors need to be fixed.\n",
    "\n",
    "**income_type**  categorical. Seems ok.\n",
    "\n",
    "**education** categorical and **education_id**  quantical values per category. Technically provide the same information.\n",
    "\n",
    "**debt**  quantical. Indicates the borrower's ability to repay their loan, only contains integer values 0 and 1 which seems ok.\n",
    "\n",
    "**purpose** categorical variable which seem ok."
   ]
  },
  {
   "cell_type": "markdown",
   "metadata": {},
   "source": [
    "## Data preprocessing"
   ]
  },
  {
   "cell_type": "markdown",
   "metadata": {},
   "source": [
    "In this second phase we start by identifying the missing data and evaluate their impact on the dataset data reliability in order to decide whether to fill in or drop these entries.\n",
    "\n",
    "Additionally, we'll find errors and correct them.\n",
    "\n",
    "Next, replace the data type of all floats to integers in order to make further processing easier.\n",
    "\n",
    "Then, drop duplicated entries and finally, categorize and create a new table for future analysis."
   ]
  },
  {
   "cell_type": "markdown",
   "metadata": {},
   "source": [
    "### Processing missing values"
   ]
  },
  {
   "cell_type": "markdown",
   "metadata": {},
   "source": [
    "Dealing with missing values includes the following procedure:\n",
    "- We determine if there are missing values.\n",
    "- We count how many missing values we need to deal with.\n",
    "- We determine how significant are the missing values and if below 5-10% we drop them.\n",
    "- We determine if missing values belong to categorical or quantitative variables, and handle them accordingly."
   ]
  },
  {
   "cell_type": "code",
   "execution_count": 5,
   "metadata": {
    "scrolled": true
   },
   "outputs": [
    {
     "data": {
      "text/plain": [
       "children             0.000000\n",
       "days_employed       10.099884\n",
       "dob_years            0.000000\n",
       "education            0.000000\n",
       "education_id         0.000000\n",
       "family_status        0.000000\n",
       "family_status_id     0.000000\n",
       "gender               0.000000\n",
       "income_type          0.000000\n",
       "debt                 0.000000\n",
       "total_income        10.099884\n",
       "purpose              0.000000\n",
       "dtype: float64"
      ]
     },
     "execution_count": 5,
     "metadata": {},
     "output_type": "execute_result"
    }
   ],
   "source": [
    "#Before we start with missing values, \n",
    "#we look at the percentage of missing values in columns,\n",
    "#not simply the amount of missing values per column:\n",
    "credit.isna().sum()*100/len(credit)\n",
    "pd.DataFrame(round((credit.isna().mean()*100),2)).style.background_gradient('coolwarm')\n",
    "credit.isna().mean() * 100"
   ]
  },
  {
   "cell_type": "code",
   "execution_count": 6,
   "metadata": {},
   "outputs": [
    {
     "name": "stdout",
     "output_type": "stream",
     "text": [
      "children               0\n",
      "days_employed       2174\n",
      "dob_years              0\n",
      "education              0\n",
      "education_id           0\n",
      "family_status          0\n",
      "family_status_id       0\n",
      "gender                 0\n",
      "income_type            0\n",
      "debt                   0\n",
      "total_income        2174\n",
      "purpose                0\n",
      "dtype: int64\n"
     ]
    }
   ],
   "source": [
    "# Here we start by identifying if there are any missing values using if-else.\n",
    "if credit.isna().values.any() == True:\n",
    "    print(credit.isna().sum())\n",
    "else:\n",
    "    print('No NA in dataset')"
   ]
  },
  {
   "cell_type": "markdown",
   "metadata": {},
   "source": [
    "Results show that **days_employed** and **total_income** contain nulls. Since the same amount of missing values was identified, we am curious if these are both in the same entries."
   ]
  },
  {
   "cell_type": "code",
   "execution_count": 7,
   "metadata": {},
   "outputs": [],
   "source": [
    "#Here we check the the percentage of the missing values of days_employed in the dataset.\n",
    "#(credit['days_employed'].isnull().sum() / len(credit)) * 100"
   ]
  },
  {
   "cell_type": "markdown",
   "metadata": {},
   "source": [
    "A rule of thumb is that we don't drop more than 5%-10% of the data. Since results show that it's just over 10% by a bit, we decide to fill-in and not drop any data."
   ]
  },
  {
   "cell_type": "code",
   "execution_count": 8,
   "metadata": {
    "scrolled": true
   },
   "outputs": [
    {
     "data": {
      "text/plain": [
       "children               0\n",
       "days_employed          0\n",
       "dob_years              0\n",
       "education              0\n",
       "education_id           0\n",
       "family_status          0\n",
       "family_status_id       0\n",
       "gender                 0\n",
       "income_type            0\n",
       "debt                   0\n",
       "total_income        2174\n",
       "purpose                0\n",
       "dtype: int64"
      ]
     },
     "execution_count": 8,
     "metadata": {},
     "output_type": "execute_result"
    }
   ],
   "source": [
    "#Here we replace null enteris of days_empoyed with the median of the dataset values for this column. \n",
    "#We choose median rather than mean.\n",
    "#We believe it is safer to reflect as such the data distribution.\n",
    "#Negative values are assumed to be correct in their abs value.\n",
    "credit['days_employed'] = credit['days_employed'].abs()\n",
    "credit['days_employed'].fillna(credit['days_employed'].median(), inplace=True)\n",
    "credit.isnull().sum()"
   ]
  },
  {
   "cell_type": "markdown",
   "metadata": {},
   "source": [
    "As we see, the dataset entries of **days_employed** are no longer missing. "
   ]
  },
  {
   "cell_type": "code",
   "execution_count": 9,
   "metadata": {},
   "outputs": [],
   "source": [
    "#Now, we check the the percentage of the missing values of total_income in the dataset.\n",
    "#(credit['total_income'].isnull().sum() / len(credit)) * 100"
   ]
  },
  {
   "cell_type": "markdown",
   "metadata": {},
   "source": [
    "Once again, following the rule of thumb we don't drop more than 5%-10% of the data. Since results for **total_income** are just over 10% by a bit, we decide to fill-in and not drop any data."
   ]
  },
  {
   "cell_type": "code",
   "execution_count": 10,
   "metadata": {},
   "outputs": [
    {
     "data": {
      "text/plain": [
       "children            0\n",
       "days_employed       0\n",
       "dob_years           0\n",
       "education           0\n",
       "education_id        0\n",
       "family_status       0\n",
       "family_status_id    0\n",
       "gender              0\n",
       "income_type         0\n",
       "debt                0\n",
       "total_income        0\n",
       "purpose             0\n",
       "dtype: int64"
      ]
     },
     "execution_count": 10,
     "metadata": {},
     "output_type": "execute_result"
    }
   ],
   "source": [
    "#Here we group the values based on education and income_type and the replace the missing values with the medium calculated for each result and group.\n",
    "credit['total_income'] = credit['total_income'].fillna(credit.groupby(['education','income_type'])['total_income'].transform('median'))\n",
    "credit.isnull().sum()"
   ]
  },
  {
   "cell_type": "markdown",
   "metadata": {},
   "source": [
    "Result show that the dataset entries of **total_income** are no longer missing. \n",
    "\n",
    "In conclusion, we see that the dataset is complete with no missing values.\n",
    "The possible causes for the missing values are due to human error or technical malfunction of the bank system.  \n",
    "\n",
    "Next, we will check for data errors."
   ]
  },
  {
   "cell_type": "code",
   "execution_count": 11,
   "metadata": {},
   "outputs": [
    {
     "data": {
      "text/plain": [
       " 0     14149\n",
       " 1      4818\n",
       " 2      2055\n",
       " 3       330\n",
       " 20       76\n",
       "-1        47\n",
       " 4        41\n",
       " 5         9\n",
       "Name: children, dtype: int64"
      ]
     },
     "execution_count": 11,
     "metadata": {},
     "output_type": "execute_result"
    }
   ],
   "source": [
    "#We check the values of number of children. Obviously it can't be a negative number or a large unlikely number.\n",
    "credit['children'].value_counts()"
   ]
  },
  {
   "cell_type": "markdown",
   "metadata": {},
   "source": [
    "Results show we entries with a negative value (-1) and 76 entries with 20 children which we believe is unlikely a true value."
   ]
  },
  {
   "cell_type": "code",
   "execution_count": 12,
   "metadata": {},
   "outputs": [
    {
     "data": {
      "text/plain": [
       "0    14225\n",
       "1     4865\n",
       "2     2055\n",
       "3      330\n",
       "4       41\n",
       "5        9\n",
       "Name: children, dtype: int64"
      ]
     },
     "execution_count": 12,
     "metadata": {},
     "output_type": "execute_result"
    }
   ],
   "source": [
    "#First, we change negative values to positive using abs function.\n",
    "#Next, we replace value of 20 children with the median value.\n",
    "credit['children'] = credit['children'].abs()\n",
    "credit.loc[credit['children'] == 20, 'children'] = credit['children'].median()\n",
    "credit['children'].value_counts()"
   ]
  },
  {
   "cell_type": "markdown",
   "metadata": {},
   "source": [
    "Nice! **children** column is now fixed."
   ]
  },
  {
   "cell_type": "code",
   "execution_count": 13,
   "metadata": {},
   "outputs": [
    {
     "data": {
      "text/plain": [
       "2194.220567      2175\n",
       "329951.594147       1\n",
       "886.253127          1\n",
       "2539.534295         1\n",
       "390574.985524       1\n",
       "                 ... \n",
       "1320.841444         1\n",
       "1394.302246         1\n",
       "2325.720832         1\n",
       "4086.407828         1\n",
       "1636.419775         1\n",
       "Name: days_employed, Length: 19351, dtype: int64"
      ]
     },
     "execution_count": 13,
     "metadata": {},
     "output_type": "execute_result"
    }
   ],
   "source": [
    "#Moving on to fix days_employed.\n",
    "credit['days_employed'].value_counts()"
   ]
  },
  {
   "cell_type": "markdown",
   "metadata": {},
   "source": [
    "Negative numbers and extremely large values in **days_employed** are obviously errors."
   ]
  },
  {
   "cell_type": "code",
   "execution_count": 14,
   "metadata": {},
   "outputs": [
    {
     "data": {
      "text/plain": [
       "2194.220567    5620\n",
       "142.276217        1\n",
       "601.464943        1\n",
       "3545.955468       1\n",
       "622.217198        1\n",
       "               ... \n",
       "6219.157426       1\n",
       "5873.586442       1\n",
       "3355.260838       1\n",
       "472.196656        1\n",
       "1636.419775       1\n",
       "Name: days_employed, Length: 15906, dtype: int64"
      ]
     },
     "execution_count": 14,
     "metadata": {},
     "output_type": "execute_result"
    }
   ],
   "source": [
    "#Negative values are assumed to be correct in their abs value.\n",
    "#75 years is max in dataset, and we assume \"official\" employment starts at age 18.\n",
    "#Based on the above, we calculate the days_employment as following\n",
    "#credit['days_employed'] = credit['days_employed'].abs()\n",
    "credit.loc[credit['days_employed'] > ((75-18) * 365), 'days_employed'] = credit['days_employed'].median()\n",
    "credit['days_employed'].value_counts()"
   ]
  },
  {
   "cell_type": "markdown",
   "metadata": {},
   "source": [
    "Results look good! Moving on..."
   ]
  },
  {
   "cell_type": "code",
   "execution_count": 15,
   "metadata": {},
   "outputs": [
    {
     "data": {
      "text/plain": [
       "35    617\n",
       "40    609\n",
       "41    607\n",
       "34    603\n",
       "38    598\n",
       "42    597\n",
       "33    581\n",
       "39    573\n",
       "31    560\n",
       "36    555\n",
       "44    547\n",
       "29    545\n",
       "30    540\n",
       "48    538\n",
       "37    537\n",
       "50    514\n",
       "43    513\n",
       "32    510\n",
       "49    508\n",
       "28    503\n",
       "45    497\n",
       "27    493\n",
       "56    487\n",
       "52    484\n",
       "47    480\n",
       "54    479\n",
       "46    475\n",
       "58    461\n",
       "57    460\n",
       "53    459\n",
       "51    448\n",
       "59    444\n",
       "55    443\n",
       "26    408\n",
       "60    377\n",
       "25    357\n",
       "61    355\n",
       "62    352\n",
       "63    269\n",
       "64    265\n",
       "24    264\n",
       "23    254\n",
       "65    194\n",
       "66    183\n",
       "22    183\n",
       "67    167\n",
       "21    111\n",
       "0     101\n",
       "68     99\n",
       "69     85\n",
       "70     65\n",
       "71     58\n",
       "20     51\n",
       "72     33\n",
       "19     14\n",
       "73      8\n",
       "74      6\n",
       "75      1\n",
       "Name: dob_years, dtype: int64"
      ]
     },
     "execution_count": 15,
     "metadata": {},
     "output_type": "execute_result"
    }
   ],
   "source": [
    "#We check dob_years.\n",
    "credit['dob_years'].value_counts()"
   ]
  },
  {
   "cell_type": "code",
   "execution_count": 16,
   "metadata": {},
   "outputs": [
    {
     "data": {
      "text/plain": [
       "42    698\n",
       "35    617\n",
       "40    609\n",
       "41    607\n",
       "34    603\n",
       "38    598\n",
       "33    581\n",
       "39    573\n",
       "31    560\n",
       "36    555\n",
       "44    547\n",
       "29    545\n",
       "30    540\n",
       "48    538\n",
       "37    537\n",
       "50    514\n",
       "43    513\n",
       "32    510\n",
       "49    508\n",
       "28    503\n",
       "45    497\n",
       "27    493\n",
       "56    487\n",
       "52    484\n",
       "47    480\n",
       "54    479\n",
       "46    475\n",
       "58    461\n",
       "57    460\n",
       "53    459\n",
       "51    448\n",
       "59    444\n",
       "55    443\n",
       "26    408\n",
       "60    377\n",
       "25    357\n",
       "61    355\n",
       "62    352\n",
       "63    269\n",
       "64    265\n",
       "24    264\n",
       "23    254\n",
       "65    194\n",
       "22    183\n",
       "66    183\n",
       "67    167\n",
       "21    111\n",
       "68     99\n",
       "69     85\n",
       "70     65\n",
       "71     58\n",
       "20     51\n",
       "72     33\n",
       "19     14\n",
       "73      8\n",
       "74      6\n",
       "75      1\n",
       "Name: dob_years, dtype: int64"
      ]
     },
     "execution_count": 16,
     "metadata": {},
     "output_type": "execute_result"
    }
   ],
   "source": [
    "#Next we replace age values of 0 to the median of dataset. \n",
    "credit.loc[credit['dob_years'] == 0, 'dob_years'] = credit['dob_years'].median()\n",
    "credit['dob_years'].value_counts()"
   ]
  },
  {
   "cell_type": "code",
   "execution_count": 17,
   "metadata": {},
   "outputs": [
    {
     "data": {
      "text/plain": [
       "secondary education    13750\n",
       "bachelor's degree       4718\n",
       "SECONDARY EDUCATION      772\n",
       "Secondary Education      711\n",
       "some college             668\n",
       "BACHELOR'S DEGREE        274\n",
       "Bachelor's Degree        268\n",
       "primary education        250\n",
       "Some College              47\n",
       "SOME COLLEGE              29\n",
       "PRIMARY EDUCATION         17\n",
       "Primary Education         15\n",
       "graduate degree            4\n",
       "Graduate Degree            1\n",
       "GRADUATE DEGREE            1\n",
       "Name: education, dtype: int64"
      ]
     },
     "execution_count": 17,
     "metadata": {},
     "output_type": "execute_result"
    }
   ],
   "source": [
    "#Here we check education values.\n",
    "credit['education'].value_counts()"
   ]
  },
  {
   "cell_type": "code",
   "execution_count": 18,
   "metadata": {},
   "outputs": [
    {
     "data": {
      "text/plain": [
       "secondary education    15233\n",
       "bachelor's degree       5260\n",
       "some college             744\n",
       "primary education        282\n",
       "graduate degree            6\n",
       "Name: education, dtype: int64"
      ]
     },
     "execution_count": 18,
     "metadata": {},
     "output_type": "execute_result"
    }
   ],
   "source": [
    "#We replaced all education column values to lower case to see if they are in sync with following id. \n",
    "#This we save us the need to do so later on when working on duplicats.\n",
    "credit['education'] = credit['education'].str.lower()\n",
    "credit['education'].value_counts()"
   ]
  },
  {
   "cell_type": "markdown",
   "metadata": {},
   "source": [
    "Perfect! **education** values in the dataset are unified."
   ]
  },
  {
   "cell_type": "code",
   "execution_count": 19,
   "metadata": {
    "scrolled": false
   },
   "outputs": [
    {
     "data": {
      "text/plain": [
       "1    15233\n",
       "0     5260\n",
       "2      744\n",
       "3      282\n",
       "4        6\n",
       "Name: education_id, dtype: int64"
      ]
     },
     "execution_count": 19,
     "metadata": {},
     "output_type": "execute_result"
    }
   ],
   "source": [
    "#Here we check education_id values.\n",
    "#There should be 5 just like in the education column distributed alike.\n",
    "credit['education_id'].value_counts()"
   ]
  },
  {
   "cell_type": "code",
   "execution_count": 20,
   "metadata": {},
   "outputs": [
    {
     "data": {
      "text/plain": [
       "{0: \"bachelor's degree\",\n",
       " 1: 'secondary education',\n",
       " 2: 'some college',\n",
       " 3: 'primary education',\n",
       " 4: 'graduate degree'}"
      ]
     },
     "execution_count": 20,
     "metadata": {},
     "output_type": "execute_result"
    }
   ],
   "source": [
    "#Given the eduction and education_id contain same information.\n",
    "#We will use Dictionary to display education and education_id.\n",
    "education_dict=pd.Series(credit.education.values, index=credit.education_id).to_dict()\n",
    "education_dict"
   ]
  },
  {
   "cell_type": "code",
   "execution_count": 21,
   "metadata": {},
   "outputs": [
    {
     "data": {
      "text/plain": [
       "married              12380\n",
       "civil partnership     4177\n",
       "unmarried             2813\n",
       "divorced              1195\n",
       "widow / widower        960\n",
       "Name: family_status, dtype: int64"
      ]
     },
     "execution_count": 21,
     "metadata": {},
     "output_type": "execute_result"
    }
   ],
   "source": [
    "#Moving on to check family_status and family_status_id.\n",
    "#Here we check family_status values.\n",
    "credit['family_status'].value_counts()"
   ]
  },
  {
   "cell_type": "code",
   "execution_count": 22,
   "metadata": {},
   "outputs": [
    {
     "data": {
      "text/plain": [
       "0    12380\n",
       "1     4177\n",
       "4     2813\n",
       "3     1195\n",
       "2      960\n",
       "Name: family_status_id, dtype: int64"
      ]
     },
     "execution_count": 22,
     "metadata": {},
     "output_type": "execute_result"
    }
   ],
   "source": [
    "#Here we check family_status_id values.\n",
    "#There should be 5 just like in the family_status column distributed alike.\n",
    "credit['family_status_id'].value_counts()"
   ]
  },
  {
   "cell_type": "code",
   "execution_count": 23,
   "metadata": {},
   "outputs": [
    {
     "data": {
      "text/plain": [
       "{0: 'married',\n",
       " 1: 'civil partnership',\n",
       " 2: 'widow / widower',\n",
       " 3: 'divorced',\n",
       " 4: 'unmarried'}"
      ]
     },
     "execution_count": 23,
     "metadata": {},
     "output_type": "execute_result"
    }
   ],
   "source": [
    "#Given the family_status and family_status_id contain same information.\n",
    "#We will use Dictionary to display family_status and family_status_id.\n",
    "family_status_dict=pd.Series(credit.family_status.values, index=credit.family_status_id).to_dict()\n",
    "family_status_dict"
   ]
  },
  {
   "cell_type": "markdown",
   "metadata": {},
   "source": [
    "Wonderful! We now have two dictionaries for future use."
   ]
  },
  {
   "cell_type": "code",
   "execution_count": 24,
   "metadata": {
    "scrolled": true
   },
   "outputs": [
    {
     "data": {
      "text/plain": [
       "F      14236\n",
       "M       7288\n",
       "XNA        1\n",
       "Name: gender, dtype: int64"
      ]
     },
     "execution_count": 24,
     "metadata": {},
     "output_type": "execute_result"
    }
   ],
   "source": [
    "#Here we check the values of gender.\n",
    "credit['gender'].value_counts()"
   ]
  },
  {
   "cell_type": "code",
   "execution_count": 25,
   "metadata": {},
   "outputs": [
    {
     "data": {
      "text/html": [
       "<div>\n",
       "<style scoped>\n",
       "    .dataframe tbody tr th:only-of-type {\n",
       "        vertical-align: middle;\n",
       "    }\n",
       "\n",
       "    .dataframe tbody tr th {\n",
       "        vertical-align: top;\n",
       "    }\n",
       "\n",
       "    .dataframe thead th {\n",
       "        text-align: right;\n",
       "    }\n",
       "</style>\n",
       "<table border=\"1\" class=\"dataframe\">\n",
       "  <thead>\n",
       "    <tr style=\"text-align: right;\">\n",
       "      <th></th>\n",
       "      <th>children</th>\n",
       "      <th>days_employed</th>\n",
       "      <th>dob_years</th>\n",
       "      <th>education</th>\n",
       "      <th>education_id</th>\n",
       "      <th>family_status</th>\n",
       "      <th>family_status_id</th>\n",
       "      <th>gender</th>\n",
       "      <th>income_type</th>\n",
       "      <th>debt</th>\n",
       "      <th>total_income</th>\n",
       "      <th>purpose</th>\n",
       "    </tr>\n",
       "  </thead>\n",
       "  <tbody>\n",
       "    <tr>\n",
       "      <th>10701</th>\n",
       "      <td>0</td>\n",
       "      <td>2358.600502</td>\n",
       "      <td>24</td>\n",
       "      <td>some college</td>\n",
       "      <td>2</td>\n",
       "      <td>civil partnership</td>\n",
       "      <td>1</td>\n",
       "      <td>XNA</td>\n",
       "      <td>business</td>\n",
       "      <td>0</td>\n",
       "      <td>32624.825</td>\n",
       "      <td>buy real estate</td>\n",
       "    </tr>\n",
       "  </tbody>\n",
       "</table>\n",
       "</div>"
      ],
      "text/plain": [
       "       children  days_employed  dob_years     education  education_id  \\\n",
       "10701         0    2358.600502         24  some college             2   \n",
       "\n",
       "           family_status  family_status_id gender income_type  debt  \\\n",
       "10701  civil partnership                 1    XNA    business     0   \n",
       "\n",
       "       total_income          purpose  \n",
       "10701     32624.825  buy real estate  "
      ]
     },
     "execution_count": 25,
     "metadata": {},
     "output_type": "execute_result"
    }
   ],
   "source": [
    "#Getting a closer look at the one entery with the strange gender value.\n",
    "credit[credit['gender'] == 'XNA']"
   ]
  },
  {
   "cell_type": "code",
   "execution_count": 26,
   "metadata": {},
   "outputs": [
    {
     "data": {
      "text/plain": [
       "F    14236\n",
       "M     7288\n",
       "Name: gender, dtype: int64"
      ]
     },
     "execution_count": 26,
     "metadata": {},
     "output_type": "execute_result"
    }
   ],
   "source": [
    "#Since there is only 1 entery with gender value of xna,\n",
    "#we decide it is of low significance to the dataset balance and we drop it.\n",
    "credit = credit[credit['gender'] != 'XNA']\n",
    "credit['gender'].value_counts()"
   ]
  },
  {
   "cell_type": "markdown",
   "metadata": {},
   "source": [
    "Interestingly, results show that female borrowers are almost twice the amount of male."
   ]
  },
  {
   "cell_type": "code",
   "execution_count": 27,
   "metadata": {},
   "outputs": [
    {
     "data": {
      "text/plain": [
       "employee                       11119\n",
       "business                        5084\n",
       "retiree                         3856\n",
       "civil servant                   1459\n",
       "entrepreneur                       2\n",
       "unemployed                         2\n",
       "student                            1\n",
       "paternity / maternity leave        1\n",
       "Name: income_type, dtype: int64"
      ]
     },
     "execution_count": 27,
     "metadata": {},
     "output_type": "execute_result"
    }
   ],
   "source": [
    "#Here we check income_type\n",
    "credit['income_type'].value_counts()"
   ]
  },
  {
   "cell_type": "markdown",
   "metadata": {},
   "source": [
    "**income_type** has a few outliers as shown above."
   ]
  },
  {
   "cell_type": "code",
   "execution_count": 28,
   "metadata": {},
   "outputs": [
    {
     "data": {
      "text/plain": [
       "0    19783\n",
       "1     1741\n",
       "Name: debt, dtype: int64"
      ]
     },
     "execution_count": 28,
     "metadata": {},
     "output_type": "execute_result"
    }
   ],
   "source": [
    "#Here we check debt\n",
    "credit['debt'].value_counts()"
   ]
  },
  {
   "cell_type": "markdown",
   "metadata": {},
   "source": [
    "All good! **debt** consists of 0 and 1 values representing whether a customer has ever defaulted on a loan. 0=no debt and 1=debt."
   ]
  },
  {
   "cell_type": "code",
   "execution_count": 29,
   "metadata": {},
   "outputs": [
    {
     "data": {
      "text/plain": [
       "21890.8980    755\n",
       "18317.3395    309\n",
       "25544.4640    274\n",
       "26586.2525    210\n",
       "32305.8750    179\n",
       "             ... \n",
       "26124.6130      1\n",
       "28692.1820      1\n",
       "28477.7830      1\n",
       "26954.6080      1\n",
       "41428.9160      1\n",
       "Name: total_income, Length: 19369, dtype: int64"
      ]
     },
     "execution_count": 29,
     "metadata": {},
     "output_type": "execute_result"
    }
   ],
   "source": [
    "#Here we check total_income\n",
    "credit['total_income'].value_counts()"
   ]
  },
  {
   "cell_type": "markdown",
   "metadata": {},
   "source": [
    "**total_income** has a few outliers as shown above."
   ]
  },
  {
   "cell_type": "code",
   "execution_count": 30,
   "metadata": {},
   "outputs": [
    {
     "data": {
      "text/plain": [
       "wedding ceremony                            797\n",
       "having a wedding                            777\n",
       "to have a wedding                           774\n",
       "real estate transactions                    676\n",
       "buy commercial real estate                  664\n",
       "housing transactions                        653\n",
       "buying property for renting out             653\n",
       "transactions with commercial real estate    651\n",
       "purchase of the house                       647\n",
       "housing                                     647\n",
       "purchase of the house for my family         641\n",
       "construction of own property                635\n",
       "property                                    634\n",
       "transactions with my real estate            630\n",
       "building a real estate                      626\n",
       "buy real estate                             623\n",
       "building a property                         620\n",
       "purchase of my own house                    620\n",
       "housing renovation                          612\n",
       "buy residential real estate                 607\n",
       "buying my own car                           505\n",
       "going to university                         496\n",
       "car                                         495\n",
       "second-hand car purchase                    489\n",
       "to own a car                                480\n",
       "buying a second-hand car                    479\n",
       "cars                                        478\n",
       "to buy a car                                472\n",
       "supplementary education                     462\n",
       "car purchase                                462\n",
       "purchase of a car                           455\n",
       "university education                        453\n",
       "to get a supplementary education            447\n",
       "education                                   447\n",
       "getting an education                        443\n",
       "profile education                           436\n",
       "getting higher education                    426\n",
       "to become educated                          412\n",
       "Name: purpose, dtype: int64"
      ]
     },
     "execution_count": 30,
     "metadata": {},
     "output_type": "execute_result"
    }
   ],
   "source": [
    "#Finally, we check purpose of loan column values.\n",
    "#To be on the safe side, we changed all values to lower case for data unification in advance.\n",
    "credit['purpose'] = credit['purpose'].str.lower()\n",
    "credit['purpose'].value_counts()"
   ]
  },
  {
   "cell_type": "markdown",
   "metadata": {},
   "source": [
    "There are no missing values and no errors. We are ready to continue..."
   ]
  },
  {
   "cell_type": "markdown",
   "metadata": {},
   "source": [
    "#### Conclusion"
   ]
  },
  {
   "cell_type": "markdown",
   "metadata": {},
   "source": [
    "In this phase, we successfully completed the analysis of missing data and replacing the missing data with reasonable values as explained in each step of the process above."
   ]
  },
  {
   "cell_type": "markdown",
   "metadata": {},
   "source": [
    "### Data type replacement"
   ]
  },
  {
   "cell_type": "markdown",
   "metadata": {},
   "source": [
    "In this section we shall convert the float data type to integers to make further analysis."
   ]
  },
  {
   "cell_type": "code",
   "execution_count": 31,
   "metadata": {},
   "outputs": [
    {
     "name": "stdout",
     "output_type": "stream",
     "text": [
      "<class 'pandas.core.frame.DataFrame'>\n",
      "Int64Index: 21524 entries, 0 to 21524\n",
      "Data columns (total 12 columns):\n",
      " #   Column            Non-Null Count  Dtype  \n",
      "---  ------            --------------  -----  \n",
      " 0   children          21524 non-null  int64  \n",
      " 1   days_employed     21524 non-null  float64\n",
      " 2   dob_years         21524 non-null  int64  \n",
      " 3   education         21524 non-null  object \n",
      " 4   education_id      21524 non-null  int64  \n",
      " 5   family_status     21524 non-null  object \n",
      " 6   family_status_id  21524 non-null  int64  \n",
      " 7   gender            21524 non-null  object \n",
      " 8   income_type       21524 non-null  object \n",
      " 9   debt              21524 non-null  int64  \n",
      " 10  total_income      21524 non-null  float64\n",
      " 11  purpose           21524 non-null  object \n",
      "dtypes: float64(2), int64(5), object(5)\n",
      "memory usage: 2.1+ MB\n"
     ]
    }
   ],
   "source": [
    "#First we find what colums contain what data type.\n",
    "credit.info()"
   ]
  },
  {
   "cell_type": "code",
   "execution_count": 32,
   "metadata": {
    "scrolled": false
   },
   "outputs": [
    {
     "name": "stdout",
     "output_type": "stream",
     "text": [
      "<class 'pandas.core.frame.DataFrame'>\n",
      "Int64Index: 21524 entries, 0 to 21524\n",
      "Data columns (total 12 columns):\n",
      " #   Column            Non-Null Count  Dtype \n",
      "---  ------            --------------  ----- \n",
      " 0   children          21524 non-null  int64 \n",
      " 1   days_employed     21524 non-null  int64 \n",
      " 2   dob_years         21524 non-null  int64 \n",
      " 3   education         21524 non-null  object\n",
      " 4   education_id      21524 non-null  int64 \n",
      " 5   family_status     21524 non-null  object\n",
      " 6   family_status_id  21524 non-null  int64 \n",
      " 7   gender            21524 non-null  object\n",
      " 8   income_type       21524 non-null  object\n",
      " 9   debt              21524 non-null  int64 \n",
      " 10  total_income      21524 non-null  int64 \n",
      " 11  purpose           21524 non-null  object\n",
      "dtypes: int64(7), object(5)\n",
      "memory usage: 2.1+ MB\n"
     ]
    }
   ],
   "source": [
    "#Based on info function results above, we can tell four columns are in float form.\n",
    "#Childen, days_employed, dob_years and total_income logically should be integers.\n",
    "#As such we convert these floats to integers. \n",
    "#We use the astype function as method to change the data type.\n",
    "credit[['children','days_employed', 'dob_years', 'total_income']] = credit[['children','days_employed', 'dob_years', 'total_income']].astype(int)\n",
    "credit.info()"
   ]
  },
  {
   "cell_type": "markdown",
   "metadata": {},
   "source": [
    "Well done! All data types are correct. We can move on."
   ]
  },
  {
   "cell_type": "markdown",
   "metadata": {},
   "source": [
    "#### Conclusion"
   ]
  },
  {
   "cell_type": "markdown",
   "metadata": {},
   "source": [
    "We successfully completed the data type replacement section, in which we converted all the float data type columns to integers making them suitable for further analysis."
   ]
  },
  {
   "cell_type": "markdown",
   "metadata": {},
   "source": [
    "### Processing duplicates"
   ]
  },
  {
   "cell_type": "markdown",
   "metadata": {},
   "source": [
    "Moving on, we will process duplicates in the dataset.\n",
    "We plan to unify the data into same formats for example:\n",
    "- All **education** in lower case.\n",
    "- **purpose** categorized into four main groups.\n",
    "- Also we consider eliminating \"duplicated\" columns that provide same information such as **education_id** and **education**, as well as **family_status_id** and **family_status**."
   ]
  },
  {
   "cell_type": "code",
   "execution_count": 33,
   "metadata": {},
   "outputs": [
    {
     "data": {
      "text/plain": [
       "real estate    10839\n",
       "car             4315\n",
       "education       4022\n",
       "wedding         2348\n",
       "Name: purpose, dtype: int64"
      ]
     },
     "execution_count": 33,
     "metadata": {},
     "output_type": "execute_result"
    }
   ],
   "source": [
    "#Here we sort all the values in purpose column into four main values.\n",
    "#Practically, we catogorize these values.\n",
    "#Doing this early on enables us to properly handle duplicates in the dataset.\n",
    "for purpose in credit['purpose']:\n",
    "    words = nltk.word_tokenize(purpose)\n",
    "    if 'education'in words or 'university' in words or 'educated' in words:\n",
    "        credit['purpose'].replace(purpose, 'education', inplace=True)\n",
    "    if 'car' in words or 'cars'in words:\n",
    "        credit['purpose'].replace(purpose, 'car', inplace=True)\n",
    "    if 'house' in words or 'housing'in words or 'estate' in words or 'property' in words:\n",
    "        credit['purpose'].replace(purpose, 'real estate', inplace=True)\n",
    "    if 'wedding' in words:\n",
    "        credit['purpose'].replace(purpose, 'wedding', inplace=True)\n",
    "credit['purpose'].value_counts()"
   ]
  },
  {
   "cell_type": "markdown",
   "metadata": {},
   "source": [
    "Outcome of this results show four main categories for **purpose** column.\n",
    "This makes it much easier to further analyze the dataset entries. \n",
    "We see there a various purposes for the loan, some of which reflect same purpose in slightly different wording. We plan to take of it later on."
   ]
  },
  {
   "cell_type": "code",
   "execution_count": 34,
   "metadata": {
    "scrolled": true
   },
   "outputs": [
    {
     "data": {
      "text/plain": [
       "347"
      ]
     },
     "execution_count": 34,
     "metadata": {},
     "output_type": "execute_result"
    }
   ],
   "source": [
    "#After fixing the data for further analysis in previous phases,\n",
    "#here we check for duplicate enteries in the dataset.\n",
    "credit.duplicated().sum()"
   ]
  },
  {
   "cell_type": "markdown",
   "metadata": {},
   "source": [
    "We found the above number of duplicates. Though 346 seems a large number, in relation to the overall number of entries in th dataset, it's insignificant and therefore we drop them.\n",
    "We decide to remove duplicates only if the entire data entry is the same. Since there is no customer ID, we assume if all columns are alike then it is a definite duplicate.\n",
    "We assume that the possible reasons for the appearance of duplicates in the data are human error and technical malfunction of the bank system."
   ]
  },
  {
   "cell_type": "code",
   "execution_count": 35,
   "metadata": {},
   "outputs": [
    {
     "data": {
      "text/html": [
       "<div>\n",
       "<style scoped>\n",
       "    .dataframe tbody tr th:only-of-type {\n",
       "        vertical-align: middle;\n",
       "    }\n",
       "\n",
       "    .dataframe tbody tr th {\n",
       "        vertical-align: top;\n",
       "    }\n",
       "\n",
       "    .dataframe thead th {\n",
       "        text-align: right;\n",
       "    }\n",
       "</style>\n",
       "<table border=\"1\" class=\"dataframe\">\n",
       "  <thead>\n",
       "    <tr style=\"text-align: right;\">\n",
       "      <th></th>\n",
       "      <th>children</th>\n",
       "      <th>days_employed</th>\n",
       "      <th>dob_years</th>\n",
       "      <th>education</th>\n",
       "      <th>education_id</th>\n",
       "      <th>family_status</th>\n",
       "      <th>family_status_id</th>\n",
       "      <th>gender</th>\n",
       "      <th>income_type</th>\n",
       "      <th>debt</th>\n",
       "      <th>total_income</th>\n",
       "      <th>purpose</th>\n",
       "    </tr>\n",
       "  </thead>\n",
       "  <tbody>\n",
       "    <tr>\n",
       "      <th>0</th>\n",
       "      <td>1</td>\n",
       "      <td>8437</td>\n",
       "      <td>42</td>\n",
       "      <td>bachelor's degree</td>\n",
       "      <td>0</td>\n",
       "      <td>married</td>\n",
       "      <td>0</td>\n",
       "      <td>F</td>\n",
       "      <td>employee</td>\n",
       "      <td>0</td>\n",
       "      <td>40620</td>\n",
       "      <td>real estate</td>\n",
       "    </tr>\n",
       "    <tr>\n",
       "      <th>1</th>\n",
       "      <td>1</td>\n",
       "      <td>4024</td>\n",
       "      <td>36</td>\n",
       "      <td>secondary education</td>\n",
       "      <td>1</td>\n",
       "      <td>married</td>\n",
       "      <td>0</td>\n",
       "      <td>F</td>\n",
       "      <td>employee</td>\n",
       "      <td>0</td>\n",
       "      <td>17932</td>\n",
       "      <td>car</td>\n",
       "    </tr>\n",
       "    <tr>\n",
       "      <th>2</th>\n",
       "      <td>0</td>\n",
       "      <td>5623</td>\n",
       "      <td>33</td>\n",
       "      <td>secondary education</td>\n",
       "      <td>1</td>\n",
       "      <td>married</td>\n",
       "      <td>0</td>\n",
       "      <td>M</td>\n",
       "      <td>employee</td>\n",
       "      <td>0</td>\n",
       "      <td>23341</td>\n",
       "      <td>real estate</td>\n",
       "    </tr>\n",
       "    <tr>\n",
       "      <th>3</th>\n",
       "      <td>3</td>\n",
       "      <td>4124</td>\n",
       "      <td>32</td>\n",
       "      <td>secondary education</td>\n",
       "      <td>1</td>\n",
       "      <td>married</td>\n",
       "      <td>0</td>\n",
       "      <td>M</td>\n",
       "      <td>employee</td>\n",
       "      <td>0</td>\n",
       "      <td>42820</td>\n",
       "      <td>education</td>\n",
       "    </tr>\n",
       "    <tr>\n",
       "      <th>4</th>\n",
       "      <td>0</td>\n",
       "      <td>2194</td>\n",
       "      <td>53</td>\n",
       "      <td>secondary education</td>\n",
       "      <td>1</td>\n",
       "      <td>civil partnership</td>\n",
       "      <td>1</td>\n",
       "      <td>F</td>\n",
       "      <td>retiree</td>\n",
       "      <td>0</td>\n",
       "      <td>25378</td>\n",
       "      <td>wedding</td>\n",
       "    </tr>\n",
       "    <tr>\n",
       "      <th>...</th>\n",
       "      <td>...</td>\n",
       "      <td>...</td>\n",
       "      <td>...</td>\n",
       "      <td>...</td>\n",
       "      <td>...</td>\n",
       "      <td>...</td>\n",
       "      <td>...</td>\n",
       "      <td>...</td>\n",
       "      <td>...</td>\n",
       "      <td>...</td>\n",
       "      <td>...</td>\n",
       "      <td>...</td>\n",
       "    </tr>\n",
       "    <tr>\n",
       "      <th>21172</th>\n",
       "      <td>1</td>\n",
       "      <td>4529</td>\n",
       "      <td>43</td>\n",
       "      <td>secondary education</td>\n",
       "      <td>1</td>\n",
       "      <td>civil partnership</td>\n",
       "      <td>1</td>\n",
       "      <td>F</td>\n",
       "      <td>business</td>\n",
       "      <td>0</td>\n",
       "      <td>35966</td>\n",
       "      <td>real estate</td>\n",
       "    </tr>\n",
       "    <tr>\n",
       "      <th>21173</th>\n",
       "      <td>0</td>\n",
       "      <td>2194</td>\n",
       "      <td>67</td>\n",
       "      <td>secondary education</td>\n",
       "      <td>1</td>\n",
       "      <td>married</td>\n",
       "      <td>0</td>\n",
       "      <td>F</td>\n",
       "      <td>retiree</td>\n",
       "      <td>0</td>\n",
       "      <td>24959</td>\n",
       "      <td>car</td>\n",
       "    </tr>\n",
       "    <tr>\n",
       "      <th>21174</th>\n",
       "      <td>1</td>\n",
       "      <td>2113</td>\n",
       "      <td>38</td>\n",
       "      <td>secondary education</td>\n",
       "      <td>1</td>\n",
       "      <td>civil partnership</td>\n",
       "      <td>1</td>\n",
       "      <td>M</td>\n",
       "      <td>employee</td>\n",
       "      <td>1</td>\n",
       "      <td>14347</td>\n",
       "      <td>real estate</td>\n",
       "    </tr>\n",
       "    <tr>\n",
       "      <th>21175</th>\n",
       "      <td>3</td>\n",
       "      <td>3112</td>\n",
       "      <td>38</td>\n",
       "      <td>secondary education</td>\n",
       "      <td>1</td>\n",
       "      <td>married</td>\n",
       "      <td>0</td>\n",
       "      <td>M</td>\n",
       "      <td>employee</td>\n",
       "      <td>1</td>\n",
       "      <td>39054</td>\n",
       "      <td>car</td>\n",
       "    </tr>\n",
       "    <tr>\n",
       "      <th>21176</th>\n",
       "      <td>2</td>\n",
       "      <td>1984</td>\n",
       "      <td>40</td>\n",
       "      <td>secondary education</td>\n",
       "      <td>1</td>\n",
       "      <td>married</td>\n",
       "      <td>0</td>\n",
       "      <td>F</td>\n",
       "      <td>employee</td>\n",
       "      <td>0</td>\n",
       "      <td>13127</td>\n",
       "      <td>car</td>\n",
       "    </tr>\n",
       "  </tbody>\n",
       "</table>\n",
       "<p>21177 rows × 12 columns</p>\n",
       "</div>"
      ],
      "text/plain": [
       "       children  days_employed  dob_years            education  education_id  \\\n",
       "0             1           8437         42    bachelor's degree             0   \n",
       "1             1           4024         36  secondary education             1   \n",
       "2             0           5623         33  secondary education             1   \n",
       "3             3           4124         32  secondary education             1   \n",
       "4             0           2194         53  secondary education             1   \n",
       "...         ...            ...        ...                  ...           ...   \n",
       "21172         1           4529         43  secondary education             1   \n",
       "21173         0           2194         67  secondary education             1   \n",
       "21174         1           2113         38  secondary education             1   \n",
       "21175         3           3112         38  secondary education             1   \n",
       "21176         2           1984         40  secondary education             1   \n",
       "\n",
       "           family_status  family_status_id gender income_type  debt  \\\n",
       "0                married                 0      F    employee     0   \n",
       "1                married                 0      F    employee     0   \n",
       "2                married                 0      M    employee     0   \n",
       "3                married                 0      M    employee     0   \n",
       "4      civil partnership                 1      F     retiree     0   \n",
       "...                  ...               ...    ...         ...   ...   \n",
       "21172  civil partnership                 1      F    business     0   \n",
       "21173            married                 0      F     retiree     0   \n",
       "21174  civil partnership                 1      M    employee     1   \n",
       "21175            married                 0      M    employee     1   \n",
       "21176            married                 0      F    employee     0   \n",
       "\n",
       "       total_income      purpose  \n",
       "0             40620  real estate  \n",
       "1             17932          car  \n",
       "2             23341  real estate  \n",
       "3             42820    education  \n",
       "4             25378      wedding  \n",
       "...             ...          ...  \n",
       "21172         35966  real estate  \n",
       "21173         24959          car  \n",
       "21174         14347  real estate  \n",
       "21175         39054          car  \n",
       "21176         13127          car  \n",
       "\n",
       "[21177 rows x 12 columns]"
      ]
     },
     "execution_count": 35,
     "metadata": {},
     "output_type": "execute_result"
    }
   ],
   "source": [
    "#This is the actual droping process.\n",
    "credit.drop_duplicates().reset_index(drop=True)"
   ]
  },
  {
   "cell_type": "markdown",
   "metadata": {},
   "source": [
    "#### Conclusion"
   ]
  },
  {
   "cell_type": "markdown",
   "metadata": {},
   "source": [
    "In conclusion, we see that dataset entries that were found duplicated were dropped. Following the project phases so far, now we are left with a unified and accurate dataset for further stages of analysis."
   ]
  },
  {
   "cell_type": "markdown",
   "metadata": {},
   "source": [
    "### Categorizing Data"
   ]
  },
  {
   "cell_type": "markdown",
   "metadata": {},
   "source": [
    "In this section of the project we will categorize data and create the new data frame to only include columns relevant for the upcoming questions.\n",
    "\n",
    "We follow the principle of data categorization for the relevant columns are **children**, **debt**, **family_status**, **income_type**, **total_income** and **purpose**.\n",
    "\n",
    "Data categorization principles allow us to normalize and unify the data into distinct groups that are much easier to analyze, without losing any information relevant to the investigation at hand. "
   ]
  },
  {
   "cell_type": "code",
   "execution_count": 36,
   "metadata": {},
   "outputs": [
    {
     "data": {
      "text/plain": [
       "30-39    5674\n",
       "40-49    5472\n",
       "50-59    4679\n",
       "0-29     3182\n",
       "60+      2517\n",
       "Name: dob_years_group, dtype: int64"
      ]
     },
     "execution_count": 36,
     "metadata": {},
     "output_type": "execute_result"
    }
   ],
   "source": [
    "#Here we group age into age groups\n",
    "def dob_group(dob_years):\n",
    "    if dob_years < 30:\n",
    "        return '0-29'\n",
    "    if dob_years < 40:\n",
    "        return '30-39'\n",
    "    if dob_years < 50:\n",
    "        return '40-49'\n",
    "    if dob_years < 60:\n",
    "        return '50-59'\n",
    "    return '60+'\n",
    "credit['dob_years_group'] = credit['dob_years'].apply(dob_group)\n",
    "credit['dob_years_group'].value_counts()"
   ]
  },
  {
   "cell_type": "markdown",
   "metadata": {},
   "source": [
    "Perfect! This makes data more easy to capture at a glimpse.  "
   ]
  },
  {
   "cell_type": "code",
   "execution_count": 37,
   "metadata": {},
   "outputs": [
    {
     "data": {
      "text/plain": [
       "employee                       11119\n",
       "business                        5084\n",
       "retiree                         3856\n",
       "civil servant                   1459\n",
       "entrepreneur                       2\n",
       "unemployed                         2\n",
       "student                            1\n",
       "paternity / maternity leave        1\n",
       "Name: income_type, dtype: int64"
      ]
     },
     "execution_count": 37,
     "metadata": {},
     "output_type": "execute_result"
    }
   ],
   "source": [
    "#Here we check for outliers in the income_type column.\n",
    "#We wish to to unite these enteries with others in order not to lose any additional data.\n",
    "credit['income_type'].value_counts()"
   ]
  },
  {
   "cell_type": "code",
   "execution_count": 38,
   "metadata": {},
   "outputs": [
    {
     "data": {
      "text/plain": [
       "employee         11123\n",
       "business          5086\n",
       "retiree           3856\n",
       "civil servant     1459\n",
       "Name: income_type, dtype: int64"
      ]
     },
     "execution_count": 38,
     "metadata": {},
     "output_type": "execute_result"
    }
   ],
   "source": [
    "#So here we combine unemployment, student and paternity / maternity leave with employee.\n",
    "#employee to our undestaning is a persone who recieves some sort of monthly income.\n",
    "#unemployed and paternity / maternity leave recieve wellfare benefits.\n",
    "#entrepreneur will be combined with business. \n",
    "#student has a student job or parents monthly allowence support and therefore is employee.  \n",
    "#Obviously, this change in 6 entries will impact the dataset variance insinificatly. \n",
    "credit.loc[credit['income_type'] == 'entrepreneur', 'income_type'] = 'business'\n",
    "credit.loc[credit['income_type'] == 'unemployed', 'income_type'] = 'employee'  \n",
    "credit.loc[credit['income_type'] == 'student', 'income_type'] = 'employee' \n",
    "credit.loc[credit['income_type'] == 'paternity / maternity leave', 'income_type'] = 'employee'\n",
    "credit['income_type'].value_counts()"
   ]
  },
  {
   "cell_type": "markdown",
   "metadata": {},
   "source": [
    "This result seems better for the purpose of our analysis."
   ]
  },
  {
   "cell_type": "code",
   "execution_count": 39,
   "metadata": {
    "scrolled": false
   },
   "outputs": [
    {
     "data": {
      "text/plain": [
       "21890    755\n",
       "18317    310\n",
       "25544    275\n",
       "26586    210\n",
       "32305    179\n",
       "        ... \n",
       "29337      1\n",
       "27290      1\n",
       "40998      1\n",
       "20271      1\n",
       "40964      1\n",
       "Name: total_income, Length: 15399, dtype: int64"
      ]
     },
     "execution_count": 39,
     "metadata": {},
     "output_type": "execute_result"
    }
   ],
   "source": [
    "#Next, we take a closer look at total_income values.\n",
    "credit['total_income'].value_counts()"
   ]
  },
  {
   "cell_type": "markdown",
   "metadata": {},
   "source": [
    "Taking a closer look at total_income outliers we see multiple oulier values.\n",
    "Therefore we move on to group them. "
   ]
  },
  {
   "cell_type": "code",
   "execution_count": 40,
   "metadata": {},
   "outputs": [
    {
     "data": {
      "text/plain": [
       "average          17908\n",
       "above average     2332\n",
       "below average     1284\n",
       "Name: total_income_group, dtype: int64"
      ]
     },
     "execution_count": 40,
     "metadata": {},
     "output_type": "execute_result"
    }
   ],
   "source": [
    "#Here we group by below average, average and above average, as following:\n",
    "def income_group(total_income):\n",
    "    if total_income < (credit['total_income'].mean()-credit['total_income'].std()):\n",
    "        return 'below average'\n",
    "    elif (credit['total_income'].mean()-credit['total_income'].std()) <= total_income <= (credit['total_income'].mean()+credit['total_income'].std()):\n",
    "        return 'average'\n",
    "    else:\n",
    "        return 'above average'\n",
    "\n",
    "\n",
    "credit['total_income_group'] = credit['total_income'].apply(income_group)\n",
    "credit['total_income_group'].value_counts()"
   ]
  },
  {
   "cell_type": "markdown",
   "metadata": {},
   "source": [
    "Nicely done!! Next.."
   ]
  },
  {
   "cell_type": "code",
   "execution_count": 41,
   "metadata": {},
   "outputs": [
    {
     "data": {
      "text/html": [
       "<div>\n",
       "<style scoped>\n",
       "    .dataframe tbody tr th:only-of-type {\n",
       "        vertical-align: middle;\n",
       "    }\n",
       "\n",
       "    .dataframe tbody tr th {\n",
       "        vertical-align: top;\n",
       "    }\n",
       "\n",
       "    .dataframe thead th {\n",
       "        text-align: right;\n",
       "    }\n",
       "</style>\n",
       "<table border=\"1\" class=\"dataframe\">\n",
       "  <thead>\n",
       "    <tr style=\"text-align: right;\">\n",
       "      <th></th>\n",
       "      <th>children</th>\n",
       "      <th>family_status</th>\n",
       "      <th>income_type</th>\n",
       "      <th>total_income</th>\n",
       "      <th>total_income_group</th>\n",
       "      <th>purpose</th>\n",
       "      <th>debt</th>\n",
       "    </tr>\n",
       "  </thead>\n",
       "  <tbody>\n",
       "    <tr>\n",
       "      <th>0</th>\n",
       "      <td>1</td>\n",
       "      <td>married</td>\n",
       "      <td>employee</td>\n",
       "      <td>40620</td>\n",
       "      <td>average</td>\n",
       "      <td>real estate</td>\n",
       "      <td>0</td>\n",
       "    </tr>\n",
       "    <tr>\n",
       "      <th>1</th>\n",
       "      <td>1</td>\n",
       "      <td>married</td>\n",
       "      <td>employee</td>\n",
       "      <td>17932</td>\n",
       "      <td>average</td>\n",
       "      <td>car</td>\n",
       "      <td>0</td>\n",
       "    </tr>\n",
       "    <tr>\n",
       "      <th>2</th>\n",
       "      <td>0</td>\n",
       "      <td>married</td>\n",
       "      <td>employee</td>\n",
       "      <td>23341</td>\n",
       "      <td>average</td>\n",
       "      <td>real estate</td>\n",
       "      <td>0</td>\n",
       "    </tr>\n",
       "    <tr>\n",
       "      <th>3</th>\n",
       "      <td>3</td>\n",
       "      <td>married</td>\n",
       "      <td>employee</td>\n",
       "      <td>42820</td>\n",
       "      <td>above average</td>\n",
       "      <td>education</td>\n",
       "      <td>0</td>\n",
       "    </tr>\n",
       "    <tr>\n",
       "      <th>4</th>\n",
       "      <td>0</td>\n",
       "      <td>civil partnership</td>\n",
       "      <td>retiree</td>\n",
       "      <td>25378</td>\n",
       "      <td>average</td>\n",
       "      <td>wedding</td>\n",
       "      <td>0</td>\n",
       "    </tr>\n",
       "    <tr>\n",
       "      <th>...</th>\n",
       "      <td>...</td>\n",
       "      <td>...</td>\n",
       "      <td>...</td>\n",
       "      <td>...</td>\n",
       "      <td>...</td>\n",
       "      <td>...</td>\n",
       "      <td>...</td>\n",
       "    </tr>\n",
       "    <tr>\n",
       "      <th>21520</th>\n",
       "      <td>1</td>\n",
       "      <td>civil partnership</td>\n",
       "      <td>business</td>\n",
       "      <td>35966</td>\n",
       "      <td>average</td>\n",
       "      <td>real estate</td>\n",
       "      <td>0</td>\n",
       "    </tr>\n",
       "    <tr>\n",
       "      <th>21521</th>\n",
       "      <td>0</td>\n",
       "      <td>married</td>\n",
       "      <td>retiree</td>\n",
       "      <td>24959</td>\n",
       "      <td>average</td>\n",
       "      <td>car</td>\n",
       "      <td>0</td>\n",
       "    </tr>\n",
       "    <tr>\n",
       "      <th>21522</th>\n",
       "      <td>1</td>\n",
       "      <td>civil partnership</td>\n",
       "      <td>employee</td>\n",
       "      <td>14347</td>\n",
       "      <td>average</td>\n",
       "      <td>real estate</td>\n",
       "      <td>1</td>\n",
       "    </tr>\n",
       "    <tr>\n",
       "      <th>21523</th>\n",
       "      <td>3</td>\n",
       "      <td>married</td>\n",
       "      <td>employee</td>\n",
       "      <td>39054</td>\n",
       "      <td>average</td>\n",
       "      <td>car</td>\n",
       "      <td>1</td>\n",
       "    </tr>\n",
       "    <tr>\n",
       "      <th>21524</th>\n",
       "      <td>2</td>\n",
       "      <td>married</td>\n",
       "      <td>employee</td>\n",
       "      <td>13127</td>\n",
       "      <td>average</td>\n",
       "      <td>car</td>\n",
       "      <td>0</td>\n",
       "    </tr>\n",
       "  </tbody>\n",
       "</table>\n",
       "<p>21524 rows × 7 columns</p>\n",
       "</div>"
      ],
      "text/plain": [
       "       children      family_status income_type  total_income  \\\n",
       "0             1            married    employee         40620   \n",
       "1             1            married    employee         17932   \n",
       "2             0            married    employee         23341   \n",
       "3             3            married    employee         42820   \n",
       "4             0  civil partnership     retiree         25378   \n",
       "...         ...                ...         ...           ...   \n",
       "21520         1  civil partnership    business         35966   \n",
       "21521         0            married     retiree         24959   \n",
       "21522         1  civil partnership    employee         14347   \n",
       "21523         3            married    employee         39054   \n",
       "21524         2            married    employee         13127   \n",
       "\n",
       "      total_income_group      purpose  debt  \n",
       "0                average  real estate     0  \n",
       "1                average          car     0  \n",
       "2                average  real estate     0  \n",
       "3          above average    education     0  \n",
       "4                average      wedding     0  \n",
       "...                  ...          ...   ...  \n",
       "21520            average  real estate     0  \n",
       "21521            average          car     0  \n",
       "21522            average  real estate     1  \n",
       "21523            average          car     1  \n",
       "21524            average          car     0  \n",
       "\n",
       "[21524 rows x 7 columns]"
      ]
     },
     "execution_count": 41,
     "metadata": {},
     "output_type": "execute_result"
    }
   ],
   "source": [
    "#First we categorized outliers now we move on.\n",
    "#We aim to create a new DataFrame.\n",
    "#We will only keep columns required for the purpose of this project analysis.\n",
    "credit_2 = credit[['children', 'family_status', 'income_type', 'total_income','total_income_group', 'purpose', 'debt']].copy()\n",
    "credit_2"
   ]
  },
  {
   "cell_type": "markdown",
   "metadata": {},
   "source": [
    "#### Conclusion"
   ]
  },
  {
   "cell_type": "markdown",
   "metadata": {},
   "source": [
    "Super! We have created a preprocessed dataset in a structure targeted for the project analysis requirements.  "
   ]
  },
  {
   "cell_type": "markdown",
   "metadata": {},
   "source": [
    "## Answer these questions"
   ]
  },
  {
   "cell_type": "markdown",
   "metadata": {},
   "source": [
    "### Is there a relation between having kids and repaying a loan on time?"
   ]
  },
  {
   "cell_type": "code",
   "execution_count": 42,
   "metadata": {},
   "outputs": [
    {
     "data": {
      "text/plain": [
       "0.08088645233228024"
      ]
     },
     "execution_count": 42,
     "metadata": {},
     "output_type": "execute_result"
    }
   ],
   "source": [
    "credit_2['debt'].mean()\n",
    "#First we find the mean of debt (i.e. loan not paid) to use for all following calculations"
   ]
  },
  {
   "cell_type": "markdown",
   "metadata": {},
   "source": [
    "We find that **debt** value ~0.08 indicates that most borrowers repay their loans."
   ]
  },
  {
   "cell_type": "code",
   "execution_count": 43,
   "metadata": {
    "scrolled": true
   },
   "outputs": [
    {
     "data": {
      "text/plain": [
       "children\n",
       "0    0.075295\n",
       "1    0.091470\n",
       "2    0.094404\n",
       "3    0.081818\n",
       "4    0.097561\n",
       "5    0.000000\n",
       "Name: debt, dtype: float64"
      ]
     },
     "execution_count": 43,
     "metadata": {},
     "output_type": "execute_result"
    }
   ],
   "source": [
    "#To answer this question we investigate the correlation between number of children and the mean of debt\n",
    "credit_2.groupby('children')['debt'].mean()"
   ]
  },
  {
   "cell_type": "code",
   "execution_count": 44,
   "metadata": {},
   "outputs": [
    {
     "data": {
      "text/plain": [
       "0    14224\n",
       "1     4865\n",
       "2     2055\n",
       "3      330\n",
       "4       41\n",
       "5        9\n",
       "Name: children, dtype: int64"
      ]
     },
     "execution_count": 44,
     "metadata": {},
     "output_type": "execute_result"
    }
   ],
   "source": [
    "#Since result for 5 children is 0.00 we wish to re-check the value count of children.\n",
    "credit_2['children'].value_counts()"
   ]
  },
  {
   "cell_type": "code",
   "execution_count": 45,
   "metadata": {},
   "outputs": [
    {
     "data": {
      "text/plain": [
       "0    0.660844\n",
       "1    0.226027\n",
       "2    0.095475\n",
       "3    0.015332\n",
       "4    0.001905\n",
       "5    0.000418\n",
       "Name: children, dtype: float64"
      ]
     },
     "execution_count": 45,
     "metadata": {},
     "output_type": "execute_result"
    }
   ],
   "source": [
    "#And in percentages now.\n",
    "credit_2['children'].value_counts(normalize=True)"
   ]
  },
  {
   "cell_type": "markdown",
   "metadata": {},
   "source": [
    "Results show a direct correlation between having children vs. not having children and the likelihood to return debt.\n",
    "Having no children makes you more likely to repay loan on time. This could be explained given their family expenses are relatively lower than families with children.\n",
    "As we can see the average debt percentage of each group is close to the mean of debt.\n",
    "Borrowers with no children are doing slightly better then those with children, but not significantly much better. \n",
    "Surprisingly we find that borrowers with 5 children absolutely never failed to return a loan. This might be an exception, or a coincidence given there are only 9 entries with 5 children in the dataset, accumulating to an insignificant 0.04%.\n",
    "Those with 4 children are the most likely to fail to repay their loan. Probably since their family expenses are high.\n",
    "\n",
    "**Yes, there is a relation between having kids and repaying a loan on time.\n",
    "Having children makes you less likely to repay your load.**"
   ]
  },
  {
   "cell_type": "markdown",
   "metadata": {},
   "source": [
    "### Is there a relation between marital status and repaying a loan on time?"
   ]
  },
  {
   "cell_type": "code",
   "execution_count": 46,
   "metadata": {
    "scrolled": true
   },
   "outputs": [
    {
     "data": {
      "text/plain": [
       "family_status\n",
       "civil partnership    0.092912\n",
       "divorced             0.071130\n",
       "married              0.075202\n",
       "unmarried            0.097405\n",
       "widow / widower      0.065625\n",
       "Name: debt, dtype: float64"
      ]
     },
     "execution_count": 46,
     "metadata": {},
     "output_type": "execute_result"
    }
   ],
   "source": [
    "#Again, we check correlation between family_status and debt mean we found previously. \n",
    "credit_2.groupby('family_status')['debt'].mean()"
   ]
  },
  {
   "cell_type": "code",
   "execution_count": 47,
   "metadata": {},
   "outputs": [
    {
     "data": {
      "text/plain": [
       "married              0.575172\n",
       "civil partnership    0.194016\n",
       "unmarried            0.130691\n",
       "divorced             0.055519\n",
       "widow / widower      0.044601\n",
       "Name: family_status, dtype: float64"
      ]
     },
     "execution_count": 47,
     "metadata": {},
     "output_type": "execute_result"
    }
   ],
   "source": [
    "#We wish to see the percentage of customers per category. \n",
    "credit_2['family_status'].value_counts(normalize=True)"
   ]
  },
  {
   "cell_type": "markdown",
   "metadata": {},
   "source": [
    "We could come up with an explanation to this correlation.\n",
    "Those who are married or were married (currently divorced or widowed) are more likely to repay their loans. We could assume these people are more reliable and responsible.\n",
    "On the other hand, people in civil partnerships and unmarried people are less likely to repay their loan, possibly this is also reflected by their personal life choices such as not committing to marital relationships. \n",
    "\n",
    "**Yes, there is a correlation between marital status and repaying a loan on time.\n",
    "Never married are less likely to reply their loans.**"
   ]
  },
  {
   "cell_type": "markdown",
   "metadata": {},
   "source": [
    "### Is there a relation between income level and repaying a loan on time?"
   ]
  },
  {
   "cell_type": "code",
   "execution_count": 48,
   "metadata": {},
   "outputs": [
    {
     "data": {
      "text/plain": [
       "total_income_group\n",
       "above average    0.069897\n",
       "average          0.083091\n",
       "below average    0.070093\n",
       "Name: debt, dtype: float64"
      ]
     },
     "execution_count": 48,
     "metadata": {},
     "output_type": "execute_result"
    }
   ],
   "source": [
    "#First we check income level groups.\n",
    "credit_2.groupby('total_income_group')['debt'].mean()"
   ]
  },
  {
   "cell_type": "code",
   "execution_count": 49,
   "metadata": {},
   "outputs": [
    {
     "data": {
      "text/plain": [
       "average          17908\n",
       "above average     2332\n",
       "below average     1284\n",
       "Name: total_income_group, dtype: int64"
      ]
     },
     "execution_count": 49,
     "metadata": {},
     "output_type": "execute_result"
    }
   ],
   "source": [
    "#Just out of curiosity, we further investigated the following:\n",
    "#1) Total income group counts.\n",
    "credit_2['total_income_group'].value_counts()"
   ]
  },
  {
   "cell_type": "code",
   "execution_count": 50,
   "metadata": {},
   "outputs": [
    {
     "data": {
      "text/plain": [
       "average          0.832001\n",
       "above average    0.108344\n",
       "below average    0.059654\n",
       "Name: total_income_group, dtype: float64"
      ]
     },
     "execution_count": 50,
     "metadata": {},
     "output_type": "execute_result"
    }
   ],
   "source": [
    "#And in percentage.\n",
    "credit_2['total_income_group'].value_counts(normalize=True)"
   ]
  },
  {
   "cell_type": "markdown",
   "metadata": {},
   "source": [
    "Results show a reasonable distribution, most are average whereas some are above and some are below."
   ]
  },
  {
   "cell_type": "code",
   "execution_count": 51,
   "metadata": {},
   "outputs": [
    {
     "data": {
      "text/html": [
       "<div>\n",
       "<style scoped>\n",
       "    .dataframe tbody tr th:only-of-type {\n",
       "        vertical-align: middle;\n",
       "    }\n",
       "\n",
       "    .dataframe tbody tr th {\n",
       "        vertical-align: top;\n",
       "    }\n",
       "\n",
       "    .dataframe thead th {\n",
       "        text-align: right;\n",
       "    }\n",
       "</style>\n",
       "<table border=\"1\" class=\"dataframe\">\n",
       "  <thead>\n",
       "    <tr style=\"text-align: right;\">\n",
       "      <th>income_type</th>\n",
       "      <th>business</th>\n",
       "      <th>civil servant</th>\n",
       "      <th>employee</th>\n",
       "      <th>retiree</th>\n",
       "    </tr>\n",
       "    <tr>\n",
       "      <th>total_income_group</th>\n",
       "      <th></th>\n",
       "      <th></th>\n",
       "      <th></th>\n",
       "      <th></th>\n",
       "    </tr>\n",
       "  </thead>\n",
       "  <tbody>\n",
       "    <tr>\n",
       "      <th>above average</th>\n",
       "      <td>0.062833</td>\n",
       "      <td>0.034884</td>\n",
       "      <td>0.088265</td>\n",
       "      <td>0.044643</td>\n",
       "    </tr>\n",
       "    <tr>\n",
       "      <th>average</th>\n",
       "      <td>0.076847</td>\n",
       "      <td>0.063953</td>\n",
       "      <td>0.096778</td>\n",
       "      <td>0.056869</td>\n",
       "    </tr>\n",
       "    <tr>\n",
       "      <th>below average</th>\n",
       "      <td>0.060000</td>\n",
       "      <td>0.036145</td>\n",
       "      <td>0.088481</td>\n",
       "      <td>0.055777</td>\n",
       "    </tr>\n",
       "  </tbody>\n",
       "</table>\n",
       "</div>"
      ],
      "text/plain": [
       "income_type         business  civil servant  employee   retiree\n",
       "total_income_group                                             \n",
       "above average       0.062833       0.034884  0.088265  0.044643\n",
       "average             0.076847       0.063953  0.096778  0.056869\n",
       "below average       0.060000       0.036145  0.088481  0.055777"
      ]
     },
     "execution_count": 51,
     "metadata": {},
     "output_type": "execute_result"
    }
   ],
   "source": [
    "#2) Income levels in relation to income type. \n",
    "income_pivot = credit_2.pivot_table(index='total_income_group', columns='income_type', values='debt', aggfunc='mean')\n",
    "income_pivot"
   ]
  },
  {
   "cell_type": "markdown",
   "metadata": {},
   "source": [
    "In the above pivot table we see that in all income types the distribution is alike."
   ]
  },
  {
   "cell_type": "code",
   "execution_count": 52,
   "metadata": {
    "scrolled": true
   },
   "outputs": [
    {
     "data": {
      "text/plain": [
       "employee         11123\n",
       "business          5086\n",
       "retiree           3856\n",
       "civil servant     1459\n",
       "Name: income_type, dtype: int64"
      ]
     },
     "execution_count": 52,
     "metadata": {},
     "output_type": "execute_result"
    }
   ],
   "source": [
    "#3) Lastly we performed the income type value counts.\n",
    "credit_2['income_type'].value_counts()"
   ]
  },
  {
   "cell_type": "code",
   "execution_count": 53,
   "metadata": {},
   "outputs": [
    {
     "data": {
      "text/plain": [
       "employee         0.516772\n",
       "business         0.236294\n",
       "retiree          0.179149\n",
       "civil servant    0.067785\n",
       "Name: income_type, dtype: float64"
      ]
     },
     "execution_count": 53,
     "metadata": {},
     "output_type": "execute_result"
    }
   ],
   "source": [
    "#And in percentage.\n",
    "credit_2['income_type'].value_counts(normalize=True)"
   ]
  },
  {
   "cell_type": "markdown",
   "metadata": {},
   "source": [
    "As we see in the pivot table, retirees tend to fail less then others.\n",
    "People with average income in all groups are more likely to fail more than the others in same income type group with above or less than average income.\n",
    "The least risky loans are to civil servants, those with above or below average.\n",
    "\n",
    "\n",
    "**Yes, we can conclude that there is a relation between income level and repaying a loan on time. An average income predicts less likelihood to repay loan, whereas below or above average imply high likelihood to replay in each group.**\n",
    "We assume that people with below average income are more calculated and responsible with money in their day to day lives, and hence they better manage repaying loans.\n",
    "People with above average income, obviously have resources to repay the loan on time.\n",
    "The majority with average income might live a higher standard of living than their actual ability and therefore have difficulties repaying their loan in time."
   ]
  },
  {
   "cell_type": "markdown",
   "metadata": {},
   "source": [
    "### How do different loan purposes affect on-time repayment of the loan?"
   ]
  },
  {
   "cell_type": "code",
   "execution_count": 54,
   "metadata": {},
   "outputs": [
    {
     "data": {
      "text/plain": [
       "purpose\n",
       "car            0.093395\n",
       "education      0.091994\n",
       "real estate    0.072147\n",
       "wedding        0.079216\n",
       "Name: debt, dtype: float64"
      ]
     },
     "execution_count": 54,
     "metadata": {},
     "output_type": "execute_result"
    }
   ],
   "source": [
    "#We calculate the mean debt per purpose values.\n",
    "credit_2.groupby('purpose')['debt'].mean()"
   ]
  },
  {
   "cell_type": "markdown",
   "metadata": {},
   "source": [
    "Loans for car and education are less likely to be repaid on time. Unlike wedding and real estate purposes that are more likely to be returned on time.\n",
    "We can assume this is due to the fact that usually real estate and wedding loans are taken by couples sharing the responsibility and possibly having two salaries making it easier to repay the loan. Car and education can be solitary investments and hence making it challenging on the individual to repay on time. "
   ]
  },
  {
   "cell_type": "code",
   "execution_count": 55,
   "metadata": {},
   "outputs": [
    {
     "data": {
      "text/plain": [
       "real estate    10839\n",
       "car             4315\n",
       "education       4022\n",
       "wedding         2348\n",
       "Name: purpose, dtype: int64"
      ]
     },
     "execution_count": 55,
     "metadata": {},
     "output_type": "execute_result"
    }
   ],
   "source": [
    "#Just to get a better understanding of the purpose values distribution\n",
    "#we investigated the distribution among the various purposes.\n",
    "credit_2['purpose'].value_counts()"
   ]
  },
  {
   "cell_type": "code",
   "execution_count": 56,
   "metadata": {},
   "outputs": [
    {
     "data": {
      "text/plain": [
       "real estate    0.503577\n",
       "car            0.200474\n",
       "education      0.186861\n",
       "wedding        0.109088\n",
       "Name: purpose, dtype: float64"
      ]
     },
     "execution_count": 56,
     "metadata": {},
     "output_type": "execute_result"
    }
   ],
   "source": [
    "#And again looking at the percentages.\n",
    "credit_2['purpose'].value_counts(normalize=True)"
   ]
  },
  {
   "cell_type": "code",
   "execution_count": 57,
   "metadata": {},
   "outputs": [
    {
     "data": {
      "text/plain": [
       "purpose\n",
       "car             4315\n",
       "education       4022\n",
       "real estate    10839\n",
       "wedding         2348\n",
       "Name: debt, dtype: int64"
      ]
     },
     "execution_count": 57,
     "metadata": {},
     "output_type": "execute_result"
    }
   ],
   "source": [
    "credit_2.groupby('purpose')['debt'].count()"
   ]
  },
  {
   "cell_type": "code",
   "execution_count": 58,
   "metadata": {},
   "outputs": [
    {
     "data": {
      "text/plain": [
       "purpose\n",
       "car            403\n",
       "education      370\n",
       "real estate    782\n",
       "wedding        186\n",
       "Name: debt, dtype: int64"
      ]
     },
     "execution_count": 58,
     "metadata": {},
     "output_type": "execute_result"
    }
   ],
   "source": [
    "credit_2.groupby('purpose')['debt'].sum()"
   ]
  },
  {
   "cell_type": "code",
   "execution_count": 59,
   "metadata": {
    "scrolled": true
   },
   "outputs": [
    {
     "data": {
      "text/html": [
       "<div>\n",
       "<style scoped>\n",
       "    .dataframe tbody tr th:only-of-type {\n",
       "        vertical-align: middle;\n",
       "    }\n",
       "\n",
       "    .dataframe tbody tr th {\n",
       "        vertical-align: top;\n",
       "    }\n",
       "\n",
       "    .dataframe thead tr th {\n",
       "        text-align: left;\n",
       "    }\n",
       "\n",
       "    .dataframe thead tr:last-of-type th {\n",
       "        text-align: right;\n",
       "    }\n",
       "</style>\n",
       "<table border=\"1\" class=\"dataframe\">\n",
       "  <thead>\n",
       "    <tr>\n",
       "      <th></th>\n",
       "      <th colspan=\"3\" halign=\"left\">sum</th>\n",
       "      <th colspan=\"3\" halign=\"left\">count</th>\n",
       "    </tr>\n",
       "    <tr>\n",
       "      <th>debt</th>\n",
       "      <th>0</th>\n",
       "      <th>1</th>\n",
       "      <th>All</th>\n",
       "      <th>0</th>\n",
       "      <th>1</th>\n",
       "      <th>All</th>\n",
       "    </tr>\n",
       "    <tr>\n",
       "      <th>purpose</th>\n",
       "      <th></th>\n",
       "      <th></th>\n",
       "      <th></th>\n",
       "      <th></th>\n",
       "      <th></th>\n",
       "      <th></th>\n",
       "    </tr>\n",
       "  </thead>\n",
       "  <tbody>\n",
       "    <tr>\n",
       "      <th>car</th>\n",
       "      <td>3912</td>\n",
       "      <td>403</td>\n",
       "      <td>4315</td>\n",
       "      <td>3912</td>\n",
       "      <td>403</td>\n",
       "      <td>4315</td>\n",
       "    </tr>\n",
       "    <tr>\n",
       "      <th>education</th>\n",
       "      <td>3652</td>\n",
       "      <td>370</td>\n",
       "      <td>4022</td>\n",
       "      <td>3652</td>\n",
       "      <td>370</td>\n",
       "      <td>4022</td>\n",
       "    </tr>\n",
       "    <tr>\n",
       "      <th>real estate</th>\n",
       "      <td>10057</td>\n",
       "      <td>782</td>\n",
       "      <td>10839</td>\n",
       "      <td>10057</td>\n",
       "      <td>782</td>\n",
       "      <td>10839</td>\n",
       "    </tr>\n",
       "    <tr>\n",
       "      <th>wedding</th>\n",
       "      <td>2162</td>\n",
       "      <td>186</td>\n",
       "      <td>2348</td>\n",
       "      <td>2162</td>\n",
       "      <td>186</td>\n",
       "      <td>2348</td>\n",
       "    </tr>\n",
       "    <tr>\n",
       "      <th>All</th>\n",
       "      <td>19783</td>\n",
       "      <td>1741</td>\n",
       "      <td>21524</td>\n",
       "      <td>19783</td>\n",
       "      <td>1741</td>\n",
       "      <td>21524</td>\n",
       "    </tr>\n",
       "  </tbody>\n",
       "</table>\n",
       "</div>"
      ],
      "text/plain": [
       "               sum               count             \n",
       "debt             0     1    All      0     1    All\n",
       "purpose                                            \n",
       "car           3912   403   4315   3912   403   4315\n",
       "education     3652   370   4022   3652   370   4022\n",
       "real estate  10057   782  10839  10057   782  10839\n",
       "wedding       2162   186   2348   2162   186   2348\n",
       "All          19783  1741  21524  19783  1741  21524"
      ]
     },
     "execution_count": 59,
     "metadata": {},
     "output_type": "execute_result"
    }
   ],
   "source": [
    "#We build a pivot table using pivot_table() to calculate not only the ratio, but count and sum for each category.\n",
    "credit_2['value']=1\n",
    "credit_2.pivot_table(index='purpose', columns='debt', values='value', aggfunc=['sum','count'], margins=True)"
   ]
  },
  {
   "cell_type": "markdown",
   "metadata": {},
   "source": [
    "Okay!! We successfully built the pivot table using pivot_table() to calculate the count and sum for each category.\n",
    "We used also group-by and pivot_table just to be on the safe side :-)\n",
    "We can conclude that real estate has the highest values for debt / no debt since by far there are more loans taken for this purpose in the dataset, approx. 50% in total.\n",
    "Most real estate loans were repaid, whereas only approx. 7% not.\n",
    "For car and education approx. 10% were not repaid on time.\n",
    "And for weddings approx. 8% of the loans were not repaid on time.\n",
    "\n",
    "**Here we conclude by stating that the purpose of loan implies what is the chance of it being repaid on time.**\n",
    "Loans for cars are the least likely to be repaid on time.\n",
    "Loans for eduction are second less likely to be repaid on time.\n",
    "Loans for weddings come third.\n",
    "And loans for real estate are the most likely to be repaid on time."
   ]
  },
  {
   "cell_type": "markdown",
   "metadata": {},
   "source": [
    "## General conclusion"
   ]
  },
  {
   "cell_type": "markdown",
   "metadata": {},
   "source": [
    "Our project was to prepare guidance for a bank's loan division. Specifically we aimed to estimate the credit score for potential customers based on provided data on former  customers' credit worthiness.\n",
    "\n",
    "**Here we are concise in describing the general and final conclusions that would be provided to the bank division.**\n",
    "\n",
    "In order to draw conclusions we opened the data file, preprocessed the data for missing values, fixed data types, deleted duplicated data and finally categorized the data.\n",
    "Next, we addressed the questions asked, and reached our final conclusions as following:\n",
    "\n",
    "- There is a correlation between having children and not having children, and repaying the loan on time. **Having no children increases the likelihood to repay**, yet only by approx. 2% which is not significant.\n",
    "\n",
    "- There is a correlation between marital status and repaying the loan on time. **Having been married, and if we include also those who are currently divorced or widowed, accumulate to  over 60% of the dataset and significantly predict higher likelihood to repay a loan on time.**\n",
    "\n",
    "- There is a correlation between income level and repaying the loan on time. **Having an average income by far, about 83%, indicates low likelihood to repay a loan on time.**\n",
    "\n",
    "- There is a correlation between purpose and repaying the loan on time. **The highest return of loans are loans for real estate 50%, and next additional 10% for weddings. Whereas loans for the purpose of education follows and car comes last.**\n",
    "\n",
    "We have closely followed the project definition and kept the project structure as provided. However, in a real life scenario, prior to providing the bank with the conclusions drawn, we would recommend to further investigate the additional columns and how other factors, such as gender, age, days employed, and customers' education level might impact customers' on time loan return."
   ]
  },
  {
   "cell_type": "code",
   "execution_count": null,
   "metadata": {},
   "outputs": [],
   "source": []
  }
 ],
 "metadata": {
  "ExecuteTimeLog": [
   {
    "duration": 922,
    "start_time": "2021-10-07T17:26:42.392Z"
   },
   {
    "duration": 8,
    "start_time": "2021-10-07T18:06:57.603Z"
   },
   {
    "duration": 431,
    "start_time": "2021-10-07T18:09:27.416Z"
   },
   {
    "duration": 82,
    "start_time": "2021-10-07T18:09:37.325Z"
   },
   {
    "duration": 17,
    "start_time": "2021-10-07T18:09:43.700Z"
   },
   {
    "duration": 10,
    "start_time": "2021-10-07T18:16:47.917Z"
   },
   {
    "duration": 11,
    "start_time": "2021-10-07T18:16:58.768Z"
   },
   {
    "duration": 8,
    "start_time": "2021-10-07T18:17:03.027Z"
   },
   {
    "duration": -180,
    "start_time": "2021-10-07T18:18:00.344Z"
   },
   {
    "duration": 8,
    "start_time": "2021-10-07T18:19:00.402Z"
   },
   {
    "duration": 7,
    "start_time": "2021-10-07T18:19:40.882Z"
   },
   {
    "duration": 8,
    "start_time": "2021-10-07T18:19:54.036Z"
   },
   {
    "duration": 7,
    "start_time": "2021-10-07T18:20:21.333Z"
   },
   {
    "duration": 8,
    "start_time": "2021-10-07T18:21:21.085Z"
   },
   {
    "duration": 7,
    "start_time": "2021-10-07T18:21:30.766Z"
   },
   {
    "duration": 14,
    "start_time": "2021-10-07T18:22:10.035Z"
   },
   {
    "duration": 7,
    "start_time": "2021-10-07T18:22:34.825Z"
   },
   {
    "duration": 6,
    "start_time": "2021-10-07T18:22:40.000Z"
   },
   {
    "duration": 9,
    "start_time": "2021-10-07T18:23:02.840Z"
   },
   {
    "duration": 6,
    "start_time": "2021-10-07T18:23:39.857Z"
   },
   {
    "duration": 29,
    "start_time": "2021-10-07T18:23:54.283Z"
   },
   {
    "duration": 315,
    "start_time": "2021-10-07T18:24:07.554Z"
   },
   {
    "duration": 304,
    "start_time": "2021-10-07T18:24:18.781Z"
   },
   {
    "duration": 27,
    "start_time": "2021-10-07T18:24:23.880Z"
   },
   {
    "duration": 276,
    "start_time": "2021-10-07T18:24:37.263Z"
   },
   {
    "duration": 27,
    "start_time": "2021-10-07T18:24:47.189Z"
   },
   {
    "duration": 13,
    "start_time": "2021-10-07T18:25:03.319Z"
   },
   {
    "duration": 1371,
    "start_time": "2021-10-07T18:28:48.299Z"
   },
   {
    "duration": 1392,
    "start_time": "2021-10-07T18:29:03.404Z"
   },
   {
    "duration": 7,
    "start_time": "2021-10-07T18:29:58.149Z"
   },
   {
    "duration": 6,
    "start_time": "2021-10-07T18:31:28.978Z"
   },
   {
    "duration": 35,
    "start_time": "2021-10-07T18:33:35.914Z"
   },
   {
    "duration": 11,
    "start_time": "2021-10-07T18:34:39.107Z"
   },
   {
    "duration": 8,
    "start_time": "2021-10-07T18:36:16.310Z"
   },
   {
    "duration": 351,
    "start_time": "2021-10-07T18:38:56.770Z"
   },
   {
    "duration": 8,
    "start_time": "2021-10-07T18:39:11.234Z"
   },
   {
    "duration": 8,
    "start_time": "2021-10-07T18:42:31.261Z"
   },
   {
    "duration": 13,
    "start_time": "2021-10-07T18:45:59.947Z"
   },
   {
    "duration": 12,
    "start_time": "2021-10-07T18:46:08.366Z"
   },
   {
    "duration": 13,
    "start_time": "2021-10-07T18:46:17.011Z"
   },
   {
    "duration": 15,
    "start_time": "2021-10-07T18:47:11.309Z"
   },
   {
    "duration": 12,
    "start_time": "2021-10-07T18:47:24.749Z"
   },
   {
    "duration": 7,
    "start_time": "2021-10-07T18:48:10.738Z"
   },
   {
    "duration": 6,
    "start_time": "2021-10-07T18:48:19.475Z"
   },
   {
    "duration": 313,
    "start_time": "2021-10-07T18:48:31.162Z"
   },
   {
    "duration": 325,
    "start_time": "2021-10-07T18:48:46.251Z"
   },
   {
    "duration": 9,
    "start_time": "2021-10-07T18:49:03.010Z"
   },
   {
    "duration": 406,
    "start_time": "2021-10-07T18:49:48.955Z"
   },
   {
    "duration": 7,
    "start_time": "2021-10-07T18:50:00.144Z"
   },
   {
    "duration": 14,
    "start_time": "2021-10-07T19:17:24.624Z"
   },
   {
    "duration": 49,
    "start_time": "2021-10-07T19:18:31.783Z"
   },
   {
    "duration": 523,
    "start_time": "2021-10-07T19:19:56.267Z"
   },
   {
    "duration": 21,
    "start_time": "2021-10-07T19:20:17.396Z"
   },
   {
    "duration": 360,
    "start_time": "2021-10-07T19:20:24.148Z"
   },
   {
    "duration": 36,
    "start_time": "2021-10-07T19:20:30.663Z"
   },
   {
    "duration": 37,
    "start_time": "2021-10-07T19:20:38.924Z"
   },
   {
    "duration": 402,
    "start_time": "2021-10-07T19:20:50.389Z"
   },
   {
    "duration": 343,
    "start_time": "2021-10-07T19:21:13.488Z"
   },
   {
    "duration": 280,
    "start_time": "2021-10-07T19:21:21.256Z"
   },
   {
    "duration": 38,
    "start_time": "2021-10-07T19:21:29.582Z"
   },
   {
    "duration": 124,
    "start_time": "2021-10-07T19:22:08.895Z"
   },
   {
    "duration": 38,
    "start_time": "2021-10-07T19:22:16.279Z"
   },
   {
    "duration": 37,
    "start_time": "2021-10-07T19:22:23.366Z"
   },
   {
    "duration": 39,
    "start_time": "2021-10-07T19:22:30.123Z"
   },
   {
    "duration": 391,
    "start_time": "2021-10-07T19:22:54.673Z"
   },
   {
    "duration": 39,
    "start_time": "2021-10-07T19:23:00.513Z"
   },
   {
    "duration": 37,
    "start_time": "2021-10-07T19:23:08.522Z"
   },
   {
    "duration": 38,
    "start_time": "2021-10-07T19:23:15.848Z"
   },
   {
    "duration": 42,
    "start_time": "2021-10-07T19:23:40.596Z"
   },
   {
    "duration": 335,
    "start_time": "2021-10-07T19:29:27.892Z"
   },
   {
    "duration": 13,
    "start_time": "2021-10-07T19:40:27.312Z"
   },
   {
    "duration": 431,
    "start_time": "2021-10-07T19:46:07.108Z"
   },
   {
    "duration": 5,
    "start_time": "2021-10-07T19:46:24.808Z"
   },
   {
    "duration": 325,
    "start_time": "2021-10-07T19:55:23.588Z"
   },
   {
    "duration": 303,
    "start_time": "2021-10-07T19:55:32.171Z"
   },
   {
    "duration": 285,
    "start_time": "2021-10-07T19:55:49.247Z"
   },
   {
    "duration": 460,
    "start_time": "2021-10-07T19:58:35.927Z"
   },
   {
    "duration": 23,
    "start_time": "2021-10-07T19:58:52.705Z"
   },
   {
    "duration": 41,
    "start_time": "2021-10-07T19:59:09.303Z"
   },
   {
    "duration": 21,
    "start_time": "2021-10-07T19:59:16.858Z"
   },
   {
    "duration": 22,
    "start_time": "2021-10-07T19:59:20.241Z"
   },
   {
    "duration": 26,
    "start_time": "2021-10-07T19:59:27.468Z"
   },
   {
    "duration": 24,
    "start_time": "2021-10-07T19:59:40.949Z"
   },
   {
    "duration": 48,
    "start_time": "2021-10-07T20:00:24.617Z"
   },
   {
    "duration": 50,
    "start_time": "2021-10-07T20:00:36.633Z"
   },
   {
    "duration": 51,
    "start_time": "2021-10-07T20:01:18.453Z"
   },
   {
    "duration": 357,
    "start_time": "2021-10-07T20:01:30.870Z"
   },
   {
    "duration": 328,
    "start_time": "2021-10-07T20:01:35.645Z"
   },
   {
    "duration": 51,
    "start_time": "2021-10-07T20:01:41.295Z"
   },
   {
    "duration": -299,
    "start_time": "2021-10-07T20:02:10.549Z"
   },
   {
    "duration": 404,
    "start_time": "2021-10-08T09:21:04.493Z"
   },
   {
    "duration": 894,
    "start_time": "2021-10-08T09:21:13.854Z"
   },
   {
    "duration": 63,
    "start_time": "2021-10-08T09:22:09.116Z"
   },
   {
    "duration": 12,
    "start_time": "2021-10-08T09:22:12.380Z"
   },
   {
    "duration": 31,
    "start_time": "2021-10-08T09:22:23.692Z"
   },
   {
    "duration": 359,
    "start_time": "2021-10-08T09:22:47.630Z"
   },
   {
    "duration": 328,
    "start_time": "2021-10-08T09:22:55.921Z"
   },
   {
    "duration": 306,
    "start_time": "2021-10-08T09:23:06.675Z"
   },
   {
    "duration": 6,
    "start_time": "2021-10-08T09:23:10.255Z"
   },
   {
    "duration": 6,
    "start_time": "2021-10-08T10:21:14.481Z"
   },
   {
    "duration": 329,
    "start_time": "2021-10-08T10:23:10.236Z"
   },
   {
    "duration": 309,
    "start_time": "2021-10-08T10:23:27.860Z"
   },
   {
    "duration": 301,
    "start_time": "2021-10-08T10:23:33.245Z"
   },
   {
    "duration": 305,
    "start_time": "2021-10-08T10:23:42.185Z"
   },
   {
    "duration": 309,
    "start_time": "2021-10-08T10:23:48.818Z"
   },
   {
    "duration": 7,
    "start_time": "2021-10-08T10:23:52.618Z"
   },
   {
    "duration": 6,
    "start_time": "2021-10-08T10:24:14.690Z"
   },
   {
    "duration": 6,
    "start_time": "2021-10-08T10:24:27.716Z"
   },
   {
    "duration": 98,
    "start_time": "2021-10-08T10:24:38.582Z"
   },
   {
    "duration": 104,
    "start_time": "2021-10-08T10:24:42.292Z"
   },
   {
    "duration": 7,
    "start_time": "2021-10-08T10:24:45.963Z"
   },
   {
    "duration": 5,
    "start_time": "2021-10-08T10:24:50.524Z"
   },
   {
    "duration": 93,
    "start_time": "2021-10-08T10:28:09.081Z"
   },
   {
    "duration": 104,
    "start_time": "2021-10-08T10:28:14.547Z"
   },
   {
    "duration": 109,
    "start_time": "2021-10-08T10:28:20.535Z"
   },
   {
    "duration": 4,
    "start_time": "2021-10-08T10:29:48.459Z"
   },
   {
    "duration": 10,
    "start_time": "2021-10-08T10:29:56.338Z"
   },
   {
    "duration": 13,
    "start_time": "2021-10-08T10:30:08.890Z"
   },
   {
    "duration": 11,
    "start_time": "2021-10-08T10:30:34.250Z"
   },
   {
    "duration": 5,
    "start_time": "2021-10-08T10:33:20.152Z"
   },
   {
    "duration": 6,
    "start_time": "2021-10-08T10:33:29.316Z"
   },
   {
    "duration": 5,
    "start_time": "2021-10-08T10:33:36.016Z"
   },
   {
    "duration": 4,
    "start_time": "2021-10-08T10:33:48.488Z"
   },
   {
    "duration": 4,
    "start_time": "2021-10-08T10:34:42.452Z"
   },
   {
    "duration": 4,
    "start_time": "2021-10-08T10:35:30.669Z"
   },
   {
    "duration": 312,
    "start_time": "2021-10-08T10:35:56.473Z"
   },
   {
    "duration": 3,
    "start_time": "2021-10-08T10:36:13.108Z"
   },
   {
    "duration": 4,
    "start_time": "2021-10-08T10:37:57.081Z"
   },
   {
    "duration": 6,
    "start_time": "2021-10-08T10:38:29.719Z"
   },
   {
    "duration": 3,
    "start_time": "2021-10-08T10:38:45.328Z"
   },
   {
    "duration": 6,
    "start_time": "2021-10-08T10:40:48.344Z"
   },
   {
    "duration": 6,
    "start_time": "2021-10-08T10:40:57.249Z"
   },
   {
    "duration": 8,
    "start_time": "2021-10-08T10:41:08.776Z"
   },
   {
    "duration": 10,
    "start_time": "2021-10-08T10:41:13.763Z"
   },
   {
    "duration": 6,
    "start_time": "2021-10-08T10:41:20.546Z"
   },
   {
    "duration": 7,
    "start_time": "2021-10-08T10:41:24.843Z"
   },
   {
    "duration": 5,
    "start_time": "2021-10-08T10:41:40.444Z"
   },
   {
    "duration": 4,
    "start_time": "2021-10-08T10:41:56.552Z"
   },
   {
    "duration": 3,
    "start_time": "2021-10-08T10:42:22.898Z"
   },
   {
    "duration": 4,
    "start_time": "2021-10-08T10:42:58.447Z"
   },
   {
    "duration": 10,
    "start_time": "2021-10-08T10:43:14.977Z"
   },
   {
    "duration": 5,
    "start_time": "2021-10-08T10:43:34.358Z"
   },
   {
    "duration": 4,
    "start_time": "2021-10-08T10:45:43.015Z"
   },
   {
    "duration": 13,
    "start_time": "2021-10-08T10:46:33.478Z"
   },
   {
    "duration": 11,
    "start_time": "2021-10-08T10:46:44.762Z"
   },
   {
    "duration": 65,
    "start_time": "2021-10-08T10:48:02.412Z"
   },
   {
    "duration": 66,
    "start_time": "2021-10-08T10:48:18.444Z"
   },
   {
    "duration": 63,
    "start_time": "2021-10-08T10:48:22.620Z"
   },
   {
    "duration": 62,
    "start_time": "2021-10-08T10:48:28.789Z"
   },
   {
    "duration": 61,
    "start_time": "2021-10-08T10:50:57.981Z"
   },
   {
    "duration": 373,
    "start_time": "2021-10-08T10:51:43.748Z"
   },
   {
    "duration": 60,
    "start_time": "2021-10-08T10:51:53.399Z"
   },
   {
    "duration": 12,
    "start_time": "2021-10-08T10:54:49.789Z"
   },
   {
    "duration": 11,
    "start_time": "2021-10-08T10:55:08.206Z"
   },
   {
    "duration": 5,
    "start_time": "2021-10-08T10:55:24.009Z"
   },
   {
    "duration": 7,
    "start_time": "2021-10-08T10:55:37.221Z"
   },
   {
    "duration": 6,
    "start_time": "2021-10-08T10:57:29.598Z"
   },
   {
    "duration": 6,
    "start_time": "2021-10-08T10:58:10.511Z"
   },
   {
    "duration": 6,
    "start_time": "2021-10-08T10:58:15.174Z"
   },
   {
    "duration": 12,
    "start_time": "2021-10-08T10:58:26.768Z"
   },
   {
    "duration": 5,
    "start_time": "2021-10-08T10:58:36.719Z"
   },
   {
    "duration": 11,
    "start_time": "2021-10-08T10:58:40.146Z"
   },
   {
    "duration": 6,
    "start_time": "2021-10-08T11:00:03.876Z"
   },
   {
    "duration": 16,
    "start_time": "2021-10-08T11:00:08.378Z"
   },
   {
    "duration": 5,
    "start_time": "2021-10-08T11:00:31.802Z"
   },
   {
    "duration": 149,
    "start_time": "2021-10-08T11:01:07.591Z"
   },
   {
    "duration": 10,
    "start_time": "2021-10-08T11:01:23.246Z"
   },
   {
    "duration": 5,
    "start_time": "2021-10-08T11:01:56.717Z"
   },
   {
    "duration": 4,
    "start_time": "2021-10-08T11:02:47.844Z"
   },
   {
    "duration": 358,
    "start_time": "2021-10-08T11:18:49.787Z"
   },
   {
    "duration": 7,
    "start_time": "2021-10-08T11:19:33.989Z"
   },
   {
    "duration": 6,
    "start_time": "2021-10-08T11:19:36.534Z"
   },
   {
    "duration": 6,
    "start_time": "2021-10-08T11:19:46.354Z"
   },
   {
    "duration": 9,
    "start_time": "2021-10-08T11:19:50.248Z"
   },
   {
    "duration": 11,
    "start_time": "2021-10-08T11:20:39.063Z"
   },
   {
    "duration": 99,
    "start_time": "2021-10-08T11:25:07.756Z"
   },
   {
    "duration": 110,
    "start_time": "2021-10-08T11:25:20.443Z"
   },
   {
    "duration": 101,
    "start_time": "2021-10-08T11:25:25.582Z"
   },
   {
    "duration": 329,
    "start_time": "2021-10-08T11:25:41.540Z"
   },
   {
    "duration": 361,
    "start_time": "2021-10-08T11:25:48.597Z"
   },
   {
    "duration": 375,
    "start_time": "2021-10-08T11:25:56.266Z"
   },
   {
    "duration": 11,
    "start_time": "2021-10-08T11:26:12.203Z"
   },
   {
    "duration": 313,
    "start_time": "2021-10-08T11:26:17.635Z"
   },
   {
    "duration": 12,
    "start_time": "2021-10-08T11:26:27.998Z"
   },
   {
    "duration": 1741,
    "start_time": "2021-10-08T11:26:44.326Z"
   },
   {
    "duration": 303,
    "start_time": "2021-10-08T11:26:55.836Z"
   },
   {
    "duration": 95,
    "start_time": "2021-10-08T11:27:01.506Z"
   },
   {
    "duration": 13,
    "start_time": "2021-10-08T11:27:05.514Z"
   },
   {
    "duration": 18,
    "start_time": "2021-10-08T11:27:21.177Z"
   },
   {
    "duration": 11,
    "start_time": "2021-10-08T11:28:18.311Z"
   },
   {
    "duration": 11,
    "start_time": "2021-10-08T11:28:31.531Z"
   },
   {
    "duration": 302,
    "start_time": "2021-10-08T11:29:24.611Z"
   },
   {
    "duration": 12,
    "start_time": "2021-10-08T11:29:54.639Z"
   },
   {
    "duration": 11,
    "start_time": "2021-10-08T11:30:28.111Z"
   },
   {
    "duration": 308,
    "start_time": "2021-10-08T11:30:38.378Z"
   },
   {
    "duration": 11,
    "start_time": "2021-10-08T11:30:49.563Z"
   },
   {
    "duration": 11,
    "start_time": "2021-10-08T11:32:03.956Z"
   },
   {
    "duration": 11,
    "start_time": "2021-10-08T11:32:08.108Z"
   },
   {
    "duration": 11,
    "start_time": "2021-10-08T11:32:26.085Z"
   },
   {
    "duration": 10,
    "start_time": "2021-10-08T11:32:31.238Z"
   },
   {
    "duration": 10,
    "start_time": "2021-10-08T11:58:44.494Z"
   },
   {
    "duration": 13,
    "start_time": "2021-10-08T11:58:56.683Z"
   },
   {
    "duration": 13,
    "start_time": "2021-10-08T11:59:16.136Z"
   },
   {
    "duration": 13,
    "start_time": "2021-10-08T11:59:26.484Z"
   },
   {
    "duration": 15,
    "start_time": "2021-10-08T11:59:41.377Z"
   },
   {
    "duration": 102,
    "start_time": "2021-10-08T11:59:50.511Z"
   },
   {
    "duration": 12,
    "start_time": "2021-10-08T11:59:55.708Z"
   },
   {
    "duration": 12,
    "start_time": "2021-10-08T12:00:10.221Z"
   },
   {
    "duration": 123,
    "start_time": "2021-10-08T12:01:30.351Z"
   },
   {
    "duration": 106,
    "start_time": "2021-10-08T12:01:49.673Z"
   },
   {
    "duration": 36,
    "start_time": "2021-10-08T12:02:19.809Z"
   },
   {
    "duration": 37,
    "start_time": "2021-10-08T12:02:36.318Z"
   },
   {
    "duration": 38,
    "start_time": "2021-10-08T12:02:46.498Z"
   },
   {
    "duration": 57,
    "start_time": "2021-10-08T12:02:54.055Z"
   },
   {
    "duration": 12,
    "start_time": "2021-10-08T12:03:03.872Z"
   },
   {
    "duration": 9,
    "start_time": "2021-10-08T12:03:06.235Z"
   },
   {
    "duration": 33,
    "start_time": "2021-10-08T12:03:11.352Z"
   },
   {
    "duration": 14,
    "start_time": "2021-10-08T12:04:00.293Z"
   },
   {
    "duration": 310,
    "start_time": "2021-10-08T12:04:13.189Z"
   },
   {
    "duration": 15,
    "start_time": "2021-10-08T12:04:27.520Z"
   },
   {
    "duration": 15,
    "start_time": "2021-10-08T12:04:32.129Z"
   },
   {
    "duration": 315,
    "start_time": "2021-10-08T12:05:51.718Z"
   },
   {
    "duration": 307,
    "start_time": "2021-10-08T12:06:03.429Z"
   },
   {
    "duration": 324,
    "start_time": "2021-10-08T12:07:02.385Z"
   },
   {
    "duration": 325,
    "start_time": "2021-10-08T12:07:09.267Z"
   },
   {
    "duration": 9,
    "start_time": "2021-10-08T12:07:33.752Z"
   },
   {
    "duration": 14,
    "start_time": "2021-10-08T12:10:22.915Z"
   },
   {
    "duration": 12,
    "start_time": "2021-10-08T12:10:42.238Z"
   },
   {
    "duration": 14,
    "start_time": "2021-10-08T12:11:34.123Z"
   },
   {
    "duration": 753,
    "start_time": "2021-10-08T12:12:49.263Z"
   },
   {
    "duration": 12,
    "start_time": "2021-10-08T12:12:50.018Z"
   },
   {
    "duration": 37,
    "start_time": "2021-10-08T12:12:50.033Z"
   },
   {
    "duration": 12,
    "start_time": "2021-10-08T12:12:50.076Z"
   },
   {
    "duration": 17,
    "start_time": "2021-10-08T12:12:50.089Z"
   },
   {
    "duration": 10,
    "start_time": "2021-10-08T12:12:50.108Z"
   },
   {
    "duration": 19,
    "start_time": "2021-10-08T12:12:50.119Z"
   },
   {
    "duration": 6,
    "start_time": "2021-10-08T12:12:50.140Z"
   },
   {
    "duration": 32,
    "start_time": "2021-10-08T12:12:50.148Z"
   },
   {
    "duration": 674,
    "start_time": "2021-10-08T12:13:44.575Z"
   },
   {
    "duration": 12,
    "start_time": "2021-10-08T12:13:45.250Z"
   },
   {
    "duration": 35,
    "start_time": "2021-10-08T12:13:45.264Z"
   },
   {
    "duration": 8,
    "start_time": "2021-10-08T12:13:45.301Z"
   },
   {
    "duration": 11,
    "start_time": "2021-10-08T12:13:45.311Z"
   },
   {
    "duration": 5,
    "start_time": "2021-10-08T12:13:45.323Z"
   },
   {
    "duration": 14,
    "start_time": "2021-10-08T12:13:45.329Z"
   },
   {
    "duration": 5,
    "start_time": "2021-10-08T12:13:45.344Z"
   },
   {
    "duration": 20,
    "start_time": "2021-10-08T12:13:45.379Z"
   },
   {
    "duration": 7,
    "start_time": "2021-10-08T12:15:03.326Z"
   },
   {
    "duration": 11,
    "start_time": "2021-10-08T12:15:33.416Z"
   },
   {
    "duration": 103,
    "start_time": "2021-10-08T12:15:57.521Z"
   },
   {
    "duration": 92,
    "start_time": "2021-10-08T12:16:01.940Z"
   },
   {
    "duration": 92,
    "start_time": "2021-10-08T12:16:05.184Z"
   },
   {
    "duration": 11,
    "start_time": "2021-10-08T12:16:12.822Z"
   },
   {
    "duration": 15,
    "start_time": "2021-10-08T12:20:17.674Z"
   },
   {
    "duration": 11,
    "start_time": "2021-10-08T12:21:55.306Z"
   },
   {
    "duration": 357,
    "start_time": "2021-10-08T12:22:06.614Z"
   },
   {
    "duration": 306,
    "start_time": "2021-10-08T12:22:11.601Z"
   },
   {
    "duration": 22,
    "start_time": "2021-10-08T12:22:25.379Z"
   },
   {
    "duration": 699,
    "start_time": "2021-10-08T12:22:41.191Z"
   },
   {
    "duration": 13,
    "start_time": "2021-10-08T12:22:41.892Z"
   },
   {
    "duration": 46,
    "start_time": "2021-10-08T12:22:41.907Z"
   },
   {
    "duration": 9,
    "start_time": "2021-10-08T12:22:41.955Z"
   },
   {
    "duration": 35,
    "start_time": "2021-10-08T12:22:41.965Z"
   },
   {
    "duration": 15,
    "start_time": "2021-10-08T12:22:42.002Z"
   },
   {
    "duration": 31,
    "start_time": "2021-10-08T12:22:42.019Z"
   },
   {
    "duration": 13,
    "start_time": "2021-10-08T12:22:42.052Z"
   },
   {
    "duration": 20,
    "start_time": "2021-10-08T12:22:42.067Z"
   },
   {
    "duration": 17,
    "start_time": "2021-10-08T12:22:42.089Z"
   },
   {
    "duration": 12,
    "start_time": "2021-10-08T12:22:42.107Z"
   },
   {
    "duration": 32,
    "start_time": "2021-10-08T12:22:42.121Z"
   },
   {
    "duration": 397,
    "start_time": "2021-10-08T12:24:54.453Z"
   },
   {
    "duration": 654,
    "start_time": "2021-10-08T12:25:05.738Z"
   },
   {
    "duration": 12,
    "start_time": "2021-10-08T12:25:06.394Z"
   },
   {
    "duration": 31,
    "start_time": "2021-10-08T12:25:06.409Z"
   },
   {
    "duration": 10,
    "start_time": "2021-10-08T12:25:06.442Z"
   },
   {
    "duration": 35,
    "start_time": "2021-10-08T12:25:06.454Z"
   },
   {
    "duration": 5,
    "start_time": "2021-10-08T12:25:06.491Z"
   },
   {
    "duration": 19,
    "start_time": "2021-10-08T12:25:06.498Z"
   },
   {
    "duration": 5,
    "start_time": "2021-10-08T12:25:06.520Z"
   },
   {
    "duration": 14,
    "start_time": "2021-10-08T12:25:06.527Z"
   },
   {
    "duration": 42,
    "start_time": "2021-10-08T12:25:06.543Z"
   },
   {
    "duration": 12,
    "start_time": "2021-10-08T12:25:06.587Z"
   },
   {
    "duration": 11,
    "start_time": "2021-10-08T12:25:06.600Z"
   },
   {
    "duration": 670,
    "start_time": "2021-10-08T12:26:19.002Z"
   },
   {
    "duration": 19,
    "start_time": "2021-10-08T12:26:19.674Z"
   },
   {
    "duration": 30,
    "start_time": "2021-10-08T12:26:19.695Z"
   },
   {
    "duration": 9,
    "start_time": "2021-10-08T12:26:19.727Z"
   },
   {
    "duration": 15,
    "start_time": "2021-10-08T12:26:19.737Z"
   },
   {
    "duration": 26,
    "start_time": "2021-10-08T12:26:19.754Z"
   },
   {
    "duration": 14,
    "start_time": "2021-10-08T12:26:19.783Z"
   },
   {
    "duration": 5,
    "start_time": "2021-10-08T12:26:19.800Z"
   },
   {
    "duration": 22,
    "start_time": "2021-10-08T12:26:19.807Z"
   },
   {
    "duration": 8,
    "start_time": "2021-10-08T12:26:19.830Z"
   },
   {
    "duration": 424,
    "start_time": "2021-10-08T12:26:19.839Z"
   },
   {
    "duration": -86,
    "start_time": "2021-10-08T12:26:20.351Z"
   },
   {
    "duration": 337,
    "start_time": "2021-10-08T12:26:44.834Z"
   },
   {
    "duration": 11,
    "start_time": "2021-10-08T12:26:56.427Z"
   },
   {
    "duration": 674,
    "start_time": "2021-10-08T12:27:05.237Z"
   },
   {
    "duration": 12,
    "start_time": "2021-10-08T12:27:05.913Z"
   },
   {
    "duration": 45,
    "start_time": "2021-10-08T12:27:05.927Z"
   },
   {
    "duration": 13,
    "start_time": "2021-10-08T12:27:05.974Z"
   },
   {
    "duration": 26,
    "start_time": "2021-10-08T12:27:05.993Z"
   },
   {
    "duration": 22,
    "start_time": "2021-10-08T12:27:06.022Z"
   },
   {
    "duration": 23,
    "start_time": "2021-10-08T12:27:06.047Z"
   },
   {
    "duration": 15,
    "start_time": "2021-10-08T12:27:06.074Z"
   },
   {
    "duration": 44,
    "start_time": "2021-10-08T12:27:06.091Z"
   },
   {
    "duration": 7,
    "start_time": "2021-10-08T12:27:06.137Z"
   },
   {
    "duration": 27,
    "start_time": "2021-10-08T12:27:06.146Z"
   },
   {
    "duration": 21,
    "start_time": "2021-10-08T12:27:06.175Z"
   },
   {
    "duration": 720,
    "start_time": "2021-10-08T12:27:40.868Z"
   },
   {
    "duration": 12,
    "start_time": "2021-10-08T12:27:41.593Z"
   },
   {
    "duration": 31,
    "start_time": "2021-10-08T12:27:41.607Z"
   },
   {
    "duration": 9,
    "start_time": "2021-10-08T12:27:41.639Z"
   },
   {
    "duration": 40,
    "start_time": "2021-10-08T12:27:41.649Z"
   },
   {
    "duration": 4,
    "start_time": "2021-10-08T12:27:41.691Z"
   },
   {
    "duration": 14,
    "start_time": "2021-10-08T12:27:41.697Z"
   },
   {
    "duration": 5,
    "start_time": "2021-10-08T12:27:41.713Z"
   },
   {
    "duration": 13,
    "start_time": "2021-10-08T12:27:41.720Z"
   },
   {
    "duration": 7,
    "start_time": "2021-10-08T12:27:41.734Z"
   },
   {
    "duration": 44,
    "start_time": "2021-10-08T12:27:41.743Z"
   },
   {
    "duration": 14,
    "start_time": "2021-10-08T12:27:41.789Z"
   },
   {
    "duration": 11,
    "start_time": "2021-10-08T12:28:24.801Z"
   },
   {
    "duration": 11,
    "start_time": "2021-10-08T12:28:28.747Z"
   },
   {
    "duration": 670,
    "start_time": "2021-10-08T12:29:06.972Z"
   },
   {
    "duration": 10,
    "start_time": "2021-10-08T12:29:07.644Z"
   },
   {
    "duration": 34,
    "start_time": "2021-10-08T12:29:07.656Z"
   },
   {
    "duration": 8,
    "start_time": "2021-10-08T12:29:07.692Z"
   },
   {
    "duration": 11,
    "start_time": "2021-10-08T12:29:07.702Z"
   },
   {
    "duration": 6,
    "start_time": "2021-10-08T12:29:07.714Z"
   },
   {
    "duration": 14,
    "start_time": "2021-10-08T12:29:07.722Z"
   },
   {
    "duration": 5,
    "start_time": "2021-10-08T12:29:07.738Z"
   },
   {
    "duration": 16,
    "start_time": "2021-10-08T12:29:07.777Z"
   },
   {
    "duration": 13,
    "start_time": "2021-10-08T12:29:07.794Z"
   },
   {
    "duration": 13,
    "start_time": "2021-10-08T12:29:07.808Z"
   },
   {
    "duration": 9,
    "start_time": "2021-10-08T12:29:07.823Z"
   },
   {
    "duration": 8,
    "start_time": "2021-10-08T12:38:30.159Z"
   },
   {
    "duration": 7,
    "start_time": "2021-10-08T12:38:43.196Z"
   },
   {
    "duration": 10,
    "start_time": "2021-10-08T12:38:58.775Z"
   },
   {
    "duration": 626,
    "start_time": "2021-10-08T12:39:08.223Z"
   },
   {
    "duration": 10,
    "start_time": "2021-10-08T12:39:08.851Z"
   },
   {
    "duration": 37,
    "start_time": "2021-10-08T12:39:08.863Z"
   },
   {
    "duration": 11,
    "start_time": "2021-10-08T12:39:08.902Z"
   },
   {
    "duration": 19,
    "start_time": "2021-10-08T12:39:08.914Z"
   },
   {
    "duration": 15,
    "start_time": "2021-10-08T12:39:08.935Z"
   },
   {
    "duration": 19,
    "start_time": "2021-10-08T12:39:08.952Z"
   },
   {
    "duration": 12,
    "start_time": "2021-10-08T12:39:08.973Z"
   },
   {
    "duration": 14,
    "start_time": "2021-10-08T12:39:08.987Z"
   },
   {
    "duration": 9,
    "start_time": "2021-10-08T12:39:09.003Z"
   },
   {
    "duration": 14,
    "start_time": "2021-10-08T12:39:09.013Z"
   },
   {
    "duration": 27,
    "start_time": "2021-10-08T12:39:09.029Z"
   },
   {
    "duration": 3,
    "start_time": "2021-10-08T12:39:09.057Z"
   },
   {
    "duration": 28,
    "start_time": "2021-10-08T12:39:09.061Z"
   },
   {
    "duration": 6,
    "start_time": "2021-10-08T12:39:27.832Z"
   },
   {
    "duration": 10,
    "start_time": "2021-10-08T13:24:25.591Z"
   },
   {
    "duration": 2274,
    "start_time": "2021-10-08T13:24:36.757Z"
   },
   {
    "duration": 10,
    "start_time": "2021-10-08T13:24:52.245Z"
   },
   {
    "duration": 647,
    "start_time": "2021-10-08T13:25:31.233Z"
   },
   {
    "duration": 12,
    "start_time": "2021-10-08T13:25:31.882Z"
   },
   {
    "duration": 57,
    "start_time": "2021-10-08T13:25:31.896Z"
   },
   {
    "duration": 8,
    "start_time": "2021-10-08T13:25:31.955Z"
   },
   {
    "duration": 16,
    "start_time": "2021-10-08T13:25:31.964Z"
   },
   {
    "duration": 20,
    "start_time": "2021-10-08T13:25:31.981Z"
   },
   {
    "duration": 27,
    "start_time": "2021-10-08T13:25:32.003Z"
   },
   {
    "duration": 6,
    "start_time": "2021-10-08T13:25:32.032Z"
   },
   {
    "duration": 20,
    "start_time": "2021-10-08T13:25:32.040Z"
   },
   {
    "duration": 16,
    "start_time": "2021-10-08T13:25:32.062Z"
   },
   {
    "duration": 12,
    "start_time": "2021-10-08T13:25:32.079Z"
   },
   {
    "duration": 13,
    "start_time": "2021-10-08T13:25:32.093Z"
   },
   {
    "duration": 5,
    "start_time": "2021-10-08T13:25:32.108Z"
   },
   {
    "duration": 14,
    "start_time": "2021-10-08T13:25:32.115Z"
   },
   {
    "duration": 11,
    "start_time": "2021-10-08T13:26:20.776Z"
   },
   {
    "duration": 8,
    "start_time": "2021-10-08T13:29:11.043Z"
   },
   {
    "duration": 17,
    "start_time": "2021-10-08T13:29:30.534Z"
   },
   {
    "duration": 7,
    "start_time": "2021-10-08T13:30:07.870Z"
   },
   {
    "duration": 5,
    "start_time": "2021-10-08T13:43:06.801Z"
   },
   {
    "duration": 17,
    "start_time": "2021-10-08T13:44:10.134Z"
   },
   {
    "duration": 7,
    "start_time": "2021-10-08T13:44:35.223Z"
   },
   {
    "duration": 5,
    "start_time": "2021-10-08T13:44:51.448Z"
   },
   {
    "duration": 12,
    "start_time": "2021-10-08T13:46:19.178Z"
   },
   {
    "duration": 13,
    "start_time": "2021-10-08T13:48:31.399Z"
   },
   {
    "duration": -440,
    "start_time": "2021-10-08T13:54:54.144Z"
   },
   {
    "duration": 9580,
    "start_time": "2021-10-08T13:55:04.084Z"
   },
   {
    "duration": -194,
    "start_time": "2021-10-08T13:55:27.752Z"
   },
   {
    "duration": -496,
    "start_time": "2021-10-08T13:55:47.451Z"
   },
   {
    "duration": 8161,
    "start_time": "2021-10-08T13:55:51.971Z"
   },
   {
    "duration": 6340,
    "start_time": "2021-10-08T13:56:01.203Z"
   },
   {
    "duration": 101,
    "start_time": "2021-10-08T13:56:11.674Z"
   },
   {
    "duration": 99,
    "start_time": "2021-10-08T13:56:17.459Z"
   },
   {
    "duration": 302,
    "start_time": "2021-10-08T13:56:28.973Z"
   },
   {
    "duration": 290,
    "start_time": "2021-10-08T13:56:44.665Z"
   },
   {
    "duration": 317,
    "start_time": "2021-10-08T13:56:51.284Z"
   },
   {
    "duration": 40,
    "start_time": "2021-10-08T13:56:56.968Z"
   },
   {
    "duration": 639,
    "start_time": "2021-10-08T13:57:13.024Z"
   },
   {
    "duration": 11,
    "start_time": "2021-10-08T13:57:13.665Z"
   },
   {
    "duration": 36,
    "start_time": "2021-10-08T13:57:13.678Z"
   },
   {
    "duration": 8,
    "start_time": "2021-10-08T13:57:13.716Z"
   },
   {
    "duration": 11,
    "start_time": "2021-10-08T13:57:13.726Z"
   },
   {
    "duration": 9,
    "start_time": "2021-10-08T13:57:13.739Z"
   },
   {
    "duration": 45,
    "start_time": "2021-10-08T13:57:13.750Z"
   },
   {
    "duration": 5,
    "start_time": "2021-10-08T13:57:13.798Z"
   },
   {
    "duration": 14,
    "start_time": "2021-10-08T13:57:13.805Z"
   },
   {
    "duration": 7,
    "start_time": "2021-10-08T13:57:13.820Z"
   },
   {
    "duration": 13,
    "start_time": "2021-10-08T13:57:13.828Z"
   },
   {
    "duration": 9,
    "start_time": "2021-10-08T13:57:13.843Z"
   },
   {
    "duration": 31,
    "start_time": "2021-10-08T13:57:13.853Z"
   },
   {
    "duration": 12,
    "start_time": "2021-10-08T13:57:13.886Z"
   },
   {
    "duration": 6,
    "start_time": "2021-10-08T13:57:13.900Z"
   },
   {
    "duration": 19,
    "start_time": "2021-10-08T13:57:13.908Z"
   },
   {
    "duration": 8,
    "start_time": "2021-10-08T13:57:13.929Z"
   },
   {
    "duration": 8,
    "start_time": "2021-10-08T13:57:13.939Z"
   },
   {
    "duration": 44,
    "start_time": "2021-10-08T13:57:13.949Z"
   },
   {
    "duration": 9,
    "start_time": "2021-10-08T13:57:13.996Z"
   },
   {
    "duration": 15,
    "start_time": "2021-10-08T13:57:14.007Z"
   },
   {
    "duration": 31,
    "start_time": "2021-10-08T13:57:14.024Z"
   },
   {
    "duration": 26,
    "start_time": "2021-10-08T13:57:14.057Z"
   },
   {
    "duration": 9,
    "start_time": "2021-10-08T13:57:14.085Z"
   },
   {
    "duration": 7,
    "start_time": "2021-10-08T13:57:14.096Z"
   },
   {
    "duration": 7,
    "start_time": "2021-10-08T13:57:14.104Z"
   },
   {
    "duration": 27,
    "start_time": "2021-10-08T13:57:56.230Z"
   },
   {
    "duration": 11,
    "start_time": "2021-10-08T14:00:28.002Z"
   },
   {
    "duration": 762,
    "start_time": "2021-10-08T14:00:49.581Z"
   },
   {
    "duration": 10,
    "start_time": "2021-10-08T14:00:50.345Z"
   },
   {
    "duration": 37,
    "start_time": "2021-10-08T14:00:50.358Z"
   },
   {
    "duration": 8,
    "start_time": "2021-10-08T14:00:50.397Z"
   },
   {
    "duration": 10,
    "start_time": "2021-10-08T14:00:50.407Z"
   },
   {
    "duration": 4,
    "start_time": "2021-10-08T14:00:50.419Z"
   },
   {
    "duration": 11,
    "start_time": "2021-10-08T14:00:50.425Z"
   },
   {
    "duration": 5,
    "start_time": "2021-10-08T14:00:50.439Z"
   },
   {
    "duration": 45,
    "start_time": "2021-10-08T14:00:50.446Z"
   },
   {
    "duration": 9,
    "start_time": "2021-10-08T14:00:50.493Z"
   },
   {
    "duration": 12,
    "start_time": "2021-10-08T14:00:50.504Z"
   },
   {
    "duration": 12,
    "start_time": "2021-10-08T14:00:50.518Z"
   },
   {
    "duration": 2,
    "start_time": "2021-10-08T14:00:50.532Z"
   },
   {
    "duration": 15,
    "start_time": "2021-10-08T14:00:50.577Z"
   },
   {
    "duration": 7,
    "start_time": "2021-10-08T14:00:50.594Z"
   },
   {
    "duration": 18,
    "start_time": "2021-10-08T14:00:50.603Z"
   },
   {
    "duration": 9,
    "start_time": "2021-10-08T14:00:50.623Z"
   },
   {
    "duration": 8,
    "start_time": "2021-10-08T14:00:50.634Z"
   },
   {
    "duration": 34,
    "start_time": "2021-10-08T14:00:50.644Z"
   },
   {
    "duration": 11,
    "start_time": "2021-10-08T14:00:50.680Z"
   },
   {
    "duration": 18,
    "start_time": "2021-10-08T14:00:50.693Z"
   },
   {
    "duration": 7,
    "start_time": "2021-10-08T14:00:50.712Z"
   },
   {
    "duration": 6,
    "start_time": "2021-10-08T14:00:50.722Z"
   },
   {
    "duration": 7,
    "start_time": "2021-10-08T14:00:50.730Z"
   },
   {
    "duration": 44,
    "start_time": "2021-10-08T14:00:50.739Z"
   },
   {
    "duration": 9,
    "start_time": "2021-10-08T14:01:12.312Z"
   },
   {
    "duration": 25,
    "start_time": "2021-10-08T14:01:43.277Z"
   },
   {
    "duration": 21,
    "start_time": "2021-10-08T14:01:58.961Z"
   },
   {
    "duration": 650,
    "start_time": "2021-10-08T14:02:46.425Z"
   },
   {
    "duration": 18,
    "start_time": "2021-10-08T14:02:47.076Z"
   },
   {
    "duration": 31,
    "start_time": "2021-10-08T14:02:47.097Z"
   },
   {
    "duration": 9,
    "start_time": "2021-10-08T14:02:47.131Z"
   },
   {
    "duration": 40,
    "start_time": "2021-10-08T14:02:47.141Z"
   },
   {
    "duration": 5,
    "start_time": "2021-10-08T14:02:47.183Z"
   },
   {
    "duration": 16,
    "start_time": "2021-10-08T14:02:47.190Z"
   },
   {
    "duration": 6,
    "start_time": "2021-10-08T14:02:47.209Z"
   },
   {
    "duration": 12,
    "start_time": "2021-10-08T14:02:47.217Z"
   },
   {
    "duration": 7,
    "start_time": "2021-10-08T14:02:47.230Z"
   },
   {
    "duration": 47,
    "start_time": "2021-10-08T14:02:47.239Z"
   },
   {
    "duration": 11,
    "start_time": "2021-10-08T14:02:47.288Z"
   },
   {
    "duration": 2,
    "start_time": "2021-10-08T14:02:47.301Z"
   },
   {
    "duration": 14,
    "start_time": "2021-10-08T14:02:47.305Z"
   },
   {
    "duration": 7,
    "start_time": "2021-10-08T14:02:47.321Z"
   },
   {
    "duration": 19,
    "start_time": "2021-10-08T14:02:47.330Z"
   },
   {
    "duration": 38,
    "start_time": "2021-10-08T14:02:47.351Z"
   },
   {
    "duration": 14,
    "start_time": "2021-10-08T14:02:47.391Z"
   },
   {
    "duration": 8,
    "start_time": "2021-10-08T14:02:47.407Z"
   },
   {
    "duration": 8,
    "start_time": "2021-10-08T14:02:47.417Z"
   },
   {
    "duration": 16,
    "start_time": "2021-10-08T14:02:47.426Z"
   },
   {
    "duration": 8,
    "start_time": "2021-10-08T14:02:47.443Z"
   },
   {
    "duration": 36,
    "start_time": "2021-10-08T14:02:47.453Z"
   },
   {
    "duration": 9,
    "start_time": "2021-10-08T14:02:47.491Z"
   },
   {
    "duration": 10,
    "start_time": "2021-10-08T14:02:47.502Z"
   },
   {
    "duration": -334,
    "start_time": "2021-10-08T14:05:56.931Z"
   },
   {
    "duration": 710,
    "start_time": "2021-10-08T14:06:07.450Z"
   },
   {
    "duration": 11,
    "start_time": "2021-10-08T14:06:08.161Z"
   },
   {
    "duration": 49,
    "start_time": "2021-10-08T14:06:08.174Z"
   },
   {
    "duration": 9,
    "start_time": "2021-10-08T14:06:08.225Z"
   },
   {
    "duration": 27,
    "start_time": "2021-10-08T14:06:08.236Z"
   },
   {
    "duration": 19,
    "start_time": "2021-10-08T14:06:08.265Z"
   },
   {
    "duration": 21,
    "start_time": "2021-10-08T14:06:08.286Z"
   },
   {
    "duration": 16,
    "start_time": "2021-10-08T14:06:08.309Z"
   },
   {
    "duration": 26,
    "start_time": "2021-10-08T14:06:08.328Z"
   },
   {
    "duration": 21,
    "start_time": "2021-10-08T14:06:08.356Z"
   },
   {
    "duration": 24,
    "start_time": "2021-10-08T14:06:08.379Z"
   },
   {
    "duration": 23,
    "start_time": "2021-10-08T14:06:08.405Z"
   },
   {
    "duration": 15,
    "start_time": "2021-10-08T14:06:08.430Z"
   },
   {
    "duration": 22,
    "start_time": "2021-10-08T14:06:08.448Z"
   },
   {
    "duration": 22,
    "start_time": "2021-10-08T14:06:08.473Z"
   },
   {
    "duration": 39,
    "start_time": "2021-10-08T14:06:08.497Z"
   },
   {
    "duration": 29,
    "start_time": "2021-10-08T14:06:08.537Z"
   },
   {
    "duration": 24,
    "start_time": "2021-10-08T14:06:08.568Z"
   },
   {
    "duration": 26,
    "start_time": "2021-10-08T14:06:08.593Z"
   },
   {
    "duration": 24,
    "start_time": "2021-10-08T14:06:08.621Z"
   },
   {
    "duration": 6277,
    "start_time": "2021-10-08T14:06:08.647Z"
   },
   {
    "duration": -470,
    "start_time": "2021-10-08T14:06:15.396Z"
   },
   {
    "duration": -471,
    "start_time": "2021-10-08T14:06:15.399Z"
   },
   {
    "duration": -566,
    "start_time": "2021-10-08T14:06:15.495Z"
   },
   {
    "duration": -568,
    "start_time": "2021-10-08T14:06:15.498Z"
   },
   {
    "duration": 879,
    "start_time": "2021-10-08T14:06:26.805Z"
   },
   {
    "duration": 113,
    "start_time": "2021-10-08T14:06:38.591Z"
   },
   {
    "duration": 104,
    "start_time": "2021-10-08T14:06:44.959Z"
   },
   {
    "duration": 94,
    "start_time": "2021-10-08T14:06:48.416Z"
   },
   {
    "duration": -400,
    "start_time": "2021-10-08T14:07:02.636Z"
   },
   {
    "duration": -388,
    "start_time": "2021-10-08T14:07:14.968Z"
   },
   {
    "duration": 8322,
    "start_time": "2021-10-08T14:07:17.474Z"
   },
   {
    "duration": 151,
    "start_time": "2021-10-08T14:08:19.848Z"
   },
   {
    "duration": 97,
    "start_time": "2021-10-08T14:08:33.868Z"
   },
   {
    "duration": 106,
    "start_time": "2021-10-08T14:08:39.628Z"
   },
   {
    "duration": 14,
    "start_time": "2021-10-08T14:08:44.469Z"
   },
   {
    "duration": 11,
    "start_time": "2021-10-08T14:09:15.807Z"
   },
   {
    "duration": 11,
    "start_time": "2021-10-08T14:09:22.932Z"
   },
   {
    "duration": 24,
    "start_time": "2021-10-08T14:09:34.368Z"
   },
   {
    "duration": 9,
    "start_time": "2021-10-08T14:09:45.254Z"
   },
   {
    "duration": 9,
    "start_time": "2021-10-08T14:09:53.646Z"
   },
   {
    "duration": 695,
    "start_time": "2021-10-08T14:10:16.080Z"
   },
   {
    "duration": 15,
    "start_time": "2021-10-08T14:10:16.777Z"
   },
   {
    "duration": 32,
    "start_time": "2021-10-08T14:10:16.794Z"
   },
   {
    "duration": 8,
    "start_time": "2021-10-08T14:10:16.828Z"
   },
   {
    "duration": 10,
    "start_time": "2021-10-08T14:10:16.838Z"
   },
   {
    "duration": 34,
    "start_time": "2021-10-08T14:10:16.850Z"
   },
   {
    "duration": 14,
    "start_time": "2021-10-08T14:10:16.886Z"
   },
   {
    "duration": 6,
    "start_time": "2021-10-08T14:10:16.902Z"
   },
   {
    "duration": 14,
    "start_time": "2021-10-08T14:10:16.910Z"
   },
   {
    "duration": 7,
    "start_time": "2021-10-08T14:10:16.926Z"
   },
   {
    "duration": 43,
    "start_time": "2021-10-08T14:10:16.935Z"
   },
   {
    "duration": 13,
    "start_time": "2021-10-08T14:10:16.984Z"
   },
   {
    "duration": 3,
    "start_time": "2021-10-08T14:10:16.999Z"
   },
   {
    "duration": 11,
    "start_time": "2021-10-08T14:10:17.004Z"
   },
   {
    "duration": 7,
    "start_time": "2021-10-08T14:10:17.017Z"
   },
   {
    "duration": 16,
    "start_time": "2021-10-08T14:10:17.026Z"
   },
   {
    "duration": 45,
    "start_time": "2021-10-08T14:10:17.044Z"
   },
   {
    "duration": 8,
    "start_time": "2021-10-08T14:10:17.091Z"
   },
   {
    "duration": 7,
    "start_time": "2021-10-08T14:10:17.100Z"
   },
   {
    "duration": 7,
    "start_time": "2021-10-08T14:10:17.109Z"
   },
   {
    "duration": 20,
    "start_time": "2021-10-08T14:10:17.118Z"
   },
   {
    "duration": 13,
    "start_time": "2021-10-08T14:10:17.140Z"
   },
   {
    "duration": 11,
    "start_time": "2021-10-08T14:10:17.176Z"
   },
   {
    "duration": 13,
    "start_time": "2021-10-08T14:10:17.191Z"
   },
   {
    "duration": 14,
    "start_time": "2021-10-08T14:10:17.205Z"
   },
   {
    "duration": 7,
    "start_time": "2021-10-08T14:10:17.221Z"
   },
   {
    "duration": 10,
    "start_time": "2021-10-08T14:13:30.714Z"
   },
   {
    "duration": 651,
    "start_time": "2021-10-08T14:13:45.912Z"
   },
   {
    "duration": 18,
    "start_time": "2021-10-08T14:13:46.565Z"
   },
   {
    "duration": 33,
    "start_time": "2021-10-08T14:13:46.586Z"
   },
   {
    "duration": 9,
    "start_time": "2021-10-08T14:13:46.621Z"
   },
   {
    "duration": 10,
    "start_time": "2021-10-08T14:13:46.632Z"
   },
   {
    "duration": 6,
    "start_time": "2021-10-08T14:13:46.643Z"
   },
   {
    "duration": 34,
    "start_time": "2021-10-08T14:13:46.651Z"
   },
   {
    "duration": 8,
    "start_time": "2021-10-08T14:13:46.688Z"
   },
   {
    "duration": 13,
    "start_time": "2021-10-08T14:13:46.700Z"
   },
   {
    "duration": 8,
    "start_time": "2021-10-08T14:13:46.716Z"
   },
   {
    "duration": 59,
    "start_time": "2021-10-08T14:13:46.726Z"
   },
   {
    "duration": 13,
    "start_time": "2021-10-08T14:13:46.787Z"
   },
   {
    "duration": 3,
    "start_time": "2021-10-08T14:13:46.801Z"
   },
   {
    "duration": 15,
    "start_time": "2021-10-08T14:13:46.805Z"
   },
   {
    "duration": 7,
    "start_time": "2021-10-08T14:13:46.822Z"
   },
   {
    "duration": 22,
    "start_time": "2021-10-08T14:13:46.830Z"
   },
   {
    "duration": 29,
    "start_time": "2021-10-08T14:13:46.854Z"
   },
   {
    "duration": 9,
    "start_time": "2021-10-08T14:13:46.885Z"
   },
   {
    "duration": 8,
    "start_time": "2021-10-08T14:13:46.896Z"
   },
   {
    "duration": 7,
    "start_time": "2021-10-08T14:13:46.906Z"
   },
   {
    "duration": 13,
    "start_time": "2021-10-08T14:13:46.915Z"
   },
   {
    "duration": 10,
    "start_time": "2021-10-08T14:13:46.930Z"
   },
   {
    "duration": 6,
    "start_time": "2021-10-08T14:13:46.942Z"
   },
   {
    "duration": 15,
    "start_time": "2021-10-08T14:13:46.978Z"
   },
   {
    "duration": 8,
    "start_time": "2021-10-08T14:13:46.995Z"
   },
   {
    "duration": 11,
    "start_time": "2021-10-08T14:13:47.005Z"
   },
   {
    "duration": 7,
    "start_time": "2021-10-08T14:45:24.600Z"
   },
   {
    "duration": 4,
    "start_time": "2021-10-08T14:45:33.649Z"
   },
   {
    "duration": 5,
    "start_time": "2021-10-08T14:45:35.675Z"
   },
   {
    "duration": 11,
    "start_time": "2021-10-08T14:45:54.198Z"
   },
   {
    "duration": 12,
    "start_time": "2021-10-08T14:45:56.425Z"
   },
   {
    "duration": 692,
    "start_time": "2021-10-08T14:46:05.042Z"
   },
   {
    "duration": 13,
    "start_time": "2021-10-08T14:46:05.736Z"
   },
   {
    "duration": 54,
    "start_time": "2021-10-08T14:46:05.752Z"
   },
   {
    "duration": 8,
    "start_time": "2021-10-08T14:46:05.808Z"
   },
   {
    "duration": 13,
    "start_time": "2021-10-08T14:46:05.817Z"
   },
   {
    "duration": 4,
    "start_time": "2021-10-08T14:46:05.832Z"
   },
   {
    "duration": 29,
    "start_time": "2021-10-08T14:46:05.838Z"
   },
   {
    "duration": 13,
    "start_time": "2021-10-08T14:46:05.870Z"
   },
   {
    "duration": 24,
    "start_time": "2021-10-08T14:46:05.886Z"
   },
   {
    "duration": 7,
    "start_time": "2021-10-08T14:46:05.913Z"
   },
   {
    "duration": 16,
    "start_time": "2021-10-08T14:46:05.922Z"
   },
   {
    "duration": 12,
    "start_time": "2021-10-08T14:46:05.941Z"
   },
   {
    "duration": 31,
    "start_time": "2021-10-08T14:46:05.954Z"
   },
   {
    "duration": 14,
    "start_time": "2021-10-08T14:46:05.987Z"
   },
   {
    "duration": 8,
    "start_time": "2021-10-08T14:46:06.003Z"
   },
   {
    "duration": 16,
    "start_time": "2021-10-08T14:46:06.013Z"
   },
   {
    "duration": 11,
    "start_time": "2021-10-08T14:46:06.031Z"
   },
   {
    "duration": 10,
    "start_time": "2021-10-08T14:46:06.044Z"
   },
   {
    "duration": 7,
    "start_time": "2021-10-08T14:46:06.080Z"
   },
   {
    "duration": 10,
    "start_time": "2021-10-08T14:46:06.089Z"
   },
   {
    "duration": 15,
    "start_time": "2021-10-08T14:46:06.101Z"
   },
   {
    "duration": 12,
    "start_time": "2021-10-08T14:46:06.119Z"
   },
   {
    "duration": 7,
    "start_time": "2021-10-08T14:46:06.134Z"
   },
   {
    "duration": 42,
    "start_time": "2021-10-08T14:46:06.143Z"
   },
   {
    "duration": 13,
    "start_time": "2021-10-08T14:46:06.188Z"
   },
   {
    "duration": 8,
    "start_time": "2021-10-08T14:46:06.203Z"
   },
   {
    "duration": 12,
    "start_time": "2021-10-08T14:57:20.634Z"
   },
   {
    "duration": 25,
    "start_time": "2021-10-08T14:57:28.370Z"
   },
   {
    "duration": 15,
    "start_time": "2021-10-08T14:57:40.684Z"
   },
   {
    "duration": 33,
    "start_time": "2021-10-08T14:57:47.598Z"
   },
   {
    "duration": 39,
    "start_time": "2021-10-08T14:57:50.164Z"
   },
   {
    "duration": 688,
    "start_time": "2021-10-08T14:58:48.438Z"
   },
   {
    "duration": 11,
    "start_time": "2021-10-08T14:58:49.127Z"
   },
   {
    "duration": 49,
    "start_time": "2021-10-08T14:58:49.140Z"
   },
   {
    "duration": 16,
    "start_time": "2021-10-08T14:58:49.192Z"
   },
   {
    "duration": 10,
    "start_time": "2021-10-08T14:58:49.210Z"
   },
   {
    "duration": 4,
    "start_time": "2021-10-08T14:58:49.222Z"
   },
   {
    "duration": 11,
    "start_time": "2021-10-08T14:58:49.228Z"
   },
   {
    "duration": 71,
    "start_time": "2021-10-08T14:58:49.241Z"
   },
   {
    "duration": 6,
    "start_time": "2021-10-08T14:58:49.315Z"
   },
   {
    "duration": 16,
    "start_time": "2021-10-08T14:58:49.323Z"
   },
   {
    "duration": 7,
    "start_time": "2021-10-08T14:58:49.340Z"
   },
   {
    "duration": 39,
    "start_time": "2021-10-08T14:58:49.349Z"
   },
   {
    "duration": 16,
    "start_time": "2021-10-08T14:58:49.391Z"
   },
   {
    "duration": 3,
    "start_time": "2021-10-08T14:58:49.409Z"
   },
   {
    "duration": 11,
    "start_time": "2021-10-08T14:58:49.414Z"
   },
   {
    "duration": 8,
    "start_time": "2021-10-08T14:58:49.426Z"
   },
   {
    "duration": 49,
    "start_time": "2021-10-08T14:58:49.436Z"
   },
   {
    "duration": 10,
    "start_time": "2021-10-08T14:58:49.487Z"
   },
   {
    "duration": 10,
    "start_time": "2021-10-08T14:58:49.500Z"
   },
   {
    "duration": 9,
    "start_time": "2021-10-08T14:58:49.512Z"
   },
   {
    "duration": 8,
    "start_time": "2021-10-08T14:58:49.523Z"
   },
   {
    "duration": 16,
    "start_time": "2021-10-08T14:58:49.532Z"
   },
   {
    "duration": 41,
    "start_time": "2021-10-08T14:58:49.550Z"
   },
   {
    "duration": 11,
    "start_time": "2021-10-08T14:58:49.593Z"
   },
   {
    "duration": 7,
    "start_time": "2021-10-08T14:58:49.606Z"
   },
   {
    "duration": 13,
    "start_time": "2021-10-08T14:58:49.614Z"
   },
   {
    "duration": 7,
    "start_time": "2021-10-08T14:58:49.629Z"
   },
   {
    "duration": 41,
    "start_time": "2021-10-08T14:59:00.690Z"
   },
   {
    "duration": 732,
    "start_time": "2021-10-08T14:59:13.016Z"
   },
   {
    "duration": 10,
    "start_time": "2021-10-08T14:59:13.750Z"
   },
   {
    "duration": 42,
    "start_time": "2021-10-08T14:59:13.762Z"
   },
   {
    "duration": 8,
    "start_time": "2021-10-08T14:59:13.806Z"
   },
   {
    "duration": 9,
    "start_time": "2021-10-08T14:59:13.816Z"
   },
   {
    "duration": 5,
    "start_time": "2021-10-08T14:59:13.827Z"
   },
   {
    "duration": 20,
    "start_time": "2021-10-08T14:59:13.833Z"
   },
   {
    "duration": 40,
    "start_time": "2021-10-08T14:59:13.855Z"
   },
   {
    "duration": 8,
    "start_time": "2021-10-08T14:59:13.899Z"
   },
   {
    "duration": 16,
    "start_time": "2021-10-08T14:59:13.909Z"
   },
   {
    "duration": 8,
    "start_time": "2021-10-08T14:59:13.927Z"
   },
   {
    "duration": 43,
    "start_time": "2021-10-08T14:59:13.937Z"
   },
   {
    "duration": 20,
    "start_time": "2021-10-08T14:59:13.982Z"
   },
   {
    "duration": 3,
    "start_time": "2021-10-08T14:59:14.009Z"
   },
   {
    "duration": 14,
    "start_time": "2021-10-08T14:59:14.014Z"
   },
   {
    "duration": 7,
    "start_time": "2021-10-08T14:59:14.030Z"
   },
   {
    "duration": 44,
    "start_time": "2021-10-08T14:59:14.039Z"
   },
   {
    "duration": 20,
    "start_time": "2021-10-08T14:59:14.087Z"
   },
   {
    "duration": 7,
    "start_time": "2021-10-08T14:59:14.109Z"
   },
   {
    "duration": 8,
    "start_time": "2021-10-08T14:59:14.117Z"
   },
   {
    "duration": 14,
    "start_time": "2021-10-08T14:59:14.126Z"
   },
   {
    "duration": 25,
    "start_time": "2021-10-08T14:59:14.142Z"
   },
   {
    "duration": 33,
    "start_time": "2021-10-08T14:59:14.170Z"
   },
   {
    "duration": 6,
    "start_time": "2021-10-08T14:59:14.205Z"
   },
   {
    "duration": 19,
    "start_time": "2021-10-08T14:59:14.213Z"
   },
   {
    "duration": 20,
    "start_time": "2021-10-08T14:59:14.234Z"
   },
   {
    "duration": 9,
    "start_time": "2021-10-08T14:59:14.256Z"
   },
   {
    "duration": 17,
    "start_time": "2021-10-08T15:01:18.304Z"
   },
   {
    "duration": 27,
    "start_time": "2021-10-08T15:01:20.684Z"
   },
   {
    "duration": 37,
    "start_time": "2021-10-08T15:01:32.829Z"
   },
   {
    "duration": 18,
    "start_time": "2021-10-08T15:02:21.454Z"
   },
   {
    "duration": 8,
    "start_time": "2021-10-08T15:02:39.971Z"
   },
   {
    "duration": 21,
    "start_time": "2021-10-08T15:03:51.593Z"
   },
   {
    "duration": 18,
    "start_time": "2021-10-08T15:16:48.199Z"
   },
   {
    "duration": 361,
    "start_time": "2021-10-08T15:17:36.620Z"
   },
   {
    "duration": 314,
    "start_time": "2021-10-08T15:17:40.913Z"
   },
   {
    "duration": 18,
    "start_time": "2021-10-08T15:17:55.748Z"
   },
   {
    "duration": 8,
    "start_time": "2021-10-08T15:18:24.714Z"
   },
   {
    "duration": 34,
    "start_time": "2021-10-08T15:18:52.589Z"
   },
   {
    "duration": 712,
    "start_time": "2021-10-08T15:19:09.262Z"
   },
   {
    "duration": 17,
    "start_time": "2021-10-08T15:19:09.976Z"
   },
   {
    "duration": 38,
    "start_time": "2021-10-08T15:19:09.996Z"
   },
   {
    "duration": 9,
    "start_time": "2021-10-08T15:19:10.035Z"
   },
   {
    "duration": 42,
    "start_time": "2021-10-08T15:19:10.045Z"
   },
   {
    "duration": 9,
    "start_time": "2021-10-08T15:19:10.089Z"
   },
   {
    "duration": 16,
    "start_time": "2021-10-08T15:19:10.100Z"
   },
   {
    "duration": 19,
    "start_time": "2021-10-08T15:19:10.120Z"
   },
   {
    "duration": 6,
    "start_time": "2021-10-08T15:19:10.141Z"
   },
   {
    "duration": 48,
    "start_time": "2021-10-08T15:19:10.148Z"
   },
   {
    "duration": 13,
    "start_time": "2021-10-08T15:19:10.199Z"
   },
   {
    "duration": 11,
    "start_time": "2021-10-08T15:19:10.214Z"
   },
   {
    "duration": 10,
    "start_time": "2021-10-08T15:19:10.227Z"
   },
   {
    "duration": 2,
    "start_time": "2021-10-08T15:19:10.239Z"
   },
   {
    "duration": 10,
    "start_time": "2021-10-08T15:19:10.242Z"
   },
   {
    "duration": 38,
    "start_time": "2021-10-08T15:19:10.254Z"
   },
   {
    "duration": 27,
    "start_time": "2021-10-08T15:19:10.294Z"
   },
   {
    "duration": 7,
    "start_time": "2021-10-08T15:19:10.323Z"
   },
   {
    "duration": 10,
    "start_time": "2021-10-08T15:19:10.332Z"
   },
   {
    "duration": 9,
    "start_time": "2021-10-08T15:19:10.344Z"
   },
   {
    "duration": 14,
    "start_time": "2021-10-08T15:19:10.385Z"
   },
   {
    "duration": 21,
    "start_time": "2021-10-08T15:19:10.404Z"
   },
   {
    "duration": 10,
    "start_time": "2021-10-08T15:19:10.428Z"
   },
   {
    "duration": 7,
    "start_time": "2021-10-08T15:19:10.439Z"
   },
   {
    "duration": 6,
    "start_time": "2021-10-08T15:19:10.447Z"
   },
   {
    "duration": 39,
    "start_time": "2021-10-08T15:19:10.455Z"
   },
   {
    "duration": 17,
    "start_time": "2021-10-08T15:19:44.578Z"
   },
   {
    "duration": 689,
    "start_time": "2021-10-08T15:19:55.537Z"
   },
   {
    "duration": 10,
    "start_time": "2021-10-08T15:19:56.228Z"
   },
   {
    "duration": 50,
    "start_time": "2021-10-08T15:19:56.240Z"
   },
   {
    "duration": 14,
    "start_time": "2021-10-08T15:19:56.299Z"
   },
   {
    "duration": 14,
    "start_time": "2021-10-08T15:19:56.315Z"
   },
   {
    "duration": 11,
    "start_time": "2021-10-08T15:19:56.331Z"
   },
   {
    "duration": 16,
    "start_time": "2021-10-08T15:19:56.344Z"
   },
   {
    "duration": 37,
    "start_time": "2021-10-08T15:19:56.362Z"
   },
   {
    "duration": 24,
    "start_time": "2021-10-08T15:19:56.402Z"
   },
   {
    "duration": 6,
    "start_time": "2021-10-08T15:19:56.429Z"
   },
   {
    "duration": 19,
    "start_time": "2021-10-08T15:19:56.437Z"
   },
   {
    "duration": 7,
    "start_time": "2021-10-08T15:19:56.458Z"
   },
   {
    "duration": 22,
    "start_time": "2021-10-08T15:19:56.467Z"
   },
   {
    "duration": 17,
    "start_time": "2021-10-08T15:19:56.492Z"
   },
   {
    "duration": 3,
    "start_time": "2021-10-08T15:19:56.513Z"
   },
   {
    "duration": 17,
    "start_time": "2021-10-08T15:19:56.518Z"
   },
   {
    "duration": 13,
    "start_time": "2021-10-08T15:19:56.536Z"
   },
   {
    "duration": 42,
    "start_time": "2021-10-08T15:19:56.550Z"
   },
   {
    "duration": 12,
    "start_time": "2021-10-08T15:19:56.596Z"
   },
   {
    "duration": 21,
    "start_time": "2021-10-08T15:19:56.609Z"
   },
   {
    "duration": 8,
    "start_time": "2021-10-08T15:19:56.632Z"
   },
   {
    "duration": 8,
    "start_time": "2021-10-08T15:19:56.642Z"
   },
   {
    "duration": 21,
    "start_time": "2021-10-08T15:19:56.651Z"
   },
   {
    "duration": 29,
    "start_time": "2021-10-08T15:19:56.674Z"
   },
   {
    "duration": 15,
    "start_time": "2021-10-08T15:19:56.706Z"
   },
   {
    "duration": 17,
    "start_time": "2021-10-08T15:19:56.722Z"
   },
   {
    "duration": 11,
    "start_time": "2021-10-08T15:19:56.742Z"
   },
   {
    "duration": 17,
    "start_time": "2021-10-08T15:21:21.249Z"
   },
   {
    "duration": 21,
    "start_time": "2021-10-08T15:22:37.274Z"
   },
   {
    "duration": 34,
    "start_time": "2021-10-08T15:26:12.282Z"
   },
   {
    "duration": 12,
    "start_time": "2021-10-08T15:28:28.721Z"
   },
   {
    "duration": 15,
    "start_time": "2021-10-08T15:28:47.425Z"
   },
   {
    "duration": 23,
    "start_time": "2021-10-08T15:29:30.872Z"
   },
   {
    "duration": 18,
    "start_time": "2021-10-08T15:29:35.765Z"
   },
   {
    "duration": 3,
    "start_time": "2021-10-08T15:29:40.356Z"
   },
   {
    "duration": 12,
    "start_time": "2021-10-08T15:29:45.949Z"
   },
   {
    "duration": 963,
    "start_time": "2021-10-08T15:30:23.214Z"
   },
   {
    "duration": 21,
    "start_time": "2021-10-08T15:30:24.179Z"
   },
   {
    "duration": 33,
    "start_time": "2021-10-08T15:30:24.203Z"
   },
   {
    "duration": 8,
    "start_time": "2021-10-08T15:30:24.238Z"
   },
   {
    "duration": 37,
    "start_time": "2021-10-08T15:30:24.248Z"
   },
   {
    "duration": 10,
    "start_time": "2021-10-08T15:30:24.288Z"
   },
   {
    "duration": 17,
    "start_time": "2021-10-08T15:30:24.301Z"
   },
   {
    "duration": 16,
    "start_time": "2021-10-08T15:30:24.321Z"
   },
   {
    "duration": 5,
    "start_time": "2021-10-08T15:30:24.339Z"
   },
   {
    "duration": 45,
    "start_time": "2021-10-08T15:30:24.346Z"
   },
   {
    "duration": 12,
    "start_time": "2021-10-08T15:30:24.395Z"
   },
   {
    "duration": 16,
    "start_time": "2021-10-08T15:30:24.409Z"
   },
   {
    "duration": 3,
    "start_time": "2021-10-08T15:30:24.426Z"
   },
   {
    "duration": 15,
    "start_time": "2021-10-08T15:30:24.430Z"
   },
   {
    "duration": 14,
    "start_time": "2021-10-08T15:30:24.482Z"
   },
   {
    "duration": 25,
    "start_time": "2021-10-08T15:30:24.498Z"
   },
   {
    "duration": 6,
    "start_time": "2021-10-08T15:30:24.524Z"
   },
   {
    "duration": 8,
    "start_time": "2021-10-08T15:30:24.532Z"
   },
   {
    "duration": 11,
    "start_time": "2021-10-08T15:30:24.542Z"
   },
   {
    "duration": 42,
    "start_time": "2021-10-08T15:30:24.554Z"
   },
   {
    "duration": 17,
    "start_time": "2021-10-08T15:30:24.601Z"
   },
   {
    "duration": 13,
    "start_time": "2021-10-08T15:30:24.620Z"
   },
   {
    "duration": 7,
    "start_time": "2021-10-08T15:30:24.636Z"
   },
   {
    "duration": 7,
    "start_time": "2021-10-08T15:30:24.644Z"
   },
   {
    "duration": 44,
    "start_time": "2021-10-08T15:30:24.653Z"
   },
   {
    "duration": 10,
    "start_time": "2021-10-08T15:30:24.700Z"
   },
   {
    "duration": 17,
    "start_time": "2021-10-08T15:30:37.904Z"
   },
   {
    "duration": 18,
    "start_time": "2021-10-08T15:31:16.800Z"
   },
   {
    "duration": 12,
    "start_time": "2021-10-08T17:08:30.086Z"
   },
   {
    "duration": 14,
    "start_time": "2021-10-08T17:10:33.999Z"
   },
   {
    "duration": 403,
    "start_time": "2021-10-09T08:07:42.827Z"
   },
   {
    "duration": 15,
    "start_time": "2021-10-09T08:14:18.192Z"
   },
   {
    "duration": 15,
    "start_time": "2021-10-09T08:15:17.951Z"
   },
   {
    "duration": 699,
    "start_time": "2021-10-09T08:15:43.674Z"
   },
   {
    "duration": 11,
    "start_time": "2021-10-09T08:15:44.375Z"
   },
   {
    "duration": 31,
    "start_time": "2021-10-09T08:15:44.388Z"
   },
   {
    "duration": 8,
    "start_time": "2021-10-09T08:15:44.421Z"
   },
   {
    "duration": 9,
    "start_time": "2021-10-09T08:15:44.431Z"
   },
   {
    "duration": 36,
    "start_time": "2021-10-09T08:15:44.442Z"
   },
   {
    "duration": 11,
    "start_time": "2021-10-09T08:15:44.480Z"
   },
   {
    "duration": 16,
    "start_time": "2021-10-09T08:15:44.494Z"
   },
   {
    "duration": 6,
    "start_time": "2021-10-09T08:15:44.512Z"
   },
   {
    "duration": 19,
    "start_time": "2021-10-09T08:15:44.520Z"
   },
   {
    "duration": 37,
    "start_time": "2021-10-09T08:15:44.541Z"
   },
   {
    "duration": 13,
    "start_time": "2021-10-09T08:15:44.580Z"
   },
   {
    "duration": 2,
    "start_time": "2021-10-09T08:15:44.595Z"
   },
   {
    "duration": 14,
    "start_time": "2021-10-09T08:15:44.598Z"
   },
   {
    "duration": 10,
    "start_time": "2021-10-09T08:15:44.613Z"
   },
   {
    "duration": 16,
    "start_time": "2021-10-09T08:15:44.625Z"
   },
   {
    "duration": 38,
    "start_time": "2021-10-09T08:15:44.643Z"
   },
   {
    "duration": 7,
    "start_time": "2021-10-09T08:15:44.683Z"
   },
   {
    "duration": 8,
    "start_time": "2021-10-09T08:15:44.692Z"
   },
   {
    "duration": 7,
    "start_time": "2021-10-09T08:15:44.701Z"
   },
   {
    "duration": 16,
    "start_time": "2021-10-09T08:15:44.710Z"
   },
   {
    "duration": 10,
    "start_time": "2021-10-09T08:15:44.728Z"
   },
   {
    "duration": 40,
    "start_time": "2021-10-09T08:15:44.741Z"
   },
   {
    "duration": 8,
    "start_time": "2021-10-09T08:15:44.783Z"
   },
   {
    "duration": 8,
    "start_time": "2021-10-09T08:15:44.793Z"
   },
   {
    "duration": 6,
    "start_time": "2021-10-09T08:15:44.803Z"
   },
   {
    "duration": 18,
    "start_time": "2021-10-09T08:15:44.811Z"
   },
   {
    "duration": 21,
    "start_time": "2021-10-09T08:19:27.184Z"
   },
   {
    "duration": 624,
    "start_time": "2021-10-09T08:20:46.426Z"
   },
   {
    "duration": 11,
    "start_time": "2021-10-09T08:20:47.052Z"
   },
   {
    "duration": 33,
    "start_time": "2021-10-09T08:20:47.065Z"
   },
   {
    "duration": 9,
    "start_time": "2021-10-09T08:20:47.101Z"
   },
   {
    "duration": 15,
    "start_time": "2021-10-09T08:20:47.112Z"
   },
   {
    "duration": 9,
    "start_time": "2021-10-09T08:20:47.128Z"
   },
   {
    "duration": 40,
    "start_time": "2021-10-09T08:20:47.138Z"
   },
   {
    "duration": 16,
    "start_time": "2021-10-09T08:20:47.180Z"
   },
   {
    "duration": 5,
    "start_time": "2021-10-09T08:20:47.198Z"
   },
   {
    "duration": 24,
    "start_time": "2021-10-09T08:20:47.204Z"
   },
   {
    "duration": 7,
    "start_time": "2021-10-09T08:20:47.229Z"
   },
   {
    "duration": 19,
    "start_time": "2021-10-09T08:20:47.237Z"
   },
   {
    "duration": 19,
    "start_time": "2021-10-09T08:20:47.258Z"
   },
   {
    "duration": 16,
    "start_time": "2021-10-09T08:20:47.278Z"
   },
   {
    "duration": 14,
    "start_time": "2021-10-09T08:20:47.295Z"
   },
   {
    "duration": 22,
    "start_time": "2021-10-09T08:20:47.311Z"
   },
   {
    "duration": 10,
    "start_time": "2021-10-09T08:20:47.335Z"
   },
   {
    "duration": 9,
    "start_time": "2021-10-09T08:20:47.346Z"
   },
   {
    "duration": 7,
    "start_time": "2021-10-09T08:20:47.357Z"
   },
   {
    "duration": 7,
    "start_time": "2021-10-09T08:20:47.377Z"
   },
   {
    "duration": 15,
    "start_time": "2021-10-09T08:20:47.386Z"
   },
   {
    "duration": 10,
    "start_time": "2021-10-09T08:20:47.403Z"
   },
   {
    "duration": 7,
    "start_time": "2021-10-09T08:20:47.415Z"
   },
   {
    "duration": 15,
    "start_time": "2021-10-09T08:20:47.424Z"
   },
   {
    "duration": 12,
    "start_time": "2021-10-09T08:20:47.441Z"
   },
   {
    "duration": 7,
    "start_time": "2021-10-09T08:20:47.477Z"
   },
   {
    "duration": 375,
    "start_time": "2021-10-09T08:20:47.486Z"
   },
   {
    "duration": 24,
    "start_time": "2021-10-09T08:21:24.346Z"
   },
   {
    "duration": 2366,
    "start_time": "2021-10-09T08:22:14.299Z"
   },
   {
    "duration": 11,
    "start_time": "2021-10-09T08:22:16.667Z"
   },
   {
    "duration": 35,
    "start_time": "2021-10-09T08:22:16.680Z"
   },
   {
    "duration": 8,
    "start_time": "2021-10-09T08:22:16.717Z"
   },
   {
    "duration": 12,
    "start_time": "2021-10-09T08:22:16.727Z"
   },
   {
    "duration": 37,
    "start_time": "2021-10-09T08:22:16.741Z"
   },
   {
    "duration": 13,
    "start_time": "2021-10-09T08:22:16.780Z"
   },
   {
    "duration": 17,
    "start_time": "2021-10-09T08:22:16.796Z"
   },
   {
    "duration": 6,
    "start_time": "2021-10-09T08:22:16.816Z"
   },
   {
    "duration": 16,
    "start_time": "2021-10-09T08:22:16.824Z"
   },
   {
    "duration": 36,
    "start_time": "2021-10-09T08:22:16.842Z"
   },
   {
    "duration": 14,
    "start_time": "2021-10-09T08:22:16.880Z"
   },
   {
    "duration": 2,
    "start_time": "2021-10-09T08:22:16.896Z"
   },
   {
    "duration": 30,
    "start_time": "2021-10-09T08:22:16.899Z"
   },
   {
    "duration": 14,
    "start_time": "2021-10-09T08:22:16.931Z"
   },
   {
    "duration": 32,
    "start_time": "2021-10-09T08:22:16.947Z"
   },
   {
    "duration": 6,
    "start_time": "2021-10-09T08:22:16.981Z"
   },
   {
    "duration": 9,
    "start_time": "2021-10-09T08:22:16.989Z"
   },
   {
    "duration": 7,
    "start_time": "2021-10-09T08:22:17.000Z"
   },
   {
    "duration": 7,
    "start_time": "2021-10-09T08:22:17.009Z"
   },
   {
    "duration": 16,
    "start_time": "2021-10-09T08:22:17.018Z"
   },
   {
    "duration": 11,
    "start_time": "2021-10-09T08:22:17.035Z"
   },
   {
    "duration": 8,
    "start_time": "2021-10-09T08:22:17.077Z"
   },
   {
    "duration": 12,
    "start_time": "2021-10-09T08:22:17.087Z"
   },
   {
    "duration": 10,
    "start_time": "2021-10-09T08:22:17.100Z"
   },
   {
    "duration": 7,
    "start_time": "2021-10-09T08:22:17.112Z"
   },
   {
    "duration": 20,
    "start_time": "2021-10-09T08:22:17.121Z"
   },
   {
    "duration": 681,
    "start_time": "2021-10-09T08:23:00.233Z"
   },
   {
    "duration": 11,
    "start_time": "2021-10-09T08:23:00.916Z"
   },
   {
    "duration": 33,
    "start_time": "2021-10-09T08:23:00.929Z"
   },
   {
    "duration": 27,
    "start_time": "2021-10-09T08:23:00.964Z"
   },
   {
    "duration": 37,
    "start_time": "2021-10-09T08:23:00.993Z"
   },
   {
    "duration": 11,
    "start_time": "2021-10-09T08:23:01.032Z"
   },
   {
    "duration": 5925,
    "start_time": "2021-10-09T08:23:01.045Z"
   },
   {
    "duration": 17,
    "start_time": "2021-10-09T08:23:06.972Z"
   },
   {
    "duration": 7,
    "start_time": "2021-10-09T08:23:06.991Z"
   },
   {
    "duration": 30,
    "start_time": "2021-10-09T08:23:06.999Z"
   },
   {
    "duration": 7,
    "start_time": "2021-10-09T08:23:07.031Z"
   },
   {
    "duration": 39,
    "start_time": "2021-10-09T08:23:07.040Z"
   },
   {
    "duration": 3,
    "start_time": "2021-10-09T08:23:07.081Z"
   },
   {
    "duration": 35,
    "start_time": "2021-10-09T08:23:07.085Z"
   },
   {
    "duration": 25,
    "start_time": "2021-10-09T08:23:07.122Z"
   },
   {
    "duration": 27,
    "start_time": "2021-10-09T08:23:07.149Z"
   },
   {
    "duration": 10,
    "start_time": "2021-10-09T08:23:07.178Z"
   },
   {
    "duration": 17,
    "start_time": "2021-10-09T08:23:07.190Z"
   },
   {
    "duration": 8,
    "start_time": "2021-10-09T08:23:07.209Z"
   },
   {
    "duration": 23,
    "start_time": "2021-10-09T08:23:07.219Z"
   },
   {
    "duration": 28,
    "start_time": "2021-10-09T08:23:07.244Z"
   },
   {
    "duration": 21,
    "start_time": "2021-10-09T08:23:07.274Z"
   },
   {
    "duration": 11,
    "start_time": "2021-10-09T08:23:07.298Z"
   },
   {
    "duration": 12,
    "start_time": "2021-10-09T08:23:07.311Z"
   },
   {
    "duration": 10,
    "start_time": "2021-10-09T08:23:07.326Z"
   },
   {
    "duration": 19,
    "start_time": "2021-10-09T08:23:07.338Z"
   },
   {
    "duration": 389,
    "start_time": "2021-10-09T08:23:07.359Z"
   },
   {
    "duration": 5919,
    "start_time": "2021-10-09T08:23:38.819Z"
   },
   {
    "duration": 708,
    "start_time": "2021-10-09T08:24:07.560Z"
   },
   {
    "duration": 12,
    "start_time": "2021-10-09T08:24:08.270Z"
   },
   {
    "duration": 31,
    "start_time": "2021-10-09T08:24:08.284Z"
   },
   {
    "duration": 8,
    "start_time": "2021-10-09T08:24:08.316Z"
   },
   {
    "duration": 11,
    "start_time": "2021-10-09T08:24:08.326Z"
   },
   {
    "duration": 4,
    "start_time": "2021-10-09T08:24:08.339Z"
   },
   {
    "duration": 16,
    "start_time": "2021-10-09T08:24:08.377Z"
   },
   {
    "duration": 6043,
    "start_time": "2021-10-09T08:24:08.396Z"
   },
   {
    "duration": 6,
    "start_time": "2021-10-09T08:24:14.441Z"
   },
   {
    "duration": 29,
    "start_time": "2021-10-09T08:24:14.448Z"
   },
   {
    "duration": 6,
    "start_time": "2021-10-09T08:24:14.479Z"
   },
   {
    "duration": 14,
    "start_time": "2021-10-09T08:24:14.487Z"
   },
   {
    "duration": 2,
    "start_time": "2021-10-09T08:24:14.503Z"
   },
   {
    "duration": 22,
    "start_time": "2021-10-09T08:24:14.506Z"
   },
   {
    "duration": 7,
    "start_time": "2021-10-09T08:24:14.530Z"
   },
   {
    "duration": 44,
    "start_time": "2021-10-09T08:24:14.539Z"
   },
   {
    "duration": 6,
    "start_time": "2021-10-09T08:24:14.585Z"
   },
   {
    "duration": 7,
    "start_time": "2021-10-09T08:24:14.593Z"
   },
   {
    "duration": 6,
    "start_time": "2021-10-09T08:24:14.602Z"
   },
   {
    "duration": 10,
    "start_time": "2021-10-09T08:24:14.610Z"
   },
   {
    "duration": 14,
    "start_time": "2021-10-09T08:24:14.621Z"
   },
   {
    "duration": 48,
    "start_time": "2021-10-09T08:24:14.637Z"
   },
   {
    "duration": 15,
    "start_time": "2021-10-09T08:24:14.688Z"
   },
   {
    "duration": 12,
    "start_time": "2021-10-09T08:24:14.705Z"
   },
   {
    "duration": 8,
    "start_time": "2021-10-09T08:24:14.719Z"
   },
   {
    "duration": 14,
    "start_time": "2021-10-09T08:24:14.728Z"
   },
   {
    "duration": 370,
    "start_time": "2021-10-09T08:24:14.743Z"
   },
   {
    "duration": 738,
    "start_time": "2021-10-09T08:25:07.459Z"
   },
   {
    "duration": 13,
    "start_time": "2021-10-09T08:25:08.200Z"
   },
   {
    "duration": 36,
    "start_time": "2021-10-09T08:25:08.216Z"
   },
   {
    "duration": 25,
    "start_time": "2021-10-09T08:25:08.254Z"
   },
   {
    "duration": 10,
    "start_time": "2021-10-09T08:25:08.280Z"
   },
   {
    "duration": 5,
    "start_time": "2021-10-09T08:25:08.292Z"
   },
   {
    "duration": 11,
    "start_time": "2021-10-09T08:25:08.299Z"
   },
   {
    "duration": 15,
    "start_time": "2021-10-09T08:25:08.312Z"
   },
   {
    "duration": 6,
    "start_time": "2021-10-09T08:25:08.329Z"
   },
   {
    "duration": 48,
    "start_time": "2021-10-09T08:25:08.336Z"
   },
   {
    "duration": 8,
    "start_time": "2021-10-09T08:25:08.386Z"
   },
   {
    "duration": 17,
    "start_time": "2021-10-09T08:25:08.396Z"
   },
   {
    "duration": 2,
    "start_time": "2021-10-09T08:25:08.415Z"
   },
   {
    "duration": 13,
    "start_time": "2021-10-09T08:25:08.419Z"
   },
   {
    "duration": 44,
    "start_time": "2021-10-09T08:25:08.434Z"
   },
   {
    "duration": 20,
    "start_time": "2021-10-09T08:25:08.480Z"
   },
   {
    "duration": 10,
    "start_time": "2021-10-09T08:25:08.502Z"
   },
   {
    "duration": 10,
    "start_time": "2021-10-09T08:25:08.514Z"
   },
   {
    "duration": 8,
    "start_time": "2021-10-09T08:25:08.526Z"
   },
   {
    "duration": 9,
    "start_time": "2021-10-09T08:25:08.536Z"
   },
   {
    "duration": 42,
    "start_time": "2021-10-09T08:25:08.547Z"
   },
   {
    "duration": 12,
    "start_time": "2021-10-09T08:25:08.591Z"
   },
   {
    "duration": 7,
    "start_time": "2021-10-09T08:25:08.606Z"
   },
   {
    "duration": 10,
    "start_time": "2021-10-09T08:25:08.616Z"
   },
   {
    "duration": 16,
    "start_time": "2021-10-09T08:25:08.628Z"
   },
   {
    "duration": 38,
    "start_time": "2021-10-09T08:25:08.647Z"
   },
   {
    "duration": 21,
    "start_time": "2021-10-09T08:25:08.687Z"
   },
   {
    "duration": 16,
    "start_time": "2021-10-09T08:27:31.499Z"
   },
   {
    "duration": 8,
    "start_time": "2021-10-09T08:27:58.060Z"
   },
   {
    "duration": 16,
    "start_time": "2021-10-09T08:28:20.163Z"
   },
   {
    "duration": 15,
    "start_time": "2021-10-09T08:30:10.069Z"
   },
   {
    "duration": 17,
    "start_time": "2021-10-09T08:30:54.526Z"
   },
   {
    "duration": 15,
    "start_time": "2021-10-09T08:31:01.798Z"
   },
   {
    "duration": 32,
    "start_time": "2021-10-09T08:35:06.189Z"
   },
   {
    "duration": 367,
    "start_time": "2021-10-09T08:35:54.015Z"
   },
   {
    "duration": 11,
    "start_time": "2021-10-09T08:35:58.735Z"
   },
   {
    "duration": 350,
    "start_time": "2021-10-09T08:37:11.095Z"
   },
   {
    "duration": 322,
    "start_time": "2021-10-09T08:37:42.808Z"
   },
   {
    "duration": 96,
    "start_time": "2021-10-09T08:45:33.629Z"
   },
   {
    "duration": 113,
    "start_time": "2021-10-09T08:46:00.483Z"
   },
   {
    "duration": 446,
    "start_time": "2021-10-09T10:23:36.773Z"
   },
   {
    "duration": 293,
    "start_time": "2021-10-09T10:24:28.003Z"
   },
   {
    "duration": 1287,
    "start_time": "2021-10-09T10:25:43.919Z"
   },
   {
    "duration": 289,
    "start_time": "2021-10-09T10:25:46.810Z"
   },
   {
    "duration": 640,
    "start_time": "2021-10-09T10:27:32.427Z"
   },
   {
    "duration": 11,
    "start_time": "2021-10-09T10:27:33.069Z"
   },
   {
    "duration": 31,
    "start_time": "2021-10-09T10:27:33.083Z"
   },
   {
    "duration": 8,
    "start_time": "2021-10-09T10:27:33.116Z"
   },
   {
    "duration": 16,
    "start_time": "2021-10-09T10:27:33.125Z"
   },
   {
    "duration": 5,
    "start_time": "2021-10-09T10:27:33.143Z"
   },
   {
    "duration": 31,
    "start_time": "2021-10-09T10:27:33.149Z"
   },
   {
    "duration": 16,
    "start_time": "2021-10-09T10:27:33.183Z"
   },
   {
    "duration": 5,
    "start_time": "2021-10-09T10:27:33.201Z"
   },
   {
    "duration": 14,
    "start_time": "2021-10-09T10:27:33.208Z"
   },
   {
    "duration": 7,
    "start_time": "2021-10-09T10:27:33.223Z"
   },
   {
    "duration": 50,
    "start_time": "2021-10-09T10:27:33.231Z"
   },
   {
    "duration": 2,
    "start_time": "2021-10-09T10:27:33.283Z"
   },
   {
    "duration": 12,
    "start_time": "2021-10-09T10:27:33.286Z"
   },
   {
    "duration": 7,
    "start_time": "2021-10-09T10:27:33.300Z"
   },
   {
    "duration": 15,
    "start_time": "2021-10-09T10:27:33.308Z"
   },
   {
    "duration": 6,
    "start_time": "2021-10-09T10:27:33.325Z"
   },
   {
    "duration": 9,
    "start_time": "2021-10-09T10:27:33.333Z"
   },
   {
    "duration": 7,
    "start_time": "2021-10-09T10:27:33.376Z"
   },
   {
    "duration": 8,
    "start_time": "2021-10-09T10:27:33.384Z"
   },
   {
    "duration": 14,
    "start_time": "2021-10-09T10:27:33.394Z"
   },
   {
    "duration": 11,
    "start_time": "2021-10-09T10:27:33.409Z"
   },
   {
    "duration": 7,
    "start_time": "2021-10-09T10:27:33.423Z"
   },
   {
    "duration": 7,
    "start_time": "2021-10-09T10:27:33.432Z"
   },
   {
    "duration": 42,
    "start_time": "2021-10-09T10:27:33.441Z"
   },
   {
    "duration": 10,
    "start_time": "2021-10-09T10:27:33.484Z"
   },
   {
    "duration": 18,
    "start_time": "2021-10-09T10:27:33.496Z"
   },
   {
    "duration": 38,
    "start_time": "2021-10-09T10:27:33.515Z"
   },
   {
    "duration": 15,
    "start_time": "2021-10-09T10:27:33.577Z"
   },
   {
    "duration": 357,
    "start_time": "2021-10-09T10:27:33.594Z"
   },
   {
    "duration": 336,
    "start_time": "2021-10-09T11:12:13.705Z"
   },
   {
    "duration": 34,
    "start_time": "2021-10-09T11:12:18.948Z"
   },
   {
    "duration": 470,
    "start_time": "2021-10-09T11:14:28.918Z"
   },
   {
    "duration": 15,
    "start_time": "2021-10-09T11:14:34.397Z"
   },
   {
    "duration": 16,
    "start_time": "2021-10-09T11:16:28.003Z"
   },
   {
    "duration": 19,
    "start_time": "2021-10-09T11:16:46.404Z"
   },
   {
    "duration": 18,
    "start_time": "2021-10-09T11:33:41.407Z"
   },
   {
    "duration": 7,
    "start_time": "2021-10-09T11:34:34.984Z"
   },
   {
    "duration": 9,
    "start_time": "2021-10-09T11:34:48.072Z"
   },
   {
    "duration": 17,
    "start_time": "2021-10-09T11:35:29.557Z"
   },
   {
    "duration": 17,
    "start_time": "2021-10-09T11:35:49.404Z"
   },
   {
    "duration": 287,
    "start_time": "2021-10-09T11:36:28.393Z"
   },
   {
    "duration": 695,
    "start_time": "2021-10-09T11:36:35.114Z"
   },
   {
    "duration": 297,
    "start_time": "2021-10-09T11:36:44.383Z"
   },
   {
    "duration": 3,
    "start_time": "2021-10-09T11:38:15.567Z"
   },
   {
    "duration": 4,
    "start_time": "2021-10-09T11:38:19.156Z"
   },
   {
    "duration": 3,
    "start_time": "2021-10-09T11:38:27.277Z"
   },
   {
    "duration": 729,
    "start_time": "2021-10-09T11:38:34.096Z"
   },
   {
    "duration": 11,
    "start_time": "2021-10-09T11:38:34.828Z"
   },
   {
    "duration": 36,
    "start_time": "2021-10-09T11:38:34.841Z"
   },
   {
    "duration": 8,
    "start_time": "2021-10-09T11:38:34.879Z"
   },
   {
    "duration": 21,
    "start_time": "2021-10-09T11:38:34.889Z"
   },
   {
    "duration": 10,
    "start_time": "2021-10-09T11:38:34.912Z"
   },
   {
    "duration": 12,
    "start_time": "2021-10-09T11:38:34.924Z"
   },
   {
    "duration": 23,
    "start_time": "2021-10-09T11:38:34.938Z"
   },
   {
    "duration": 15,
    "start_time": "2021-10-09T11:38:34.965Z"
   },
   {
    "duration": 19,
    "start_time": "2021-10-09T11:38:34.982Z"
   },
   {
    "duration": 7,
    "start_time": "2021-10-09T11:38:35.003Z"
   },
   {
    "duration": 20,
    "start_time": "2021-10-09T11:38:35.011Z"
   },
   {
    "duration": 3,
    "start_time": "2021-10-09T11:38:35.032Z"
   },
   {
    "duration": 24,
    "start_time": "2021-10-09T11:38:35.036Z"
   },
   {
    "duration": 20,
    "start_time": "2021-10-09T11:38:35.061Z"
   },
   {
    "duration": 31,
    "start_time": "2021-10-09T11:38:35.083Z"
   },
   {
    "duration": 18,
    "start_time": "2021-10-09T11:38:35.115Z"
   },
   {
    "duration": 17,
    "start_time": "2021-10-09T11:38:35.134Z"
   },
   {
    "duration": 15,
    "start_time": "2021-10-09T11:38:35.153Z"
   },
   {
    "duration": 16,
    "start_time": "2021-10-09T11:38:35.170Z"
   },
   {
    "duration": 21,
    "start_time": "2021-10-09T11:38:35.188Z"
   },
   {
    "duration": 14,
    "start_time": "2021-10-09T11:38:35.211Z"
   },
   {
    "duration": 10,
    "start_time": "2021-10-09T11:38:35.227Z"
   },
   {
    "duration": 15,
    "start_time": "2021-10-09T11:38:35.239Z"
   },
   {
    "duration": 16,
    "start_time": "2021-10-09T11:38:35.256Z"
   },
   {
    "duration": 17,
    "start_time": "2021-10-09T11:38:35.273Z"
   },
   {
    "duration": 27,
    "start_time": "2021-10-09T11:38:35.293Z"
   },
   {
    "duration": 628,
    "start_time": "2021-10-09T11:38:35.322Z"
   },
   {
    "duration": 434,
    "start_time": "2021-10-09T11:38:35.952Z"
   },
   {
    "duration": -77,
    "start_time": "2021-10-09T11:38:36.465Z"
   },
   {
    "duration": -79,
    "start_time": "2021-10-09T11:38:36.468Z"
   },
   {
    "duration": -81,
    "start_time": "2021-10-09T11:38:36.471Z"
   },
   {
    "duration": 2,
    "start_time": "2021-10-09T11:39:06.096Z"
   },
   {
    "duration": 16,
    "start_time": "2021-10-09T11:39:08.256Z"
   },
   {
    "duration": 3,
    "start_time": "2021-10-09T11:39:10.760Z"
   },
   {
    "duration": 4,
    "start_time": "2021-10-09T11:39:34.053Z"
   },
   {
    "duration": 4,
    "start_time": "2021-10-09T11:39:35.156Z"
   },
   {
    "duration": 4,
    "start_time": "2021-10-09T11:39:36.914Z"
   },
   {
    "duration": 6,
    "start_time": "2021-10-09T11:39:40.138Z"
   },
   {
    "duration": 299,
    "start_time": "2021-10-09T11:39:46.345Z"
   },
   {
    "duration": 14,
    "start_time": "2021-10-09T11:39:50.138Z"
   },
   {
    "duration": 3,
    "start_time": "2021-10-09T11:40:15.936Z"
   },
   {
    "duration": 3,
    "start_time": "2021-10-09T11:40:18.418Z"
   },
   {
    "duration": 14,
    "start_time": "2021-10-09T11:40:27.754Z"
   },
   {
    "duration": 295,
    "start_time": "2021-10-09T11:59:36.460Z"
   },
   {
    "duration": 291,
    "start_time": "2021-10-09T11:59:58.093Z"
   },
   {
    "duration": 1355,
    "start_time": "2021-10-09T12:01:08.034Z"
   },
   {
    "duration": 64,
    "start_time": "2021-10-09T12:01:11.262Z"
   },
   {
    "duration": 67,
    "start_time": "2021-10-09T12:01:59.328Z"
   },
   {
    "duration": 62,
    "start_time": "2021-10-09T12:02:16.050Z"
   },
   {
    "duration": 3295,
    "start_time": "2021-10-09T12:04:14.610Z"
   },
   {
    "duration": 625,
    "start_time": "2021-10-09T12:05:17.718Z"
   },
   {
    "duration": 637,
    "start_time": "2021-10-09T12:05:21.163Z"
   },
   {
    "duration": 630,
    "start_time": "2021-10-09T12:05:25.638Z"
   },
   {
    "duration": 767,
    "start_time": "2021-10-09T12:05:27.923Z"
   },
   {
    "duration": 644,
    "start_time": "2021-10-09T12:06:13.806Z"
   },
   {
    "duration": 1033,
    "start_time": "2021-10-09T12:07:00.908Z"
   },
   {
    "duration": 335,
    "start_time": "2021-10-09T12:20:43.534Z"
   },
   {
    "duration": 384,
    "start_time": "2021-10-09T12:21:21.310Z"
   },
   {
    "duration": 4,
    "start_time": "2021-10-09T12:21:53.353Z"
   },
   {
    "duration": 4,
    "start_time": "2021-10-09T12:21:55.839Z"
   },
   {
    "duration": 379,
    "start_time": "2021-10-09T12:22:15.189Z"
   },
   {
    "duration": 6,
    "start_time": "2021-10-09T12:22:19.667Z"
   },
   {
    "duration": 8,
    "start_time": "2021-10-09T12:22:33.624Z"
   },
   {
    "duration": 3,
    "start_time": "2021-10-09T12:29:05.501Z"
   },
   {
    "duration": 3,
    "start_time": "2021-10-09T12:29:07.653Z"
   },
   {
    "duration": 5,
    "start_time": "2021-10-09T12:29:27.438Z"
   },
   {
    "duration": 6,
    "start_time": "2021-10-09T12:29:29.244Z"
   },
   {
    "duration": 3,
    "start_time": "2021-10-09T12:30:27.481Z"
   },
   {
    "duration": 304,
    "start_time": "2021-10-09T12:31:06.384Z"
   },
   {
    "duration": 3,
    "start_time": "2021-10-09T12:31:11.163Z"
   },
   {
    "duration": 3,
    "start_time": "2021-10-09T12:31:13.248Z"
   },
   {
    "duration": 641,
    "start_time": "2021-10-09T12:31:22.116Z"
   },
   {
    "duration": 11,
    "start_time": "2021-10-09T12:31:22.759Z"
   },
   {
    "duration": 42,
    "start_time": "2021-10-09T12:31:22.771Z"
   },
   {
    "duration": 7,
    "start_time": "2021-10-09T12:31:22.815Z"
   },
   {
    "duration": 9,
    "start_time": "2021-10-09T12:31:22.824Z"
   },
   {
    "duration": 4,
    "start_time": "2021-10-09T12:31:22.835Z"
   },
   {
    "duration": 12,
    "start_time": "2021-10-09T12:31:22.841Z"
   },
   {
    "duration": 32,
    "start_time": "2021-10-09T12:31:22.855Z"
   },
   {
    "duration": 6,
    "start_time": "2021-10-09T12:31:22.890Z"
   },
   {
    "duration": 18,
    "start_time": "2021-10-09T12:31:22.898Z"
   },
   {
    "duration": 7,
    "start_time": "2021-10-09T12:31:22.918Z"
   },
   {
    "duration": 14,
    "start_time": "2021-10-09T12:31:22.927Z"
   },
   {
    "duration": 3,
    "start_time": "2021-10-09T12:31:22.943Z"
   },
   {
    "duration": 37,
    "start_time": "2021-10-09T12:31:22.948Z"
   },
   {
    "duration": 8,
    "start_time": "2021-10-09T12:31:22.987Z"
   },
   {
    "duration": 19,
    "start_time": "2021-10-09T12:31:22.996Z"
   },
   {
    "duration": 9,
    "start_time": "2021-10-09T12:31:23.016Z"
   },
   {
    "duration": 11,
    "start_time": "2021-10-09T12:31:23.026Z"
   },
   {
    "duration": 39,
    "start_time": "2021-10-09T12:31:23.038Z"
   },
   {
    "duration": 7,
    "start_time": "2021-10-09T12:31:23.079Z"
   },
   {
    "duration": 16,
    "start_time": "2021-10-09T12:31:23.088Z"
   },
   {
    "duration": 11,
    "start_time": "2021-10-09T12:31:23.105Z"
   },
   {
    "duration": 7,
    "start_time": "2021-10-09T12:31:23.118Z"
   },
   {
    "duration": 19,
    "start_time": "2021-10-09T12:31:23.127Z"
   },
   {
    "duration": 34,
    "start_time": "2021-10-09T12:31:23.148Z"
   },
   {
    "duration": 7,
    "start_time": "2021-10-09T12:31:23.184Z"
   },
   {
    "duration": 17,
    "start_time": "2021-10-09T12:31:23.194Z"
   },
   {
    "duration": 639,
    "start_time": "2021-10-09T12:31:23.213Z"
   },
   {
    "duration": 2,
    "start_time": "2021-10-09T12:31:23.853Z"
   },
   {
    "duration": 22,
    "start_time": "2021-10-09T12:31:23.857Z"
   },
   {
    "duration": 2,
    "start_time": "2021-10-09T12:31:23.881Z"
   },
   {
    "duration": 39,
    "start_time": "2021-10-09T12:31:23.885Z"
   },
   {
    "duration": 6,
    "start_time": "2021-10-09T12:31:42.193Z"
   },
   {
    "duration": 6,
    "start_time": "2021-10-09T12:31:44.487Z"
   },
   {
    "duration": 6,
    "start_time": "2021-10-09T12:31:48.076Z"
   },
   {
    "duration": 15,
    "start_time": "2021-10-09T12:32:21.675Z"
   },
   {
    "duration": 376,
    "start_time": "2021-10-09T12:58:41.624Z"
   },
   {
    "duration": 302,
    "start_time": "2021-10-09T12:59:11.588Z"
   },
   {
    "duration": 306,
    "start_time": "2021-10-09T12:59:16.723Z"
   },
   {
    "duration": 3,
    "start_time": "2021-10-09T12:59:33.276Z"
   },
   {
    "duration": 1228,
    "start_time": "2021-10-09T12:59:35.384Z"
   },
   {
    "duration": 3458,
    "start_time": "2021-10-09T13:00:41.263Z"
   },
   {
    "duration": 3372,
    "start_time": "2021-10-09T13:00:57.378Z"
   },
   {
    "duration": 3363,
    "start_time": "2021-10-09T13:01:08.181Z"
   },
   {
    "duration": 3429,
    "start_time": "2021-10-09T13:01:12.015Z"
   },
   {
    "duration": 4608,
    "start_time": "2021-10-09T13:01:47.931Z"
   },
   {
    "duration": 295,
    "start_time": "2021-10-09T13:02:50.538Z"
   },
   {
    "duration": 303,
    "start_time": "2021-10-09T13:03:16.060Z"
   },
   {
    "duration": 317,
    "start_time": "2021-10-09T13:03:27.769Z"
   },
   {
    "duration": 4987,
    "start_time": "2021-10-09T13:03:41.685Z"
   },
   {
    "duration": 3641,
    "start_time": "2021-10-09T13:04:11.182Z"
   },
   {
    "duration": 4515,
    "start_time": "2021-10-09T13:04:58.583Z"
   },
   {
    "duration": 4,
    "start_time": "2021-10-09T13:07:43.975Z"
   },
   {
    "duration": 125,
    "start_time": "2021-10-09T13:11:59.719Z"
   },
   {
    "duration": 318,
    "start_time": "2021-10-09T13:12:13.248Z"
   },
   {
    "duration": 22017,
    "start_time": "2021-10-09T13:50:15.775Z"
   },
   {
    "duration": 671,
    "start_time": "2021-10-09T13:51:46.991Z"
   },
   {
    "duration": 12,
    "start_time": "2021-10-09T13:51:47.664Z"
   },
   {
    "duration": 32,
    "start_time": "2021-10-09T13:51:47.679Z"
   },
   {
    "duration": 9,
    "start_time": "2021-10-09T13:51:47.713Z"
   },
   {
    "duration": 11,
    "start_time": "2021-10-09T13:51:47.724Z"
   },
   {
    "duration": 6,
    "start_time": "2021-10-09T13:51:47.737Z"
   },
   {
    "duration": 43,
    "start_time": "2021-10-09T13:51:47.745Z"
   },
   {
    "duration": 17,
    "start_time": "2021-10-09T13:51:47.792Z"
   },
   {
    "duration": 7,
    "start_time": "2021-10-09T13:51:47.811Z"
   },
   {
    "duration": 15,
    "start_time": "2021-10-09T13:51:47.820Z"
   },
   {
    "duration": 46,
    "start_time": "2021-10-09T13:51:47.837Z"
   },
   {
    "duration": 14,
    "start_time": "2021-10-09T13:51:47.885Z"
   },
   {
    "duration": 3,
    "start_time": "2021-10-09T13:51:47.901Z"
   },
   {
    "duration": 15,
    "start_time": "2021-10-09T13:51:47.906Z"
   },
   {
    "duration": 8,
    "start_time": "2021-10-09T13:51:47.922Z"
   },
   {
    "duration": 49,
    "start_time": "2021-10-09T13:51:47.932Z"
   },
   {
    "duration": 6,
    "start_time": "2021-10-09T13:51:47.982Z"
   },
   {
    "duration": 7,
    "start_time": "2021-10-09T13:51:47.990Z"
   },
   {
    "duration": 7,
    "start_time": "2021-10-09T13:51:47.998Z"
   },
   {
    "duration": 7,
    "start_time": "2021-10-09T13:51:48.007Z"
   },
   {
    "duration": 15,
    "start_time": "2021-10-09T13:51:48.016Z"
   },
   {
    "duration": 47,
    "start_time": "2021-10-09T13:51:48.033Z"
   },
   {
    "duration": 7,
    "start_time": "2021-10-09T13:51:48.084Z"
   },
   {
    "duration": 5,
    "start_time": "2021-10-09T13:51:48.093Z"
   },
   {
    "duration": 12,
    "start_time": "2021-10-09T13:51:48.100Z"
   },
   {
    "duration": 19,
    "start_time": "2021-10-09T13:51:48.114Z"
   },
   {
    "duration": 43,
    "start_time": "2021-10-09T13:51:48.134Z"
   },
   {
    "duration": 16,
    "start_time": "2021-10-09T13:52:10.840Z"
   },
   {
    "duration": 52,
    "start_time": "2021-10-09T13:52:10.858Z"
   },
   {
    "duration": 639,
    "start_time": "2021-10-09T13:52:57.031Z"
   },
   {
    "duration": 11,
    "start_time": "2021-10-09T13:52:57.672Z"
   },
   {
    "duration": 30,
    "start_time": "2021-10-09T13:52:57.685Z"
   },
   {
    "duration": 8,
    "start_time": "2021-10-09T13:52:57.717Z"
   },
   {
    "duration": 10,
    "start_time": "2021-10-09T13:52:57.727Z"
   },
   {
    "duration": 7,
    "start_time": "2021-10-09T13:52:57.739Z"
   },
   {
    "duration": 39,
    "start_time": "2021-10-09T13:52:57.747Z"
   },
   {
    "duration": 16,
    "start_time": "2021-10-09T13:52:57.788Z"
   },
   {
    "duration": 5,
    "start_time": "2021-10-09T13:52:57.806Z"
   },
   {
    "duration": 14,
    "start_time": "2021-10-09T13:52:57.813Z"
   },
   {
    "duration": 8,
    "start_time": "2021-10-09T13:52:57.828Z"
   },
   {
    "duration": 50,
    "start_time": "2021-10-09T13:52:57.837Z"
   },
   {
    "duration": 2,
    "start_time": "2021-10-09T13:52:57.889Z"
   },
   {
    "duration": 12,
    "start_time": "2021-10-09T13:52:57.893Z"
   },
   {
    "duration": 9,
    "start_time": "2021-10-09T13:52:57.906Z"
   },
   {
    "duration": 17,
    "start_time": "2021-10-09T13:52:57.916Z"
   },
   {
    "duration": 8,
    "start_time": "2021-10-09T13:52:57.935Z"
   },
   {
    "duration": 35,
    "start_time": "2021-10-09T13:52:57.945Z"
   },
   {
    "duration": 7,
    "start_time": "2021-10-09T13:52:57.982Z"
   },
   {
    "duration": 8,
    "start_time": "2021-10-09T13:52:57.991Z"
   },
   {
    "duration": 16,
    "start_time": "2021-10-09T13:52:58.001Z"
   },
   {
    "duration": 12,
    "start_time": "2021-10-09T13:52:58.019Z"
   },
   {
    "duration": 44,
    "start_time": "2021-10-09T13:52:58.035Z"
   },
   {
    "duration": 6,
    "start_time": "2021-10-09T13:52:58.081Z"
   },
   {
    "duration": 11,
    "start_time": "2021-10-09T13:52:58.088Z"
   },
   {
    "duration": 16,
    "start_time": "2021-10-09T13:52:58.101Z"
   },
   {
    "duration": 18,
    "start_time": "2021-10-09T13:52:58.119Z"
   },
   {
    "duration": 23224,
    "start_time": "2021-10-09T13:52:58.138Z"
   },
   {
    "duration": 37,
    "start_time": "2021-10-09T13:53:21.399Z"
   },
   {
    "duration": 32,
    "start_time": "2021-10-09T13:53:21.448Z"
   },
   {
    "duration": 35,
    "start_time": "2021-10-09T13:53:21.482Z"
   },
   {
    "duration": 8,
    "start_time": "2021-10-09T16:46:15.378Z"
   },
   {
    "duration": 397,
    "start_time": "2021-10-09T16:58:07.889Z"
   },
   {
    "duration": 306,
    "start_time": "2021-10-09T16:58:16.503Z"
   },
   {
    "duration": 287,
    "start_time": "2021-10-09T16:58:23.472Z"
   },
   {
    "duration": 335,
    "start_time": "2021-10-09T17:00:05.323Z"
   },
   {
    "duration": 298,
    "start_time": "2021-10-09T17:00:25.111Z"
   },
   {
    "duration": 297,
    "start_time": "2021-10-09T17:00:39.989Z"
   },
   {
    "duration": 291,
    "start_time": "2021-10-09T17:01:07.725Z"
   },
   {
    "duration": 295,
    "start_time": "2021-10-09T17:01:16.541Z"
   },
   {
    "duration": 326,
    "start_time": "2021-10-09T17:01:22.059Z"
   },
   {
    "duration": 319,
    "start_time": "2021-10-09T17:01:31.629Z"
   },
   {
    "duration": 300,
    "start_time": "2021-10-09T17:02:08.561Z"
   },
   {
    "duration": 5,
    "start_time": "2021-10-09T17:02:17.927Z"
   },
   {
    "duration": 299,
    "start_time": "2021-10-09T17:02:21.906Z"
   },
   {
    "duration": 299,
    "start_time": "2021-10-09T17:03:44.822Z"
   },
   {
    "duration": 709,
    "start_time": "2021-10-09T17:03:56.658Z"
   },
   {
    "duration": 18,
    "start_time": "2021-10-09T17:03:57.369Z"
   },
   {
    "duration": 34,
    "start_time": "2021-10-09T17:03:57.390Z"
   },
   {
    "duration": 10,
    "start_time": "2021-10-09T17:03:57.426Z"
   },
   {
    "duration": 10,
    "start_time": "2021-10-09T17:03:57.437Z"
   },
   {
    "duration": 6,
    "start_time": "2021-10-09T17:03:57.476Z"
   },
   {
    "duration": 14,
    "start_time": "2021-10-09T17:03:57.484Z"
   },
   {
    "duration": 20,
    "start_time": "2021-10-09T17:03:57.501Z"
   },
   {
    "duration": 7,
    "start_time": "2021-10-09T17:03:57.523Z"
   },
   {
    "duration": 46,
    "start_time": "2021-10-09T17:03:57.532Z"
   },
   {
    "duration": 8,
    "start_time": "2021-10-09T17:03:57.580Z"
   },
   {
    "duration": 13,
    "start_time": "2021-10-09T17:03:57.590Z"
   },
   {
    "duration": 2,
    "start_time": "2021-10-09T17:03:57.605Z"
   },
   {
    "duration": 12,
    "start_time": "2021-10-09T17:03:57.608Z"
   },
   {
    "duration": 6,
    "start_time": "2021-10-09T17:03:57.622Z"
   },
   {
    "duration": 48,
    "start_time": "2021-10-09T17:03:57.629Z"
   },
   {
    "duration": 6,
    "start_time": "2021-10-09T17:03:57.679Z"
   },
   {
    "duration": 13,
    "start_time": "2021-10-09T17:03:57.686Z"
   },
   {
    "duration": 9,
    "start_time": "2021-10-09T17:03:57.701Z"
   },
   {
    "duration": 9,
    "start_time": "2021-10-09T17:03:57.711Z"
   },
   {
    "duration": 16,
    "start_time": "2021-10-09T17:03:57.721Z"
   },
   {
    "duration": 11,
    "start_time": "2021-10-09T17:03:57.738Z"
   },
   {
    "duration": 7,
    "start_time": "2021-10-09T17:03:57.776Z"
   },
   {
    "duration": 8,
    "start_time": "2021-10-09T17:03:57.785Z"
   },
   {
    "duration": 10,
    "start_time": "2021-10-09T17:03:57.794Z"
   },
   {
    "duration": 17,
    "start_time": "2021-10-09T17:03:57.806Z"
   },
   {
    "duration": 16,
    "start_time": "2021-10-09T17:03:57.825Z"
   },
   {
    "duration": 23819,
    "start_time": "2021-10-09T17:03:57.843Z"
   },
   {
    "duration": 17,
    "start_time": "2021-10-09T17:04:21.664Z"
   },
   {
    "duration": 16,
    "start_time": "2021-10-09T17:04:21.682Z"
   },
   {
    "duration": 35,
    "start_time": "2021-10-09T17:04:21.700Z"
   },
   {
    "duration": 6,
    "start_time": "2021-10-09T17:04:21.737Z"
   },
   {
    "duration": 32,
    "start_time": "2021-10-09T17:04:21.745Z"
   },
   {
    "duration": 5,
    "start_time": "2021-10-09T17:04:21.778Z"
   },
   {
    "duration": -70,
    "start_time": "2021-10-09T17:04:22.286Z"
   },
   {
    "duration": 492,
    "start_time": "2021-10-09T17:04:27.207Z"
   },
   {
    "duration": 291,
    "start_time": "2021-10-09T17:04:39.069Z"
   },
   {
    "duration": 719,
    "start_time": "2021-10-09T17:05:59.799Z"
   },
   {
    "duration": 328,
    "start_time": "2021-10-09T17:06:06.934Z"
   },
   {
    "duration": 332,
    "start_time": "2021-10-09T17:07:08.661Z"
   },
   {
    "duration": 287,
    "start_time": "2021-10-09T17:08:41.550Z"
   },
   {
    "duration": 24,
    "start_time": "2021-10-09T17:09:40.718Z"
   },
   {
    "duration": 693,
    "start_time": "2021-10-09T17:10:31.687Z"
   },
   {
    "duration": 16,
    "start_time": "2021-10-09T17:10:32.382Z"
   },
   {
    "duration": 30,
    "start_time": "2021-10-09T17:10:32.401Z"
   },
   {
    "duration": 8,
    "start_time": "2021-10-09T17:10:32.433Z"
   },
   {
    "duration": 36,
    "start_time": "2021-10-09T17:10:32.443Z"
   },
   {
    "duration": 5,
    "start_time": "2021-10-09T17:10:32.481Z"
   },
   {
    "duration": 12,
    "start_time": "2021-10-09T17:10:32.487Z"
   },
   {
    "duration": 15,
    "start_time": "2021-10-09T17:10:32.502Z"
   },
   {
    "duration": 5,
    "start_time": "2021-10-09T17:10:32.519Z"
   },
   {
    "duration": 50,
    "start_time": "2021-10-09T17:10:32.526Z"
   },
   {
    "duration": 9,
    "start_time": "2021-10-09T17:10:32.578Z"
   },
   {
    "duration": 16,
    "start_time": "2021-10-09T17:10:32.589Z"
   },
   {
    "duration": 3,
    "start_time": "2021-10-09T17:10:32.606Z"
   },
   {
    "duration": 14,
    "start_time": "2021-10-09T17:10:32.611Z"
   },
   {
    "duration": 8,
    "start_time": "2021-10-09T17:10:32.627Z"
   },
   {
    "duration": 50,
    "start_time": "2021-10-09T17:10:32.637Z"
   },
   {
    "duration": 7,
    "start_time": "2021-10-09T17:10:32.689Z"
   },
   {
    "duration": 7,
    "start_time": "2021-10-09T17:10:32.698Z"
   },
   {
    "duration": 8,
    "start_time": "2021-10-09T17:10:32.706Z"
   },
   {
    "duration": 7,
    "start_time": "2021-10-09T17:10:32.715Z"
   },
   {
    "duration": 14,
    "start_time": "2021-10-09T17:10:32.724Z"
   },
   {
    "duration": 45,
    "start_time": "2021-10-09T17:10:32.739Z"
   },
   {
    "duration": 7,
    "start_time": "2021-10-09T17:10:32.787Z"
   },
   {
    "duration": 7,
    "start_time": "2021-10-09T17:10:32.795Z"
   },
   {
    "duration": 8,
    "start_time": "2021-10-09T17:10:32.803Z"
   },
   {
    "duration": 16,
    "start_time": "2021-10-09T17:10:32.813Z"
   },
   {
    "duration": 48,
    "start_time": "2021-10-09T17:10:32.830Z"
   },
   {
    "duration": 22161,
    "start_time": "2021-10-09T17:10:32.880Z"
   },
   {
    "duration": 35,
    "start_time": "2021-10-09T17:10:55.052Z"
   },
   {
    "duration": 33,
    "start_time": "2021-10-09T17:10:55.089Z"
   },
   {
    "duration": 7,
    "start_time": "2021-10-09T17:10:55.124Z"
   },
   {
    "duration": 9,
    "start_time": "2021-10-09T17:10:55.132Z"
   },
   {
    "duration": 45,
    "start_time": "2021-10-09T17:10:55.142Z"
   },
   {
    "duration": 20,
    "start_time": "2021-10-09T17:10:55.189Z"
   },
   {
    "duration": 13,
    "start_time": "2021-10-09T17:10:55.211Z"
   },
   {
    "duration": 11,
    "start_time": "2021-10-09T17:11:56.013Z"
   },
   {
    "duration": 15,
    "start_time": "2021-10-09T17:13:21.409Z"
   },
   {
    "duration": 552,
    "start_time": "2021-10-09T17:13:52.146Z"
   },
   {
    "duration": 391,
    "start_time": "2021-10-09T17:13:56.571Z"
   },
   {
    "duration": 723,
    "start_time": "2021-10-09T17:14:07.371Z"
   },
   {
    "duration": 11,
    "start_time": "2021-10-09T17:14:08.096Z"
   },
   {
    "duration": 34,
    "start_time": "2021-10-09T17:14:08.109Z"
   },
   {
    "duration": 8,
    "start_time": "2021-10-09T17:14:08.145Z"
   },
   {
    "duration": 27,
    "start_time": "2021-10-09T17:14:08.154Z"
   },
   {
    "duration": 23,
    "start_time": "2021-10-09T17:14:08.183Z"
   },
   {
    "duration": 16,
    "start_time": "2021-10-09T17:14:08.207Z"
   },
   {
    "duration": 16,
    "start_time": "2021-10-09T17:14:08.225Z"
   },
   {
    "duration": 6,
    "start_time": "2021-10-09T17:14:08.243Z"
   },
   {
    "duration": 30,
    "start_time": "2021-10-09T17:14:08.250Z"
   },
   {
    "duration": 6,
    "start_time": "2021-10-09T17:14:08.282Z"
   },
   {
    "duration": 12,
    "start_time": "2021-10-09T17:14:08.290Z"
   },
   {
    "duration": 9,
    "start_time": "2021-10-09T17:14:08.304Z"
   },
   {
    "duration": 21,
    "start_time": "2021-10-09T17:14:08.314Z"
   },
   {
    "duration": 7,
    "start_time": "2021-10-09T17:14:08.336Z"
   },
   {
    "duration": 34,
    "start_time": "2021-10-09T17:14:08.345Z"
   },
   {
    "duration": 5,
    "start_time": "2021-10-09T17:14:08.381Z"
   },
   {
    "duration": 9,
    "start_time": "2021-10-09T17:14:08.388Z"
   },
   {
    "duration": 12,
    "start_time": "2021-10-09T17:14:08.398Z"
   },
   {
    "duration": 9,
    "start_time": "2021-10-09T17:14:08.412Z"
   },
   {
    "duration": 18,
    "start_time": "2021-10-09T17:14:08.422Z"
   },
   {
    "duration": 35,
    "start_time": "2021-10-09T17:14:08.442Z"
   },
   {
    "duration": 7,
    "start_time": "2021-10-09T17:14:08.481Z"
   },
   {
    "duration": 9,
    "start_time": "2021-10-09T17:14:08.490Z"
   },
   {
    "duration": 11,
    "start_time": "2021-10-09T17:14:08.501Z"
   },
   {
    "duration": 17,
    "start_time": "2021-10-09T17:14:08.514Z"
   },
   {
    "duration": 50,
    "start_time": "2021-10-09T17:14:08.532Z"
   },
   {
    "duration": 22429,
    "start_time": "2021-10-09T17:14:08.584Z"
   },
   {
    "duration": 7,
    "start_time": "2021-10-09T17:14:31.015Z"
   },
   {
    "duration": 23,
    "start_time": "2021-10-09T17:14:31.024Z"
   },
   {
    "duration": 50,
    "start_time": "2021-10-09T17:14:31.049Z"
   },
   {
    "duration": 6,
    "start_time": "2021-10-09T17:14:31.101Z"
   },
   {
    "duration": 6,
    "start_time": "2021-10-09T17:14:31.109Z"
   },
   {
    "duration": 13,
    "start_time": "2021-10-09T17:14:31.117Z"
   },
   {
    "duration": -117,
    "start_time": "2021-10-09T17:14:31.695Z"
   },
   {
    "duration": 340,
    "start_time": "2021-10-09T17:14:39.313Z"
   },
   {
    "duration": 298,
    "start_time": "2021-10-09T17:14:45.234Z"
   },
   {
    "duration": 327,
    "start_time": "2021-10-09T17:14:47.954Z"
   },
   {
    "duration": 356,
    "start_time": "2021-10-09T17:14:52.835Z"
   },
   {
    "duration": 670,
    "start_time": "2021-10-09T17:15:02.176Z"
   },
   {
    "duration": 13,
    "start_time": "2021-10-09T17:15:02.849Z"
   },
   {
    "duration": 46,
    "start_time": "2021-10-09T17:15:02.864Z"
   },
   {
    "duration": 9,
    "start_time": "2021-10-09T17:15:02.913Z"
   },
   {
    "duration": 25,
    "start_time": "2021-10-09T17:15:02.924Z"
   },
   {
    "duration": 21,
    "start_time": "2021-10-09T17:15:02.951Z"
   },
   {
    "duration": 27,
    "start_time": "2021-10-09T17:15:02.974Z"
   },
   {
    "duration": 19,
    "start_time": "2021-10-09T17:15:03.004Z"
   },
   {
    "duration": 12,
    "start_time": "2021-10-09T17:15:03.025Z"
   },
   {
    "duration": 26,
    "start_time": "2021-10-09T17:15:03.039Z"
   },
   {
    "duration": 18,
    "start_time": "2021-10-09T17:15:03.067Z"
   },
   {
    "duration": 18,
    "start_time": "2021-10-09T17:15:03.087Z"
   },
   {
    "duration": 4,
    "start_time": "2021-10-09T17:15:03.107Z"
   },
   {
    "duration": 26,
    "start_time": "2021-10-09T17:15:03.112Z"
   },
   {
    "duration": 11,
    "start_time": "2021-10-09T17:15:03.140Z"
   },
   {
    "duration": 24,
    "start_time": "2021-10-09T17:15:03.153Z"
   },
   {
    "duration": 11,
    "start_time": "2021-10-09T17:15:03.179Z"
   },
   {
    "duration": 18,
    "start_time": "2021-10-09T17:15:03.191Z"
   },
   {
    "duration": 28,
    "start_time": "2021-10-09T17:15:03.211Z"
   },
   {
    "duration": 22,
    "start_time": "2021-10-09T17:15:03.241Z"
   },
   {
    "duration": 16,
    "start_time": "2021-10-09T17:15:03.265Z"
   },
   {
    "duration": 13,
    "start_time": "2021-10-09T17:15:03.283Z"
   },
   {
    "duration": 7,
    "start_time": "2021-10-09T17:15:03.299Z"
   },
   {
    "duration": 8,
    "start_time": "2021-10-09T17:15:03.307Z"
   },
   {
    "duration": 10,
    "start_time": "2021-10-09T17:15:03.317Z"
   },
   {
    "duration": 19,
    "start_time": "2021-10-09T17:15:03.329Z"
   },
   {
    "duration": 18,
    "start_time": "2021-10-09T17:15:03.377Z"
   },
   {
    "duration": 23174,
    "start_time": "2021-10-09T17:15:03.397Z"
   },
   {
    "duration": 7,
    "start_time": "2021-10-09T17:15:26.572Z"
   },
   {
    "duration": 22,
    "start_time": "2021-10-09T17:15:26.581Z"
   },
   {
    "duration": 34,
    "start_time": "2021-10-09T17:15:26.605Z"
   },
   {
    "duration": -204,
    "start_time": "2021-10-09T17:15:27.315Z"
   },
   {
    "duration": -206,
    "start_time": "2021-10-09T17:15:27.318Z"
   },
   {
    "duration": -209,
    "start_time": "2021-10-09T17:15:27.322Z"
   },
   {
    "duration": -213,
    "start_time": "2021-10-09T17:15:27.326Z"
   },
   {
    "duration": 291,
    "start_time": "2021-10-09T17:15:39.881Z"
   },
   {
    "duration": 296,
    "start_time": "2021-10-09T17:16:17.341Z"
   },
   {
    "duration": 636,
    "start_time": "2021-10-09T17:16:30.467Z"
   },
   {
    "duration": 304,
    "start_time": "2021-10-09T17:16:37.050Z"
   },
   {
    "duration": 11,
    "start_time": "2021-10-09T17:16:57.959Z"
   },
   {
    "duration": 554,
    "start_time": "2021-10-09T17:17:01.622Z"
   },
   {
    "duration": 299,
    "start_time": "2021-10-09T17:17:05.229Z"
   },
   {
    "duration": 302,
    "start_time": "2021-10-09T17:17:12.158Z"
   },
   {
    "duration": 339,
    "start_time": "2021-10-09T17:17:14.760Z"
   },
   {
    "duration": 11,
    "start_time": "2021-10-09T17:19:19.179Z"
   },
   {
    "duration": 658,
    "start_time": "2021-10-09T17:19:44.387Z"
   },
   {
    "duration": 11,
    "start_time": "2021-10-09T17:19:45.047Z"
   },
   {
    "duration": 36,
    "start_time": "2021-10-09T17:19:45.060Z"
   },
   {
    "duration": 7,
    "start_time": "2021-10-09T17:19:45.098Z"
   },
   {
    "duration": 10,
    "start_time": "2021-10-09T17:19:45.107Z"
   },
   {
    "duration": 5,
    "start_time": "2021-10-09T17:19:45.119Z"
   },
   {
    "duration": 12,
    "start_time": "2021-10-09T17:19:45.126Z"
   },
   {
    "duration": 39,
    "start_time": "2021-10-09T17:19:45.140Z"
   },
   {
    "duration": 5,
    "start_time": "2021-10-09T17:19:45.182Z"
   },
   {
    "duration": 18,
    "start_time": "2021-10-09T17:19:45.189Z"
   },
   {
    "duration": 6,
    "start_time": "2021-10-09T17:19:45.209Z"
   },
   {
    "duration": 12,
    "start_time": "2021-10-09T17:19:45.217Z"
   },
   {
    "duration": 2,
    "start_time": "2021-10-09T17:19:45.231Z"
   },
   {
    "duration": 49,
    "start_time": "2021-10-09T17:19:45.234Z"
   },
   {
    "duration": 8,
    "start_time": "2021-10-09T17:19:45.285Z"
   },
   {
    "duration": 21,
    "start_time": "2021-10-09T17:19:45.294Z"
   },
   {
    "duration": 12,
    "start_time": "2021-10-09T17:19:45.316Z"
   },
   {
    "duration": 7,
    "start_time": "2021-10-09T17:19:45.330Z"
   },
   {
    "duration": 6,
    "start_time": "2021-10-09T17:19:45.338Z"
   },
   {
    "duration": 8,
    "start_time": "2021-10-09T17:19:45.345Z"
   },
   {
    "duration": 13,
    "start_time": "2021-10-09T17:19:45.376Z"
   },
   {
    "duration": 9,
    "start_time": "2021-10-09T17:19:45.391Z"
   },
   {
    "duration": 8,
    "start_time": "2021-10-09T17:19:45.403Z"
   },
   {
    "duration": 10,
    "start_time": "2021-10-09T17:19:45.413Z"
   },
   {
    "duration": 15,
    "start_time": "2021-10-09T17:19:45.425Z"
   },
   {
    "duration": 34,
    "start_time": "2021-10-09T17:19:45.442Z"
   },
   {
    "duration": 12,
    "start_time": "2021-10-09T17:19:45.478Z"
   },
   {
    "duration": 21,
    "start_time": "2021-10-09T17:19:45.491Z"
   },
   {
    "duration": 22123,
    "start_time": "2021-10-09T17:19:45.513Z"
   },
   {
    "duration": 6,
    "start_time": "2021-10-09T17:20:07.638Z"
   },
   {
    "duration": 19,
    "start_time": "2021-10-09T17:20:07.645Z"
   },
   {
    "duration": 43,
    "start_time": "2021-10-09T17:20:07.666Z"
   },
   {
    "duration": 6,
    "start_time": "2021-10-09T17:20:07.711Z"
   },
   {
    "duration": 10,
    "start_time": "2021-10-09T17:20:07.719Z"
   },
   {
    "duration": 14,
    "start_time": "2021-10-09T17:20:07.776Z"
   },
   {
    "duration": 419,
    "start_time": "2021-10-09T17:20:07.791Z"
   },
   {
    "duration": 16,
    "start_time": "2021-10-09T17:20:43.752Z"
   },
   {
    "duration": 10,
    "start_time": "2021-10-09T17:20:59.725Z"
   },
   {
    "duration": 294,
    "start_time": "2021-10-09T17:21:06.507Z"
   },
   {
    "duration": 289,
    "start_time": "2021-10-09T17:21:43.104Z"
   },
   {
    "duration": 289,
    "start_time": "2021-10-09T17:21:47.347Z"
   },
   {
    "duration": 426,
    "start_time": "2021-10-09T17:21:53.957Z"
   },
   {
    "duration": 337,
    "start_time": "2021-10-09T17:21:57.660Z"
   },
   {
    "duration": 11,
    "start_time": "2021-10-09T17:22:31.641Z"
   },
   {
    "duration": 13,
    "start_time": "2021-10-09T17:22:38.310Z"
   },
   {
    "duration": 5,
    "start_time": "2021-10-09T17:22:43.239Z"
   },
   {
    "duration": 5,
    "start_time": "2021-10-09T17:22:45.694Z"
   },
   {
    "duration": 20,
    "start_time": "2021-10-09T17:22:50.079Z"
   },
   {
    "duration": 6,
    "start_time": "2021-10-09T17:23:20.554Z"
   },
   {
    "duration": 5,
    "start_time": "2021-10-09T17:23:23.937Z"
   },
   {
    "duration": 23,
    "start_time": "2021-10-09T17:23:29.300Z"
   },
   {
    "duration": 98,
    "start_time": "2021-10-09T17:29:31.071Z"
   },
   {
    "duration": -383,
    "start_time": "2021-10-09T17:29:53.712Z"
   },
   {
    "duration": 21,
    "start_time": "2021-10-09T17:30:12.253Z"
   },
   {
    "duration": 19,
    "start_time": "2021-10-09T17:30:25.054Z"
   },
   {
    "duration": 13,
    "start_time": "2021-10-09T17:33:53.007Z"
   },
   {
    "duration": 12,
    "start_time": "2021-10-09T17:34:08.229Z"
   },
   {
    "duration": 8,
    "start_time": "2021-10-09T17:42:50.036Z"
   },
   {
    "duration": 10,
    "start_time": "2021-10-09T17:43:29.065Z"
   },
   {
    "duration": 322,
    "start_time": "2021-10-09T17:44:14.790Z"
   },
   {
    "duration": 90,
    "start_time": "2021-10-09T17:49:14.742Z"
   },
   {
    "duration": 92,
    "start_time": "2021-10-09T17:49:57.124Z"
   },
   {
    "duration": 3,
    "start_time": "2021-10-09T17:50:09.094Z"
   },
   {
    "duration": 4,
    "start_time": "2021-10-09T17:50:11.584Z"
   },
   {
    "duration": 286,
    "start_time": "2021-10-09T17:53:15.641Z"
   },
   {
    "duration": 292,
    "start_time": "2021-10-09T17:54:27.752Z"
   },
   {
    "duration": 1350,
    "start_time": "2021-10-09T17:54:55.890Z"
   },
   {
    "duration": 3,
    "start_time": "2021-10-09T17:56:18.830Z"
   },
   {
    "duration": 305,
    "start_time": "2021-10-09T17:57:05.252Z"
   },
   {
    "duration": 1405,
    "start_time": "2021-10-09T18:03:13.618Z"
   },
   {
    "duration": 1470,
    "start_time": "2021-10-09T18:04:30.868Z"
   },
   {
    "duration": 290,
    "start_time": "2021-10-09T18:18:26.704Z"
   },
   {
    "duration": 648,
    "start_time": "2021-10-09T18:18:58.324Z"
   },
   {
    "duration": 14,
    "start_time": "2021-10-09T18:18:58.974Z"
   },
   {
    "duration": 31,
    "start_time": "2021-10-09T18:18:58.990Z"
   },
   {
    "duration": 9,
    "start_time": "2021-10-09T18:18:59.023Z"
   },
   {
    "duration": 13,
    "start_time": "2021-10-09T18:18:59.034Z"
   },
   {
    "duration": 5,
    "start_time": "2021-10-09T18:18:59.078Z"
   },
   {
    "duration": 11,
    "start_time": "2021-10-09T18:18:59.085Z"
   },
   {
    "duration": 17,
    "start_time": "2021-10-09T18:18:59.098Z"
   },
   {
    "duration": 6,
    "start_time": "2021-10-09T18:18:59.117Z"
   },
   {
    "duration": 14,
    "start_time": "2021-10-09T18:18:59.124Z"
   },
   {
    "duration": 9,
    "start_time": "2021-10-09T18:18:59.175Z"
   },
   {
    "duration": 12,
    "start_time": "2021-10-09T18:18:59.186Z"
   },
   {
    "duration": 2,
    "start_time": "2021-10-09T18:18:59.199Z"
   },
   {
    "duration": 18,
    "start_time": "2021-10-09T18:18:59.203Z"
   },
   {
    "duration": 7,
    "start_time": "2021-10-09T18:18:59.223Z"
   },
   {
    "duration": 45,
    "start_time": "2021-10-09T18:18:59.231Z"
   },
   {
    "duration": 7,
    "start_time": "2021-10-09T18:18:59.278Z"
   },
   {
    "duration": 11,
    "start_time": "2021-10-09T18:18:59.287Z"
   },
   {
    "duration": 10,
    "start_time": "2021-10-09T18:18:59.300Z"
   },
   {
    "duration": 14,
    "start_time": "2021-10-09T18:18:59.312Z"
   },
   {
    "duration": 18,
    "start_time": "2021-10-09T18:18:59.328Z"
   },
   {
    "duration": 27,
    "start_time": "2021-10-09T18:18:59.349Z"
   },
   {
    "duration": 7,
    "start_time": "2021-10-09T18:18:59.379Z"
   },
   {
    "duration": 13,
    "start_time": "2021-10-09T18:18:59.388Z"
   },
   {
    "duration": 10,
    "start_time": "2021-10-09T18:18:59.403Z"
   },
   {
    "duration": 22,
    "start_time": "2021-10-09T18:18:59.415Z"
   },
   {
    "duration": 11,
    "start_time": "2021-10-09T18:18:59.439Z"
   },
   {
    "duration": 33,
    "start_time": "2021-10-09T18:18:59.452Z"
   },
   {
    "duration": 23051,
    "start_time": "2021-10-09T18:18:59.486Z"
   },
   {
    "duration": 8,
    "start_time": "2021-10-09T18:19:22.538Z"
   },
   {
    "duration": 30,
    "start_time": "2021-10-09T18:19:22.547Z"
   },
   {
    "duration": 38,
    "start_time": "2021-10-09T18:19:22.579Z"
   },
   {
    "duration": 3,
    "start_time": "2021-10-09T18:19:22.618Z"
   },
   {
    "duration": 20,
    "start_time": "2021-10-09T18:19:22.622Z"
   },
   {
    "duration": 18,
    "start_time": "2021-10-09T18:19:22.643Z"
   },
   {
    "duration": 37,
    "start_time": "2021-10-09T18:19:22.662Z"
   },
   {
    "duration": 1688,
    "start_time": "2021-10-09T18:19:22.708Z"
   },
   {
    "duration": -165,
    "start_time": "2021-10-09T18:19:24.563Z"
   },
   {
    "duration": -175,
    "start_time": "2021-10-09T18:19:24.575Z"
   },
   {
    "duration": 6,
    "start_time": "2021-10-09T18:19:32.002Z"
   },
   {
    "duration": 2566,
    "start_time": "2021-10-09T18:20:31.603Z"
   },
   {
    "duration": 2519,
    "start_time": "2021-10-09T18:20:43.777Z"
   },
   {
    "duration": 9,
    "start_time": "2021-10-09T18:20:46.299Z"
   },
   {
    "duration": 3010,
    "start_time": "2021-10-09T18:20:52.118Z"
   },
   {
    "duration": 21,
    "start_time": "2021-10-09T18:20:55.130Z"
   },
   {
    "duration": 2793,
    "start_time": "2021-10-09T18:21:16.921Z"
   },
   {
    "duration": 2654,
    "start_time": "2021-10-09T18:21:52.225Z"
   },
   {
    "duration": 103,
    "start_time": "2021-10-09T18:22:20.990Z"
   },
   {
    "duration": 2680,
    "start_time": "2021-10-09T18:22:25.648Z"
   },
   {
    "duration": 2704,
    "start_time": "2021-10-09T18:22:57.808Z"
   },
   {
    "duration": 3295,
    "start_time": "2021-10-09T18:23:20.982Z"
   },
   {
    "duration": 2585,
    "start_time": "2021-10-09T18:23:38.409Z"
   },
   {
    "duration": 10,
    "start_time": "2021-10-09T18:24:22.382Z"
   },
   {
    "duration": 2683,
    "start_time": "2021-10-09T18:24:51.776Z"
   },
   {
    "duration": 4987,
    "start_time": "2021-10-09T18:26:01.181Z"
   },
   {
    "duration": 27,
    "start_time": "2021-10-09T18:27:18.745Z"
   },
   {
    "duration": 17,
    "start_time": "2021-10-09T18:28:13.938Z"
   },
   {
    "duration": 14589,
    "start_time": "2021-10-09T18:31:31.014Z"
   },
   {
    "duration": 369,
    "start_time": "2021-10-09T18:35:32.137Z"
   },
   {
    "duration": 2239,
    "start_time": "2021-10-09T18:35:41.694Z"
   },
   {
    "duration": 3038,
    "start_time": "2021-10-09T18:35:57.320Z"
   },
   {
    "duration": 13405,
    "start_time": "2021-10-09T18:36:47.047Z"
   },
   {
    "duration": 660,
    "start_time": "2021-10-09T18:43:30.297Z"
   },
   {
    "duration": 6,
    "start_time": "2021-10-09T18:54:38.640Z"
   },
   {
    "duration": 726,
    "start_time": "2021-10-09T18:54:51.797Z"
   },
   {
    "duration": 11,
    "start_time": "2021-10-09T18:54:52.525Z"
   },
   {
    "duration": 50,
    "start_time": "2021-10-09T18:54:52.538Z"
   },
   {
    "duration": 8,
    "start_time": "2021-10-09T18:54:52.590Z"
   },
   {
    "duration": 21,
    "start_time": "2021-10-09T18:54:52.599Z"
   },
   {
    "duration": 5,
    "start_time": "2021-10-09T18:54:52.622Z"
   },
   {
    "duration": 14,
    "start_time": "2021-10-09T18:54:52.629Z"
   },
   {
    "duration": 36,
    "start_time": "2021-10-09T18:54:52.645Z"
   },
   {
    "duration": 5,
    "start_time": "2021-10-09T18:54:52.684Z"
   },
   {
    "duration": 14,
    "start_time": "2021-10-09T18:54:52.691Z"
   },
   {
    "duration": 7,
    "start_time": "2021-10-09T18:54:52.707Z"
   },
   {
    "duration": 13,
    "start_time": "2021-10-09T18:54:52.716Z"
   },
   {
    "duration": 2,
    "start_time": "2021-10-09T18:54:52.730Z"
   },
   {
    "duration": 43,
    "start_time": "2021-10-09T18:54:52.734Z"
   },
   {
    "duration": 7,
    "start_time": "2021-10-09T18:54:52.779Z"
   },
   {
    "duration": 17,
    "start_time": "2021-10-09T18:54:52.788Z"
   },
   {
    "duration": 6,
    "start_time": "2021-10-09T18:54:52.807Z"
   },
   {
    "duration": 12,
    "start_time": "2021-10-09T18:54:52.815Z"
   },
   {
    "duration": 7,
    "start_time": "2021-10-09T18:54:52.829Z"
   },
   {
    "duration": 44,
    "start_time": "2021-10-09T18:54:52.838Z"
   },
   {
    "duration": 15,
    "start_time": "2021-10-09T18:54:52.883Z"
   },
   {
    "duration": 11,
    "start_time": "2021-10-09T18:54:52.900Z"
   },
   {
    "duration": 7,
    "start_time": "2021-10-09T18:54:52.914Z"
   },
   {
    "duration": 5,
    "start_time": "2021-10-09T18:54:52.923Z"
   },
   {
    "duration": 7,
    "start_time": "2021-10-09T18:54:52.930Z"
   },
   {
    "duration": 55,
    "start_time": "2021-10-09T18:54:52.938Z"
   },
   {
    "duration": 12,
    "start_time": "2021-10-09T18:54:52.994Z"
   },
   {
    "duration": 19,
    "start_time": "2021-10-09T18:54:53.008Z"
   },
   {
    "duration": 23577,
    "start_time": "2021-10-09T18:54:53.029Z"
   },
   {
    "duration": 8,
    "start_time": "2021-10-09T18:55:16.607Z"
   },
   {
    "duration": 16,
    "start_time": "2021-10-09T18:55:16.617Z"
   },
   {
    "duration": 53,
    "start_time": "2021-10-09T18:55:16.634Z"
   },
   {
    "duration": 2,
    "start_time": "2021-10-09T18:55:16.689Z"
   },
   {
    "duration": 9,
    "start_time": "2021-10-09T18:55:16.694Z"
   },
   {
    "duration": 22,
    "start_time": "2021-10-09T18:55:16.705Z"
   },
   {
    "duration": 8,
    "start_time": "2021-10-09T18:55:16.729Z"
   },
   {
    "duration": 14617,
    "start_time": "2021-10-09T18:55:16.739Z"
   },
   {
    "duration": 33,
    "start_time": "2021-10-09T18:55:31.357Z"
   },
   {
    "duration": 10,
    "start_time": "2021-10-09T18:55:31.398Z"
   },
   {
    "duration": 668,
    "start_time": "2021-10-09T18:56:02.294Z"
   },
   {
    "duration": 12,
    "start_time": "2021-10-09T18:56:02.963Z"
   },
   {
    "duration": 45,
    "start_time": "2021-10-09T18:56:02.977Z"
   },
   {
    "duration": 14,
    "start_time": "2021-10-09T18:56:03.025Z"
   },
   {
    "duration": 13,
    "start_time": "2021-10-09T18:56:03.041Z"
   },
   {
    "duration": 6,
    "start_time": "2021-10-09T18:56:03.056Z"
   },
   {
    "duration": 25,
    "start_time": "2021-10-09T18:56:03.064Z"
   },
   {
    "duration": 16,
    "start_time": "2021-10-09T18:56:03.092Z"
   },
   {
    "duration": 5,
    "start_time": "2021-10-09T18:56:03.110Z"
   },
   {
    "duration": 29,
    "start_time": "2021-10-09T18:56:03.117Z"
   },
   {
    "duration": 29,
    "start_time": "2021-10-09T18:56:03.148Z"
   },
   {
    "duration": 15,
    "start_time": "2021-10-09T18:56:03.179Z"
   },
   {
    "duration": 2,
    "start_time": "2021-10-09T18:56:03.196Z"
   },
   {
    "duration": 13,
    "start_time": "2021-10-09T18:56:03.199Z"
   },
   {
    "duration": 7,
    "start_time": "2021-10-09T18:56:03.213Z"
   },
   {
    "duration": 17,
    "start_time": "2021-10-09T18:56:03.221Z"
   },
   {
    "duration": 39,
    "start_time": "2021-10-09T18:56:03.240Z"
   },
   {
    "duration": 10,
    "start_time": "2021-10-09T18:56:03.281Z"
   },
   {
    "duration": 14,
    "start_time": "2021-10-09T18:56:03.293Z"
   },
   {
    "duration": 12,
    "start_time": "2021-10-09T18:56:03.309Z"
   },
   {
    "duration": 17,
    "start_time": "2021-10-09T18:56:03.322Z"
   },
   {
    "duration": 11,
    "start_time": "2021-10-09T18:56:03.340Z"
   },
   {
    "duration": 27,
    "start_time": "2021-10-09T18:56:03.353Z"
   },
   {
    "duration": 12,
    "start_time": "2021-10-09T18:56:03.382Z"
   },
   {
    "duration": 16,
    "start_time": "2021-10-09T18:56:03.395Z"
   },
   {
    "duration": 19,
    "start_time": "2021-10-09T18:56:03.412Z"
   },
   {
    "duration": 12,
    "start_time": "2021-10-09T18:56:03.432Z"
   },
   {
    "duration": 43,
    "start_time": "2021-10-09T18:56:03.446Z"
   },
   {
    "duration": 23533,
    "start_time": "2021-10-09T18:56:03.491Z"
   },
   {
    "duration": 7,
    "start_time": "2021-10-09T18:56:27.026Z"
   },
   {
    "duration": 16,
    "start_time": "2021-10-09T18:56:27.034Z"
   },
   {
    "duration": 46,
    "start_time": "2021-10-09T18:56:27.052Z"
   },
   {
    "duration": 2,
    "start_time": "2021-10-09T18:56:27.100Z"
   },
   {
    "duration": 8,
    "start_time": "2021-10-09T18:56:27.104Z"
   },
   {
    "duration": 21,
    "start_time": "2021-10-09T18:56:27.114Z"
   },
   {
    "duration": 7,
    "start_time": "2021-10-09T18:56:27.136Z"
   },
   {
    "duration": 13460,
    "start_time": "2021-10-09T18:56:27.144Z"
   },
   {
    "duration": 20,
    "start_time": "2021-10-09T18:56:40.606Z"
   },
   {
    "duration": 625,
    "start_time": "2021-10-09T18:59:52.114Z"
   },
   {
    "duration": 10,
    "start_time": "2021-10-09T18:59:52.741Z"
   },
   {
    "duration": 29,
    "start_time": "2021-10-09T18:59:52.753Z"
   },
   {
    "duration": 5,
    "start_time": "2021-10-09T18:59:52.784Z"
   },
   {
    "duration": 11,
    "start_time": "2021-10-09T18:59:52.791Z"
   },
   {
    "duration": 6,
    "start_time": "2021-10-09T18:59:52.804Z"
   },
   {
    "duration": 14,
    "start_time": "2021-10-09T18:59:52.811Z"
   },
   {
    "duration": 2,
    "start_time": "2021-10-09T18:59:52.827Z"
   },
   {
    "duration": 11,
    "start_time": "2021-10-09T18:59:52.831Z"
   },
   {
    "duration": 7,
    "start_time": "2021-10-09T18:59:52.877Z"
   },
   {
    "duration": 18,
    "start_time": "2021-10-09T18:59:52.886Z"
   },
   {
    "duration": 6,
    "start_time": "2021-10-09T18:59:52.905Z"
   },
   {
    "duration": 7,
    "start_time": "2021-10-09T18:59:52.912Z"
   },
   {
    "duration": 7,
    "start_time": "2021-10-09T18:59:52.921Z"
   },
   {
    "duration": 7,
    "start_time": "2021-10-09T18:59:52.929Z"
   },
   {
    "duration": 48,
    "start_time": "2021-10-09T18:59:52.938Z"
   },
   {
    "duration": 11,
    "start_time": "2021-10-09T18:59:52.987Z"
   },
   {
    "duration": 6,
    "start_time": "2021-10-09T18:59:53.000Z"
   },
   {
    "duration": 9,
    "start_time": "2021-10-09T18:59:53.008Z"
   },
   {
    "duration": 7,
    "start_time": "2021-10-09T18:59:53.019Z"
   },
   {
    "duration": 18,
    "start_time": "2021-10-09T18:59:53.028Z"
   },
   {
    "duration": 36,
    "start_time": "2021-10-09T18:59:53.048Z"
   },
   {
    "duration": 10,
    "start_time": "2021-10-09T18:59:53.089Z"
   },
   {
    "duration": 5,
    "start_time": "2021-10-09T18:59:53.101Z"
   },
   {
    "duration": 13,
    "start_time": "2021-10-09T18:59:53.108Z"
   },
   {
    "duration": 55,
    "start_time": "2021-10-09T18:59:53.123Z"
   },
   {
    "duration": 12,
    "start_time": "2021-10-09T18:59:53.180Z"
   },
   {
    "duration": 19,
    "start_time": "2021-10-09T18:59:53.194Z"
   },
   {
    "duration": 13,
    "start_time": "2021-10-09T19:22:05.402Z"
   },
   {
    "duration": 13,
    "start_time": "2021-10-09T19:28:35.217Z"
   },
   {
    "duration": 13,
    "start_time": "2021-10-09T19:46:35.893Z"
   },
   {
    "duration": 12,
    "start_time": "2021-10-09T19:51:45.584Z"
   },
   {
    "duration": 7,
    "start_time": "2021-10-09T19:52:18.767Z"
   },
   {
    "duration": 11,
    "start_time": "2021-10-09T19:53:35.985Z"
   },
   {
    "duration": 21,
    "start_time": "2021-10-09T19:53:42.558Z"
   },
   {
    "duration": 16,
    "start_time": "2021-10-09T19:53:51.090Z"
   },
   {
    "duration": 16,
    "start_time": "2021-10-09T19:54:11.605Z"
   },
   {
    "duration": 396,
    "start_time": "2021-10-09T19:54:28.995Z"
   },
   {
    "duration": 25,
    "start_time": "2021-10-09T19:54:36.149Z"
   },
   {
    "duration": 4,
    "start_time": "2021-10-09T19:59:17.516Z"
   },
   {
    "duration": 7,
    "start_time": "2021-10-09T20:06:13.746Z"
   },
   {
    "duration": 7,
    "start_time": "2021-10-09T20:11:19.366Z"
   },
   {
    "duration": 7,
    "start_time": "2021-10-09T20:14:38.926Z"
   },
   {
    "duration": 330,
    "start_time": "2021-10-09T20:18:01.975Z"
   },
   {
    "duration": 22,
    "start_time": "2021-10-09T20:18:10.127Z"
   },
   {
    "duration": 7,
    "start_time": "2021-10-09T20:21:16.869Z"
   },
   {
    "duration": 3,
    "start_time": "2021-10-09T20:29:05.484Z"
   },
   {
    "duration": 9,
    "start_time": "2021-10-09T20:29:45.660Z"
   },
   {
    "duration": 13,
    "start_time": "2021-10-09T20:29:51.632Z"
   },
   {
    "duration": 10,
    "start_time": "2021-10-09T20:30:03.561Z"
   },
   {
    "duration": 8,
    "start_time": "2021-10-09T20:30:08.013Z"
   },
   {
    "duration": 5,
    "start_time": "2021-10-09T20:31:03.920Z"
   },
   {
    "duration": 699,
    "start_time": "2021-10-09T20:31:12.172Z"
   },
   {
    "duration": 11,
    "start_time": "2021-10-09T20:31:12.873Z"
   },
   {
    "duration": 31,
    "start_time": "2021-10-09T20:31:12.886Z"
   },
   {
    "duration": 8,
    "start_time": "2021-10-09T20:31:12.919Z"
   },
   {
    "duration": 12,
    "start_time": "2021-10-09T20:31:12.929Z"
   },
   {
    "duration": 4,
    "start_time": "2021-10-09T20:31:12.943Z"
   },
   {
    "duration": 37,
    "start_time": "2021-10-09T20:31:12.949Z"
   },
   {
    "duration": 5,
    "start_time": "2021-10-09T20:31:12.988Z"
   },
   {
    "duration": 17,
    "start_time": "2021-10-09T20:31:12.995Z"
   },
   {
    "duration": 5,
    "start_time": "2021-10-09T20:31:13.014Z"
   },
   {
    "duration": 13,
    "start_time": "2021-10-09T20:31:13.021Z"
   },
   {
    "duration": 7,
    "start_time": "2021-10-09T20:31:13.035Z"
   },
   {
    "duration": 15,
    "start_time": "2021-10-09T20:31:13.077Z"
   },
   {
    "duration": 10,
    "start_time": "2021-10-09T20:31:13.093Z"
   },
   {
    "duration": 8,
    "start_time": "2021-10-09T20:31:13.105Z"
   },
   {
    "duration": 19,
    "start_time": "2021-10-09T20:31:13.115Z"
   },
   {
    "duration": 8,
    "start_time": "2021-10-09T20:31:13.136Z"
   },
   {
    "duration": 10,
    "start_time": "2021-10-09T20:31:13.177Z"
   },
   {
    "duration": 7,
    "start_time": "2021-10-09T20:31:13.189Z"
   },
   {
    "duration": 7,
    "start_time": "2021-10-09T20:31:13.198Z"
   },
   {
    "duration": 16,
    "start_time": "2021-10-09T20:31:13.207Z"
   },
   {
    "duration": 12,
    "start_time": "2021-10-09T20:31:13.225Z"
   },
   {
    "duration": 9,
    "start_time": "2021-10-09T20:31:13.278Z"
   },
   {
    "duration": 7,
    "start_time": "2021-10-09T20:31:13.289Z"
   },
   {
    "duration": 9,
    "start_time": "2021-10-09T20:31:13.298Z"
   },
   {
    "duration": 19,
    "start_time": "2021-10-09T20:31:13.309Z"
   },
   {
    "duration": 51,
    "start_time": "2021-10-09T20:31:13.330Z"
   },
   {
    "duration": 20,
    "start_time": "2021-10-09T20:31:13.383Z"
   },
   {
    "duration": 23072,
    "start_time": "2021-10-09T20:31:13.405Z"
   },
   {
    "duration": 7,
    "start_time": "2021-10-09T20:31:36.479Z"
   },
   {
    "duration": 16,
    "start_time": "2021-10-09T20:31:36.488Z"
   },
   {
    "duration": 32,
    "start_time": "2021-10-09T20:31:36.507Z"
   },
   {
    "duration": 43,
    "start_time": "2021-10-09T20:31:36.541Z"
   },
   {
    "duration": 16,
    "start_time": "2021-10-09T20:31:36.586Z"
   },
   {
    "duration": 7,
    "start_time": "2021-10-09T20:31:36.605Z"
   },
   {
    "duration": 28,
    "start_time": "2021-10-09T20:31:36.614Z"
   },
   {
    "duration": 39,
    "start_time": "2021-10-09T20:31:36.644Z"
   },
   {
    "duration": 13772,
    "start_time": "2021-10-09T20:31:36.685Z"
   },
   {
    "duration": 31,
    "start_time": "2021-10-09T20:31:50.459Z"
   },
   {
    "duration": 2,
    "start_time": "2021-10-09T20:31:50.492Z"
   },
   {
    "duration": 11,
    "start_time": "2021-10-09T20:31:50.495Z"
   },
   {
    "duration": 23,
    "start_time": "2021-10-09T20:31:50.508Z"
   },
   {
    "duration": 4,
    "start_time": "2021-10-09T20:31:50.533Z"
   },
   {
    "duration": 9,
    "start_time": "2021-10-09T20:31:50.538Z"
   },
   {
    "duration": 3,
    "start_time": "2021-10-09T20:31:50.577Z"
   },
   {
    "duration": 11,
    "start_time": "2021-10-09T20:31:50.581Z"
   },
   {
    "duration": 2,
    "start_time": "2021-10-09T20:31:50.594Z"
   },
   {
    "duration": 23,
    "start_time": "2021-10-09T20:31:50.597Z"
   },
   {
    "duration": 2,
    "start_time": "2021-10-09T20:31:50.621Z"
   },
   {
    "duration": 9,
    "start_time": "2021-10-09T20:31:50.625Z"
   },
   {
    "duration": 2,
    "start_time": "2021-10-09T20:31:50.635Z"
   },
   {
    "duration": 6,
    "start_time": "2021-10-09T20:31:50.693Z"
   },
   {
    "duration": 7,
    "start_time": "2021-10-09T20:31:50.700Z"
   },
   {
    "duration": 630,
    "start_time": "2021-10-11T14:08:36.377Z"
   },
   {
    "duration": 10,
    "start_time": "2021-10-11T14:08:37.009Z"
   },
   {
    "duration": 30,
    "start_time": "2021-10-11T14:08:37.021Z"
   },
   {
    "duration": 8,
    "start_time": "2021-10-11T14:08:37.052Z"
   },
   {
    "duration": 8,
    "start_time": "2021-10-11T14:08:37.061Z"
   },
   {
    "duration": 30,
    "start_time": "2021-10-11T14:08:37.071Z"
   },
   {
    "duration": 10,
    "start_time": "2021-10-11T14:08:37.103Z"
   },
   {
    "duration": 3,
    "start_time": "2021-10-11T14:08:37.115Z"
   },
   {
    "duration": 15,
    "start_time": "2021-10-11T14:08:37.120Z"
   },
   {
    "duration": 5,
    "start_time": "2021-10-11T14:08:37.136Z"
   },
   {
    "duration": 11,
    "start_time": "2021-10-11T14:08:37.143Z"
   },
   {
    "duration": 6,
    "start_time": "2021-10-11T14:08:37.155Z"
   },
   {
    "duration": 47,
    "start_time": "2021-10-11T14:08:37.162Z"
   },
   {
    "duration": 8,
    "start_time": "2021-10-11T14:08:37.211Z"
   },
   {
    "duration": 7,
    "start_time": "2021-10-11T14:08:37.220Z"
   },
   {
    "duration": 14,
    "start_time": "2021-10-11T14:08:37.229Z"
   },
   {
    "duration": 9,
    "start_time": "2021-10-11T14:08:37.245Z"
   },
   {
    "duration": 7,
    "start_time": "2021-10-11T14:08:37.255Z"
   },
   {
    "duration": 41,
    "start_time": "2021-10-11T14:08:37.263Z"
   },
   {
    "duration": 11,
    "start_time": "2021-10-11T14:08:37.305Z"
   },
   {
    "duration": 14,
    "start_time": "2021-10-11T14:08:37.317Z"
   },
   {
    "duration": 10,
    "start_time": "2021-10-11T14:08:37.332Z"
   },
   {
    "duration": 6,
    "start_time": "2021-10-11T14:08:37.345Z"
   },
   {
    "duration": 5,
    "start_time": "2021-10-11T14:08:37.354Z"
   },
   {
    "duration": 8,
    "start_time": "2021-10-11T14:08:37.360Z"
   },
   {
    "duration": 16,
    "start_time": "2021-10-11T14:08:37.400Z"
   },
   {
    "duration": 10,
    "start_time": "2021-10-11T14:08:37.418Z"
   },
   {
    "duration": 17,
    "start_time": "2021-10-11T14:08:37.429Z"
   },
   {
    "duration": 21600,
    "start_time": "2021-10-11T14:08:37.447Z"
   },
   {
    "duration": 7,
    "start_time": "2021-10-11T14:08:59.048Z"
   },
   {
    "duration": 15,
    "start_time": "2021-10-11T14:08:59.057Z"
   },
   {
    "duration": 45,
    "start_time": "2021-10-11T14:08:59.073Z"
   },
   {
    "duration": 12,
    "start_time": "2021-10-11T14:08:59.119Z"
   },
   {
    "duration": 13,
    "start_time": "2021-10-11T14:08:59.133Z"
   },
   {
    "duration": 6,
    "start_time": "2021-10-11T14:08:59.148Z"
   },
   {
    "duration": 51,
    "start_time": "2021-10-11T14:08:59.156Z"
   },
   {
    "duration": 5,
    "start_time": "2021-10-11T14:08:59.209Z"
   },
   {
    "duration": 14539,
    "start_time": "2021-10-11T14:08:59.216Z"
   },
   {
    "duration": 21,
    "start_time": "2021-10-11T14:09:13.757Z"
   },
   {
    "duration": 19,
    "start_time": "2021-10-11T14:09:13.780Z"
   },
   {
    "duration": 24,
    "start_time": "2021-10-11T14:09:13.801Z"
   },
   {
    "duration": 37,
    "start_time": "2021-10-11T14:09:13.827Z"
   },
   {
    "duration": 5,
    "start_time": "2021-10-11T14:09:13.866Z"
   },
   {
    "duration": 18,
    "start_time": "2021-10-11T14:09:13.873Z"
   },
   {
    "duration": 10,
    "start_time": "2021-10-11T14:09:13.893Z"
   },
   {
    "duration": 29,
    "start_time": "2021-10-11T14:09:13.905Z"
   },
   {
    "duration": 14,
    "start_time": "2021-10-11T14:09:13.935Z"
   },
   {
    "duration": 21,
    "start_time": "2021-10-11T14:09:13.950Z"
   },
   {
    "duration": 7,
    "start_time": "2021-10-11T14:09:13.973Z"
   },
   {
    "duration": 13,
    "start_time": "2021-10-11T14:09:13.982Z"
   },
   {
    "duration": 9,
    "start_time": "2021-10-11T14:09:13.997Z"
   },
   {
    "duration": 21,
    "start_time": "2021-10-11T14:09:14.008Z"
   },
   {
    "duration": 7,
    "start_time": "2021-10-11T14:09:14.031Z"
   },
   {
    "duration": 1830,
    "start_time": "2021-10-12T16:57:19.908Z"
   },
   {
    "duration": 89,
    "start_time": "2021-10-12T16:57:21.740Z"
   },
   {
    "duration": 3,
    "start_time": "2021-10-12T16:57:21.833Z"
   },
   {
    "duration": 20,
    "start_time": "2021-10-12T16:57:21.839Z"
   },
   {
    "duration": 8,
    "start_time": "2021-10-12T16:57:21.862Z"
   },
   {
    "duration": 71,
    "start_time": "2021-10-12T16:57:21.872Z"
   },
   {
    "duration": 3,
    "start_time": "2021-10-12T16:57:21.946Z"
   },
   {
    "duration": 12,
    "start_time": "2021-10-12T16:57:21.953Z"
   },
   {
    "duration": 37,
    "start_time": "2021-10-12T16:57:21.968Z"
   },
   {
    "duration": 7,
    "start_time": "2021-10-12T16:57:22.008Z"
   },
   {
    "duration": 15,
    "start_time": "2021-10-12T16:57:22.017Z"
   },
   {
    "duration": 6,
    "start_time": "2021-10-12T16:57:22.035Z"
   },
   {
    "duration": 63,
    "start_time": "2021-10-12T16:57:22.044Z"
   },
   {
    "duration": 7,
    "start_time": "2021-10-12T16:57:22.110Z"
   },
   {
    "duration": 24,
    "start_time": "2021-10-12T16:57:22.120Z"
   },
   {
    "duration": 10,
    "start_time": "2021-10-12T16:57:22.146Z"
   },
   {
    "duration": 48,
    "start_time": "2021-10-12T16:57:22.158Z"
   },
   {
    "duration": 14,
    "start_time": "2021-10-12T16:57:22.208Z"
   },
   {
    "duration": 14,
    "start_time": "2021-10-12T16:57:22.225Z"
   },
   {
    "duration": 32,
    "start_time": "2021-10-12T16:57:22.242Z"
   },
   {
    "duration": 8,
    "start_time": "2021-10-12T16:57:22.301Z"
   },
   {
    "duration": 23,
    "start_time": "2021-10-12T16:57:22.312Z"
   },
   {
    "duration": 20,
    "start_time": "2021-10-12T16:57:22.340Z"
   },
   {
    "duration": 13,
    "start_time": "2021-10-12T16:57:22.363Z"
   },
   {
    "duration": 36,
    "start_time": "2021-10-12T16:57:22.378Z"
   },
   {
    "duration": 14,
    "start_time": "2021-10-12T16:57:22.416Z"
   },
   {
    "duration": 17,
    "start_time": "2021-10-12T16:57:22.433Z"
   },
   {
    "duration": 15,
    "start_time": "2021-10-12T16:57:22.452Z"
   },
   {
    "duration": 32,
    "start_time": "2021-10-12T16:57:22.469Z"
   },
   {
    "duration": 25,
    "start_time": "2021-10-12T16:57:22.503Z"
   },
   {
    "duration": 27,
    "start_time": "2021-10-12T16:57:22.530Z"
   },
   {
    "duration": 42,
    "start_time": "2021-10-12T16:57:22.560Z"
   },
   {
    "duration": 33059,
    "start_time": "2021-10-12T16:57:22.604Z"
   },
   {
    "duration": 10,
    "start_time": "2021-10-12T16:57:55.665Z"
   },
   {
    "duration": 40,
    "start_time": "2021-10-12T16:57:55.677Z"
   },
   {
    "duration": 45,
    "start_time": "2021-10-12T16:57:55.719Z"
   },
   {
    "duration": 37,
    "start_time": "2021-10-12T16:57:55.766Z"
   },
   {
    "duration": 22,
    "start_time": "2021-10-12T16:57:55.805Z"
   },
   {
    "duration": 9,
    "start_time": "2021-10-12T16:57:55.830Z"
   },
   {
    "duration": 69,
    "start_time": "2021-10-12T16:57:55.841Z"
   },
   {
    "duration": 10,
    "start_time": "2021-10-12T16:57:55.913Z"
   },
   {
    "duration": 24850,
    "start_time": "2021-10-12T16:57:55.925Z"
   },
   {
    "duration": 48,
    "start_time": "2021-10-12T16:58:20.777Z"
   },
   {
    "duration": 8,
    "start_time": "2021-10-12T16:58:20.827Z"
   },
   {
    "duration": 15,
    "start_time": "2021-10-12T16:58:20.837Z"
   },
   {
    "duration": 66,
    "start_time": "2021-10-12T16:58:20.855Z"
   },
   {
    "duration": 6,
    "start_time": "2021-10-12T16:58:20.923Z"
   },
   {
    "duration": 18,
    "start_time": "2021-10-12T16:58:20.932Z"
   },
   {
    "duration": 3,
    "start_time": "2021-10-12T16:58:20.953Z"
   },
   {
    "duration": 41,
    "start_time": "2021-10-12T16:58:20.959Z"
   },
   {
    "duration": 4,
    "start_time": "2021-10-12T16:58:21.003Z"
   },
   {
    "duration": 37,
    "start_time": "2021-10-12T16:58:21.009Z"
   },
   {
    "duration": 4,
    "start_time": "2021-10-12T16:58:21.048Z"
   },
   {
    "duration": 15,
    "start_time": "2021-10-12T16:58:21.054Z"
   },
   {
    "duration": 3,
    "start_time": "2021-10-12T16:58:21.100Z"
   },
   {
    "duration": 17,
    "start_time": "2021-10-12T16:58:21.106Z"
   },
   {
    "duration": 17,
    "start_time": "2021-10-12T16:58:21.126Z"
   },
   {
    "duration": 89,
    "start_time": "2021-10-12T17:19:23.747Z"
   },
   {
    "duration": 205,
    "start_time": "2021-10-12T17:20:11.880Z"
   },
   {
    "duration": 94,
    "start_time": "2021-10-12T17:20:17.218Z"
   },
   {
    "duration": 84,
    "start_time": "2021-10-12T17:20:25.714Z"
   },
   {
    "duration": 96,
    "start_time": "2021-10-12T17:20:31.714Z"
   },
   {
    "duration": 84,
    "start_time": "2021-10-12T17:20:36.945Z"
   },
   {
    "duration": 1842,
    "start_time": "2021-10-12T17:20:56.110Z"
   },
   {
    "duration": 90,
    "start_time": "2021-10-12T17:20:57.955Z"
   },
   {
    "duration": 14,
    "start_time": "2021-10-12T17:20:58.048Z"
   },
   {
    "duration": 66,
    "start_time": "2021-10-12T17:20:58.065Z"
   },
   {
    "duration": 89,
    "start_time": "2021-10-12T17:20:58.133Z"
   },
   {
    "duration": -249,
    "start_time": "2021-10-12T17:20:58.476Z"
   },
   {
    "duration": -252,
    "start_time": "2021-10-12T17:20:58.480Z"
   },
   {
    "duration": -254,
    "start_time": "2021-10-12T17:20:58.484Z"
   },
   {
    "duration": -255,
    "start_time": "2021-10-12T17:20:58.486Z"
   },
   {
    "duration": -257,
    "start_time": "2021-10-12T17:20:58.489Z"
   },
   {
    "duration": -260,
    "start_time": "2021-10-12T17:20:58.493Z"
   },
   {
    "duration": -262,
    "start_time": "2021-10-12T17:20:58.496Z"
   },
   {
    "duration": -264,
    "start_time": "2021-10-12T17:20:58.499Z"
   },
   {
    "duration": -265,
    "start_time": "2021-10-12T17:20:58.502Z"
   },
   {
    "duration": -267,
    "start_time": "2021-10-12T17:20:58.505Z"
   },
   {
    "duration": -269,
    "start_time": "2021-10-12T17:20:58.508Z"
   },
   {
    "duration": -436,
    "start_time": "2021-10-12T17:20:58.676Z"
   },
   {
    "duration": -438,
    "start_time": "2021-10-12T17:20:58.679Z"
   },
   {
    "duration": -439,
    "start_time": "2021-10-12T17:20:58.681Z"
   },
   {
    "duration": -440,
    "start_time": "2021-10-12T17:20:58.684Z"
   },
   {
    "duration": -443,
    "start_time": "2021-10-12T17:20:58.688Z"
   },
   {
    "duration": -445,
    "start_time": "2021-10-12T17:20:58.691Z"
   },
   {
    "duration": -449,
    "start_time": "2021-10-12T17:20:58.696Z"
   },
   {
    "duration": -452,
    "start_time": "2021-10-12T17:20:58.700Z"
   },
   {
    "duration": -454,
    "start_time": "2021-10-12T17:20:58.703Z"
   },
   {
    "duration": -456,
    "start_time": "2021-10-12T17:20:58.707Z"
   },
   {
    "duration": -458,
    "start_time": "2021-10-12T17:20:58.710Z"
   },
   {
    "duration": -460,
    "start_time": "2021-10-12T17:20:58.713Z"
   },
   {
    "duration": -461,
    "start_time": "2021-10-12T17:20:58.716Z"
   },
   {
    "duration": -463,
    "start_time": "2021-10-12T17:20:58.719Z"
   },
   {
    "duration": -464,
    "start_time": "2021-10-12T17:20:58.721Z"
   },
   {
    "duration": -466,
    "start_time": "2021-10-12T17:20:58.724Z"
   },
   {
    "duration": -468,
    "start_time": "2021-10-12T17:20:58.727Z"
   },
   {
    "duration": -469,
    "start_time": "2021-10-12T17:20:58.729Z"
   },
   {
    "duration": -470,
    "start_time": "2021-10-12T17:20:58.732Z"
   },
   {
    "duration": -471,
    "start_time": "2021-10-12T17:20:58.734Z"
   },
   {
    "duration": -437,
    "start_time": "2021-10-12T17:20:58.737Z"
   },
   {
    "duration": -437,
    "start_time": "2021-10-12T17:20:58.739Z"
   },
   {
    "duration": -439,
    "start_time": "2021-10-12T17:20:58.742Z"
   },
   {
    "duration": -441,
    "start_time": "2021-10-12T17:20:58.745Z"
   },
   {
    "duration": -442,
    "start_time": "2021-10-12T17:20:58.748Z"
   },
   {
    "duration": -444,
    "start_time": "2021-10-12T17:20:58.751Z"
   },
   {
    "duration": -446,
    "start_time": "2021-10-12T17:20:58.754Z"
   },
   {
    "duration": -447,
    "start_time": "2021-10-12T17:20:58.757Z"
   },
   {
    "duration": -449,
    "start_time": "2021-10-12T17:20:58.760Z"
   },
   {
    "duration": -450,
    "start_time": "2021-10-12T17:20:58.762Z"
   },
   {
    "duration": -452,
    "start_time": "2021-10-12T17:20:58.765Z"
   },
   {
    "duration": -453,
    "start_time": "2021-10-12T17:20:58.768Z"
   },
   {
    "duration": -454,
    "start_time": "2021-10-12T17:20:58.770Z"
   },
   {
    "duration": -456,
    "start_time": "2021-10-12T17:20:58.773Z"
   },
   {
    "duration": -457,
    "start_time": "2021-10-12T17:20:58.775Z"
   },
   {
    "duration": -458,
    "start_time": "2021-10-12T17:20:58.778Z"
   },
   {
    "duration": -459,
    "start_time": "2021-10-12T17:20:58.780Z"
   },
   {
    "duration": -461,
    "start_time": "2021-10-12T17:20:58.783Z"
   },
   {
    "duration": -462,
    "start_time": "2021-10-12T17:20:58.786Z"
   },
   {
    "duration": 116,
    "start_time": "2021-10-12T17:21:16.745Z"
   },
   {
    "duration": 88,
    "start_time": "2021-10-12T17:21:22.172Z"
   },
   {
    "duration": 17,
    "start_time": "2021-10-12T17:21:29.669Z"
   },
   {
    "duration": 289,
    "start_time": "2021-10-14T05:46:39.804Z"
   },
   {
    "duration": 1279,
    "start_time": "2021-10-14T05:47:07.268Z"
   },
   {
    "duration": 60,
    "start_time": "2021-10-14T05:47:08.549Z"
   },
   {
    "duration": 10,
    "start_time": "2021-10-14T05:47:08.610Z"
   },
   {
    "duration": 37,
    "start_time": "2021-10-14T05:47:08.622Z"
   },
   {
    "duration": 12,
    "start_time": "2021-10-14T05:47:08.660Z"
   },
   {
    "duration": 20,
    "start_time": "2021-10-14T05:47:08.673Z"
   },
   {
    "duration": 5,
    "start_time": "2021-10-14T05:47:08.694Z"
   },
   {
    "duration": 43,
    "start_time": "2021-10-14T05:47:08.701Z"
   },
   {
    "duration": 4,
    "start_time": "2021-10-14T05:47:08.747Z"
   },
   {
    "duration": 17,
    "start_time": "2021-10-14T05:47:08.753Z"
   },
   {
    "duration": 5,
    "start_time": "2021-10-14T05:47:08.772Z"
   },
   {
    "duration": 12,
    "start_time": "2021-10-14T05:47:08.779Z"
   },
   {
    "duration": 6,
    "start_time": "2021-10-14T05:47:08.793Z"
   },
   {
    "duration": 52,
    "start_time": "2021-10-14T05:47:08.800Z"
   },
   {
    "duration": 10,
    "start_time": "2021-10-14T05:47:08.854Z"
   },
   {
    "duration": 6,
    "start_time": "2021-10-14T05:47:08.866Z"
   },
   {
    "duration": 22,
    "start_time": "2021-10-14T05:47:08.873Z"
   },
   {
    "duration": 7,
    "start_time": "2021-10-14T05:47:08.896Z"
   },
   {
    "duration": 44,
    "start_time": "2021-10-14T05:47:08.905Z"
   },
   {
    "duration": 19,
    "start_time": "2021-10-14T05:47:08.950Z"
   },
   {
    "duration": 29,
    "start_time": "2021-10-14T05:47:08.970Z"
   },
   {
    "duration": 27,
    "start_time": "2021-10-14T05:47:09.001Z"
   },
   {
    "duration": 15,
    "start_time": "2021-10-14T05:47:09.033Z"
   },
   {
    "duration": 12,
    "start_time": "2021-10-14T05:47:09.051Z"
   },
   {
    "duration": 7,
    "start_time": "2021-10-14T05:47:09.065Z"
   },
   {
    "duration": 15,
    "start_time": "2021-10-14T05:47:09.074Z"
   },
   {
    "duration": 26,
    "start_time": "2021-10-14T05:47:09.091Z"
   },
   {
    "duration": 32,
    "start_time": "2021-10-14T05:47:09.119Z"
   },
   {
    "duration": 23,
    "start_time": "2021-10-14T05:47:09.153Z"
   },
   {
    "duration": 22357,
    "start_time": "2021-10-14T05:47:09.178Z"
   },
   {
    "duration": 11,
    "start_time": "2021-10-14T05:47:31.536Z"
   },
   {
    "duration": 22,
    "start_time": "2021-10-14T05:47:31.548Z"
   },
   {
    "duration": 27,
    "start_time": "2021-10-14T05:47:31.572Z"
   },
   {
    "duration": 13,
    "start_time": "2021-10-14T05:47:31.600Z"
   },
   {
    "duration": 33,
    "start_time": "2021-10-14T05:47:31.615Z"
   },
   {
    "duration": 32,
    "start_time": "2021-10-14T05:47:31.650Z"
   },
   {
    "duration": 39,
    "start_time": "2021-10-14T05:47:31.683Z"
   },
   {
    "duration": 6,
    "start_time": "2021-10-14T05:47:31.724Z"
   },
   {
    "duration": 13813,
    "start_time": "2021-10-14T05:47:31.732Z"
   },
   {
    "duration": 23,
    "start_time": "2021-10-14T05:47:45.547Z"
   },
   {
    "duration": 2,
    "start_time": "2021-10-14T05:47:45.572Z"
   },
   {
    "duration": 9,
    "start_time": "2021-10-14T05:47:45.576Z"
   },
   {
    "duration": 23,
    "start_time": "2021-10-14T05:47:45.586Z"
   },
   {
    "duration": 4,
    "start_time": "2021-10-14T05:47:45.610Z"
   },
   {
    "duration": 32,
    "start_time": "2021-10-14T05:47:45.616Z"
   },
   {
    "duration": 2,
    "start_time": "2021-10-14T05:47:45.650Z"
   },
   {
    "duration": 12,
    "start_time": "2021-10-14T05:47:45.653Z"
   },
   {
    "duration": 2,
    "start_time": "2021-10-14T05:47:45.666Z"
   },
   {
    "duration": 26,
    "start_time": "2021-10-14T05:47:45.670Z"
   },
   {
    "duration": 1,
    "start_time": "2021-10-14T05:47:45.698Z"
   },
   {
    "duration": 44,
    "start_time": "2021-10-14T05:47:45.701Z"
   },
   {
    "duration": 2,
    "start_time": "2021-10-14T05:47:45.747Z"
   },
   {
    "duration": 9,
    "start_time": "2021-10-14T05:47:45.750Z"
   },
   {
    "duration": 6,
    "start_time": "2021-10-14T05:47:45.760Z"
   },
   {
    "duration": 475,
    "start_time": "2021-10-14T05:51:44.035Z"
   },
   {
    "duration": 99,
    "start_time": "2021-10-14T05:52:20.959Z"
   },
   {
    "duration": 81,
    "start_time": "2021-10-14T05:52:27.039Z"
   },
   {
    "duration": 267,
    "start_time": "2021-10-14T05:52:30.418Z"
   },
   {
    "duration": 1301,
    "start_time": "2021-10-14T05:53:12.828Z"
   },
   {
    "duration": 61,
    "start_time": "2021-10-14T05:53:14.130Z"
   },
   {
    "duration": 10,
    "start_time": "2021-10-14T05:53:14.193Z"
   },
   {
    "duration": 41,
    "start_time": "2021-10-14T05:53:14.205Z"
   },
   {
    "duration": 12,
    "start_time": "2021-10-14T05:53:14.248Z"
   },
   {
    "duration": 368,
    "start_time": "2021-10-14T05:53:14.261Z"
   },
   {
    "duration": -124,
    "start_time": "2021-10-14T05:53:14.756Z"
   },
   {
    "duration": -128,
    "start_time": "2021-10-14T05:53:14.760Z"
   },
   {
    "duration": -130,
    "start_time": "2021-10-14T05:53:14.763Z"
   },
   {
    "duration": -133,
    "start_time": "2021-10-14T05:53:14.767Z"
   },
   {
    "duration": -135,
    "start_time": "2021-10-14T05:53:14.770Z"
   },
   {
    "duration": -138,
    "start_time": "2021-10-14T05:53:14.774Z"
   },
   {
    "duration": -141,
    "start_time": "2021-10-14T05:53:14.778Z"
   },
   {
    "duration": -145,
    "start_time": "2021-10-14T05:53:14.782Z"
   },
   {
    "duration": -148,
    "start_time": "2021-10-14T05:53:14.786Z"
   },
   {
    "duration": -151,
    "start_time": "2021-10-14T05:53:14.790Z"
   },
   {
    "duration": -154,
    "start_time": "2021-10-14T05:53:14.794Z"
   },
   {
    "duration": -157,
    "start_time": "2021-10-14T05:53:14.798Z"
   },
   {
    "duration": -159,
    "start_time": "2021-10-14T05:53:14.801Z"
   },
   {
    "duration": -162,
    "start_time": "2021-10-14T05:53:14.804Z"
   },
   {
    "duration": -212,
    "start_time": "2021-10-14T05:53:14.855Z"
   },
   {
    "duration": -214,
    "start_time": "2021-10-14T05:53:14.858Z"
   },
   {
    "duration": -215,
    "start_time": "2021-10-14T05:53:14.860Z"
   },
   {
    "duration": -219,
    "start_time": "2021-10-14T05:53:14.864Z"
   },
   {
    "duration": -221,
    "start_time": "2021-10-14T05:53:14.867Z"
   },
   {
    "duration": -224,
    "start_time": "2021-10-14T05:53:14.871Z"
   },
   {
    "duration": -227,
    "start_time": "2021-10-14T05:53:14.875Z"
   },
   {
    "duration": -231,
    "start_time": "2021-10-14T05:53:14.879Z"
   },
   {
    "duration": -233,
    "start_time": "2021-10-14T05:53:14.882Z"
   },
   {
    "duration": -236,
    "start_time": "2021-10-14T05:53:14.886Z"
   },
   {
    "duration": -238,
    "start_time": "2021-10-14T05:53:14.889Z"
   },
   {
    "duration": -241,
    "start_time": "2021-10-14T05:53:14.893Z"
   },
   {
    "duration": -244,
    "start_time": "2021-10-14T05:53:14.896Z"
   },
   {
    "duration": -247,
    "start_time": "2021-10-14T05:53:14.900Z"
   },
   {
    "duration": -248,
    "start_time": "2021-10-14T05:53:14.902Z"
   },
   {
    "duration": -250,
    "start_time": "2021-10-14T05:53:14.905Z"
   },
   {
    "duration": -252,
    "start_time": "2021-10-14T05:53:14.908Z"
   },
   {
    "duration": -255,
    "start_time": "2021-10-14T05:53:14.911Z"
   },
   {
    "duration": -257,
    "start_time": "2021-10-14T05:53:14.914Z"
   },
   {
    "duration": -259,
    "start_time": "2021-10-14T05:53:14.917Z"
   },
   {
    "duration": -261,
    "start_time": "2021-10-14T05:53:14.920Z"
   },
   {
    "duration": -263,
    "start_time": "2021-10-14T05:53:14.923Z"
   },
   {
    "duration": -266,
    "start_time": "2021-10-14T05:53:14.926Z"
   },
   {
    "duration": -267,
    "start_time": "2021-10-14T05:53:14.928Z"
   },
   {
    "duration": -269,
    "start_time": "2021-10-14T05:53:14.931Z"
   },
   {
    "duration": -272,
    "start_time": "2021-10-14T05:53:14.934Z"
   },
   {
    "duration": -274,
    "start_time": "2021-10-14T05:53:14.937Z"
   },
   {
    "duration": -276,
    "start_time": "2021-10-14T05:53:14.940Z"
   },
   {
    "duration": -277,
    "start_time": "2021-10-14T05:53:14.942Z"
   },
   {
    "duration": -280,
    "start_time": "2021-10-14T05:53:14.945Z"
   },
   {
    "duration": -281,
    "start_time": "2021-10-14T05:53:14.947Z"
   },
   {
    "duration": -283,
    "start_time": "2021-10-14T05:53:14.950Z"
   },
   {
    "duration": -284,
    "start_time": "2021-10-14T05:53:14.952Z"
   },
   {
    "duration": -286,
    "start_time": "2021-10-14T05:53:14.955Z"
   },
   {
    "duration": 523,
    "start_time": "2021-10-14T05:55:00.891Z"
   },
   {
    "duration": 270,
    "start_time": "2021-10-14T05:55:14.963Z"
   },
   {
    "duration": 21,
    "start_time": "2021-10-14T05:56:06.498Z"
   },
   {
    "duration": 5,
    "start_time": "2021-10-14T05:58:26.507Z"
   },
   {
    "duration": 11,
    "start_time": "2021-10-14T06:14:41.228Z"
   },
   {
    "duration": 5,
    "start_time": "2021-10-14T06:20:49.220Z"
   },
   {
    "duration": 14,
    "start_time": "2021-10-14T06:22:23.666Z"
   },
   {
    "duration": 14,
    "start_time": "2021-10-14T06:25:34.074Z"
   },
   {
    "duration": 1359,
    "start_time": "2021-10-14T06:25:46.814Z"
   },
   {
    "duration": 61,
    "start_time": "2021-10-14T06:25:48.175Z"
   },
   {
    "duration": 12,
    "start_time": "2021-10-14T06:25:48.239Z"
   },
   {
    "duration": 30,
    "start_time": "2021-10-14T06:25:48.253Z"
   },
   {
    "duration": 13,
    "start_time": "2021-10-14T06:25:48.285Z"
   },
   {
    "duration": 5,
    "start_time": "2021-10-14T06:25:48.300Z"
   },
   {
    "duration": 16,
    "start_time": "2021-10-14T06:25:48.307Z"
   },
   {
    "duration": 5,
    "start_time": "2021-10-14T06:25:48.346Z"
   },
   {
    "duration": 15,
    "start_time": "2021-10-14T06:25:48.353Z"
   },
   {
    "duration": 5,
    "start_time": "2021-10-14T06:25:48.370Z"
   },
   {
    "duration": 13,
    "start_time": "2021-10-14T06:25:48.377Z"
   },
   {
    "duration": 7,
    "start_time": "2021-10-14T06:25:48.392Z"
   },
   {
    "duration": 47,
    "start_time": "2021-10-14T06:25:48.400Z"
   },
   {
    "duration": 9,
    "start_time": "2021-10-14T06:25:48.448Z"
   },
   {
    "duration": 15,
    "start_time": "2021-10-14T06:25:48.459Z"
   },
   {
    "duration": 30,
    "start_time": "2021-10-14T06:25:48.475Z"
   },
   {
    "duration": 10,
    "start_time": "2021-10-14T06:25:48.506Z"
   },
   {
    "duration": 18,
    "start_time": "2021-10-14T06:25:48.517Z"
   },
   {
    "duration": 13,
    "start_time": "2021-10-14T06:25:48.537Z"
   },
   {
    "duration": 11,
    "start_time": "2021-10-14T06:25:48.551Z"
   },
   {
    "duration": 24,
    "start_time": "2021-10-14T06:25:48.563Z"
   },
   {
    "duration": 15,
    "start_time": "2021-10-14T06:25:48.588Z"
   },
   {
    "duration": 12,
    "start_time": "2021-10-14T06:25:48.606Z"
   },
   {
    "duration": 8,
    "start_time": "2021-10-14T06:25:48.620Z"
   },
   {
    "duration": 12,
    "start_time": "2021-10-14T06:25:48.630Z"
   },
   {
    "duration": 19,
    "start_time": "2021-10-14T06:25:48.644Z"
   },
   {
    "duration": 13,
    "start_time": "2021-10-14T06:25:48.665Z"
   },
   {
    "duration": 30,
    "start_time": "2021-10-14T06:25:48.679Z"
   },
   {
    "duration": 21690,
    "start_time": "2021-10-14T06:25:48.711Z"
   },
   {
    "duration": 7,
    "start_time": "2021-10-14T06:26:10.402Z"
   },
   {
    "duration": 16,
    "start_time": "2021-10-14T06:26:10.410Z"
   },
   {
    "duration": 42,
    "start_time": "2021-10-14T06:26:10.427Z"
   },
   {
    "duration": 16,
    "start_time": "2021-10-14T06:26:10.470Z"
   },
   {
    "duration": 15,
    "start_time": "2021-10-14T06:26:10.487Z"
   },
   {
    "duration": 10,
    "start_time": "2021-10-14T06:26:10.503Z"
   },
   {
    "duration": 43,
    "start_time": "2021-10-14T06:26:10.514Z"
   },
   {
    "duration": 6,
    "start_time": "2021-10-14T06:26:10.558Z"
   },
   {
    "duration": 13731,
    "start_time": "2021-10-14T06:26:10.566Z"
   },
   {
    "duration": 24,
    "start_time": "2021-10-14T06:26:24.299Z"
   },
   {
    "duration": 20,
    "start_time": "2021-10-14T06:26:24.324Z"
   },
   {
    "duration": 11,
    "start_time": "2021-10-14T06:26:24.346Z"
   },
   {
    "duration": 26,
    "start_time": "2021-10-14T06:26:24.358Z"
   },
   {
    "duration": 4,
    "start_time": "2021-10-14T06:26:24.386Z"
   },
   {
    "duration": 8,
    "start_time": "2021-10-14T06:26:24.392Z"
   },
   {
    "duration": 6,
    "start_time": "2021-10-14T06:26:24.402Z"
   },
   {
    "duration": 21,
    "start_time": "2021-10-14T06:26:24.409Z"
   },
   {
    "duration": 6,
    "start_time": "2021-10-14T06:26:24.432Z"
   },
   {
    "duration": 21,
    "start_time": "2021-10-14T06:26:24.444Z"
   },
   {
    "duration": 2,
    "start_time": "2021-10-14T06:26:24.467Z"
   },
   {
    "duration": 10,
    "start_time": "2021-10-14T06:26:24.471Z"
   },
   {
    "duration": 6,
    "start_time": "2021-10-14T06:26:24.483Z"
   },
   {
    "duration": 17,
    "start_time": "2021-10-14T06:26:24.490Z"
   },
   {
    "duration": 11,
    "start_time": "2021-10-14T06:26:24.509Z"
   },
   {
    "duration": 12,
    "start_time": "2021-10-14T06:28:51.398Z"
   },
   {
    "duration": 1246,
    "start_time": "2021-10-14T06:29:23.694Z"
   },
   {
    "duration": 60,
    "start_time": "2021-10-14T06:29:24.944Z"
   },
   {
    "duration": 9,
    "start_time": "2021-10-14T06:29:25.006Z"
   },
   {
    "duration": 55,
    "start_time": "2021-10-14T06:29:25.017Z"
   },
   {
    "duration": 11,
    "start_time": "2021-10-14T06:29:25.073Z"
   },
   {
    "duration": 31,
    "start_time": "2021-10-14T06:29:25.086Z"
   },
   {
    "duration": 22,
    "start_time": "2021-10-14T06:29:25.118Z"
   },
   {
    "duration": 11,
    "start_time": "2021-10-14T06:29:25.142Z"
   },
   {
    "duration": 26,
    "start_time": "2021-10-14T06:29:25.154Z"
   },
   {
    "duration": 34,
    "start_time": "2021-10-14T06:29:25.182Z"
   },
   {
    "duration": 48,
    "start_time": "2021-10-14T06:29:25.217Z"
   },
   {
    "duration": 24,
    "start_time": "2021-10-14T06:29:25.266Z"
   },
   {
    "duration": 49,
    "start_time": "2021-10-14T06:29:25.291Z"
   },
   {
    "duration": 15,
    "start_time": "2021-10-14T06:29:25.341Z"
   },
   {
    "duration": 27,
    "start_time": "2021-10-14T06:29:25.357Z"
   },
   {
    "duration": 39,
    "start_time": "2021-10-14T06:29:25.386Z"
   },
   {
    "duration": 31,
    "start_time": "2021-10-14T06:29:25.427Z"
   },
   {
    "duration": 33,
    "start_time": "2021-10-14T06:29:25.459Z"
   },
   {
    "duration": 38,
    "start_time": "2021-10-14T06:29:25.493Z"
   },
   {
    "duration": 37,
    "start_time": "2021-10-14T06:29:25.532Z"
   },
   {
    "duration": 29,
    "start_time": "2021-10-14T06:29:25.571Z"
   },
   {
    "duration": 36,
    "start_time": "2021-10-14T06:29:25.602Z"
   },
   {
    "duration": 32,
    "start_time": "2021-10-14T06:29:25.641Z"
   },
   {
    "duration": 49,
    "start_time": "2021-10-14T06:29:25.675Z"
   },
   {
    "duration": 37,
    "start_time": "2021-10-14T06:29:25.726Z"
   },
   {
    "duration": 32,
    "start_time": "2021-10-14T06:29:25.764Z"
   },
   {
    "duration": 27,
    "start_time": "2021-10-14T06:29:25.798Z"
   },
   {
    "duration": 44,
    "start_time": "2021-10-14T06:29:25.827Z"
   },
   {
    "duration": 21430,
    "start_time": "2021-10-14T06:29:25.872Z"
   },
   {
    "duration": 6,
    "start_time": "2021-10-14T06:29:47.304Z"
   },
   {
    "duration": 18,
    "start_time": "2021-10-14T06:29:47.311Z"
   },
   {
    "duration": 35,
    "start_time": "2021-10-14T06:29:47.330Z"
   },
   {
    "duration": 12,
    "start_time": "2021-10-14T06:29:47.367Z"
   },
   {
    "duration": 14,
    "start_time": "2021-10-14T06:29:47.380Z"
   },
   {
    "duration": 6,
    "start_time": "2021-10-14T06:29:47.395Z"
   },
   {
    "duration": 53,
    "start_time": "2021-10-14T06:29:47.403Z"
   },
   {
    "duration": 7,
    "start_time": "2021-10-14T06:29:47.458Z"
   },
   {
    "duration": 13209,
    "start_time": "2021-10-14T06:29:47.467Z"
   },
   {
    "duration": 22,
    "start_time": "2021-10-14T06:30:00.678Z"
   },
   {
    "duration": 11,
    "start_time": "2021-10-14T06:30:00.701Z"
   },
   {
    "duration": 25,
    "start_time": "2021-10-14T06:30:00.713Z"
   },
   {
    "duration": 27,
    "start_time": "2021-10-14T06:30:00.740Z"
   },
   {
    "duration": 4,
    "start_time": "2021-10-14T06:30:00.769Z"
   },
   {
    "duration": 18,
    "start_time": "2021-10-14T06:30:00.775Z"
   },
   {
    "duration": 15,
    "start_time": "2021-10-14T06:30:00.795Z"
   },
   {
    "duration": 26,
    "start_time": "2021-10-14T06:30:00.811Z"
   },
   {
    "duration": 9,
    "start_time": "2021-10-14T06:30:00.838Z"
   },
   {
    "duration": 41,
    "start_time": "2021-10-14T06:30:00.848Z"
   },
   {
    "duration": 2,
    "start_time": "2021-10-14T06:30:00.891Z"
   },
   {
    "duration": 27,
    "start_time": "2021-10-14T06:30:00.895Z"
   },
   {
    "duration": 10,
    "start_time": "2021-10-14T06:30:00.924Z"
   },
   {
    "duration": 18,
    "start_time": "2021-10-14T06:30:00.936Z"
   },
   {
    "duration": 28,
    "start_time": "2021-10-14T06:30:00.955Z"
   },
   {
    "duration": 10,
    "start_time": "2021-10-14T06:31:16.419Z"
   },
   {
    "duration": 1282,
    "start_time": "2021-10-14T06:31:24.574Z"
   },
   {
    "duration": 63,
    "start_time": "2021-10-14T06:31:25.860Z"
   },
   {
    "duration": 9,
    "start_time": "2021-10-14T06:31:25.925Z"
   },
   {
    "duration": 34,
    "start_time": "2021-10-14T06:31:25.944Z"
   },
   {
    "duration": 16,
    "start_time": "2021-10-14T06:31:25.980Z"
   },
   {
    "duration": 17,
    "start_time": "2021-10-14T06:31:25.998Z"
   },
   {
    "duration": 39,
    "start_time": "2021-10-14T06:31:26.018Z"
   },
   {
    "duration": 21,
    "start_time": "2021-10-14T06:31:26.060Z"
   },
   {
    "duration": 39,
    "start_time": "2021-10-14T06:31:26.083Z"
   },
   {
    "duration": 27,
    "start_time": "2021-10-14T06:31:26.124Z"
   },
   {
    "duration": 27,
    "start_time": "2021-10-14T06:31:26.153Z"
   },
   {
    "duration": 29,
    "start_time": "2021-10-14T06:31:26.182Z"
   },
   {
    "duration": 30,
    "start_time": "2021-10-14T06:31:26.213Z"
   },
   {
    "duration": 37,
    "start_time": "2021-10-14T06:31:26.245Z"
   },
   {
    "duration": 22,
    "start_time": "2021-10-14T06:31:26.284Z"
   },
   {
    "duration": 29,
    "start_time": "2021-10-14T06:31:26.308Z"
   },
   {
    "duration": 34,
    "start_time": "2021-10-14T06:31:26.339Z"
   },
   {
    "duration": 39,
    "start_time": "2021-10-14T06:31:26.374Z"
   },
   {
    "duration": 16,
    "start_time": "2021-10-14T06:31:26.414Z"
   },
   {
    "duration": 26,
    "start_time": "2021-10-14T06:31:26.431Z"
   },
   {
    "duration": 28,
    "start_time": "2021-10-14T06:31:26.458Z"
   },
   {
    "duration": 15,
    "start_time": "2021-10-14T06:31:26.490Z"
   },
   {
    "duration": 17,
    "start_time": "2021-10-14T06:31:26.507Z"
   },
   {
    "duration": 28,
    "start_time": "2021-10-14T06:31:26.525Z"
   },
   {
    "duration": 17,
    "start_time": "2021-10-14T06:31:26.555Z"
   },
   {
    "duration": 24,
    "start_time": "2021-10-14T06:31:26.573Z"
   },
   {
    "duration": 20,
    "start_time": "2021-10-14T06:31:26.599Z"
   },
   {
    "duration": 41,
    "start_time": "2021-10-14T06:31:26.621Z"
   },
   {
    "duration": 21342,
    "start_time": "2021-10-14T06:31:26.664Z"
   },
   {
    "duration": 6,
    "start_time": "2021-10-14T06:31:48.008Z"
   },
   {
    "duration": 17,
    "start_time": "2021-10-14T06:31:48.016Z"
   },
   {
    "duration": 36,
    "start_time": "2021-10-14T06:31:48.034Z"
   },
   {
    "duration": 12,
    "start_time": "2021-10-14T06:31:48.071Z"
   },
   {
    "duration": 14,
    "start_time": "2021-10-14T06:31:48.085Z"
   },
   {
    "duration": 7,
    "start_time": "2021-10-14T06:31:48.101Z"
   },
   {
    "duration": 52,
    "start_time": "2021-10-14T06:31:48.110Z"
   },
   {
    "duration": 6,
    "start_time": "2021-10-14T06:31:48.163Z"
   },
   {
    "duration": 13185,
    "start_time": "2021-10-14T06:31:48.170Z"
   },
   {
    "duration": 23,
    "start_time": "2021-10-14T06:32:01.357Z"
   },
   {
    "duration": 30,
    "start_time": "2021-10-14T06:32:01.381Z"
   },
   {
    "duration": 31,
    "start_time": "2021-10-14T06:32:01.413Z"
   },
   {
    "duration": 45,
    "start_time": "2021-10-14T06:32:01.446Z"
   },
   {
    "duration": 23,
    "start_time": "2021-10-14T06:32:01.493Z"
   },
   {
    "duration": 34,
    "start_time": "2021-10-14T06:32:01.518Z"
   },
   {
    "duration": 7,
    "start_time": "2021-10-14T06:32:01.554Z"
   },
   {
    "duration": 32,
    "start_time": "2021-10-14T06:32:01.563Z"
   },
   {
    "duration": 22,
    "start_time": "2021-10-14T06:32:01.596Z"
   },
   {
    "duration": 30,
    "start_time": "2021-10-14T06:32:01.620Z"
   },
   {
    "duration": 2,
    "start_time": "2021-10-14T06:32:01.652Z"
   },
   {
    "duration": 25,
    "start_time": "2021-10-14T06:32:01.656Z"
   },
   {
    "duration": 9,
    "start_time": "2021-10-14T06:32:01.682Z"
   },
   {
    "duration": 18,
    "start_time": "2021-10-14T06:32:01.693Z"
   },
   {
    "duration": 22,
    "start_time": "2021-10-14T06:32:01.713Z"
   },
   {
    "duration": 1316,
    "start_time": "2021-10-14T06:37:18.566Z"
   },
   {
    "duration": 63,
    "start_time": "2021-10-14T06:37:19.884Z"
   },
   {
    "duration": 11,
    "start_time": "2021-10-14T06:37:19.950Z"
   },
   {
    "duration": 32,
    "start_time": "2021-10-14T06:37:19.963Z"
   },
   {
    "duration": 15,
    "start_time": "2021-10-14T06:37:19.997Z"
   },
   {
    "duration": 31,
    "start_time": "2021-10-14T06:37:20.014Z"
   },
   {
    "duration": 13,
    "start_time": "2021-10-14T06:37:20.047Z"
   },
   {
    "duration": 5,
    "start_time": "2021-10-14T06:37:20.061Z"
   },
   {
    "duration": 16,
    "start_time": "2021-10-14T06:37:20.068Z"
   },
   {
    "duration": 5,
    "start_time": "2021-10-14T06:37:20.087Z"
   },
   {
    "duration": 19,
    "start_time": "2021-10-14T06:37:20.093Z"
   },
   {
    "duration": 40,
    "start_time": "2021-10-14T06:37:20.114Z"
   },
   {
    "duration": 19,
    "start_time": "2021-10-14T06:37:20.156Z"
   },
   {
    "duration": 11,
    "start_time": "2021-10-14T06:37:20.177Z"
   },
   {
    "duration": 8,
    "start_time": "2021-10-14T06:37:20.190Z"
   },
   {
    "duration": 48,
    "start_time": "2021-10-14T06:37:20.200Z"
   },
   {
    "duration": 7,
    "start_time": "2021-10-14T06:37:20.250Z"
   },
   {
    "duration": 11,
    "start_time": "2021-10-14T06:37:20.259Z"
   },
   {
    "duration": 23,
    "start_time": "2021-10-14T06:37:20.272Z"
   },
   {
    "duration": 15,
    "start_time": "2021-10-14T06:37:20.297Z"
   },
   {
    "duration": 30,
    "start_time": "2021-10-14T06:37:20.314Z"
   },
   {
    "duration": 25,
    "start_time": "2021-10-14T06:37:20.345Z"
   },
   {
    "duration": 10,
    "start_time": "2021-10-14T06:37:20.372Z"
   },
   {
    "duration": 20,
    "start_time": "2021-10-14T06:37:20.383Z"
   },
   {
    "duration": 8,
    "start_time": "2021-10-14T06:37:20.405Z"
   },
   {
    "duration": 19,
    "start_time": "2021-10-14T06:37:20.414Z"
   },
   {
    "duration": 10,
    "start_time": "2021-10-14T06:37:20.436Z"
   },
   {
    "duration": 21,
    "start_time": "2021-10-14T06:37:20.448Z"
   },
   {
    "duration": 20730,
    "start_time": "2021-10-14T06:37:20.471Z"
   },
   {
    "duration": 7,
    "start_time": "2021-10-14T06:37:41.203Z"
   },
   {
    "duration": 58,
    "start_time": "2021-10-14T06:37:41.211Z"
   },
   {
    "duration": 50,
    "start_time": "2021-10-14T06:37:41.271Z"
   },
   {
    "duration": 37,
    "start_time": "2021-10-14T06:37:41.323Z"
   },
   {
    "duration": 30,
    "start_time": "2021-10-14T06:37:41.362Z"
   },
   {
    "duration": 32,
    "start_time": "2021-10-14T06:37:41.393Z"
   },
   {
    "duration": 39,
    "start_time": "2021-10-14T06:37:41.427Z"
   },
   {
    "duration": 23,
    "start_time": "2021-10-14T06:37:41.467Z"
   },
   {
    "duration": 1285,
    "start_time": "2021-10-14T06:44:17.767Z"
   },
   {
    "duration": 60,
    "start_time": "2021-10-14T06:44:19.054Z"
   },
   {
    "duration": 10,
    "start_time": "2021-10-14T06:44:19.116Z"
   },
   {
    "duration": 31,
    "start_time": "2021-10-14T06:44:19.128Z"
   },
   {
    "duration": 12,
    "start_time": "2021-10-14T06:44:19.160Z"
   },
   {
    "duration": 16,
    "start_time": "2021-10-14T06:44:19.173Z"
   },
   {
    "duration": 24,
    "start_time": "2021-10-14T06:44:19.190Z"
   },
   {
    "duration": 4,
    "start_time": "2021-10-14T06:44:19.215Z"
   },
   {
    "duration": 17,
    "start_time": "2021-10-14T06:44:19.221Z"
   },
   {
    "duration": 5,
    "start_time": "2021-10-14T06:44:19.241Z"
   },
   {
    "duration": 12,
    "start_time": "2021-10-14T06:44:19.248Z"
   },
   {
    "duration": 6,
    "start_time": "2021-10-14T06:44:19.261Z"
   },
   {
    "duration": 17,
    "start_time": "2021-10-14T06:44:19.269Z"
   },
   {
    "duration": 8,
    "start_time": "2021-10-14T06:44:19.288Z"
   },
   {
    "duration": 7,
    "start_time": "2021-10-14T06:44:19.297Z"
   },
   {
    "duration": 24,
    "start_time": "2021-10-14T06:44:19.305Z"
   },
   {
    "duration": 6,
    "start_time": "2021-10-14T06:44:19.330Z"
   },
   {
    "duration": 7,
    "start_time": "2021-10-14T06:44:19.337Z"
   },
   {
    "duration": 8,
    "start_time": "2021-10-14T06:44:19.345Z"
   },
   {
    "duration": 8,
    "start_time": "2021-10-14T06:44:19.354Z"
   },
   {
    "duration": 16,
    "start_time": "2021-10-14T06:44:19.363Z"
   },
   {
    "duration": 11,
    "start_time": "2021-10-14T06:44:19.380Z"
   },
   {
    "duration": 7,
    "start_time": "2021-10-14T06:44:19.392Z"
   },
   {
    "duration": 9,
    "start_time": "2021-10-14T06:44:19.400Z"
   },
   {
    "duration": 10,
    "start_time": "2021-10-14T06:44:19.410Z"
   },
   {
    "duration": 21,
    "start_time": "2021-10-14T06:44:19.421Z"
   },
   {
    "duration": 11,
    "start_time": "2021-10-14T06:44:19.445Z"
   },
   {
    "duration": 20,
    "start_time": "2021-10-14T06:44:19.458Z"
   },
   {
    "duration": 20932,
    "start_time": "2021-10-14T06:44:19.480Z"
   },
   {
    "duration": 6,
    "start_time": "2021-10-14T06:44:40.414Z"
   },
   {
    "duration": 25,
    "start_time": "2021-10-14T06:44:40.421Z"
   },
   {
    "duration": 27,
    "start_time": "2021-10-14T06:44:40.449Z"
   },
   {
    "duration": 11,
    "start_time": "2021-10-14T06:44:40.478Z"
   },
   {
    "duration": 14,
    "start_time": "2021-10-14T06:44:40.491Z"
   },
   {
    "duration": 10,
    "start_time": "2021-10-14T06:44:40.506Z"
   },
   {
    "duration": 46,
    "start_time": "2021-10-14T06:44:40.517Z"
   },
   {
    "duration": 6,
    "start_time": "2021-10-14T06:44:40.564Z"
   },
   {
    "duration": 13080,
    "start_time": "2021-10-14T06:44:40.571Z"
   },
   {
    "duration": 20,
    "start_time": "2021-10-14T06:44:53.653Z"
   },
   {
    "duration": 3,
    "start_time": "2021-10-14T06:44:53.674Z"
   },
   {
    "duration": 11,
    "start_time": "2021-10-14T06:44:53.678Z"
   },
   {
    "duration": 22,
    "start_time": "2021-10-14T06:44:53.691Z"
   },
   {
    "duration": 33,
    "start_time": "2021-10-14T06:44:53.714Z"
   },
   {
    "duration": 11,
    "start_time": "2021-10-14T06:44:53.749Z"
   },
   {
    "duration": 3,
    "start_time": "2021-10-14T06:44:53.761Z"
   },
   {
    "duration": 17,
    "start_time": "2021-10-14T06:44:53.766Z"
   },
   {
    "duration": 6,
    "start_time": "2021-10-14T06:44:53.785Z"
   },
   {
    "duration": 22,
    "start_time": "2021-10-14T06:44:53.793Z"
   },
   {
    "duration": 2,
    "start_time": "2021-10-14T06:44:53.817Z"
   },
   {
    "duration": 24,
    "start_time": "2021-10-14T06:44:53.821Z"
   },
   {
    "duration": 2,
    "start_time": "2021-10-14T06:44:53.847Z"
   },
   {
    "duration": 10,
    "start_time": "2021-10-14T06:44:53.850Z"
   },
   {
    "duration": 6,
    "start_time": "2021-10-14T06:44:53.861Z"
   },
   {
    "duration": 6,
    "start_time": "2021-10-14T06:55:37.423Z"
   },
   {
    "duration": 1197,
    "start_time": "2021-10-14T06:55:46.074Z"
   },
   {
    "duration": 59,
    "start_time": "2021-10-14T06:55:47.273Z"
   },
   {
    "duration": 14,
    "start_time": "2021-10-14T06:55:47.333Z"
   },
   {
    "duration": 28,
    "start_time": "2021-10-14T06:55:47.348Z"
   },
   {
    "duration": 11,
    "start_time": "2021-10-14T06:55:47.377Z"
   },
   {
    "duration": 6,
    "start_time": "2021-10-14T06:55:47.390Z"
   },
   {
    "duration": 13,
    "start_time": "2021-10-14T06:55:47.398Z"
   },
   {
    "duration": 4,
    "start_time": "2021-10-14T06:55:47.413Z"
   },
   {
    "duration": 37,
    "start_time": "2021-10-14T06:55:47.419Z"
   },
   {
    "duration": 5,
    "start_time": "2021-10-14T06:55:47.457Z"
   },
   {
    "duration": 13,
    "start_time": "2021-10-14T06:55:47.464Z"
   },
   {
    "duration": 6,
    "start_time": "2021-10-14T06:55:47.478Z"
   },
   {
    "duration": 15,
    "start_time": "2021-10-14T06:55:47.485Z"
   },
   {
    "duration": 7,
    "start_time": "2021-10-14T06:55:47.501Z"
   },
   {
    "duration": 35,
    "start_time": "2021-10-14T06:55:47.510Z"
   },
   {
    "duration": 7,
    "start_time": "2021-10-14T06:55:47.546Z"
   },
   {
    "duration": 16,
    "start_time": "2021-10-14T06:55:47.554Z"
   },
   {
    "duration": 9,
    "start_time": "2021-10-14T06:55:47.571Z"
   },
   {
    "duration": 20,
    "start_time": "2021-10-14T06:55:47.581Z"
   },
   {
    "duration": 30,
    "start_time": "2021-10-14T06:55:47.602Z"
   },
   {
    "duration": 13,
    "start_time": "2021-10-14T06:55:47.634Z"
   },
   {
    "duration": 15,
    "start_time": "2021-10-14T06:55:47.648Z"
   },
   {
    "duration": 9,
    "start_time": "2021-10-14T06:55:47.666Z"
   },
   {
    "duration": 10,
    "start_time": "2021-10-14T06:55:47.677Z"
   },
   {
    "duration": 10,
    "start_time": "2021-10-14T06:55:47.688Z"
   },
   {
    "duration": 7,
    "start_time": "2021-10-14T06:55:47.700Z"
   },
   {
    "duration": 15,
    "start_time": "2021-10-14T06:55:47.708Z"
   },
   {
    "duration": 10,
    "start_time": "2021-10-14T06:55:47.744Z"
   },
   {
    "duration": 15,
    "start_time": "2021-10-14T06:55:47.756Z"
   },
   {
    "duration": 20744,
    "start_time": "2021-10-14T06:55:47.772Z"
   },
   {
    "duration": 6,
    "start_time": "2021-10-14T06:56:08.517Z"
   },
   {
    "duration": 24,
    "start_time": "2021-10-14T06:56:08.525Z"
   },
   {
    "duration": 25,
    "start_time": "2021-10-14T06:56:08.550Z"
   },
   {
    "duration": 11,
    "start_time": "2021-10-14T06:56:08.577Z"
   },
   {
    "duration": 14,
    "start_time": "2021-10-14T06:56:08.590Z"
   },
   {
    "duration": 9,
    "start_time": "2021-10-14T06:56:08.606Z"
   },
   {
    "duration": 49,
    "start_time": "2021-10-14T06:56:08.616Z"
   },
   {
    "duration": 6,
    "start_time": "2021-10-14T06:56:08.667Z"
   },
   {
    "duration": 13237,
    "start_time": "2021-10-14T06:56:08.674Z"
   },
   {
    "duration": 33,
    "start_time": "2021-10-14T06:56:21.912Z"
   },
   {
    "duration": 2,
    "start_time": "2021-10-14T06:56:21.946Z"
   },
   {
    "duration": 17,
    "start_time": "2021-10-14T06:56:21.950Z"
   },
   {
    "duration": 26,
    "start_time": "2021-10-14T06:56:21.969Z"
   },
   {
    "duration": 4,
    "start_time": "2021-10-14T06:56:21.996Z"
   },
   {
    "duration": 12,
    "start_time": "2021-10-14T06:56:22.002Z"
   },
   {
    "duration": 2,
    "start_time": "2021-10-14T06:56:22.015Z"
   },
   {
    "duration": 25,
    "start_time": "2021-10-14T06:56:22.019Z"
   },
   {
    "duration": 2,
    "start_time": "2021-10-14T06:56:22.046Z"
   },
   {
    "duration": 24,
    "start_time": "2021-10-14T06:56:22.050Z"
   },
   {
    "duration": 2,
    "start_time": "2021-10-14T06:56:22.076Z"
   },
   {
    "duration": 9,
    "start_time": "2021-10-14T06:56:22.079Z"
   },
   {
    "duration": 2,
    "start_time": "2021-10-14T06:56:22.089Z"
   },
   {
    "duration": 8,
    "start_time": "2021-10-14T06:56:22.093Z"
   },
   {
    "duration": 6,
    "start_time": "2021-10-14T06:56:22.103Z"
   },
   {
    "duration": 361,
    "start_time": "2021-10-14T07:19:09.401Z"
   },
   {
    "duration": 3377,
    "start_time": "2021-10-14T07:19:24.347Z"
   },
   {
    "duration": 1309,
    "start_time": "2021-10-14T07:19:36.155Z"
   },
   {
    "duration": 63,
    "start_time": "2021-10-14T07:19:37.466Z"
   },
   {
    "duration": 9,
    "start_time": "2021-10-14T07:19:37.531Z"
   },
   {
    "duration": 31,
    "start_time": "2021-10-14T07:19:37.542Z"
   },
   {
    "duration": 14,
    "start_time": "2021-10-14T07:19:37.575Z"
   },
   {
    "duration": 4,
    "start_time": "2021-10-14T07:19:37.591Z"
   },
   {
    "duration": 17,
    "start_time": "2021-10-14T07:19:37.597Z"
   },
   {
    "duration": 5,
    "start_time": "2021-10-14T07:19:37.617Z"
   },
   {
    "duration": 17,
    "start_time": "2021-10-14T07:19:37.646Z"
   },
   {
    "duration": 5,
    "start_time": "2021-10-14T07:19:37.665Z"
   },
   {
    "duration": 14,
    "start_time": "2021-10-14T07:19:37.671Z"
   },
   {
    "duration": 8,
    "start_time": "2021-10-14T07:19:37.687Z"
   },
   {
    "duration": 11,
    "start_time": "2021-10-14T07:19:37.696Z"
   },
   {
    "duration": 36,
    "start_time": "2021-10-14T07:19:37.709Z"
   },
   {
    "duration": 10,
    "start_time": "2021-10-14T07:19:37.747Z"
   },
   {
    "duration": 6,
    "start_time": "2021-10-14T07:19:37.759Z"
   },
   {
    "duration": 19,
    "start_time": "2021-10-14T07:19:37.766Z"
   },
   {
    "duration": 10,
    "start_time": "2021-10-14T07:19:37.786Z"
   },
   {
    "duration": 3525,
    "start_time": "2021-10-14T07:19:37.797Z"
   },
   {
    "duration": -356,
    "start_time": "2021-10-14T07:19:41.681Z"
   },
   {
    "duration": -361,
    "start_time": "2021-10-14T07:19:41.687Z"
   },
   {
    "duration": -365,
    "start_time": "2021-10-14T07:19:41.692Z"
   },
   {
    "duration": -369,
    "start_time": "2021-10-14T07:19:41.697Z"
   },
   {
    "duration": -373,
    "start_time": "2021-10-14T07:19:41.702Z"
   },
   {
    "duration": -377,
    "start_time": "2021-10-14T07:19:41.707Z"
   },
   {
    "duration": -381,
    "start_time": "2021-10-14T07:19:41.712Z"
   },
   {
    "duration": -384,
    "start_time": "2021-10-14T07:19:41.716Z"
   },
   {
    "duration": -389,
    "start_time": "2021-10-14T07:19:41.722Z"
   },
   {
    "duration": -394,
    "start_time": "2021-10-14T07:19:41.728Z"
   },
   {
    "duration": -400,
    "start_time": "2021-10-14T07:19:41.734Z"
   },
   {
    "duration": -406,
    "start_time": "2021-10-14T07:19:41.741Z"
   },
   {
    "duration": -457,
    "start_time": "2021-10-14T07:19:41.793Z"
   },
   {
    "duration": -462,
    "start_time": "2021-10-14T07:19:41.799Z"
   },
   {
    "duration": -468,
    "start_time": "2021-10-14T07:19:41.806Z"
   },
   {
    "duration": -474,
    "start_time": "2021-10-14T07:19:41.812Z"
   },
   {
    "duration": -480,
    "start_time": "2021-10-14T07:19:41.819Z"
   },
   {
    "duration": -484,
    "start_time": "2021-10-14T07:19:41.824Z"
   },
   {
    "duration": -490,
    "start_time": "2021-10-14T07:19:41.831Z"
   },
   {
    "duration": -494,
    "start_time": "2021-10-14T07:19:41.836Z"
   },
   {
    "duration": -501,
    "start_time": "2021-10-14T07:19:41.844Z"
   },
   {
    "duration": -506,
    "start_time": "2021-10-14T07:19:41.850Z"
   },
   {
    "duration": -568,
    "start_time": "2021-10-14T07:19:41.913Z"
   },
   {
    "duration": -574,
    "start_time": "2021-10-14T07:19:41.919Z"
   },
   {
    "duration": -580,
    "start_time": "2021-10-14T07:19:41.926Z"
   },
   {
    "duration": -586,
    "start_time": "2021-10-14T07:19:41.933Z"
   },
   {
    "duration": -615,
    "start_time": "2021-10-14T07:19:41.963Z"
   },
   {
    "duration": -619,
    "start_time": "2021-10-14T07:19:41.968Z"
   },
   {
    "duration": -626,
    "start_time": "2021-10-14T07:19:41.976Z"
   },
   {
    "duration": -632,
    "start_time": "2021-10-14T07:19:41.983Z"
   },
   {
    "duration": -638,
    "start_time": "2021-10-14T07:19:41.989Z"
   },
   {
    "duration": -643,
    "start_time": "2021-10-14T07:19:41.995Z"
   },
   {
    "duration": -649,
    "start_time": "2021-10-14T07:19:42.002Z"
   },
   {
    "duration": -653,
    "start_time": "2021-10-14T07:19:42.007Z"
   },
   {
    "duration": -659,
    "start_time": "2021-10-14T07:19:42.014Z"
   },
   {
    "duration": -664,
    "start_time": "2021-10-14T07:19:42.020Z"
   },
   {
    "duration": 317,
    "start_time": "2021-10-14T07:20:17.034Z"
   },
   {
    "duration": 9,
    "start_time": "2021-10-14T07:30:18.218Z"
   },
   {
    "duration": 7,
    "start_time": "2021-10-14T07:32:27.830Z"
   },
   {
    "duration": 10,
    "start_time": "2021-10-14T07:32:37.618Z"
   },
   {
    "duration": 7,
    "start_time": "2021-10-14T07:34:33.952Z"
   },
   {
    "duration": 6,
    "start_time": "2021-10-14T07:35:16.090Z"
   },
   {
    "duration": 905,
    "start_time": "2021-10-14T07:36:18.084Z"
   },
   {
    "duration": 9,
    "start_time": "2021-10-14T07:36:43.668Z"
   },
   {
    "duration": 8,
    "start_time": "2021-10-14T07:37:52.925Z"
   },
   {
    "duration": 12,
    "start_time": "2021-10-14T07:38:04.553Z"
   },
   {
    "duration": 12,
    "start_time": "2021-10-14T07:38:39.146Z"
   },
   {
    "duration": 7,
    "start_time": "2021-10-14T07:38:48.263Z"
   },
   {
    "duration": 8,
    "start_time": "2021-10-14T07:44:07.232Z"
   },
   {
    "duration": 6,
    "start_time": "2021-10-14T07:46:38.760Z"
   },
   {
    "duration": 9,
    "start_time": "2021-10-14T07:51:57.139Z"
   },
   {
    "duration": 18,
    "start_time": "2021-10-14T07:53:32.827Z"
   },
   {
    "duration": 1284,
    "start_time": "2021-10-14T08:02:10.921Z"
   },
   {
    "duration": 63,
    "start_time": "2021-10-14T08:02:12.207Z"
   },
   {
    "duration": 12,
    "start_time": "2021-10-14T08:02:12.273Z"
   },
   {
    "duration": 32,
    "start_time": "2021-10-14T08:02:12.287Z"
   },
   {
    "duration": 30,
    "start_time": "2021-10-14T08:02:12.321Z"
   },
   {
    "duration": 6,
    "start_time": "2021-10-14T08:02:12.353Z"
   },
   {
    "duration": 12,
    "start_time": "2021-10-14T08:02:12.361Z"
   },
   {
    "duration": 4,
    "start_time": "2021-10-14T08:02:12.375Z"
   },
   {
    "duration": 16,
    "start_time": "2021-10-14T08:02:12.383Z"
   },
   {
    "duration": 47,
    "start_time": "2021-10-14T08:02:12.402Z"
   },
   {
    "duration": 12,
    "start_time": "2021-10-14T08:02:12.451Z"
   },
   {
    "duration": 8,
    "start_time": "2021-10-14T08:02:12.465Z"
   },
   {
    "duration": 13,
    "start_time": "2021-10-14T08:02:12.474Z"
   },
   {
    "duration": 7,
    "start_time": "2021-10-14T08:02:12.489Z"
   },
   {
    "duration": 52,
    "start_time": "2021-10-14T08:02:12.497Z"
   },
   {
    "duration": 8,
    "start_time": "2021-10-14T08:02:12.551Z"
   },
   {
    "duration": 17,
    "start_time": "2021-10-14T08:02:12.561Z"
   },
   {
    "duration": 9,
    "start_time": "2021-10-14T08:02:12.580Z"
   },
   {
    "duration": 10,
    "start_time": "2021-10-14T08:02:12.591Z"
   },
   {
    "duration": 13,
    "start_time": "2021-10-14T08:02:12.603Z"
   },
   {
    "duration": 33,
    "start_time": "2021-10-14T08:02:12.617Z"
   },
   {
    "duration": 9,
    "start_time": "2021-10-14T08:02:12.652Z"
   },
   {
    "duration": 10,
    "start_time": "2021-10-14T08:02:12.663Z"
   },
   {
    "duration": 15,
    "start_time": "2021-10-14T08:02:12.675Z"
   },
   {
    "duration": 11,
    "start_time": "2021-10-14T08:02:12.692Z"
   },
   {
    "duration": 42,
    "start_time": "2021-10-14T08:02:12.705Z"
   },
   {
    "duration": 6,
    "start_time": "2021-10-14T08:02:12.751Z"
   },
   {
    "duration": 10,
    "start_time": "2021-10-14T08:02:12.759Z"
   },
   {
    "duration": 18,
    "start_time": "2021-10-14T08:02:12.770Z"
   },
   {
    "duration": 13,
    "start_time": "2021-10-14T08:02:12.790Z"
   },
   {
    "duration": 50,
    "start_time": "2021-10-14T08:02:12.805Z"
   },
   {
    "duration": 21188,
    "start_time": "2021-10-14T08:02:12.856Z"
   },
   {
    "duration": 6,
    "start_time": "2021-10-14T08:02:34.046Z"
   },
   {
    "duration": 17,
    "start_time": "2021-10-14T08:02:34.054Z"
   },
   {
    "duration": 26,
    "start_time": "2021-10-14T08:02:34.073Z"
   },
   {
    "duration": 13,
    "start_time": "2021-10-14T08:02:34.100Z"
   },
   {
    "duration": 40,
    "start_time": "2021-10-14T08:02:34.115Z"
   },
   {
    "duration": 18,
    "start_time": "2021-10-14T08:02:34.157Z"
   },
   {
    "duration": 29,
    "start_time": "2021-10-14T08:02:34.176Z"
   },
   {
    "duration": 7,
    "start_time": "2021-10-14T08:02:34.206Z"
   },
   {
    "duration": 13130,
    "start_time": "2021-10-14T08:02:34.214Z"
   },
   {
    "duration": 22,
    "start_time": "2021-10-14T08:02:47.346Z"
   },
   {
    "duration": 2,
    "start_time": "2021-10-14T08:02:47.370Z"
   },
   {
    "duration": 10,
    "start_time": "2021-10-14T08:02:47.373Z"
   },
   {
    "duration": 22,
    "start_time": "2021-10-14T08:02:47.385Z"
   },
   {
    "duration": 4,
    "start_time": "2021-10-14T08:02:47.409Z"
   },
   {
    "duration": 7,
    "start_time": "2021-10-14T08:02:47.444Z"
   },
   {
    "duration": 4,
    "start_time": "2021-10-14T08:02:47.452Z"
   },
   {
    "duration": 65,
    "start_time": "2021-10-14T08:02:47.457Z"
   },
   {
    "duration": 5,
    "start_time": "2021-10-14T08:02:47.523Z"
   },
   {
    "duration": 24,
    "start_time": "2021-10-14T08:02:47.529Z"
   },
   {
    "duration": 2,
    "start_time": "2021-10-14T08:02:47.554Z"
   },
   {
    "duration": 9,
    "start_time": "2021-10-14T08:02:47.558Z"
   },
   {
    "duration": 2,
    "start_time": "2021-10-14T08:02:47.569Z"
   },
   {
    "duration": 12,
    "start_time": "2021-10-14T08:02:47.572Z"
   },
   {
    "duration": 8,
    "start_time": "2021-10-14T08:02:47.586Z"
   },
   {
    "duration": 1258,
    "start_time": "2021-10-14T17:30:32.360Z"
   },
   {
    "duration": 62,
    "start_time": "2021-10-14T17:30:33.620Z"
   },
   {
    "duration": 10,
    "start_time": "2021-10-14T17:30:33.684Z"
   },
   {
    "duration": 32,
    "start_time": "2021-10-14T17:30:33.699Z"
   },
   {
    "duration": 13,
    "start_time": "2021-10-14T17:30:33.733Z"
   },
   {
    "duration": 5,
    "start_time": "2021-10-14T17:30:33.747Z"
   },
   {
    "duration": 12,
    "start_time": "2021-10-14T17:30:33.754Z"
   },
   {
    "duration": 33,
    "start_time": "2021-10-14T17:30:33.768Z"
   },
   {
    "duration": 16,
    "start_time": "2021-10-14T17:30:33.803Z"
   },
   {
    "duration": 5,
    "start_time": "2021-10-14T17:30:33.820Z"
   },
   {
    "duration": 16,
    "start_time": "2021-10-14T17:30:33.827Z"
   },
   {
    "duration": 11,
    "start_time": "2021-10-14T17:30:33.845Z"
   },
   {
    "duration": 11,
    "start_time": "2021-10-14T17:30:33.858Z"
   },
   {
    "duration": 34,
    "start_time": "2021-10-14T17:30:33.870Z"
   },
   {
    "duration": 11,
    "start_time": "2021-10-14T17:30:33.905Z"
   },
   {
    "duration": 7,
    "start_time": "2021-10-14T17:30:33.917Z"
   },
   {
    "duration": 20,
    "start_time": "2021-10-14T17:30:33.926Z"
   },
   {
    "duration": 5,
    "start_time": "2021-10-14T17:30:33.948Z"
   },
   {
    "duration": 13,
    "start_time": "2021-10-14T17:30:33.954Z"
   },
   {
    "duration": 35,
    "start_time": "2021-10-14T17:30:33.968Z"
   },
   {
    "duration": 12,
    "start_time": "2021-10-14T17:30:34.005Z"
   },
   {
    "duration": 10,
    "start_time": "2021-10-14T17:30:34.018Z"
   },
   {
    "duration": 6,
    "start_time": "2021-10-14T17:30:34.032Z"
   },
   {
    "duration": 12,
    "start_time": "2021-10-14T17:30:34.040Z"
   },
   {
    "duration": 10,
    "start_time": "2021-10-14T17:30:34.054Z"
   },
   {
    "duration": 34,
    "start_time": "2021-10-14T17:30:34.065Z"
   },
   {
    "duration": 5,
    "start_time": "2021-10-14T17:30:34.101Z"
   },
   {
    "duration": 11,
    "start_time": "2021-10-14T17:30:34.107Z"
   },
   {
    "duration": 16,
    "start_time": "2021-10-14T17:30:34.119Z"
   },
   {
    "duration": 11,
    "start_time": "2021-10-14T17:30:34.136Z"
   },
   {
    "duration": 18,
    "start_time": "2021-10-14T17:30:34.148Z"
   },
   {
    "duration": 21924,
    "start_time": "2021-10-14T17:30:34.199Z"
   },
   {
    "duration": 7,
    "start_time": "2021-10-14T17:30:56.124Z"
   },
   {
    "duration": 21,
    "start_time": "2021-10-14T17:30:56.132Z"
   },
   {
    "duration": 28,
    "start_time": "2021-10-14T17:30:56.155Z"
   },
   {
    "duration": 26,
    "start_time": "2021-10-14T17:30:56.185Z"
   },
   {
    "duration": 14,
    "start_time": "2021-10-14T17:30:56.213Z"
   },
   {
    "duration": 7,
    "start_time": "2021-10-14T17:30:56.229Z"
   },
   {
    "duration": 24,
    "start_time": "2021-10-14T17:30:56.238Z"
   },
   {
    "duration": 41,
    "start_time": "2021-10-14T17:30:56.264Z"
   },
   {
    "duration": 15620,
    "start_time": "2021-10-14T17:30:56.306Z"
   },
   {
    "duration": 23,
    "start_time": "2021-10-14T17:31:11.928Z"
   },
   {
    "duration": 2,
    "start_time": "2021-10-14T17:31:11.952Z"
   },
   {
    "duration": 12,
    "start_time": "2021-10-14T17:31:11.956Z"
   },
   {
    "duration": 45,
    "start_time": "2021-10-14T17:31:11.969Z"
   },
   {
    "duration": 4,
    "start_time": "2021-10-14T17:31:12.015Z"
   },
   {
    "duration": 12,
    "start_time": "2021-10-14T17:31:12.020Z"
   },
   {
    "duration": 5,
    "start_time": "2021-10-14T17:31:12.034Z"
   },
   {
    "duration": 11,
    "start_time": "2021-10-14T17:31:12.040Z"
   },
   {
    "duration": 2,
    "start_time": "2021-10-14T17:31:12.053Z"
   },
   {
    "duration": 23,
    "start_time": "2021-10-14T17:31:12.057Z"
   },
   {
    "duration": 19,
    "start_time": "2021-10-14T17:31:12.081Z"
   },
   {
    "duration": 11,
    "start_time": "2021-10-14T17:31:12.102Z"
   },
   {
    "duration": 3,
    "start_time": "2021-10-14T17:31:12.114Z"
   },
   {
    "duration": 10,
    "start_time": "2021-10-14T17:31:12.118Z"
   },
   {
    "duration": 7,
    "start_time": "2021-10-14T17:31:12.130Z"
   },
   {
    "duration": 21533,
    "start_time": "2021-10-14T17:41:59.696Z"
   },
   {
    "duration": 21409,
    "start_time": "2021-10-14T17:44:34.963Z"
   },
   {
    "duration": 1260,
    "start_time": "2021-10-14T17:45:02.940Z"
   },
   {
    "duration": 61,
    "start_time": "2021-10-14T17:45:04.202Z"
   },
   {
    "duration": 10,
    "start_time": "2021-10-14T17:45:04.265Z"
   },
   {
    "duration": 43,
    "start_time": "2021-10-14T17:45:04.277Z"
   },
   {
    "duration": 12,
    "start_time": "2021-10-14T17:45:04.322Z"
   },
   {
    "duration": 4,
    "start_time": "2021-10-14T17:45:04.335Z"
   },
   {
    "duration": 12,
    "start_time": "2021-10-14T17:45:04.341Z"
   },
   {
    "duration": 4,
    "start_time": "2021-10-14T17:45:04.355Z"
   },
   {
    "duration": 44,
    "start_time": "2021-10-14T17:45:04.361Z"
   },
   {
    "duration": 5,
    "start_time": "2021-10-14T17:45:04.407Z"
   },
   {
    "duration": 11,
    "start_time": "2021-10-14T17:45:04.413Z"
   },
   {
    "duration": 6,
    "start_time": "2021-10-14T17:45:04.426Z"
   },
   {
    "duration": 11,
    "start_time": "2021-10-14T17:45:04.434Z"
   },
   {
    "duration": 7,
    "start_time": "2021-10-14T17:45:04.447Z"
   },
   {
    "duration": 52,
    "start_time": "2021-10-14T17:45:04.455Z"
   },
   {
    "duration": 8,
    "start_time": "2021-10-14T17:45:04.509Z"
   },
   {
    "duration": 17,
    "start_time": "2021-10-14T17:45:04.519Z"
   },
   {
    "duration": 9,
    "start_time": "2021-10-14T17:45:04.538Z"
   },
   {
    "duration": 9,
    "start_time": "2021-10-14T17:45:04.549Z"
   },
   {
    "duration": 42,
    "start_time": "2021-10-14T17:45:04.560Z"
   },
   {
    "duration": 7,
    "start_time": "2021-10-14T17:45:04.604Z"
   },
   {
    "duration": 10,
    "start_time": "2021-10-14T17:45:04.613Z"
   },
   {
    "duration": 6,
    "start_time": "2021-10-14T17:45:04.627Z"
   },
   {
    "duration": 16,
    "start_time": "2021-10-14T17:45:04.635Z"
   },
   {
    "duration": 11,
    "start_time": "2021-10-14T17:45:04.652Z"
   },
   {
    "duration": 40,
    "start_time": "2021-10-14T17:45:04.664Z"
   },
   {
    "duration": 6,
    "start_time": "2021-10-14T17:45:04.706Z"
   },
   {
    "duration": 9,
    "start_time": "2021-10-14T17:45:04.714Z"
   },
   {
    "duration": 16,
    "start_time": "2021-10-14T17:45:04.725Z"
   },
   {
    "duration": 22391,
    "start_time": "2021-10-14T17:45:04.743Z"
   },
   {
    "duration": 11,
    "start_time": "2021-10-14T17:45:27.135Z"
   },
   {
    "duration": 16,
    "start_time": "2021-10-14T17:45:27.147Z"
   },
   {
    "duration": 22115,
    "start_time": "2021-10-14T17:45:27.164Z"
   },
   {
    "duration": 20,
    "start_time": "2021-10-14T17:45:49.280Z"
   },
   {
    "duration": 16,
    "start_time": "2021-10-14T17:45:49.302Z"
   },
   {
    "duration": 30,
    "start_time": "2021-10-14T17:45:49.320Z"
   },
   {
    "duration": 15,
    "start_time": "2021-10-14T17:45:49.352Z"
   },
   {
    "duration": 44,
    "start_time": "2021-10-14T17:45:49.369Z"
   },
   {
    "duration": 8,
    "start_time": "2021-10-14T17:45:49.415Z"
   },
   {
    "duration": 28,
    "start_time": "2021-10-14T17:45:49.425Z"
   },
   {
    "duration": 9,
    "start_time": "2021-10-14T17:45:49.455Z"
   },
   {
    "duration": 14793,
    "start_time": "2021-10-14T17:45:49.500Z"
   },
   {
    "duration": 23,
    "start_time": "2021-10-14T17:46:04.299Z"
   },
   {
    "duration": 3,
    "start_time": "2021-10-14T17:46:04.324Z"
   },
   {
    "duration": 10,
    "start_time": "2021-10-14T17:46:04.328Z"
   },
   {
    "duration": 21,
    "start_time": "2021-10-14T17:46:04.340Z"
   },
   {
    "duration": 4,
    "start_time": "2021-10-14T17:46:04.362Z"
   },
   {
    "duration": 7,
    "start_time": "2021-10-14T17:46:04.399Z"
   },
   {
    "duration": 2,
    "start_time": "2021-10-14T17:46:04.408Z"
   },
   {
    "duration": 10,
    "start_time": "2021-10-14T17:46:04.411Z"
   },
   {
    "duration": 4,
    "start_time": "2021-10-14T17:46:04.422Z"
   },
   {
    "duration": 21,
    "start_time": "2021-10-14T17:46:04.427Z"
   },
   {
    "duration": 4,
    "start_time": "2021-10-14T17:46:04.450Z"
   },
   {
    "duration": 7,
    "start_time": "2021-10-14T17:46:04.458Z"
   },
   {
    "duration": 2,
    "start_time": "2021-10-14T17:46:04.467Z"
   },
   {
    "duration": 6,
    "start_time": "2021-10-14T17:46:04.499Z"
   },
   {
    "duration": 7,
    "start_time": "2021-10-14T17:46:04.507Z"
   },
   {
    "duration": 1246,
    "start_time": "2021-10-14T17:52:13.067Z"
   },
   {
    "duration": 61,
    "start_time": "2021-10-14T17:52:14.315Z"
   },
   {
    "duration": 10,
    "start_time": "2021-10-14T17:52:14.378Z"
   },
   {
    "duration": 40,
    "start_time": "2021-10-14T17:52:14.389Z"
   },
   {
    "duration": 12,
    "start_time": "2021-10-14T17:52:14.431Z"
   },
   {
    "duration": 25,
    "start_time": "2021-10-14T17:52:14.444Z"
   },
   {
    "duration": 17,
    "start_time": "2021-10-14T17:52:14.470Z"
   },
   {
    "duration": 12,
    "start_time": "2021-10-14T17:52:14.489Z"
   },
   {
    "duration": 27,
    "start_time": "2021-10-14T17:52:14.503Z"
   },
   {
    "duration": 10,
    "start_time": "2021-10-14T17:52:14.532Z"
   },
   {
    "duration": 21,
    "start_time": "2021-10-14T17:52:14.544Z"
   },
   {
    "duration": 9,
    "start_time": "2021-10-14T17:52:14.566Z"
   },
   {
    "duration": 18,
    "start_time": "2021-10-14T17:52:14.576Z"
   },
   {
    "duration": 4,
    "start_time": "2021-10-14T17:52:14.596Z"
   },
   {
    "duration": 24,
    "start_time": "2021-10-14T17:52:14.602Z"
   },
   {
    "duration": 18,
    "start_time": "2021-10-14T17:52:14.628Z"
   },
   {
    "duration": 22,
    "start_time": "2021-10-14T17:52:14.647Z"
   },
   {
    "duration": 24,
    "start_time": "2021-10-14T17:52:14.670Z"
   },
   {
    "duration": 14,
    "start_time": "2021-10-14T17:52:14.696Z"
   },
   {
    "duration": 13,
    "start_time": "2021-10-14T17:52:14.711Z"
   },
   {
    "duration": 17,
    "start_time": "2021-10-14T17:52:14.725Z"
   },
   {
    "duration": 8,
    "start_time": "2021-10-14T17:52:14.744Z"
   },
   {
    "duration": 7,
    "start_time": "2021-10-14T17:52:14.754Z"
   },
   {
    "duration": 13,
    "start_time": "2021-10-14T17:52:14.763Z"
   },
   {
    "duration": 10,
    "start_time": "2021-10-14T17:52:14.777Z"
   },
   {
    "duration": 16,
    "start_time": "2021-10-14T17:52:14.789Z"
   },
   {
    "duration": 7,
    "start_time": "2021-10-14T17:52:14.809Z"
   },
   {
    "duration": 19,
    "start_time": "2021-10-14T17:52:14.818Z"
   },
   {
    "duration": 28,
    "start_time": "2021-10-14T17:52:14.838Z"
   },
   {
    "duration": 21707,
    "start_time": "2021-10-14T17:52:14.867Z"
   },
   {
    "duration": 22,
    "start_time": "2021-10-14T17:52:36.577Z"
   },
   {
    "duration": 22,
    "start_time": "2021-10-14T17:52:36.602Z"
   },
   {
    "duration": 16,
    "start_time": "2021-10-14T17:52:36.626Z"
   },
   {
    "duration": 28,
    "start_time": "2021-10-14T17:52:36.644Z"
   },
   {
    "duration": 38,
    "start_time": "2021-10-14T17:52:36.674Z"
   },
   {
    "duration": 14,
    "start_time": "2021-10-14T17:52:36.714Z"
   },
   {
    "duration": 8,
    "start_time": "2021-10-14T17:52:36.730Z"
   },
   {
    "duration": 24,
    "start_time": "2021-10-14T17:52:36.740Z"
   },
   {
    "duration": 35,
    "start_time": "2021-10-14T17:52:36.766Z"
   },
   {
    "duration": 15820,
    "start_time": "2021-10-14T17:52:36.802Z"
   },
   {
    "duration": 20,
    "start_time": "2021-10-14T17:52:52.624Z"
   },
   {
    "duration": 2,
    "start_time": "2021-10-14T17:52:52.646Z"
   },
   {
    "duration": 9,
    "start_time": "2021-10-14T17:52:52.649Z"
   },
   {
    "duration": 45,
    "start_time": "2021-10-14T17:52:52.660Z"
   },
   {
    "duration": 4,
    "start_time": "2021-10-14T17:52:52.707Z"
   },
   {
    "duration": 8,
    "start_time": "2021-10-14T17:52:52.712Z"
   },
   {
    "duration": 3,
    "start_time": "2021-10-14T17:52:52.721Z"
   },
   {
    "duration": 9,
    "start_time": "2021-10-14T17:52:52.725Z"
   },
   {
    "duration": 1,
    "start_time": "2021-10-14T17:52:52.736Z"
   },
   {
    "duration": 22,
    "start_time": "2021-10-14T17:52:52.739Z"
   },
   {
    "duration": 2,
    "start_time": "2021-10-14T17:52:52.763Z"
   },
   {
    "duration": 38,
    "start_time": "2021-10-14T17:52:52.766Z"
   },
   {
    "duration": 2,
    "start_time": "2021-10-14T17:52:52.805Z"
   },
   {
    "duration": 9,
    "start_time": "2021-10-14T17:52:52.809Z"
   },
   {
    "duration": 6,
    "start_time": "2021-10-14T17:52:52.819Z"
   },
   {
    "duration": 1263,
    "start_time": "2021-10-14T18:38:05.058Z"
   },
   {
    "duration": 63,
    "start_time": "2021-10-14T18:38:06.323Z"
   },
   {
    "duration": 12,
    "start_time": "2021-10-14T18:38:06.388Z"
   },
   {
    "duration": 32,
    "start_time": "2021-10-14T18:38:06.402Z"
   },
   {
    "duration": 12,
    "start_time": "2021-10-14T18:38:06.436Z"
   },
   {
    "duration": 5,
    "start_time": "2021-10-14T18:38:06.449Z"
   },
   {
    "duration": 11,
    "start_time": "2021-10-14T18:38:06.456Z"
   },
   {
    "duration": 35,
    "start_time": "2021-10-14T18:38:06.469Z"
   },
   {
    "duration": 15,
    "start_time": "2021-10-14T18:38:06.507Z"
   },
   {
    "duration": 5,
    "start_time": "2021-10-14T18:38:06.524Z"
   },
   {
    "duration": 12,
    "start_time": "2021-10-14T18:38:06.531Z"
   },
   {
    "duration": 6,
    "start_time": "2021-10-14T18:38:06.545Z"
   },
   {
    "duration": 48,
    "start_time": "2021-10-14T18:38:06.553Z"
   },
   {
    "duration": 6,
    "start_time": "2021-10-14T18:38:06.603Z"
   },
   {
    "duration": 13,
    "start_time": "2021-10-14T18:38:06.610Z"
   },
   {
    "duration": 7,
    "start_time": "2021-10-14T18:38:06.624Z"
   },
   {
    "duration": 18,
    "start_time": "2021-10-14T18:38:06.632Z"
   },
   {
    "duration": 6,
    "start_time": "2021-10-14T18:38:06.652Z"
   },
   {
    "duration": 46,
    "start_time": "2021-10-14T18:38:06.659Z"
   },
   {
    "duration": 8,
    "start_time": "2021-10-14T18:38:06.707Z"
   },
   {
    "duration": 8,
    "start_time": "2021-10-14T18:38:06.716Z"
   },
   {
    "duration": 8,
    "start_time": "2021-10-14T18:38:06.726Z"
   },
   {
    "duration": 8,
    "start_time": "2021-10-14T18:38:06.736Z"
   },
   {
    "duration": 14,
    "start_time": "2021-10-14T18:38:06.746Z"
   },
   {
    "duration": 39,
    "start_time": "2021-10-14T18:38:06.761Z"
   },
   {
    "duration": 7,
    "start_time": "2021-10-14T18:38:06.802Z"
   },
   {
    "duration": 5,
    "start_time": "2021-10-14T18:38:06.813Z"
   },
   {
    "duration": 7,
    "start_time": "2021-10-14T18:38:06.819Z"
   },
   {
    "duration": 16,
    "start_time": "2021-10-14T18:38:06.828Z"
   },
   {
    "duration": 11,
    "start_time": "2021-10-14T18:38:06.845Z"
   },
   {
    "duration": 53,
    "start_time": "2021-10-14T18:38:06.857Z"
   },
   {
    "duration": 21617,
    "start_time": "2021-10-14T18:38:06.912Z"
   },
   {
    "duration": 13,
    "start_time": "2021-10-14T18:38:28.531Z"
   },
   {
    "duration": 28,
    "start_time": "2021-10-14T18:38:28.546Z"
   },
   {
    "duration": 35,
    "start_time": "2021-10-14T18:38:28.576Z"
   },
   {
    "duration": 7,
    "start_time": "2021-10-14T18:38:28.613Z"
   },
   {
    "duration": 25,
    "start_time": "2021-10-14T18:38:28.622Z"
   },
   {
    "duration": 7,
    "start_time": "2021-10-14T18:38:28.648Z"
   },
   {
    "duration": 15026,
    "start_time": "2021-10-14T18:38:28.656Z"
   },
   {
    "duration": 29,
    "start_time": "2021-10-14T18:38:43.684Z"
   },
   {
    "duration": 3,
    "start_time": "2021-10-14T18:38:43.715Z"
   },
   {
    "duration": 16,
    "start_time": "2021-10-14T18:38:43.720Z"
   },
   {
    "duration": 34,
    "start_time": "2021-10-14T18:38:43.738Z"
   },
   {
    "duration": 5,
    "start_time": "2021-10-14T18:38:43.774Z"
   },
   {
    "duration": 8,
    "start_time": "2021-10-14T18:38:43.800Z"
   },
   {
    "duration": 10,
    "start_time": "2021-10-14T18:38:43.810Z"
   },
   {
    "duration": 12,
    "start_time": "2021-10-14T18:38:43.821Z"
   },
   {
    "duration": 2,
    "start_time": "2021-10-14T18:38:43.835Z"
   },
   {
    "duration": 25,
    "start_time": "2021-10-14T18:38:43.839Z"
   },
   {
    "duration": 2,
    "start_time": "2021-10-14T18:38:43.866Z"
   },
   {
    "duration": 34,
    "start_time": "2021-10-14T18:38:43.870Z"
   },
   {
    "duration": 2,
    "start_time": "2021-10-14T18:38:43.906Z"
   },
   {
    "duration": 12,
    "start_time": "2021-10-14T18:38:43.910Z"
   },
   {
    "duration": 11,
    "start_time": "2021-10-14T18:38:43.924Z"
   },
   {
    "duration": 1178,
    "start_time": "2021-10-14T18:42:27.949Z"
   },
   {
    "duration": 62,
    "start_time": "2021-10-14T18:42:29.129Z"
   },
   {
    "duration": 11,
    "start_time": "2021-10-14T18:42:29.193Z"
   },
   {
    "duration": 34,
    "start_time": "2021-10-14T18:42:29.206Z"
   },
   {
    "duration": 13,
    "start_time": "2021-10-14T18:42:29.242Z"
   },
   {
    "duration": 5,
    "start_time": "2021-10-14T18:42:29.257Z"
   },
   {
    "duration": 43,
    "start_time": "2021-10-14T18:42:29.263Z"
   },
   {
    "duration": 5,
    "start_time": "2021-10-14T18:42:29.308Z"
   },
   {
    "duration": 16,
    "start_time": "2021-10-14T18:42:29.315Z"
   },
   {
    "duration": 5,
    "start_time": "2021-10-14T18:42:29.332Z"
   },
   {
    "duration": 13,
    "start_time": "2021-10-14T18:42:29.339Z"
   },
   {
    "duration": 7,
    "start_time": "2021-10-14T18:42:29.354Z"
   },
   {
    "duration": 45,
    "start_time": "2021-10-14T18:42:29.362Z"
   },
   {
    "duration": 5,
    "start_time": "2021-10-14T18:42:29.409Z"
   },
   {
    "duration": 11,
    "start_time": "2021-10-14T18:42:29.416Z"
   },
   {
    "duration": 7,
    "start_time": "2021-10-14T18:42:29.428Z"
   },
   {
    "duration": 15,
    "start_time": "2021-10-14T18:42:29.437Z"
   },
   {
    "duration": 6,
    "start_time": "2021-10-14T18:42:29.454Z"
   },
   {
    "duration": 47,
    "start_time": "2021-10-14T18:42:29.461Z"
   },
   {
    "duration": 9,
    "start_time": "2021-10-14T18:42:29.509Z"
   },
   {
    "duration": 9,
    "start_time": "2021-10-14T18:42:29.519Z"
   },
   {
    "duration": 8,
    "start_time": "2021-10-14T18:42:29.530Z"
   },
   {
    "duration": 7,
    "start_time": "2021-10-14T18:42:29.542Z"
   },
   {
    "duration": 13,
    "start_time": "2021-10-14T18:42:29.551Z"
   },
   {
    "duration": 11,
    "start_time": "2021-10-14T18:42:29.600Z"
   },
   {
    "duration": 7,
    "start_time": "2021-10-14T18:42:29.613Z"
   },
   {
    "duration": 7,
    "start_time": "2021-10-14T18:42:29.622Z"
   },
   {
    "duration": 9,
    "start_time": "2021-10-14T18:42:29.631Z"
   },
   {
    "duration": 16,
    "start_time": "2021-10-14T18:42:29.642Z"
   },
   {
    "duration": 52,
    "start_time": "2021-10-14T18:42:29.660Z"
   },
   {
    "duration": 17,
    "start_time": "2021-10-14T18:42:29.713Z"
   },
   {
    "duration": 21992,
    "start_time": "2021-10-14T18:42:29.731Z"
   },
   {
    "duration": 14,
    "start_time": "2021-10-14T18:42:51.725Z"
   },
   {
    "duration": 28,
    "start_time": "2021-10-14T18:42:51.741Z"
   },
   {
    "duration": 39,
    "start_time": "2021-10-14T18:42:51.771Z"
   },
   {
    "duration": 8,
    "start_time": "2021-10-14T18:42:51.811Z"
   },
   {
    "duration": 26,
    "start_time": "2021-10-14T18:42:51.821Z"
   },
   {
    "duration": 6,
    "start_time": "2021-10-14T18:42:51.849Z"
   },
   {
    "duration": 4,
    "start_time": "2021-10-14T18:42:51.856Z"
   },
   {
    "duration": 15117,
    "start_time": "2021-10-14T18:42:51.862Z"
   },
   {
    "duration": 31,
    "start_time": "2021-10-14T18:43:06.980Z"
   },
   {
    "duration": 2,
    "start_time": "2021-10-14T18:43:07.013Z"
   },
   {
    "duration": 10,
    "start_time": "2021-10-14T18:43:07.017Z"
   },
   {
    "duration": 24,
    "start_time": "2021-10-14T18:43:07.029Z"
   },
   {
    "duration": 3,
    "start_time": "2021-10-14T18:43:07.055Z"
   },
   {
    "duration": 7,
    "start_time": "2021-10-14T18:43:07.060Z"
   },
   {
    "duration": 2,
    "start_time": "2021-10-14T18:43:07.069Z"
   },
   {
    "duration": 8,
    "start_time": "2021-10-14T18:43:07.100Z"
   },
   {
    "duration": 3,
    "start_time": "2021-10-14T18:43:07.109Z"
   },
   {
    "duration": 25,
    "start_time": "2021-10-14T18:43:07.115Z"
   },
   {
    "duration": 3,
    "start_time": "2021-10-14T18:43:07.142Z"
   },
   {
    "duration": 8,
    "start_time": "2021-10-14T18:43:07.147Z"
   },
   {
    "duration": 2,
    "start_time": "2021-10-14T18:43:07.157Z"
   },
   {
    "duration": 8,
    "start_time": "2021-10-14T18:43:07.200Z"
   },
   {
    "duration": 7,
    "start_time": "2021-10-14T18:43:07.210Z"
   },
   {
    "duration": 6,
    "start_time": "2021-10-14T18:43:37.817Z"
   },
   {
    "duration": 6,
    "start_time": "2021-10-14T18:44:10.245Z"
   },
   {
    "duration": 1183,
    "start_time": "2021-10-14T18:58:03.826Z"
   },
   {
    "duration": 69,
    "start_time": "2021-10-14T18:58:05.011Z"
   },
   {
    "duration": 11,
    "start_time": "2021-10-14T18:58:05.083Z"
   },
   {
    "duration": 33,
    "start_time": "2021-10-14T18:58:05.100Z"
   },
   {
    "duration": 13,
    "start_time": "2021-10-14T18:58:05.134Z"
   },
   {
    "duration": 5,
    "start_time": "2021-10-14T18:58:05.149Z"
   },
   {
    "duration": 43,
    "start_time": "2021-10-14T18:58:05.156Z"
   },
   {
    "duration": 6,
    "start_time": "2021-10-14T18:58:05.203Z"
   },
   {
    "duration": 18,
    "start_time": "2021-10-14T18:58:05.211Z"
   },
   {
    "duration": 5,
    "start_time": "2021-10-14T18:58:05.231Z"
   },
   {
    "duration": 14,
    "start_time": "2021-10-14T18:58:05.238Z"
   },
   {
    "duration": 7,
    "start_time": "2021-10-14T18:58:05.253Z"
   },
   {
    "duration": 43,
    "start_time": "2021-10-14T18:58:05.262Z"
   },
   {
    "duration": 6,
    "start_time": "2021-10-14T18:58:05.306Z"
   },
   {
    "duration": 11,
    "start_time": "2021-10-14T18:58:05.313Z"
   },
   {
    "duration": 6,
    "start_time": "2021-10-14T18:58:05.325Z"
   },
   {
    "duration": 16,
    "start_time": "2021-10-14T18:58:05.333Z"
   },
   {
    "duration": 7,
    "start_time": "2021-10-14T18:58:05.350Z"
   },
   {
    "duration": 42,
    "start_time": "2021-10-14T18:58:05.358Z"
   },
   {
    "duration": 7,
    "start_time": "2021-10-14T18:58:05.402Z"
   },
   {
    "duration": 9,
    "start_time": "2021-10-14T18:58:05.410Z"
   },
   {
    "duration": 10,
    "start_time": "2021-10-14T18:58:05.421Z"
   },
   {
    "duration": 7,
    "start_time": "2021-10-14T18:58:05.434Z"
   },
   {
    "duration": 23,
    "start_time": "2021-10-14T18:58:05.443Z"
   },
   {
    "duration": 10,
    "start_time": "2021-10-14T18:58:05.468Z"
   },
   {
    "duration": 6,
    "start_time": "2021-10-14T18:58:05.500Z"
   },
   {
    "duration": 6,
    "start_time": "2021-10-14T18:58:05.507Z"
   },
   {
    "duration": 9,
    "start_time": "2021-10-14T18:58:05.514Z"
   },
   {
    "duration": 16,
    "start_time": "2021-10-14T18:58:05.524Z"
   },
   {
    "duration": 9,
    "start_time": "2021-10-14T18:58:05.542Z"
   },
   {
    "duration": 50,
    "start_time": "2021-10-14T18:58:05.553Z"
   },
   {
    "duration": 21473,
    "start_time": "2021-10-14T18:58:05.604Z"
   },
   {
    "duration": 21,
    "start_time": "2021-10-14T18:58:27.079Z"
   },
   {
    "duration": 28,
    "start_time": "2021-10-14T18:58:27.102Z"
   },
   {
    "duration": 13,
    "start_time": "2021-10-14T18:58:27.131Z"
   },
   {
    "duration": 12,
    "start_time": "2021-10-14T18:58:27.146Z"
   },
   {
    "duration": 47,
    "start_time": "2021-10-14T18:58:27.159Z"
   },
   {
    "duration": 7,
    "start_time": "2021-10-14T18:58:27.207Z"
   },
   {
    "duration": 15135,
    "start_time": "2021-10-14T18:58:27.216Z"
   },
   {
    "duration": 16,
    "start_time": "2021-10-14T18:58:42.353Z"
   },
   {
    "duration": 2,
    "start_time": "2021-10-14T18:58:42.370Z"
   },
   {
    "duration": 26,
    "start_time": "2021-10-14T18:58:42.374Z"
   },
   {
    "duration": 22,
    "start_time": "2021-10-14T18:58:42.402Z"
   },
   {
    "duration": 3,
    "start_time": "2021-10-14T18:58:42.425Z"
   },
   {
    "duration": 8,
    "start_time": "2021-10-14T18:58:42.430Z"
   },
   {
    "duration": 2,
    "start_time": "2021-10-14T18:58:42.439Z"
   },
   {
    "duration": 9,
    "start_time": "2021-10-14T18:58:42.443Z"
   },
   {
    "duration": 2,
    "start_time": "2021-10-14T18:58:42.454Z"
   },
   {
    "duration": 51,
    "start_time": "2021-10-14T18:58:42.457Z"
   },
   {
    "duration": 2,
    "start_time": "2021-10-14T18:58:42.510Z"
   },
   {
    "duration": 8,
    "start_time": "2021-10-14T18:58:42.514Z"
   },
   {
    "duration": 3,
    "start_time": "2021-10-14T18:58:42.524Z"
   },
   {
    "duration": 9,
    "start_time": "2021-10-14T18:58:42.529Z"
   },
   {
    "duration": 7,
    "start_time": "2021-10-14T18:58:42.540Z"
   },
   {
    "duration": 7,
    "start_time": "2021-10-14T18:58:55.435Z"
   },
   {
    "duration": 1400,
    "start_time": "2021-10-15T19:11:25.723Z"
   },
   {
    "duration": 65,
    "start_time": "2021-10-15T19:11:27.125Z"
   },
   {
    "duration": 11,
    "start_time": "2021-10-15T19:11:27.193Z"
   },
   {
    "duration": 47,
    "start_time": "2021-10-15T19:11:27.206Z"
   },
   {
    "duration": 15,
    "start_time": "2021-10-15T19:11:27.255Z"
   },
   {
    "duration": 4,
    "start_time": "2021-10-15T19:11:27.272Z"
   },
   {
    "duration": 12,
    "start_time": "2021-10-15T19:11:27.278Z"
   },
   {
    "duration": 4,
    "start_time": "2021-10-15T19:11:27.293Z"
   },
   {
    "duration": 16,
    "start_time": "2021-10-15T19:11:27.299Z"
   },
   {
    "duration": 5,
    "start_time": "2021-10-15T19:11:27.317Z"
   },
   {
    "duration": 46,
    "start_time": "2021-10-15T19:11:27.324Z"
   },
   {
    "duration": 7,
    "start_time": "2021-10-15T19:11:27.372Z"
   },
   {
    "duration": 12,
    "start_time": "2021-10-15T19:11:27.380Z"
   },
   {
    "duration": 4,
    "start_time": "2021-10-15T19:11:27.394Z"
   },
   {
    "duration": 13,
    "start_time": "2021-10-15T19:11:27.400Z"
   },
   {
    "duration": 7,
    "start_time": "2021-10-15T19:11:27.415Z"
   },
   {
    "duration": 43,
    "start_time": "2021-10-15T19:11:27.424Z"
   },
   {
    "duration": 5,
    "start_time": "2021-10-15T19:11:27.469Z"
   },
   {
    "duration": 11,
    "start_time": "2021-10-15T19:11:27.476Z"
   },
   {
    "duration": 11,
    "start_time": "2021-10-15T19:11:27.488Z"
   },
   {
    "duration": 10,
    "start_time": "2021-10-15T19:11:27.501Z"
   },
   {
    "duration": 16,
    "start_time": "2021-10-15T19:11:27.512Z"
   },
   {
    "duration": 9,
    "start_time": "2021-10-15T19:11:27.532Z"
   },
   {
    "duration": 35,
    "start_time": "2021-10-15T19:11:27.543Z"
   },
   {
    "duration": 11,
    "start_time": "2021-10-15T19:11:27.580Z"
   },
   {
    "duration": 7,
    "start_time": "2021-10-15T19:11:27.593Z"
   },
   {
    "duration": 11,
    "start_time": "2021-10-15T19:11:27.601Z"
   },
   {
    "duration": 11,
    "start_time": "2021-10-15T19:11:27.613Z"
   },
   {
    "duration": 43,
    "start_time": "2021-10-15T19:11:27.626Z"
   },
   {
    "duration": 11,
    "start_time": "2021-10-15T19:11:27.671Z"
   },
   {
    "duration": 16,
    "start_time": "2021-10-15T19:11:27.684Z"
   },
   {
    "duration": 21471,
    "start_time": "2021-10-15T19:11:27.702Z"
   },
   {
    "duration": 14,
    "start_time": "2021-10-15T19:11:49.175Z"
   },
   {
    "duration": 29,
    "start_time": "2021-10-15T19:11:49.191Z"
   },
   {
    "duration": 14,
    "start_time": "2021-10-15T19:11:49.222Z"
   },
   {
    "duration": 33,
    "start_time": "2021-10-15T19:11:49.237Z"
   },
   {
    "duration": 27,
    "start_time": "2021-10-15T19:11:49.271Z"
   },
   {
    "duration": 7,
    "start_time": "2021-10-15T19:11:49.300Z"
   },
   {
    "duration": 13605,
    "start_time": "2021-10-15T19:11:49.308Z"
   },
   {
    "duration": 18,
    "start_time": "2021-10-15T19:12:02.915Z"
   },
   {
    "duration": 4,
    "start_time": "2021-10-15T19:12:02.936Z"
   },
   {
    "duration": 8,
    "start_time": "2021-10-15T19:12:02.963Z"
   },
   {
    "duration": 5,
    "start_time": "2021-10-15T19:12:02.973Z"
   },
   {
    "duration": 12,
    "start_time": "2021-10-15T19:12:02.980Z"
   },
   {
    "duration": 3,
    "start_time": "2021-10-15T19:12:02.994Z"
   },
   {
    "duration": 369,
    "start_time": "2021-10-15T19:12:02.999Z"
   },
   {
    "duration": -128,
    "start_time": "2021-10-15T19:12:03.499Z"
   },
   {
    "duration": -132,
    "start_time": "2021-10-15T19:12:03.504Z"
   },
   {
    "duration": -199,
    "start_time": "2021-10-15T19:12:03.572Z"
   },
   {
    "duration": -209,
    "start_time": "2021-10-15T19:12:03.584Z"
   },
   {
    "duration": -224,
    "start_time": "2021-10-15T19:12:03.600Z"
   },
   {
    "duration": 255,
    "start_time": "2021-10-15T19:46:50.887Z"
   },
   {
    "duration": 9,
    "start_time": "2021-10-15T19:47:01.492Z"
   },
   {
    "duration": 1347,
    "start_time": "2021-10-15T19:47:17.311Z"
   },
   {
    "duration": 67,
    "start_time": "2021-10-15T19:47:18.660Z"
   },
   {
    "duration": 11,
    "start_time": "2021-10-15T19:47:18.729Z"
   },
   {
    "duration": 44,
    "start_time": "2021-10-15T19:47:18.743Z"
   },
   {
    "duration": 14,
    "start_time": "2021-10-15T19:47:18.789Z"
   },
   {
    "duration": 4,
    "start_time": "2021-10-15T19:47:18.805Z"
   },
   {
    "duration": 18,
    "start_time": "2021-10-15T19:47:18.811Z"
   },
   {
    "duration": 5,
    "start_time": "2021-10-15T19:47:18.832Z"
   },
   {
    "duration": 45,
    "start_time": "2021-10-15T19:47:18.839Z"
   },
   {
    "duration": 6,
    "start_time": "2021-10-15T19:47:18.885Z"
   },
   {
    "duration": 10,
    "start_time": "2021-10-15T19:47:18.893Z"
   },
   {
    "duration": 6,
    "start_time": "2021-10-15T19:47:18.905Z"
   },
   {
    "duration": 52,
    "start_time": "2021-10-15T19:47:18.913Z"
   },
   {
    "duration": 10,
    "start_time": "2021-10-15T19:47:18.968Z"
   },
   {
    "duration": 12,
    "start_time": "2021-10-15T19:47:18.981Z"
   },
   {
    "duration": 8,
    "start_time": "2021-10-15T19:47:18.995Z"
   },
   {
    "duration": 18,
    "start_time": "2021-10-15T19:47:19.006Z"
   },
   {
    "duration": 44,
    "start_time": "2021-10-15T19:47:19.026Z"
   },
   {
    "duration": 10,
    "start_time": "2021-10-15T19:47:19.073Z"
   },
   {
    "duration": 10,
    "start_time": "2021-10-15T19:47:19.085Z"
   },
   {
    "duration": 12,
    "start_time": "2021-10-15T19:47:19.097Z"
   },
   {
    "duration": 14,
    "start_time": "2021-10-15T19:47:19.110Z"
   },
   {
    "duration": 9,
    "start_time": "2021-10-15T19:47:19.127Z"
   },
   {
    "duration": 21,
    "start_time": "2021-10-15T19:47:19.163Z"
   },
   {
    "duration": 11,
    "start_time": "2021-10-15T19:47:19.186Z"
   },
   {
    "duration": 7,
    "start_time": "2021-10-15T19:47:19.198Z"
   },
   {
    "duration": 9,
    "start_time": "2021-10-15T19:47:19.206Z"
   },
   {
    "duration": 11,
    "start_time": "2021-10-15T19:47:19.217Z"
   },
   {
    "duration": 47,
    "start_time": "2021-10-15T19:47:19.229Z"
   },
   {
    "duration": 12,
    "start_time": "2021-10-15T19:47:19.279Z"
   },
   {
    "duration": 17,
    "start_time": "2021-10-15T19:47:19.293Z"
   },
   {
    "duration": 22054,
    "start_time": "2021-10-15T19:47:19.312Z"
   },
   {
    "duration": 18,
    "start_time": "2021-10-15T19:47:41.368Z"
   },
   {
    "duration": 29,
    "start_time": "2021-10-15T19:47:41.388Z"
   },
   {
    "duration": 15,
    "start_time": "2021-10-15T19:47:41.419Z"
   },
   {
    "duration": 13,
    "start_time": "2021-10-15T19:47:41.465Z"
   },
   {
    "duration": 27,
    "start_time": "2021-10-15T19:47:41.480Z"
   },
   {
    "duration": 7,
    "start_time": "2021-10-15T19:47:41.508Z"
   },
   {
    "duration": 14451,
    "start_time": "2021-10-15T19:47:41.516Z"
   },
   {
    "duration": 23,
    "start_time": "2021-10-15T19:47:55.969Z"
   },
   {
    "duration": 6,
    "start_time": "2021-10-15T19:47:55.994Z"
   },
   {
    "duration": 13,
    "start_time": "2021-10-15T19:47:56.001Z"
   },
   {
    "duration": 7,
    "start_time": "2021-10-15T19:47:56.015Z"
   },
   {
    "duration": 421,
    "start_time": "2021-10-15T19:47:56.024Z"
   },
   {
    "duration": -564,
    "start_time": "2021-10-15T19:47:57.010Z"
   },
   {
    "duration": -566,
    "start_time": "2021-10-15T19:47:57.013Z"
   },
   {
    "duration": -568,
    "start_time": "2021-10-15T19:47:57.016Z"
   },
   {
    "duration": -570,
    "start_time": "2021-10-15T19:47:57.019Z"
   },
   {
    "duration": -572,
    "start_time": "2021-10-15T19:47:57.022Z"
   },
   {
    "duration": 9,
    "start_time": "2021-10-15T19:49:06.294Z"
   },
   {
    "duration": 22,
    "start_time": "2021-10-15T19:50:02.665Z"
   },
   {
    "duration": 7,
    "start_time": "2021-10-15T19:51:14.318Z"
   },
   {
    "duration": 8,
    "start_time": "2021-10-15T19:52:42.011Z"
   },
   {
    "duration": 7,
    "start_time": "2021-10-15T19:52:48.084Z"
   },
   {
    "duration": 268,
    "start_time": "2021-10-15T19:57:16.142Z"
   },
   {
    "duration": 265,
    "start_time": "2021-10-15T19:57:38.359Z"
   },
   {
    "duration": 262,
    "start_time": "2021-10-15T20:02:38.115Z"
   },
   {
    "duration": 6,
    "start_time": "2021-10-15T20:02:44.399Z"
   },
   {
    "duration": 5,
    "start_time": "2021-10-15T20:02:46.786Z"
   },
   {
    "duration": 283,
    "start_time": "2021-10-15T20:02:48.742Z"
   },
   {
    "duration": 85,
    "start_time": "2021-10-15T20:03:34.431Z"
   },
   {
    "duration": 291,
    "start_time": "2021-10-15T20:10:26.573Z"
   },
   {
    "duration": 253,
    "start_time": "2021-10-15T20:10:56.742Z"
   },
   {
    "duration": 261,
    "start_time": "2021-10-15T20:11:14.989Z"
   },
   {
    "duration": 303,
    "start_time": "2021-10-15T20:11:24.950Z"
   },
   {
    "duration": 256,
    "start_time": "2021-10-15T20:11:32.910Z"
   },
   {
    "duration": 258,
    "start_time": "2021-10-15T20:11:42.945Z"
   },
   {
    "duration": 257,
    "start_time": "2021-10-15T20:11:53.158Z"
   },
   {
    "duration": 246,
    "start_time": "2021-10-15T20:12:24.798Z"
   },
   {
    "duration": 8,
    "start_time": "2021-10-15T20:12:45.106Z"
   },
   {
    "duration": 6,
    "start_time": "2021-10-15T20:12:46.615Z"
   },
   {
    "duration": 7,
    "start_time": "2021-10-15T20:13:18.303Z"
   },
   {
    "duration": 8,
    "start_time": "2021-10-15T20:13:24.185Z"
   },
   {
    "duration": 22,
    "start_time": "2021-10-15T20:18:55.051Z"
   },
   {
    "duration": 15,
    "start_time": "2021-10-15T20:32:01.868Z"
   },
   {
    "duration": 7,
    "start_time": "2021-10-15T20:32:12.049Z"
   },
   {
    "duration": 277,
    "start_time": "2021-10-15T20:33:55.781Z"
   },
   {
    "duration": 258,
    "start_time": "2021-10-15T20:34:18.052Z"
   },
   {
    "duration": 8,
    "start_time": "2021-10-15T20:34:34.372Z"
   },
   {
    "duration": 253,
    "start_time": "2021-10-15T20:34:57.638Z"
   },
   {
    "duration": 22,
    "start_time": "2021-10-15T20:35:38.649Z"
   },
   {
    "duration": 271,
    "start_time": "2021-10-15T20:36:13.746Z"
   },
   {
    "duration": 283,
    "start_time": "2021-10-15T20:36:30.232Z"
   },
   {
    "duration": 18,
    "start_time": "2021-10-15T20:37:09.837Z"
   },
   {
    "duration": 20,
    "start_time": "2021-10-15T20:38:06.428Z"
   },
   {
    "duration": 21,
    "start_time": "2021-10-15T20:39:01.378Z"
   },
   {
    "duration": 19,
    "start_time": "2021-10-15T20:39:28.579Z"
   },
   {
    "duration": 21,
    "start_time": "2021-10-15T20:39:53.140Z"
   },
   {
    "duration": 20,
    "start_time": "2021-10-15T20:40:29.184Z"
   },
   {
    "duration": 265,
    "start_time": "2021-10-15T20:40:49.616Z"
   },
   {
    "duration": 275,
    "start_time": "2021-10-15T20:41:10.287Z"
   },
   {
    "duration": 330,
    "start_time": "2021-10-15T20:41:31.962Z"
   },
   {
    "duration": 6,
    "start_time": "2021-10-15T20:41:57.432Z"
   },
   {
    "duration": 277,
    "start_time": "2021-10-15T20:42:28.616Z"
   },
   {
    "duration": 271,
    "start_time": "2021-10-15T20:42:50.358Z"
   },
   {
    "duration": 19,
    "start_time": "2021-10-15T20:42:59.525Z"
   },
   {
    "duration": 32,
    "start_time": "2021-10-15T20:44:24.715Z"
   },
   {
    "duration": 11,
    "start_time": "2021-10-15T20:46:31.768Z"
   },
   {
    "duration": 8,
    "start_time": "2021-10-15T21:12:45.598Z"
   },
   {
    "duration": 8,
    "start_time": "2021-10-15T21:13:17.096Z"
   },
   {
    "duration": 1817,
    "start_time": "2021-10-15T21:30:24.477Z"
   },
   {
    "duration": 67,
    "start_time": "2021-10-15T21:30:26.296Z"
   },
   {
    "duration": 11,
    "start_time": "2021-10-15T21:30:26.366Z"
   },
   {
    "duration": 32,
    "start_time": "2021-10-15T21:30:26.379Z"
   },
   {
    "duration": 15,
    "start_time": "2021-10-15T21:30:26.413Z"
   },
   {
    "duration": 35,
    "start_time": "2021-10-15T21:30:26.430Z"
   },
   {
    "duration": 13,
    "start_time": "2021-10-15T21:30:26.467Z"
   },
   {
    "duration": 5,
    "start_time": "2021-10-15T21:30:26.484Z"
   },
   {
    "duration": 19,
    "start_time": "2021-10-15T21:30:26.492Z"
   },
   {
    "duration": 8,
    "start_time": "2021-10-15T21:30:26.513Z"
   },
   {
    "duration": 48,
    "start_time": "2021-10-15T21:30:26.523Z"
   },
   {
    "duration": 9,
    "start_time": "2021-10-15T21:30:26.573Z"
   },
   {
    "duration": 13,
    "start_time": "2021-10-15T21:30:26.584Z"
   },
   {
    "duration": 7,
    "start_time": "2021-10-15T21:30:26.599Z"
   },
   {
    "duration": 27,
    "start_time": "2021-10-15T21:30:26.608Z"
   },
   {
    "duration": 9,
    "start_time": "2021-10-15T21:30:26.662Z"
   },
   {
    "duration": 28,
    "start_time": "2021-10-15T21:30:26.673Z"
   },
   {
    "duration": 21,
    "start_time": "2021-10-15T21:30:26.703Z"
   },
   {
    "duration": 26,
    "start_time": "2021-10-15T21:30:26.727Z"
   },
   {
    "duration": 16,
    "start_time": "2021-10-15T21:30:26.756Z"
   },
   {
    "duration": 26,
    "start_time": "2021-10-15T21:30:26.774Z"
   },
   {
    "duration": 20,
    "start_time": "2021-10-15T21:30:26.802Z"
   },
   {
    "duration": 21,
    "start_time": "2021-10-15T21:30:26.827Z"
   },
   {
    "duration": 16,
    "start_time": "2021-10-15T21:30:26.851Z"
   },
   {
    "duration": 19,
    "start_time": "2021-10-15T21:30:26.869Z"
   },
   {
    "duration": 13,
    "start_time": "2021-10-15T21:30:26.890Z"
   },
   {
    "duration": 14,
    "start_time": "2021-10-15T21:30:26.905Z"
   },
   {
    "duration": 29,
    "start_time": "2021-10-15T21:30:26.921Z"
   },
   {
    "duration": 25,
    "start_time": "2021-10-15T21:30:26.952Z"
   },
   {
    "duration": 30,
    "start_time": "2021-10-15T21:30:26.980Z"
   },
   {
    "duration": 29,
    "start_time": "2021-10-15T21:30:27.012Z"
   },
   {
    "duration": 21415,
    "start_time": "2021-10-15T21:30:27.044Z"
   },
   {
    "duration": 15,
    "start_time": "2021-10-15T21:30:48.463Z"
   },
   {
    "duration": 34,
    "start_time": "2021-10-15T21:30:48.480Z"
   },
   {
    "duration": 14,
    "start_time": "2021-10-15T21:30:48.515Z"
   },
   {
    "duration": 38,
    "start_time": "2021-10-15T21:30:48.531Z"
   },
   {
    "duration": 26,
    "start_time": "2021-10-15T21:30:48.571Z"
   },
   {
    "duration": 6,
    "start_time": "2021-10-15T21:30:48.599Z"
   },
   {
    "duration": 13558,
    "start_time": "2021-10-15T21:30:48.607Z"
   },
   {
    "duration": 18,
    "start_time": "2021-10-15T21:31:02.167Z"
   },
   {
    "duration": 6,
    "start_time": "2021-10-15T21:31:02.187Z"
   },
   {
    "duration": 16,
    "start_time": "2021-10-15T21:31:02.194Z"
   },
   {
    "duration": 27,
    "start_time": "2021-10-15T21:31:02.212Z"
   },
   {
    "duration": 20,
    "start_time": "2021-10-15T21:31:02.241Z"
   },
   {
    "duration": 8,
    "start_time": "2021-10-15T21:31:02.264Z"
   },
   {
    "duration": 19,
    "start_time": "2021-10-15T21:31:02.274Z"
   },
   {
    "duration": 29,
    "start_time": "2021-10-15T21:31:02.295Z"
   },
   {
    "duration": 7,
    "start_time": "2021-10-15T21:31:02.326Z"
   },
   {
    "duration": 15,
    "start_time": "2021-10-15T21:31:02.335Z"
   },
   {
    "duration": 8,
    "start_time": "2021-10-15T21:31:02.364Z"
   },
   {
    "duration": 18,
    "start_time": "2021-10-15T21:31:02.374Z"
   },
   {
    "duration": 16,
    "start_time": "2021-10-15T21:31:02.394Z"
   },
   {
    "duration": 457,
    "start_time": "2021-10-16T09:04:14.176Z"
   },
   {
    "duration": 366,
    "start_time": "2021-10-16T09:04:32.304Z"
   },
   {
    "duration": 358,
    "start_time": "2021-10-16T09:04:49.961Z"
   },
   {
    "duration": 391,
    "start_time": "2021-10-16T09:05:35.353Z"
   },
   {
    "duration": 476,
    "start_time": "2021-10-16T09:05:56.015Z"
   },
   {
    "duration": 1298,
    "start_time": "2021-10-16T09:06:17.871Z"
   },
   {
    "duration": 61,
    "start_time": "2021-10-16T09:06:19.170Z"
   },
   {
    "duration": 9,
    "start_time": "2021-10-16T09:06:19.233Z"
   },
   {
    "duration": 33,
    "start_time": "2021-10-16T09:06:19.244Z"
   },
   {
    "duration": 12,
    "start_time": "2021-10-16T09:06:19.278Z"
   },
   {
    "duration": 4,
    "start_time": "2021-10-16T09:06:19.291Z"
   },
   {
    "duration": 12,
    "start_time": "2021-10-16T09:06:19.297Z"
   },
   {
    "duration": 6,
    "start_time": "2021-10-16T09:06:19.311Z"
   },
   {
    "duration": 18,
    "start_time": "2021-10-16T09:06:19.319Z"
   },
   {
    "duration": 4,
    "start_time": "2021-10-16T09:06:19.339Z"
   },
   {
    "duration": 35,
    "start_time": "2021-10-16T09:06:19.345Z"
   },
   {
    "duration": 7,
    "start_time": "2021-10-16T09:06:19.381Z"
   },
   {
    "duration": 11,
    "start_time": "2021-10-16T09:06:19.390Z"
   },
   {
    "duration": 5,
    "start_time": "2021-10-16T09:06:19.402Z"
   },
   {
    "duration": 9,
    "start_time": "2021-10-16T09:06:19.409Z"
   },
   {
    "duration": 6,
    "start_time": "2021-10-16T09:06:19.420Z"
   },
   {
    "duration": 49,
    "start_time": "2021-10-16T09:06:19.428Z"
   },
   {
    "duration": 10,
    "start_time": "2021-10-16T09:06:19.479Z"
   },
   {
    "duration": 13,
    "start_time": "2021-10-16T09:06:19.491Z"
   },
   {
    "duration": 9,
    "start_time": "2021-10-16T09:06:19.505Z"
   },
   {
    "duration": 10,
    "start_time": "2021-10-16T09:06:19.516Z"
   },
   {
    "duration": 11,
    "start_time": "2021-10-16T09:06:19.527Z"
   },
   {
    "duration": 8,
    "start_time": "2021-10-16T09:06:19.540Z"
   },
   {
    "duration": 28,
    "start_time": "2021-10-16T09:06:19.549Z"
   },
   {
    "duration": 11,
    "start_time": "2021-10-16T09:06:19.579Z"
   },
   {
    "duration": 6,
    "start_time": "2021-10-16T09:06:19.591Z"
   },
   {
    "duration": 7,
    "start_time": "2021-10-16T09:06:19.601Z"
   },
   {
    "duration": 10,
    "start_time": "2021-10-16T09:06:19.610Z"
   },
   {
    "duration": 15,
    "start_time": "2021-10-16T09:06:19.622Z"
   },
   {
    "duration": 43,
    "start_time": "2021-10-16T09:06:19.638Z"
   },
   {
    "duration": 14,
    "start_time": "2021-10-16T09:06:19.682Z"
   },
   {
    "duration": 20088,
    "start_time": "2021-10-16T09:06:19.698Z"
   },
   {
    "duration": 12,
    "start_time": "2021-10-16T09:06:39.788Z"
   },
   {
    "duration": 28,
    "start_time": "2021-10-16T09:06:39.802Z"
   },
   {
    "duration": 12,
    "start_time": "2021-10-16T09:06:39.832Z"
   },
   {
    "duration": 36,
    "start_time": "2021-10-16T09:06:39.846Z"
   },
   {
    "duration": 30,
    "start_time": "2021-10-16T09:06:39.884Z"
   },
   {
    "duration": 6,
    "start_time": "2021-10-16T09:06:39.915Z"
   },
   {
    "duration": 13224,
    "start_time": "2021-10-16T09:06:39.923Z"
   },
   {
    "duration": 28,
    "start_time": "2021-10-16T09:06:53.149Z"
   },
   {
    "duration": 4,
    "start_time": "2021-10-16T09:06:53.178Z"
   },
   {
    "duration": 9,
    "start_time": "2021-10-16T09:06:53.183Z"
   },
   {
    "duration": 6,
    "start_time": "2021-10-16T09:06:53.193Z"
   },
   {
    "duration": 540,
    "start_time": "2021-10-16T09:06:53.201Z"
   },
   {
    "duration": -382,
    "start_time": "2021-10-16T09:06:54.125Z"
   },
   {
    "duration": -385,
    "start_time": "2021-10-16T09:06:54.129Z"
   },
   {
    "duration": -388,
    "start_time": "2021-10-16T09:06:54.133Z"
   },
   {
    "duration": -390,
    "start_time": "2021-10-16T09:06:54.136Z"
   },
   {
    "duration": -393,
    "start_time": "2021-10-16T09:06:54.140Z"
   },
   {
    "duration": -395,
    "start_time": "2021-10-16T09:06:54.143Z"
   },
   {
    "duration": -480,
    "start_time": "2021-10-16T09:06:54.229Z"
   },
   {
    "duration": 371,
    "start_time": "2021-10-16T09:07:54.640Z"
   },
   {
    "duration": 404,
    "start_time": "2021-10-16T09:08:51.099Z"
   },
   {
    "duration": 369,
    "start_time": "2021-10-16T09:09:07.734Z"
   },
   {
    "duration": 440,
    "start_time": "2021-10-16T09:09:23.764Z"
   },
   {
    "duration": 495,
    "start_time": "2021-10-16T09:09:34.977Z"
   },
   {
    "duration": 7,
    "start_time": "2021-10-16T09:19:08.079Z"
   },
   {
    "duration": 1258,
    "start_time": "2021-10-16T10:19:44.709Z"
   },
   {
    "duration": 60,
    "start_time": "2021-10-16T10:19:45.969Z"
   },
   {
    "duration": 9,
    "start_time": "2021-10-16T10:19:46.031Z"
   },
   {
    "duration": 35,
    "start_time": "2021-10-16T10:19:46.042Z"
   },
   {
    "duration": 12,
    "start_time": "2021-10-16T10:19:46.078Z"
   },
   {
    "duration": 4,
    "start_time": "2021-10-16T10:19:46.092Z"
   },
   {
    "duration": 12,
    "start_time": "2021-10-16T10:19:46.097Z"
   },
   {
    "duration": 3,
    "start_time": "2021-10-16T10:19:46.111Z"
   },
   {
    "duration": 14,
    "start_time": "2021-10-16T10:19:46.116Z"
   },
   {
    "duration": 4,
    "start_time": "2021-10-16T10:19:46.132Z"
   },
   {
    "duration": 49,
    "start_time": "2021-10-16T10:19:46.138Z"
   },
   {
    "duration": 6,
    "start_time": "2021-10-16T10:19:46.189Z"
   },
   {
    "duration": 10,
    "start_time": "2021-10-16T10:19:46.197Z"
   },
   {
    "duration": 5,
    "start_time": "2021-10-16T10:19:46.208Z"
   },
   {
    "duration": 11,
    "start_time": "2021-10-16T10:19:46.214Z"
   },
   {
    "duration": 7,
    "start_time": "2021-10-16T10:19:46.226Z"
   },
   {
    "duration": 47,
    "start_time": "2021-10-16T10:19:46.234Z"
   },
   {
    "duration": 7,
    "start_time": "2021-10-16T10:19:46.282Z"
   },
   {
    "duration": 8,
    "start_time": "2021-10-16T10:19:46.290Z"
   },
   {
    "duration": 8,
    "start_time": "2021-10-16T10:19:46.299Z"
   },
   {
    "duration": 7,
    "start_time": "2021-10-16T10:19:46.309Z"
   },
   {
    "duration": 7,
    "start_time": "2021-10-16T10:19:46.318Z"
   },
   {
    "duration": 7,
    "start_time": "2021-10-16T10:19:46.328Z"
   },
   {
    "duration": 47,
    "start_time": "2021-10-16T10:19:46.336Z"
   },
   {
    "duration": 10,
    "start_time": "2021-10-16T10:19:46.384Z"
   },
   {
    "duration": 6,
    "start_time": "2021-10-16T10:19:46.396Z"
   },
   {
    "duration": 6,
    "start_time": "2021-10-16T10:19:46.404Z"
   },
   {
    "duration": 7,
    "start_time": "2021-10-16T10:19:46.411Z"
   },
   {
    "duration": 15,
    "start_time": "2021-10-16T10:19:46.419Z"
   },
   {
    "duration": 45,
    "start_time": "2021-10-16T10:19:46.436Z"
   },
   {
    "duration": 16,
    "start_time": "2021-10-16T10:19:46.482Z"
   },
   {
    "duration": 20942,
    "start_time": "2021-10-16T10:19:46.500Z"
   },
   {
    "duration": 16,
    "start_time": "2021-10-16T10:20:07.444Z"
   },
   {
    "duration": 34,
    "start_time": "2021-10-16T10:20:07.461Z"
   },
   {
    "duration": 12,
    "start_time": "2021-10-16T10:20:07.497Z"
   },
   {
    "duration": 6,
    "start_time": "2021-10-16T10:20:07.511Z"
   },
   {
    "duration": 24,
    "start_time": "2021-10-16T10:20:07.518Z"
   },
   {
    "duration": 34,
    "start_time": "2021-10-16T10:20:07.544Z"
   },
   {
    "duration": 13033,
    "start_time": "2021-10-16T10:20:07.580Z"
   },
   {
    "duration": 17,
    "start_time": "2021-10-16T10:20:20.615Z"
   },
   {
    "duration": 3,
    "start_time": "2021-10-16T10:20:20.634Z"
   },
   {
    "duration": 14,
    "start_time": "2021-10-16T10:20:20.639Z"
   },
   {
    "duration": 22,
    "start_time": "2021-10-16T10:20:20.655Z"
   },
   {
    "duration": 7,
    "start_time": "2021-10-16T10:20:20.678Z"
   },
   {
    "duration": 6,
    "start_time": "2021-10-16T10:20:20.686Z"
   },
   {
    "duration": 8,
    "start_time": "2021-10-16T10:20:20.693Z"
   },
   {
    "duration": 19,
    "start_time": "2021-10-16T10:20:20.703Z"
   },
   {
    "duration": 6,
    "start_time": "2021-10-16T10:20:20.723Z"
   },
   {
    "duration": 9,
    "start_time": "2021-10-16T10:20:20.731Z"
   },
   {
    "duration": 39,
    "start_time": "2021-10-16T10:20:20.741Z"
   },
   {
    "duration": 10,
    "start_time": "2021-10-16T10:22:19.692Z"
   },
   {
    "duration": 16,
    "start_time": "2021-10-16T10:22:26.741Z"
   },
   {
    "duration": 1299,
    "start_time": "2021-10-16T10:23:16.505Z"
   },
   {
    "duration": 59,
    "start_time": "2021-10-16T10:23:17.806Z"
   },
   {
    "duration": 10,
    "start_time": "2021-10-16T10:23:17.867Z"
   },
   {
    "duration": 29,
    "start_time": "2021-10-16T10:23:17.878Z"
   },
   {
    "duration": 14,
    "start_time": "2021-10-16T10:23:17.909Z"
   },
   {
    "duration": 4,
    "start_time": "2021-10-16T10:23:17.925Z"
   },
   {
    "duration": 11,
    "start_time": "2021-10-16T10:23:17.930Z"
   },
   {
    "duration": 4,
    "start_time": "2021-10-16T10:23:17.943Z"
   },
   {
    "duration": 15,
    "start_time": "2021-10-16T10:23:17.977Z"
   },
   {
    "duration": 5,
    "start_time": "2021-10-16T10:23:17.993Z"
   },
   {
    "duration": 13,
    "start_time": "2021-10-16T10:23:17.999Z"
   },
   {
    "duration": 6,
    "start_time": "2021-10-16T10:23:18.013Z"
   },
   {
    "duration": 11,
    "start_time": "2021-10-16T10:23:18.020Z"
   },
   {
    "duration": 5,
    "start_time": "2021-10-16T10:23:18.033Z"
   },
   {
    "duration": 45,
    "start_time": "2021-10-16T10:23:18.040Z"
   },
   {
    "duration": 6,
    "start_time": "2021-10-16T10:23:18.087Z"
   },
   {
    "duration": 16,
    "start_time": "2021-10-16T10:23:18.095Z"
   },
   {
    "duration": 6,
    "start_time": "2021-10-16T10:23:18.113Z"
   },
   {
    "duration": 13,
    "start_time": "2021-10-16T10:23:18.120Z"
   },
   {
    "duration": 8,
    "start_time": "2021-10-16T10:23:18.135Z"
   },
   {
    "duration": 32,
    "start_time": "2021-10-16T10:23:18.145Z"
   },
   {
    "duration": 12,
    "start_time": "2021-10-16T10:23:18.179Z"
   },
   {
    "duration": 8,
    "start_time": "2021-10-16T10:23:18.194Z"
   },
   {
    "duration": 16,
    "start_time": "2021-10-16T10:23:18.204Z"
   },
   {
    "duration": 10,
    "start_time": "2021-10-16T10:23:18.222Z"
   },
   {
    "duration": 7,
    "start_time": "2021-10-16T10:23:18.233Z"
   },
   {
    "duration": 38,
    "start_time": "2021-10-16T10:23:18.242Z"
   },
   {
    "duration": 8,
    "start_time": "2021-10-16T10:23:18.282Z"
   },
   {
    "duration": 17,
    "start_time": "2021-10-16T10:23:18.292Z"
   },
   {
    "duration": 12,
    "start_time": "2021-10-16T10:23:18.311Z"
   },
   {
    "duration": 16,
    "start_time": "2021-10-16T10:23:18.324Z"
   },
   {
    "duration": 21487,
    "start_time": "2021-10-16T10:23:18.377Z"
   },
   {
    "duration": 21,
    "start_time": "2021-10-16T10:23:39.866Z"
   },
   {
    "duration": 26,
    "start_time": "2021-10-16T10:23:39.888Z"
   },
   {
    "duration": 12,
    "start_time": "2021-10-16T10:23:39.916Z"
   },
   {
    "duration": 6,
    "start_time": "2021-10-16T10:23:39.930Z"
   },
   {
    "duration": 46,
    "start_time": "2021-10-16T10:23:39.938Z"
   },
   {
    "duration": 6,
    "start_time": "2021-10-16T10:23:39.986Z"
   },
   {
    "duration": 13205,
    "start_time": "2021-10-16T10:23:39.993Z"
   },
   {
    "duration": 15,
    "start_time": "2021-10-16T10:23:53.199Z"
   },
   {
    "duration": 3,
    "start_time": "2021-10-16T10:23:53.216Z"
   },
   {
    "duration": 10,
    "start_time": "2021-10-16T10:23:53.221Z"
   },
   {
    "duration": 7,
    "start_time": "2021-10-16T10:23:53.233Z"
   },
   {
    "duration": 9,
    "start_time": "2021-10-16T10:23:53.241Z"
   },
   {
    "duration": 30,
    "start_time": "2021-10-16T10:23:53.251Z"
   },
   {
    "duration": 6,
    "start_time": "2021-10-16T10:23:53.283Z"
   },
   {
    "duration": 22,
    "start_time": "2021-10-16T10:23:53.291Z"
   },
   {
    "duration": 6,
    "start_time": "2021-10-16T10:23:53.315Z"
   },
   {
    "duration": 8,
    "start_time": "2021-10-16T10:23:53.322Z"
   },
   {
    "duration": 6,
    "start_time": "2021-10-16T10:23:53.332Z"
   },
   {
    "duration": 1314,
    "start_time": "2021-10-16T10:24:17.952Z"
   },
   {
    "duration": 60,
    "start_time": "2021-10-16T10:24:19.268Z"
   },
   {
    "duration": 10,
    "start_time": "2021-10-16T10:24:19.330Z"
   },
   {
    "duration": 39,
    "start_time": "2021-10-16T10:24:19.342Z"
   },
   {
    "duration": 13,
    "start_time": "2021-10-16T10:24:19.383Z"
   },
   {
    "duration": 5,
    "start_time": "2021-10-16T10:24:19.397Z"
   },
   {
    "duration": 12,
    "start_time": "2021-10-16T10:24:19.403Z"
   },
   {
    "duration": 4,
    "start_time": "2021-10-16T10:24:19.418Z"
   },
   {
    "duration": 17,
    "start_time": "2021-10-16T10:24:19.424Z"
   },
   {
    "duration": 35,
    "start_time": "2021-10-16T10:24:19.442Z"
   },
   {
    "duration": 10,
    "start_time": "2021-10-16T10:24:19.479Z"
   },
   {
    "duration": 7,
    "start_time": "2021-10-16T10:24:19.490Z"
   },
   {
    "duration": 11,
    "start_time": "2021-10-16T10:24:19.498Z"
   },
   {
    "duration": 5,
    "start_time": "2021-10-16T10:24:19.510Z"
   },
   {
    "duration": 13,
    "start_time": "2021-10-16T10:24:19.516Z"
   },
   {
    "duration": 6,
    "start_time": "2021-10-16T10:24:19.531Z"
   },
   {
    "duration": 51,
    "start_time": "2021-10-16T10:24:19.538Z"
   },
   {
    "duration": 7,
    "start_time": "2021-10-16T10:24:19.591Z"
   },
   {
    "duration": 10,
    "start_time": "2021-10-16T10:24:19.599Z"
   },
   {
    "duration": 7,
    "start_time": "2021-10-16T10:24:19.610Z"
   },
   {
    "duration": 5,
    "start_time": "2021-10-16T10:24:19.619Z"
   },
   {
    "duration": 11,
    "start_time": "2021-10-16T10:24:19.626Z"
   },
   {
    "duration": 6,
    "start_time": "2021-10-16T10:24:19.640Z"
   },
   {
    "duration": 12,
    "start_time": "2021-10-16T10:24:19.677Z"
   },
   {
    "duration": 15,
    "start_time": "2021-10-16T10:24:19.690Z"
   },
   {
    "duration": 6,
    "start_time": "2021-10-16T10:24:19.707Z"
   },
   {
    "duration": 7,
    "start_time": "2021-10-16T10:24:19.714Z"
   },
   {
    "duration": 11,
    "start_time": "2021-10-16T10:24:19.722Z"
   },
   {
    "duration": 16,
    "start_time": "2021-10-16T10:24:19.735Z"
   },
   {
    "duration": 10,
    "start_time": "2021-10-16T10:24:19.776Z"
   },
   {
    "duration": 15,
    "start_time": "2021-10-16T10:24:19.788Z"
   },
   {
    "duration": 20594,
    "start_time": "2021-10-16T10:24:19.805Z"
   },
   {
    "duration": 13,
    "start_time": "2021-10-16T10:24:40.401Z"
   },
   {
    "duration": 27,
    "start_time": "2021-10-16T10:24:40.416Z"
   },
   {
    "duration": 33,
    "start_time": "2021-10-16T10:24:40.444Z"
   },
   {
    "duration": 6,
    "start_time": "2021-10-16T10:24:40.479Z"
   },
   {
    "duration": 23,
    "start_time": "2021-10-16T10:24:40.487Z"
   },
   {
    "duration": 5,
    "start_time": "2021-10-16T10:24:40.512Z"
   },
   {
    "duration": 13174,
    "start_time": "2021-10-16T10:24:40.519Z"
   },
   {
    "duration": 16,
    "start_time": "2021-10-16T10:24:53.695Z"
   },
   {
    "duration": 4,
    "start_time": "2021-10-16T10:24:53.712Z"
   },
   {
    "duration": 7,
    "start_time": "2021-10-16T10:24:53.717Z"
   },
   {
    "duration": 6,
    "start_time": "2021-10-16T10:24:53.726Z"
   },
   {
    "duration": 5,
    "start_time": "2021-10-16T10:24:53.734Z"
   },
   {
    "duration": 36,
    "start_time": "2021-10-16T10:24:53.741Z"
   },
   {
    "duration": 6,
    "start_time": "2021-10-16T10:24:53.779Z"
   },
   {
    "duration": 19,
    "start_time": "2021-10-16T10:24:53.787Z"
   },
   {
    "duration": 6,
    "start_time": "2021-10-16T10:24:53.808Z"
   },
   {
    "duration": 7,
    "start_time": "2021-10-16T10:24:53.816Z"
   },
   {
    "duration": 8,
    "start_time": "2021-10-16T10:24:53.825Z"
   },
   {
    "duration": 1297,
    "start_time": "2021-10-16T10:25:10.172Z"
   },
   {
    "duration": 60,
    "start_time": "2021-10-16T10:25:11.471Z"
   },
   {
    "duration": 9,
    "start_time": "2021-10-16T10:25:11.533Z"
   },
   {
    "duration": 34,
    "start_time": "2021-10-16T10:25:11.544Z"
   },
   {
    "duration": 12,
    "start_time": "2021-10-16T10:25:11.580Z"
   },
   {
    "duration": 5,
    "start_time": "2021-10-16T10:25:11.593Z"
   },
   {
    "duration": 13,
    "start_time": "2021-10-16T10:25:11.599Z"
   },
   {
    "duration": 4,
    "start_time": "2021-10-16T10:25:11.614Z"
   },
   {
    "duration": 14,
    "start_time": "2021-10-16T10:25:11.620Z"
   },
   {
    "duration": 42,
    "start_time": "2021-10-16T10:25:11.636Z"
   },
   {
    "duration": 9,
    "start_time": "2021-10-16T10:25:11.679Z"
   },
   {
    "duration": 6,
    "start_time": "2021-10-16T10:25:11.690Z"
   },
   {
    "duration": 10,
    "start_time": "2021-10-16T10:25:11.697Z"
   },
   {
    "duration": 4,
    "start_time": "2021-10-16T10:25:11.709Z"
   },
   {
    "duration": 10,
    "start_time": "2021-10-16T10:25:11.715Z"
   },
   {
    "duration": 6,
    "start_time": "2021-10-16T10:25:11.726Z"
   },
   {
    "duration": 52,
    "start_time": "2021-10-16T10:25:11.733Z"
   },
   {
    "duration": 16,
    "start_time": "2021-10-16T10:25:11.787Z"
   },
   {
    "duration": 24,
    "start_time": "2021-10-16T10:25:11.805Z"
   },
   {
    "duration": 23,
    "start_time": "2021-10-16T10:25:11.830Z"
   },
   {
    "duration": 18,
    "start_time": "2021-10-16T10:25:11.855Z"
   },
   {
    "duration": 14,
    "start_time": "2021-10-16T10:25:11.875Z"
   },
   {
    "duration": 16,
    "start_time": "2021-10-16T10:25:11.893Z"
   },
   {
    "duration": 15,
    "start_time": "2021-10-16T10:25:11.911Z"
   },
   {
    "duration": 12,
    "start_time": "2021-10-16T10:25:11.927Z"
   },
   {
    "duration": 17,
    "start_time": "2021-10-16T10:25:11.941Z"
   },
   {
    "duration": 18,
    "start_time": "2021-10-16T10:25:11.959Z"
   },
   {
    "duration": 11,
    "start_time": "2021-10-16T10:25:11.978Z"
   },
   {
    "duration": 31,
    "start_time": "2021-10-16T10:25:11.990Z"
   },
   {
    "duration": 11,
    "start_time": "2021-10-16T10:25:12.023Z"
   },
   {
    "duration": 28,
    "start_time": "2021-10-16T10:25:12.036Z"
   },
   {
    "duration": 20987,
    "start_time": "2021-10-16T10:25:12.066Z"
   },
   {
    "duration": 25,
    "start_time": "2021-10-16T10:25:33.055Z"
   },
   {
    "duration": 27,
    "start_time": "2021-10-16T10:25:33.082Z"
   },
   {
    "duration": 13,
    "start_time": "2021-10-16T10:25:33.110Z"
   },
   {
    "duration": 9,
    "start_time": "2021-10-16T10:25:33.124Z"
   },
   {
    "duration": 47,
    "start_time": "2021-10-16T10:25:33.135Z"
   },
   {
    "duration": 6,
    "start_time": "2021-10-16T10:25:33.184Z"
   },
   {
    "duration": 13216,
    "start_time": "2021-10-16T10:25:33.192Z"
   },
   {
    "duration": 17,
    "start_time": "2021-10-16T10:25:46.409Z"
   },
   {
    "duration": 4,
    "start_time": "2021-10-16T10:25:46.427Z"
   },
   {
    "duration": 13,
    "start_time": "2021-10-16T10:25:46.433Z"
   },
   {
    "duration": 6,
    "start_time": "2021-10-16T10:25:46.448Z"
   },
   {
    "duration": 24,
    "start_time": "2021-10-16T10:25:46.456Z"
   },
   {
    "duration": 8,
    "start_time": "2021-10-16T10:25:46.482Z"
   },
   {
    "duration": 6,
    "start_time": "2021-10-16T10:25:46.492Z"
   },
   {
    "duration": 24,
    "start_time": "2021-10-16T10:25:46.500Z"
   },
   {
    "duration": 7,
    "start_time": "2021-10-16T10:25:46.526Z"
   },
   {
    "duration": 43,
    "start_time": "2021-10-16T10:25:46.534Z"
   },
   {
    "duration": 6,
    "start_time": "2021-10-16T10:25:46.579Z"
   },
   {
    "duration": 1243,
    "start_time": "2021-10-16T10:25:58.709Z"
   },
   {
    "duration": 61,
    "start_time": "2021-10-16T10:25:59.954Z"
   },
   {
    "duration": 12,
    "start_time": "2021-10-16T10:26:00.017Z"
   },
   {
    "duration": 46,
    "start_time": "2021-10-16T10:26:00.031Z"
   },
   {
    "duration": 14,
    "start_time": "2021-10-16T10:26:00.080Z"
   },
   {
    "duration": 5,
    "start_time": "2021-10-16T10:26:00.096Z"
   },
   {
    "duration": 13,
    "start_time": "2021-10-16T10:26:00.103Z"
   },
   {
    "duration": 4,
    "start_time": "2021-10-16T10:26:00.118Z"
   },
   {
    "duration": 17,
    "start_time": "2021-10-16T10:26:00.124Z"
   },
   {
    "duration": 34,
    "start_time": "2021-10-16T10:26:00.143Z"
   },
   {
    "duration": 10,
    "start_time": "2021-10-16T10:26:00.179Z"
   },
   {
    "duration": 6,
    "start_time": "2021-10-16T10:26:00.190Z"
   },
   {
    "duration": 12,
    "start_time": "2021-10-16T10:26:00.198Z"
   },
   {
    "duration": 5,
    "start_time": "2021-10-16T10:26:00.212Z"
   },
   {
    "duration": 18,
    "start_time": "2021-10-16T10:26:00.218Z"
   },
   {
    "duration": 8,
    "start_time": "2021-10-16T10:26:00.237Z"
   },
   {
    "duration": 44,
    "start_time": "2021-10-16T10:26:00.246Z"
   },
   {
    "duration": 15,
    "start_time": "2021-10-16T10:26:00.291Z"
   },
   {
    "duration": 19,
    "start_time": "2021-10-16T10:26:00.307Z"
   },
   {
    "duration": 19,
    "start_time": "2021-10-16T10:26:00.327Z"
   },
   {
    "duration": 18,
    "start_time": "2021-10-16T10:26:00.347Z"
   },
   {
    "duration": 16,
    "start_time": "2021-10-16T10:26:00.366Z"
   },
   {
    "duration": 14,
    "start_time": "2021-10-16T10:26:00.386Z"
   },
   {
    "duration": 15,
    "start_time": "2021-10-16T10:26:00.402Z"
   },
   {
    "duration": 13,
    "start_time": "2021-10-16T10:26:00.418Z"
   },
   {
    "duration": 9,
    "start_time": "2021-10-16T10:26:00.432Z"
   },
   {
    "duration": 10,
    "start_time": "2021-10-16T10:26:00.442Z"
   },
   {
    "duration": 27,
    "start_time": "2021-10-16T10:26:00.453Z"
   },
   {
    "duration": 17,
    "start_time": "2021-10-16T10:26:00.481Z"
   },
   {
    "duration": 10,
    "start_time": "2021-10-16T10:26:00.500Z"
   },
   {
    "duration": 30,
    "start_time": "2021-10-16T10:26:00.511Z"
   },
   {
    "duration": 20937,
    "start_time": "2021-10-16T10:26:00.543Z"
   },
   {
    "duration": 12,
    "start_time": "2021-10-16T10:26:21.482Z"
   },
   {
    "duration": 28,
    "start_time": "2021-10-16T10:26:21.495Z"
   },
   {
    "duration": 12,
    "start_time": "2021-10-16T10:26:21.525Z"
   },
   {
    "duration": 8,
    "start_time": "2021-10-16T10:26:21.538Z"
   },
   {
    "duration": 49,
    "start_time": "2021-10-16T10:26:21.547Z"
   },
   {
    "duration": 6,
    "start_time": "2021-10-16T10:26:21.598Z"
   },
   {
    "duration": 13064,
    "start_time": "2021-10-16T10:26:21.605Z"
   },
   {
    "duration": 20,
    "start_time": "2021-10-16T10:26:34.671Z"
   },
   {
    "duration": 4,
    "start_time": "2021-10-16T10:26:34.693Z"
   },
   {
    "duration": 7,
    "start_time": "2021-10-16T10:26:34.699Z"
   },
   {
    "duration": 7,
    "start_time": "2021-10-16T10:26:34.708Z"
   },
   {
    "duration": 8,
    "start_time": "2021-10-16T10:26:34.716Z"
   },
   {
    "duration": 7,
    "start_time": "2021-10-16T10:26:34.725Z"
   },
   {
    "duration": 6,
    "start_time": "2021-10-16T10:26:34.734Z"
   },
   {
    "duration": 52,
    "start_time": "2021-10-16T10:26:34.742Z"
   },
   {
    "duration": 6,
    "start_time": "2021-10-16T10:26:34.796Z"
   },
   {
    "duration": 8,
    "start_time": "2021-10-16T10:26:34.803Z"
   },
   {
    "duration": 6,
    "start_time": "2021-10-16T10:26:34.812Z"
   },
   {
    "duration": 7342,
    "start_time": "2021-10-16T10:35:20.653Z"
   },
   {
    "duration": 1237,
    "start_time": "2021-10-16T10:37:13.329Z"
   },
   {
    "duration": 59,
    "start_time": "2021-10-16T10:37:14.568Z"
   },
   {
    "duration": 10,
    "start_time": "2021-10-16T10:37:14.629Z"
   },
   {
    "duration": 39,
    "start_time": "2021-10-16T10:37:14.641Z"
   },
   {
    "duration": 12,
    "start_time": "2021-10-16T10:37:14.681Z"
   },
   {
    "duration": 4,
    "start_time": "2021-10-16T10:37:14.695Z"
   },
   {
    "duration": 16,
    "start_time": "2021-10-16T10:37:14.701Z"
   },
   {
    "duration": 5,
    "start_time": "2021-10-16T10:37:14.719Z"
   },
   {
    "duration": 15,
    "start_time": "2021-10-16T10:37:14.726Z"
   },
   {
    "duration": 34,
    "start_time": "2021-10-16T10:37:14.743Z"
   },
   {
    "duration": 10,
    "start_time": "2021-10-16T10:37:14.779Z"
   },
   {
    "duration": 7,
    "start_time": "2021-10-16T10:37:14.790Z"
   },
   {
    "duration": 12,
    "start_time": "2021-10-16T10:37:14.798Z"
   },
   {
    "duration": 6,
    "start_time": "2021-10-16T10:37:14.811Z"
   },
   {
    "duration": 12,
    "start_time": "2021-10-16T10:37:14.818Z"
   },
   {
    "duration": 7,
    "start_time": "2021-10-16T10:37:14.831Z"
   },
   {
    "duration": 48,
    "start_time": "2021-10-16T10:37:14.840Z"
   },
   {
    "duration": 5,
    "start_time": "2021-10-16T10:37:14.889Z"
   },
   {
    "duration": 13,
    "start_time": "2021-10-16T10:37:14.896Z"
   },
   {
    "duration": 9,
    "start_time": "2021-10-16T10:37:14.910Z"
   },
   {
    "duration": 7,
    "start_time": "2021-10-16T10:37:14.921Z"
   },
   {
    "duration": 8,
    "start_time": "2021-10-16T10:37:14.929Z"
   },
   {
    "duration": 8,
    "start_time": "2021-10-16T10:37:14.940Z"
   },
   {
    "duration": 37,
    "start_time": "2021-10-16T10:37:14.950Z"
   },
   {
    "duration": 10,
    "start_time": "2021-10-16T10:37:14.989Z"
   },
   {
    "duration": 8,
    "start_time": "2021-10-16T10:37:15.001Z"
   },
   {
    "duration": 25,
    "start_time": "2021-10-16T10:37:15.011Z"
   },
   {
    "duration": 10,
    "start_time": "2021-10-16T10:37:15.038Z"
   },
   {
    "duration": 19,
    "start_time": "2021-10-16T10:37:15.050Z"
   },
   {
    "duration": 10,
    "start_time": "2021-10-16T10:37:15.076Z"
   },
   {
    "duration": 17,
    "start_time": "2021-10-16T10:37:15.087Z"
   },
   {
    "duration": 20792,
    "start_time": "2021-10-16T10:37:15.106Z"
   },
   {
    "duration": 13,
    "start_time": "2021-10-16T10:37:35.899Z"
   },
   {
    "duration": 33,
    "start_time": "2021-10-16T10:37:35.913Z"
   },
   {
    "duration": 12,
    "start_time": "2021-10-16T10:37:35.947Z"
   },
   {
    "duration": 6,
    "start_time": "2021-10-16T10:37:35.977Z"
   },
   {
    "duration": 30,
    "start_time": "2021-10-16T10:37:35.984Z"
   },
   {
    "duration": 6,
    "start_time": "2021-10-16T10:37:36.015Z"
   },
   {
    "duration": 14120,
    "start_time": "2021-10-16T10:37:36.023Z"
   },
   {
    "duration": 17,
    "start_time": "2021-10-16T10:37:50.145Z"
   },
   {
    "duration": 15,
    "start_time": "2021-10-16T10:37:50.164Z"
   },
   {
    "duration": 8,
    "start_time": "2021-10-16T10:37:50.181Z"
   },
   {
    "duration": 6,
    "start_time": "2021-10-16T10:37:50.191Z"
   },
   {
    "duration": 10,
    "start_time": "2021-10-16T10:37:50.199Z"
   },
   {
    "duration": 8,
    "start_time": "2021-10-16T10:37:50.211Z"
   },
   {
    "duration": 7,
    "start_time": "2021-10-16T10:37:50.221Z"
   },
   {
    "duration": 64,
    "start_time": "2021-10-16T10:37:50.230Z"
   },
   {
    "duration": 7,
    "start_time": "2021-10-16T10:37:50.296Z"
   },
   {
    "duration": 8,
    "start_time": "2021-10-16T10:37:50.305Z"
   },
   {
    "duration": 6,
    "start_time": "2021-10-16T10:37:50.315Z"
   },
   {
    "duration": 7,
    "start_time": "2021-10-16T11:06:23.970Z"
   },
   {
    "duration": 463,
    "start_time": "2021-10-16T11:06:52.977Z"
   },
   {
    "duration": 6,
    "start_time": "2021-10-16T11:07:08.495Z"
   },
   {
    "duration": 427,
    "start_time": "2021-10-16T11:08:22.117Z"
   },
   {
    "duration": 13,
    "start_time": "2021-10-16T11:11:44.591Z"
   },
   {
    "duration": 9,
    "start_time": "2021-10-16T11:19:09.925Z"
   },
   {
    "duration": 7,
    "start_time": "2021-10-16T11:19:25.180Z"
   },
   {
    "duration": 8,
    "start_time": "2021-10-16T11:19:49.428Z"
   },
   {
    "duration": 1339,
    "start_time": "2021-10-16T11:20:38.392Z"
   },
   {
    "duration": 63,
    "start_time": "2021-10-16T11:20:39.733Z"
   },
   {
    "duration": 10,
    "start_time": "2021-10-16T11:20:39.799Z"
   },
   {
    "duration": 30,
    "start_time": "2021-10-16T11:20:39.812Z"
   },
   {
    "duration": 33,
    "start_time": "2021-10-16T11:20:39.844Z"
   },
   {
    "duration": 4,
    "start_time": "2021-10-16T11:20:39.879Z"
   },
   {
    "duration": 13,
    "start_time": "2021-10-16T11:20:39.885Z"
   },
   {
    "duration": 4,
    "start_time": "2021-10-16T11:20:39.901Z"
   },
   {
    "duration": 17,
    "start_time": "2021-10-16T11:20:39.907Z"
   },
   {
    "duration": 5,
    "start_time": "2021-10-16T11:20:39.925Z"
   },
   {
    "duration": 10,
    "start_time": "2021-10-16T11:20:39.932Z"
   },
   {
    "duration": 7,
    "start_time": "2021-10-16T11:20:39.977Z"
   },
   {
    "duration": 18,
    "start_time": "2021-10-16T11:20:39.985Z"
   },
   {
    "duration": 5,
    "start_time": "2021-10-16T11:20:40.005Z"
   },
   {
    "duration": 11,
    "start_time": "2021-10-16T11:20:40.012Z"
   },
   {
    "duration": 6,
    "start_time": "2021-10-16T11:20:40.025Z"
   },
   {
    "duration": 45,
    "start_time": "2021-10-16T11:20:40.033Z"
   },
   {
    "duration": 7,
    "start_time": "2021-10-16T11:20:40.079Z"
   },
   {
    "duration": 10,
    "start_time": "2021-10-16T11:20:40.087Z"
   },
   {
    "duration": 9,
    "start_time": "2021-10-16T11:20:40.098Z"
   },
   {
    "duration": 5,
    "start_time": "2021-10-16T11:20:40.109Z"
   },
   {
    "duration": 8,
    "start_time": "2021-10-16T11:20:40.116Z"
   },
   {
    "duration": 7,
    "start_time": "2021-10-16T11:20:40.128Z"
   },
   {
    "duration": 48,
    "start_time": "2021-10-16T11:20:40.137Z"
   },
   {
    "duration": 10,
    "start_time": "2021-10-16T11:20:40.186Z"
   },
   {
    "duration": 6,
    "start_time": "2021-10-16T11:20:40.198Z"
   },
   {
    "duration": 7,
    "start_time": "2021-10-16T11:20:40.206Z"
   },
   {
    "duration": 7,
    "start_time": "2021-10-16T11:20:40.214Z"
   },
   {
    "duration": 15,
    "start_time": "2021-10-16T11:20:40.223Z"
   },
   {
    "duration": 45,
    "start_time": "2021-10-16T11:20:40.240Z"
   },
   {
    "duration": 15,
    "start_time": "2021-10-16T11:20:40.287Z"
   },
   {
    "duration": 20905,
    "start_time": "2021-10-16T11:20:40.304Z"
   },
   {
    "duration": 13,
    "start_time": "2021-10-16T11:21:01.210Z"
   },
   {
    "duration": 34,
    "start_time": "2021-10-16T11:21:01.224Z"
   },
   {
    "duration": 26,
    "start_time": "2021-10-16T11:21:01.260Z"
   },
   {
    "duration": 14,
    "start_time": "2021-10-16T11:21:01.288Z"
   },
   {
    "duration": 45,
    "start_time": "2021-10-16T11:21:01.303Z"
   },
   {
    "duration": 6,
    "start_time": "2021-10-16T11:21:01.349Z"
   },
   {
    "duration": 14050,
    "start_time": "2021-10-16T11:21:01.357Z"
   },
   {
    "duration": 18,
    "start_time": "2021-10-16T11:21:15.409Z"
   },
   {
    "duration": 4,
    "start_time": "2021-10-16T11:21:15.428Z"
   },
   {
    "duration": 11,
    "start_time": "2021-10-16T11:21:15.434Z"
   },
   {
    "duration": 32,
    "start_time": "2021-10-16T11:21:15.446Z"
   },
   {
    "duration": 7,
    "start_time": "2021-10-16T11:21:15.479Z"
   },
   {
    "duration": 12,
    "start_time": "2021-10-16T11:21:15.487Z"
   },
   {
    "duration": 7,
    "start_time": "2021-10-16T11:21:15.500Z"
   },
   {
    "duration": 8,
    "start_time": "2021-10-16T11:21:15.509Z"
   },
   {
    "duration": 8,
    "start_time": "2021-10-16T11:21:15.519Z"
   },
   {
    "duration": 48,
    "start_time": "2021-10-16T11:21:15.529Z"
   },
   {
    "duration": 8,
    "start_time": "2021-10-16T11:21:15.579Z"
   },
   {
    "duration": 7,
    "start_time": "2021-10-16T11:21:15.589Z"
   },
   {
    "duration": 7,
    "start_time": "2021-10-16T11:21:15.598Z"
   },
   {
    "duration": 6,
    "start_time": "2021-10-16T11:21:41.699Z"
   },
   {
    "duration": 5,
    "start_time": "2021-10-16T11:23:46.144Z"
   },
   {
    "duration": 6,
    "start_time": "2021-10-16T11:24:10.127Z"
   },
   {
    "duration": 8,
    "start_time": "2021-10-16T11:29:49.707Z"
   },
   {
    "duration": 1422,
    "start_time": "2021-10-16T11:34:02.644Z"
   },
   {
    "duration": 61,
    "start_time": "2021-10-16T11:34:04.068Z"
   },
   {
    "duration": 10,
    "start_time": "2021-10-16T11:34:04.131Z"
   },
   {
    "duration": 48,
    "start_time": "2021-10-16T11:34:04.143Z"
   },
   {
    "duration": 12,
    "start_time": "2021-10-16T11:34:04.193Z"
   },
   {
    "duration": 18,
    "start_time": "2021-10-16T11:34:04.206Z"
   },
   {
    "duration": 22,
    "start_time": "2021-10-16T11:34:04.225Z"
   },
   {
    "duration": 1861,
    "start_time": "2021-10-16T13:43:02.497Z"
   },
   {
    "duration": 101,
    "start_time": "2021-10-16T13:43:04.360Z"
   },
   {
    "duration": 17,
    "start_time": "2021-10-16T13:43:04.465Z"
   },
   {
    "duration": 52,
    "start_time": "2021-10-16T13:43:04.485Z"
   },
   {
    "duration": 17,
    "start_time": "2021-10-16T13:43:04.557Z"
   },
   {
    "duration": 10,
    "start_time": "2021-10-16T13:43:04.577Z"
   },
   {
    "duration": 26,
    "start_time": "2021-10-16T13:43:04.589Z"
   },
   {
    "duration": 22,
    "start_time": "2021-10-16T13:43:04.618Z"
   },
   {
    "duration": 39,
    "start_time": "2021-10-16T13:43:04.656Z"
   },
   {
    "duration": 9,
    "start_time": "2021-10-16T13:43:04.698Z"
   },
   {
    "duration": 23,
    "start_time": "2021-10-16T13:43:04.709Z"
   },
   {
    "duration": 9,
    "start_time": "2021-10-16T13:43:04.735Z"
   },
   {
    "duration": 21,
    "start_time": "2021-10-16T13:43:04.756Z"
   },
   {
    "duration": 16,
    "start_time": "2021-10-16T13:43:04.779Z"
   },
   {
    "duration": 28,
    "start_time": "2021-10-16T13:43:04.798Z"
   },
   {
    "duration": 30,
    "start_time": "2021-10-16T13:43:04.829Z"
   },
   {
    "duration": 26,
    "start_time": "2021-10-16T13:43:04.861Z"
   },
   {
    "duration": 19,
    "start_time": "2021-10-16T13:43:04.889Z"
   },
   {
    "duration": 25,
    "start_time": "2021-10-16T13:43:04.911Z"
   },
   {
    "duration": 30,
    "start_time": "2021-10-16T13:43:04.939Z"
   },
   {
    "duration": 35,
    "start_time": "2021-10-16T13:43:04.972Z"
   },
   {
    "duration": 22,
    "start_time": "2021-10-16T13:43:05.010Z"
   },
   {
    "duration": 10,
    "start_time": "2021-10-16T13:43:05.039Z"
   },
   {
    "duration": 38,
    "start_time": "2021-10-16T13:43:05.053Z"
   },
   {
    "duration": 16,
    "start_time": "2021-10-16T13:43:05.095Z"
   },
   {
    "duration": 10,
    "start_time": "2021-10-16T13:43:05.114Z"
   },
   {
    "duration": 16,
    "start_time": "2021-10-16T13:43:05.126Z"
   },
   {
    "duration": 13,
    "start_time": "2021-10-16T13:43:05.158Z"
   },
   {
    "duration": 23,
    "start_time": "2021-10-16T13:43:05.174Z"
   },
   {
    "duration": 13,
    "start_time": "2021-10-16T13:43:05.200Z"
   },
   {
    "duration": 69,
    "start_time": "2021-10-16T13:43:05.215Z"
   },
   {
    "duration": 31045,
    "start_time": "2021-10-16T13:43:05.286Z"
   },
   {
    "duration": 27,
    "start_time": "2021-10-16T13:43:36.334Z"
   },
   {
    "duration": 43,
    "start_time": "2021-10-16T13:43:36.363Z"
   },
   {
    "duration": 19,
    "start_time": "2021-10-16T13:43:36.409Z"
   },
   {
    "duration": 10,
    "start_time": "2021-10-16T13:43:36.457Z"
   },
   {
    "duration": 36,
    "start_time": "2021-10-16T13:43:36.469Z"
   },
   {
    "duration": 9,
    "start_time": "2021-10-16T13:43:36.507Z"
   },
   {
    "duration": 24401,
    "start_time": "2021-10-16T13:43:36.518Z"
   },
   {
    "duration": 45,
    "start_time": "2021-10-16T13:44:00.921Z"
   },
   {
    "duration": 6,
    "start_time": "2021-10-16T13:44:00.968Z"
   },
   {
    "duration": 22,
    "start_time": "2021-10-16T13:44:00.976Z"
   },
   {
    "duration": 15,
    "start_time": "2021-10-16T13:44:01.000Z"
   },
   {
    "duration": 16,
    "start_time": "2021-10-16T13:44:01.017Z"
   },
   {
    "duration": 25,
    "start_time": "2021-10-16T13:44:01.035Z"
   },
   {
    "duration": 13,
    "start_time": "2021-10-16T13:44:01.062Z"
   },
   {
    "duration": 17,
    "start_time": "2021-10-16T13:44:01.078Z"
   },
   {
    "duration": 10,
    "start_time": "2021-10-16T13:44:01.098Z"
   },
   {
    "duration": 16,
    "start_time": "2021-10-16T13:44:01.110Z"
   },
   {
    "duration": 33,
    "start_time": "2021-10-16T13:44:01.159Z"
   },
   {
    "duration": 10,
    "start_time": "2021-10-16T13:44:01.194Z"
   },
   {
    "duration": 21,
    "start_time": "2021-10-16T13:44:01.207Z"
   },
   {
    "duration": 34,
    "start_time": "2021-10-16T13:44:01.231Z"
   },
   {
    "duration": 31,
    "start_time": "2021-10-16T13:44:01.268Z"
   },
   {
    "duration": 10,
    "start_time": "2021-10-16T13:45:56.734Z"
   },
   {
    "duration": 1748,
    "start_time": "2021-10-16T13:46:09.164Z"
   },
   {
    "duration": 87,
    "start_time": "2021-10-16T13:46:10.915Z"
   },
   {
    "duration": 15,
    "start_time": "2021-10-16T13:46:11.006Z"
   },
   {
    "duration": 64,
    "start_time": "2021-10-16T13:46:11.025Z"
   },
   {
    "duration": 17,
    "start_time": "2021-10-16T13:46:11.091Z"
   },
   {
    "duration": 7,
    "start_time": "2021-10-16T13:46:11.111Z"
   },
   {
    "duration": 46,
    "start_time": "2021-10-16T13:46:11.120Z"
   },
   {
    "duration": 7,
    "start_time": "2021-10-16T13:46:11.169Z"
   },
   {
    "duration": 29,
    "start_time": "2021-10-16T13:46:11.179Z"
   },
   {
    "duration": 8,
    "start_time": "2021-10-16T13:46:11.210Z"
   },
   {
    "duration": 48,
    "start_time": "2021-10-16T13:46:11.220Z"
   },
   {
    "duration": 10,
    "start_time": "2021-10-16T13:46:11.270Z"
   },
   {
    "duration": 15,
    "start_time": "2021-10-16T13:46:11.282Z"
   },
   {
    "duration": 8,
    "start_time": "2021-10-16T13:46:11.299Z"
   },
   {
    "duration": 51,
    "start_time": "2021-10-16T13:46:11.309Z"
   },
   {
    "duration": 9,
    "start_time": "2021-10-16T13:46:11.362Z"
   },
   {
    "duration": 32,
    "start_time": "2021-10-16T13:46:11.373Z"
   },
   {
    "duration": 7,
    "start_time": "2021-10-16T13:46:11.407Z"
   },
   {
    "duration": 42,
    "start_time": "2021-10-16T13:46:11.416Z"
   },
   {
    "duration": 10,
    "start_time": "2021-10-16T13:46:11.460Z"
   },
   {
    "duration": 24,
    "start_time": "2021-10-16T13:46:11.472Z"
   },
   {
    "duration": 13,
    "start_time": "2021-10-16T13:46:11.499Z"
   },
   {
    "duration": 8,
    "start_time": "2021-10-16T13:46:11.518Z"
   },
   {
    "duration": 46,
    "start_time": "2021-10-16T13:46:11.529Z"
   },
   {
    "duration": 14,
    "start_time": "2021-10-16T13:46:11.577Z"
   },
   {
    "duration": 12,
    "start_time": "2021-10-16T13:46:11.593Z"
   },
   {
    "duration": 12,
    "start_time": "2021-10-16T13:46:11.607Z"
   },
   {
    "duration": 40,
    "start_time": "2021-10-16T13:46:11.621Z"
   },
   {
    "duration": 23,
    "start_time": "2021-10-16T13:46:11.663Z"
   },
   {
    "duration": 14,
    "start_time": "2021-10-16T13:46:11.689Z"
   },
   {
    "duration": 53,
    "start_time": "2021-10-16T13:46:11.705Z"
   },
   {
    "duration": 31164,
    "start_time": "2021-10-16T13:46:11.761Z"
   },
   {
    "duration": 32,
    "start_time": "2021-10-16T13:46:42.927Z"
   },
   {
    "duration": 44,
    "start_time": "2021-10-16T13:46:42.961Z"
   },
   {
    "duration": 20,
    "start_time": "2021-10-16T13:46:43.007Z"
   },
   {
    "duration": 35,
    "start_time": "2021-10-16T13:46:43.030Z"
   },
   {
    "duration": 39,
    "start_time": "2021-10-16T13:46:43.067Z"
   },
   {
    "duration": 9,
    "start_time": "2021-10-16T13:46:43.108Z"
   },
   {
    "duration": 24640,
    "start_time": "2021-10-16T13:46:43.119Z"
   },
   {
    "duration": 27,
    "start_time": "2021-10-16T13:47:07.762Z"
   },
   {
    "duration": 6,
    "start_time": "2021-10-16T13:47:07.792Z"
   },
   {
    "duration": 28,
    "start_time": "2021-10-16T13:47:07.800Z"
   },
   {
    "duration": 33,
    "start_time": "2021-10-16T13:47:07.830Z"
   },
   {
    "duration": 17,
    "start_time": "2021-10-16T13:47:07.865Z"
   },
   {
    "duration": 9,
    "start_time": "2021-10-16T13:47:07.884Z"
   },
   {
    "duration": 12,
    "start_time": "2021-10-16T13:47:07.895Z"
   },
   {
    "duration": 22,
    "start_time": "2021-10-16T13:47:07.909Z"
   },
   {
    "duration": 30,
    "start_time": "2021-10-16T13:47:07.933Z"
   },
   {
    "duration": 14,
    "start_time": "2021-10-16T13:47:07.966Z"
   },
   {
    "duration": 33,
    "start_time": "2021-10-16T13:47:07.983Z"
   },
   {
    "duration": 44,
    "start_time": "2021-10-16T13:47:08.019Z"
   },
   {
    "duration": 13,
    "start_time": "2021-10-16T13:47:08.066Z"
   },
   {
    "duration": 12,
    "start_time": "2021-10-16T13:47:08.081Z"
   },
   {
    "duration": 10,
    "start_time": "2021-10-16T13:47:08.096Z"
   },
   {
    "duration": 10,
    "start_time": "2021-10-16T13:47:08.158Z"
   },
   {
    "duration": 564,
    "start_time": "2021-10-16T13:55:09.006Z"
   },
   {
    "duration": 431,
    "start_time": "2021-10-16T13:55:27.636Z"
   },
   {
    "duration": 1712,
    "start_time": "2021-10-16T13:56:06.673Z"
   },
   {
    "duration": 91,
    "start_time": "2021-10-16T13:56:08.388Z"
   },
   {
    "duration": 14,
    "start_time": "2021-10-16T13:56:08.482Z"
   },
   {
    "duration": 69,
    "start_time": "2021-10-16T13:56:08.499Z"
   },
   {
    "duration": 16,
    "start_time": "2021-10-16T13:56:08.571Z"
   },
   {
    "duration": 6,
    "start_time": "2021-10-16T13:56:08.590Z"
   },
   {
    "duration": 24,
    "start_time": "2021-10-16T13:56:08.598Z"
   },
   {
    "duration": 35,
    "start_time": "2021-10-16T13:56:08.625Z"
   },
   {
    "duration": 21,
    "start_time": "2021-10-16T13:56:08.663Z"
   },
   {
    "duration": 8,
    "start_time": "2021-10-16T13:56:08.686Z"
   },
   {
    "duration": 19,
    "start_time": "2021-10-16T13:56:08.696Z"
   },
   {
    "duration": 42,
    "start_time": "2021-10-16T13:56:08.718Z"
   },
   {
    "duration": 16,
    "start_time": "2021-10-16T13:56:08.763Z"
   },
   {
    "duration": 9,
    "start_time": "2021-10-16T13:56:08.781Z"
   },
   {
    "duration": 13,
    "start_time": "2021-10-16T13:56:08.792Z"
   },
   {
    "duration": 55,
    "start_time": "2021-10-16T13:56:08.808Z"
   },
   {
    "duration": 22,
    "start_time": "2021-10-16T13:56:08.865Z"
   },
   {
    "duration": 7,
    "start_time": "2021-10-16T13:56:08.890Z"
   },
   {
    "duration": 15,
    "start_time": "2021-10-16T13:56:08.900Z"
   },
   {
    "duration": 43,
    "start_time": "2021-10-16T13:56:08.917Z"
   },
   {
    "duration": 11,
    "start_time": "2021-10-16T13:56:08.963Z"
   },
   {
    "duration": 11,
    "start_time": "2021-10-16T13:56:08.977Z"
   },
   {
    "duration": 9,
    "start_time": "2021-10-16T13:56:08.994Z"
   },
   {
    "duration": 59,
    "start_time": "2021-10-16T13:56:09.006Z"
   },
   {
    "duration": 14,
    "start_time": "2021-10-16T13:56:09.067Z"
   },
   {
    "duration": 8,
    "start_time": "2021-10-16T13:56:09.084Z"
   },
   {
    "duration": 9,
    "start_time": "2021-10-16T13:56:09.094Z"
   },
   {
    "duration": 52,
    "start_time": "2021-10-16T13:56:09.105Z"
   },
   {
    "duration": 23,
    "start_time": "2021-10-16T13:56:09.160Z"
   },
   {
    "duration": 16,
    "start_time": "2021-10-16T13:56:09.185Z"
   },
   {
    "duration": 22,
    "start_time": "2021-10-16T13:56:09.204Z"
   },
   {
    "duration": 31537,
    "start_time": "2021-10-16T13:56:09.257Z"
   },
   {
    "duration": 19,
    "start_time": "2021-10-16T13:56:40.796Z"
   },
   {
    "duration": 63,
    "start_time": "2021-10-16T13:56:40.818Z"
   },
   {
    "duration": 20,
    "start_time": "2021-10-16T13:56:40.883Z"
   },
   {
    "duration": 9,
    "start_time": "2021-10-16T13:56:40.906Z"
   },
   {
    "duration": 66,
    "start_time": "2021-10-16T13:56:40.918Z"
   },
   {
    "duration": 9,
    "start_time": "2021-10-16T13:56:40.986Z"
   },
   {
    "duration": 25140,
    "start_time": "2021-10-16T13:56:40.998Z"
   },
   {
    "duration": 41,
    "start_time": "2021-10-16T13:57:06.141Z"
   },
   {
    "duration": 5,
    "start_time": "2021-10-16T13:57:06.185Z"
   },
   {
    "duration": 14,
    "start_time": "2021-10-16T13:57:06.192Z"
   },
   {
    "duration": 24,
    "start_time": "2021-10-16T13:57:06.208Z"
   },
   {
    "duration": 35,
    "start_time": "2021-10-16T13:57:06.234Z"
   },
   {
    "duration": 10,
    "start_time": "2021-10-16T13:57:06.271Z"
   },
   {
    "duration": 9,
    "start_time": "2021-10-16T13:57:06.283Z"
   },
   {
    "duration": 15,
    "start_time": "2021-10-16T13:57:06.294Z"
   },
   {
    "duration": 9,
    "start_time": "2021-10-16T13:57:06.311Z"
   },
   {
    "duration": 43,
    "start_time": "2021-10-16T13:57:06.323Z"
   },
   {
    "duration": 34,
    "start_time": "2021-10-16T13:57:06.369Z"
   },
   {
    "duration": 11,
    "start_time": "2021-10-16T13:57:06.406Z"
   },
   {
    "duration": 43,
    "start_time": "2021-10-16T13:57:06.420Z"
   },
   {
    "duration": 13,
    "start_time": "2021-10-16T13:57:06.465Z"
   },
   {
    "duration": 9,
    "start_time": "2021-10-16T13:57:06.480Z"
   },
   {
    "duration": 9,
    "start_time": "2021-10-16T13:57:06.491Z"
   },
   {
    "duration": 1273,
    "start_time": "2021-10-17T06:48:30.465Z"
   },
   {
    "duration": 62,
    "start_time": "2021-10-17T06:48:31.740Z"
   },
   {
    "duration": 10,
    "start_time": "2021-10-17T06:48:31.803Z"
   },
   {
    "duration": 32,
    "start_time": "2021-10-17T06:48:31.815Z"
   },
   {
    "duration": 12,
    "start_time": "2021-10-17T06:48:31.848Z"
   },
   {
    "duration": 5,
    "start_time": "2021-10-17T06:48:31.861Z"
   },
   {
    "duration": 10,
    "start_time": "2021-10-17T06:48:31.892Z"
   },
   {
    "duration": 3,
    "start_time": "2021-10-17T06:48:31.905Z"
   },
   {
    "duration": 15,
    "start_time": "2021-10-17T06:48:31.910Z"
   },
   {
    "duration": 4,
    "start_time": "2021-10-17T06:48:31.927Z"
   },
   {
    "duration": 11,
    "start_time": "2021-10-17T06:48:31.932Z"
   },
   {
    "duration": 6,
    "start_time": "2021-10-17T06:48:31.944Z"
   },
   {
    "duration": 43,
    "start_time": "2021-10-17T06:48:31.951Z"
   },
   {
    "duration": 6,
    "start_time": "2021-10-17T06:48:31.995Z"
   },
   {
    "duration": 16,
    "start_time": "2021-10-17T06:48:32.002Z"
   },
   {
    "duration": 7,
    "start_time": "2021-10-17T06:48:32.019Z"
   },
   {
    "duration": 23,
    "start_time": "2021-10-17T06:48:32.027Z"
   },
   {
    "duration": 8,
    "start_time": "2021-10-17T06:48:32.051Z"
   },
   {
    "duration": 33,
    "start_time": "2021-10-17T06:48:32.060Z"
   },
   {
    "duration": 9,
    "start_time": "2021-10-17T06:48:32.094Z"
   },
   {
    "duration": 8,
    "start_time": "2021-10-17T06:48:32.104Z"
   },
   {
    "duration": 8,
    "start_time": "2021-10-17T06:48:32.114Z"
   },
   {
    "duration": 6,
    "start_time": "2021-10-17T06:48:32.125Z"
   },
   {
    "duration": 12,
    "start_time": "2021-10-17T06:48:32.133Z"
   },
   {
    "duration": 10,
    "start_time": "2021-10-17T06:48:32.146Z"
   },
   {
    "duration": 34,
    "start_time": "2021-10-17T06:48:32.157Z"
   },
   {
    "duration": 5,
    "start_time": "2021-10-17T06:48:32.193Z"
   },
   {
    "duration": 9,
    "start_time": "2021-10-17T06:48:32.199Z"
   },
   {
    "duration": 15,
    "start_time": "2021-10-17T06:48:32.210Z"
   },
   {
    "duration": 12,
    "start_time": "2021-10-17T06:48:32.227Z"
   },
   {
    "duration": 16,
    "start_time": "2021-10-17T06:48:32.240Z"
   },
   {
    "duration": 20566,
    "start_time": "2021-10-17T06:48:32.258Z"
   },
   {
    "duration": 13,
    "start_time": "2021-10-17T06:48:52.826Z"
   },
   {
    "duration": 25,
    "start_time": "2021-10-17T06:48:52.841Z"
   },
   {
    "duration": 29,
    "start_time": "2021-10-17T06:48:52.868Z"
   },
   {
    "duration": 9,
    "start_time": "2021-10-17T06:48:52.898Z"
   },
   {
    "duration": 23,
    "start_time": "2021-10-17T06:48:52.908Z"
   },
   {
    "duration": 5,
    "start_time": "2021-10-17T06:48:52.933Z"
   },
   {
    "duration": 13768,
    "start_time": "2021-10-17T06:48:52.940Z"
   },
   {
    "duration": 19,
    "start_time": "2021-10-17T06:49:06.710Z"
   },
   {
    "duration": 4,
    "start_time": "2021-10-17T06:49:06.731Z"
   },
   {
    "duration": 18,
    "start_time": "2021-10-17T06:49:06.737Z"
   },
   {
    "duration": 24,
    "start_time": "2021-10-17T06:49:06.756Z"
   },
   {
    "duration": 20,
    "start_time": "2021-10-17T06:49:06.782Z"
   },
   {
    "duration": 21,
    "start_time": "2021-10-17T06:49:06.804Z"
   },
   {
    "duration": 9,
    "start_time": "2021-10-17T06:49:06.827Z"
   },
   {
    "duration": 27,
    "start_time": "2021-10-17T06:49:06.838Z"
   },
   {
    "duration": 16,
    "start_time": "2021-10-17T06:49:06.867Z"
   },
   {
    "duration": 25,
    "start_time": "2021-10-17T06:49:06.885Z"
   },
   {
    "duration": 32,
    "start_time": "2021-10-17T06:49:06.912Z"
   },
   {
    "duration": 10,
    "start_time": "2021-10-17T06:49:06.946Z"
   },
   {
    "duration": 21,
    "start_time": "2021-10-17T06:49:06.958Z"
   },
   {
    "duration": 20,
    "start_time": "2021-10-17T06:49:06.980Z"
   },
   {
    "duration": 23,
    "start_time": "2021-10-17T06:49:07.002Z"
   },
   {
    "duration": 19,
    "start_time": "2021-10-17T06:49:07.027Z"
   },
   {
    "duration": 5,
    "start_time": "2021-10-17T06:57:55.564Z"
   },
   {
    "duration": 11,
    "start_time": "2021-10-17T06:58:19.412Z"
   },
   {
    "duration": 14,
    "start_time": "2021-10-17T06:58:29.627Z"
   },
   {
    "duration": 754,
    "start_time": "2021-10-17T07:00:53.446Z"
   },
   {
    "duration": 294,
    "start_time": "2021-10-20T13:35:06.499Z"
   },
   {
    "duration": 1493,
    "start_time": "2021-10-20T13:35:39.810Z"
   },
   {
    "duration": 88,
    "start_time": "2021-10-20T13:35:41.305Z"
   },
   {
    "duration": 17,
    "start_time": "2021-10-20T13:35:41.397Z"
   },
   {
    "duration": 103,
    "start_time": "2021-10-20T13:35:41.417Z"
   },
   {
    "duration": 22,
    "start_time": "2021-10-20T13:35:41.523Z"
   },
   {
    "duration": 7,
    "start_time": "2021-10-20T13:35:41.547Z"
   },
   {
    "duration": 15,
    "start_time": "2021-10-20T13:35:41.583Z"
   },
   {
    "duration": 7,
    "start_time": "2021-10-20T13:35:41.601Z"
   },
   {
    "duration": 24,
    "start_time": "2021-10-20T13:35:41.611Z"
   },
   {
    "duration": 7,
    "start_time": "2021-10-20T13:35:41.638Z"
   },
   {
    "duration": 15,
    "start_time": "2021-10-20T13:35:41.683Z"
   },
   {
    "duration": 12,
    "start_time": "2021-10-20T13:35:41.700Z"
   },
   {
    "duration": 17,
    "start_time": "2021-10-20T13:35:41.715Z"
   },
   {
    "duration": 49,
    "start_time": "2021-10-20T13:35:41.735Z"
   },
   {
    "duration": 14,
    "start_time": "2021-10-20T13:35:41.787Z"
   },
   {
    "duration": 9,
    "start_time": "2021-10-20T13:35:41.803Z"
   },
   {
    "duration": 35,
    "start_time": "2021-10-20T13:35:41.815Z"
   },
   {
    "duration": 37,
    "start_time": "2021-10-20T13:35:41.852Z"
   },
   {
    "duration": 13,
    "start_time": "2021-10-20T13:35:41.892Z"
   },
   {
    "duration": 19,
    "start_time": "2021-10-20T13:35:41.907Z"
   },
   {
    "duration": 16,
    "start_time": "2021-10-20T13:35:41.929Z"
   },
   {
    "duration": 39,
    "start_time": "2021-10-20T13:35:41.947Z"
   },
   {
    "duration": 10,
    "start_time": "2021-10-20T13:35:41.991Z"
   },
   {
    "duration": 25,
    "start_time": "2021-10-20T13:35:42.005Z"
   },
   {
    "duration": 49,
    "start_time": "2021-10-20T13:35:42.033Z"
   },
   {
    "duration": 11,
    "start_time": "2021-10-20T13:35:42.085Z"
   },
   {
    "duration": 9,
    "start_time": "2021-10-20T13:35:42.098Z"
   },
   {
    "duration": 12,
    "start_time": "2021-10-20T13:35:42.110Z"
   },
   {
    "duration": 62,
    "start_time": "2021-10-20T13:35:42.124Z"
   },
   {
    "duration": 14,
    "start_time": "2021-10-20T13:35:42.189Z"
   },
   {
    "duration": 27,
    "start_time": "2021-10-20T13:35:42.206Z"
   },
   {
    "duration": 30517,
    "start_time": "2021-10-20T13:35:42.235Z"
   },
   {
    "duration": 36,
    "start_time": "2021-10-20T13:36:12.755Z"
   },
   {
    "duration": 56,
    "start_time": "2021-10-20T13:36:12.794Z"
   },
   {
    "duration": 39,
    "start_time": "2021-10-20T13:36:12.852Z"
   },
   {
    "duration": 9,
    "start_time": "2021-10-20T13:36:12.894Z"
   },
   {
    "duration": 40,
    "start_time": "2021-10-20T13:36:12.905Z"
   },
   {
    "duration": 37,
    "start_time": "2021-10-20T13:36:12.948Z"
   },
   {
    "duration": 24834,
    "start_time": "2021-10-20T13:36:12.987Z"
   },
   {
    "duration": 28,
    "start_time": "2021-10-20T13:36:37.823Z"
   },
   {
    "duration": 29,
    "start_time": "2021-10-20T13:36:37.853Z"
   },
   {
    "duration": 8,
    "start_time": "2021-10-20T13:36:37.885Z"
   },
   {
    "duration": 15,
    "start_time": "2021-10-20T13:36:37.895Z"
   },
   {
    "duration": 17,
    "start_time": "2021-10-20T13:36:37.912Z"
   },
   {
    "duration": 12,
    "start_time": "2021-10-20T13:36:37.931Z"
   },
   {
    "duration": 39,
    "start_time": "2021-10-20T13:36:37.945Z"
   },
   {
    "duration": 10,
    "start_time": "2021-10-20T13:36:37.986Z"
   },
   {
    "duration": 10,
    "start_time": "2021-10-20T13:36:37.999Z"
   },
   {
    "duration": 12,
    "start_time": "2021-10-20T13:36:38.012Z"
   },
   {
    "duration": 65,
    "start_time": "2021-10-20T13:36:38.027Z"
   },
   {
    "duration": 9,
    "start_time": "2021-10-20T13:36:38.095Z"
   },
   {
    "duration": 19,
    "start_time": "2021-10-20T13:36:38.106Z"
   },
   {
    "duration": 14,
    "start_time": "2021-10-20T13:36:38.127Z"
   },
   {
    "duration": 10,
    "start_time": "2021-10-20T13:36:38.144Z"
   },
   {
    "duration": 13,
    "start_time": "2021-10-20T13:36:38.183Z"
   },
   {
    "duration": 783,
    "start_time": "2021-10-20T13:39:51.875Z"
   },
   {
    "duration": 35,
    "start_time": "2021-10-20T13:42:06.573Z"
   },
   {
    "duration": 1491,
    "start_time": "2021-10-20T13:42:13.694Z"
   },
   {
    "duration": 89,
    "start_time": "2021-10-20T13:42:15.188Z"
   },
   {
    "duration": 13,
    "start_time": "2021-10-20T13:42:15.284Z"
   },
   {
    "duration": 87,
    "start_time": "2021-10-20T13:42:15.300Z"
   },
   {
    "duration": 748,
    "start_time": "2021-10-20T13:42:15.389Z"
   },
   {
    "duration": 17,
    "start_time": "2021-10-20T13:42:16.140Z"
   },
   {
    "duration": 25,
    "start_time": "2021-10-20T13:42:16.159Z"
   },
   {
    "duration": 25,
    "start_time": "2021-10-20T13:42:16.188Z"
   },
   {
    "duration": 6,
    "start_time": "2021-10-20T13:42:16.216Z"
   },
   {
    "duration": 20,
    "start_time": "2021-10-20T13:42:16.225Z"
   },
   {
    "duration": 35,
    "start_time": "2021-10-20T13:42:16.248Z"
   },
   {
    "duration": 14,
    "start_time": "2021-10-20T13:42:16.285Z"
   },
   {
    "duration": 8,
    "start_time": "2021-10-20T13:42:16.301Z"
   },
   {
    "duration": 16,
    "start_time": "2021-10-20T13:42:16.311Z"
   },
   {
    "duration": 9,
    "start_time": "2021-10-20T13:42:16.329Z"
   },
   {
    "duration": 15,
    "start_time": "2021-10-20T13:42:16.382Z"
   },
   {
    "duration": 11,
    "start_time": "2021-10-20T13:42:16.400Z"
   },
   {
    "duration": 24,
    "start_time": "2021-10-20T13:42:16.414Z"
   },
   {
    "duration": 47,
    "start_time": "2021-10-20T13:42:16.441Z"
   },
   {
    "duration": 13,
    "start_time": "2021-10-20T13:42:16.492Z"
   },
   {
    "duration": 12,
    "start_time": "2021-10-20T13:42:16.508Z"
   },
   {
    "duration": 9,
    "start_time": "2021-10-20T13:42:16.523Z"
   },
   {
    "duration": 13,
    "start_time": "2021-10-20T13:42:16.584Z"
   },
   {
    "duration": 12,
    "start_time": "2021-10-20T13:42:16.600Z"
   },
   {
    "duration": 22,
    "start_time": "2021-10-20T13:42:16.614Z"
   },
   {
    "duration": 48,
    "start_time": "2021-10-20T13:42:16.638Z"
   },
   {
    "duration": 10,
    "start_time": "2021-10-20T13:42:16.688Z"
   },
   {
    "duration": 10,
    "start_time": "2021-10-20T13:42:16.701Z"
   },
   {
    "duration": 11,
    "start_time": "2021-10-20T13:42:16.714Z"
   },
   {
    "duration": 64,
    "start_time": "2021-10-20T13:42:16.728Z"
   },
   {
    "duration": 14,
    "start_time": "2021-10-20T13:42:16.794Z"
   },
   {
    "duration": 23,
    "start_time": "2021-10-20T13:42:16.810Z"
   },
   {
    "duration": 31595,
    "start_time": "2021-10-20T13:42:16.836Z"
   },
   {
    "duration": 26,
    "start_time": "2021-10-20T13:42:48.434Z"
   },
   {
    "duration": 82,
    "start_time": "2021-10-20T13:42:48.463Z"
   },
   {
    "duration": 36,
    "start_time": "2021-10-20T13:42:48.548Z"
   },
   {
    "duration": 13,
    "start_time": "2021-10-20T13:42:48.587Z"
   },
   {
    "duration": 39,
    "start_time": "2021-10-20T13:42:48.602Z"
   },
   {
    "duration": 41,
    "start_time": "2021-10-20T13:42:48.643Z"
   },
   {
    "duration": 26666,
    "start_time": "2021-10-20T13:42:48.686Z"
   },
   {
    "duration": 41,
    "start_time": "2021-10-20T13:43:15.354Z"
   },
   {
    "duration": 6,
    "start_time": "2021-10-20T13:43:15.398Z"
   },
   {
    "duration": 14,
    "start_time": "2021-10-20T13:43:15.407Z"
   },
   {
    "duration": 11,
    "start_time": "2021-10-20T13:43:15.423Z"
   },
   {
    "duration": 11,
    "start_time": "2021-10-20T13:43:15.437Z"
   },
   {
    "duration": 13,
    "start_time": "2021-10-20T13:43:15.484Z"
   },
   {
    "duration": 9,
    "start_time": "2021-10-20T13:43:15.500Z"
   },
   {
    "duration": 19,
    "start_time": "2021-10-20T13:43:15.511Z"
   },
   {
    "duration": 23,
    "start_time": "2021-10-20T13:43:15.532Z"
   },
   {
    "duration": 30,
    "start_time": "2021-10-20T13:43:15.557Z"
   },
   {
    "duration": 44,
    "start_time": "2021-10-20T13:43:15.589Z"
   },
   {
    "duration": 9,
    "start_time": "2021-10-20T13:43:15.635Z"
   },
   {
    "duration": 36,
    "start_time": "2021-10-20T13:43:15.646Z"
   },
   {
    "duration": 12,
    "start_time": "2021-10-20T13:43:15.685Z"
   },
   {
    "duration": 13,
    "start_time": "2021-10-20T13:43:15.699Z"
   },
   {
    "duration": 19,
    "start_time": "2021-10-20T13:43:15.715Z"
   },
   {
    "duration": 30,
    "start_time": "2021-10-20T14:12:25.405Z"
   },
   {
    "duration": 30,
    "start_time": "2021-10-20T14:12:50.474Z"
   },
   {
    "duration": 60,
    "start_time": "2021-10-20T14:14:29.276Z"
   },
   {
    "duration": 32,
    "start_time": "2021-10-20T14:14:37.271Z"
   },
   {
    "duration": 419,
    "start_time": "2021-10-20T14:14:56.324Z"
   },
   {
    "duration": 33,
    "start_time": "2021-10-20T14:15:03.857Z"
   },
   {
    "duration": 56,
    "start_time": "2021-10-20T14:15:38.450Z"
   },
   {
    "duration": 813,
    "start_time": "2021-10-20T14:16:25.277Z"
   },
   {
    "duration": 1232,
    "start_time": "2021-10-20T14:16:32.210Z"
   },
   {
    "duration": 237,
    "start_time": "2021-10-20T14:16:48.714Z"
   },
   {
    "duration": 272,
    "start_time": "2021-10-20T14:16:53.066Z"
   },
   {
    "duration": 56,
    "start_time": "2021-10-20T14:17:04.870Z"
   },
   {
    "duration": 1514,
    "start_time": "2021-10-20T14:17:14.963Z"
   },
   {
    "duration": 93,
    "start_time": "2021-10-20T14:17:16.480Z"
   },
   {
    "duration": 22,
    "start_time": "2021-10-20T14:17:16.576Z"
   },
   {
    "duration": 103,
    "start_time": "2021-10-20T14:17:16.601Z"
   },
   {
    "duration": 758,
    "start_time": "2021-10-20T14:17:16.706Z"
   },
   {
    "duration": 17,
    "start_time": "2021-10-20T14:17:17.466Z"
   },
   {
    "duration": 3,
    "start_time": "2021-10-20T14:17:17.485Z"
   },
   {
    "duration": 21,
    "start_time": "2021-10-20T14:17:17.490Z"
   },
   {
    "duration": 3,
    "start_time": "2021-10-20T14:17:17.515Z"
   },
   {
    "duration": 35,
    "start_time": "2021-10-20T14:17:17.521Z"
   },
   {
    "duration": 30,
    "start_time": "2021-10-20T14:17:17.558Z"
   },
   {
    "duration": 15,
    "start_time": "2021-10-20T14:17:17.590Z"
   },
   {
    "duration": 9,
    "start_time": "2021-10-20T14:17:17.607Z"
   },
   {
    "duration": 15,
    "start_time": "2021-10-20T14:17:17.618Z"
   },
   {
    "duration": 49,
    "start_time": "2021-10-20T14:17:17.635Z"
   },
   {
    "duration": 19,
    "start_time": "2021-10-20T14:17:17.688Z"
   },
   {
    "duration": 11,
    "start_time": "2021-10-20T14:17:17.710Z"
   },
   {
    "duration": 64,
    "start_time": "2021-10-20T14:17:17.724Z"
   },
   {
    "duration": 23,
    "start_time": "2021-10-20T14:17:17.791Z"
   },
   {
    "duration": 24,
    "start_time": "2021-10-20T14:17:17.816Z"
   },
   {
    "duration": 12,
    "start_time": "2021-10-20T14:17:17.843Z"
   },
   {
    "duration": 26,
    "start_time": "2021-10-20T14:17:17.857Z"
   },
   {
    "duration": 13,
    "start_time": "2021-10-20T14:17:17.886Z"
   },
   {
    "duration": 10,
    "start_time": "2021-10-20T14:17:17.902Z"
   },
   {
    "duration": 20,
    "start_time": "2021-10-20T14:17:17.915Z"
   },
   {
    "duration": 51,
    "start_time": "2021-10-20T14:17:17.937Z"
   },
   {
    "duration": 9,
    "start_time": "2021-10-20T14:17:17.994Z"
   },
   {
    "duration": 8,
    "start_time": "2021-10-20T14:17:18.006Z"
   },
   {
    "duration": 11,
    "start_time": "2021-10-20T14:17:18.016Z"
   },
   {
    "duration": 63,
    "start_time": "2021-10-20T14:17:18.029Z"
   },
   {
    "duration": 17,
    "start_time": "2021-10-20T14:17:18.094Z"
   },
   {
    "duration": 22,
    "start_time": "2021-10-20T14:17:18.114Z"
   },
   {
    "duration": 31829,
    "start_time": "2021-10-20T14:17:18.138Z"
   },
   {
    "duration": 26,
    "start_time": "2021-10-20T14:17:49.970Z"
   },
   {
    "duration": 48,
    "start_time": "2021-10-20T14:17:49.999Z"
   },
   {
    "duration": 52,
    "start_time": "2021-10-20T14:17:50.050Z"
   },
   {
    "duration": 10,
    "start_time": "2021-10-20T14:17:50.106Z"
   },
   {
    "duration": 69,
    "start_time": "2021-10-20T14:17:50.120Z"
   },
   {
    "duration": 12,
    "start_time": "2021-10-20T14:17:50.192Z"
   },
   {
    "duration": 24626,
    "start_time": "2021-10-20T14:17:50.207Z"
   },
   {
    "duration": 48,
    "start_time": "2021-10-20T14:18:14.836Z"
   },
   {
    "duration": 6,
    "start_time": "2021-10-20T14:18:14.886Z"
   },
   {
    "duration": 14,
    "start_time": "2021-10-20T14:18:14.894Z"
   },
   {
    "duration": 8,
    "start_time": "2021-10-20T14:18:14.910Z"
   },
   {
    "duration": 9,
    "start_time": "2021-10-20T14:18:14.920Z"
   },
   {
    "duration": 8,
    "start_time": "2021-10-20T14:18:14.931Z"
   },
   {
    "duration": 49,
    "start_time": "2021-10-20T14:18:14.942Z"
   },
   {
    "duration": 14,
    "start_time": "2021-10-20T14:18:14.993Z"
   },
   {
    "duration": 9,
    "start_time": "2021-10-20T14:18:15.010Z"
   },
   {
    "duration": 20,
    "start_time": "2021-10-20T14:18:15.021Z"
   },
   {
    "duration": 63,
    "start_time": "2021-10-20T14:18:15.044Z"
   },
   {
    "duration": 9,
    "start_time": "2021-10-20T14:18:15.110Z"
   },
   {
    "duration": 21,
    "start_time": "2021-10-20T14:18:15.121Z"
   },
   {
    "duration": 11,
    "start_time": "2021-10-20T14:18:15.144Z"
   },
   {
    "duration": 10,
    "start_time": "2021-10-20T14:18:15.182Z"
   },
   {
    "duration": 13,
    "start_time": "2021-10-20T14:18:15.195Z"
   },
   {
    "duration": 90,
    "start_time": "2021-10-20T14:18:15.211Z"
   },
   {
    "duration": 9,
    "start_time": "2021-10-20T14:20:04.889Z"
   },
   {
    "duration": 433,
    "start_time": "2021-10-20T14:20:44.432Z"
   },
   {
    "duration": 289,
    "start_time": "2021-10-20T14:20:47.554Z"
   },
   {
    "duration": 58,
    "start_time": "2021-10-20T14:21:15.923Z"
   },
   {
    "duration": 161,
    "start_time": "2021-10-20T14:21:56.282Z"
   },
   {
    "duration": 276,
    "start_time": "2021-10-20T14:24:59.138Z"
   },
   {
    "duration": 38,
    "start_time": "2021-10-20T14:26:00.558Z"
   },
   {
    "duration": 29,
    "start_time": "2021-10-20T14:26:08.390Z"
   },
   {
    "duration": 28,
    "start_time": "2021-10-20T14:27:18.024Z"
   },
   {
    "duration": 98,
    "start_time": "2021-10-20T14:29:01.998Z"
   },
   {
    "duration": 144,
    "start_time": "2021-10-20T14:29:05.738Z"
   },
   {
    "duration": 32,
    "start_time": "2021-10-20T14:29:08.702Z"
   },
   {
    "duration": 1505,
    "start_time": "2021-10-20T15:34:34.003Z"
   },
   {
    "duration": 92,
    "start_time": "2021-10-20T15:34:35.511Z"
   },
   {
    "duration": 14,
    "start_time": "2021-10-20T15:34:35.606Z"
   },
   {
    "duration": 92,
    "start_time": "2021-10-20T15:34:35.623Z"
   },
   {
    "duration": 772,
    "start_time": "2021-10-20T15:34:35.717Z"
   },
   {
    "duration": 18,
    "start_time": "2021-10-20T15:34:36.491Z"
   },
   {
    "duration": 4,
    "start_time": "2021-10-20T15:34:36.511Z"
   },
   {
    "duration": 32,
    "start_time": "2021-10-20T15:34:36.518Z"
   },
   {
    "duration": 10,
    "start_time": "2021-10-20T15:34:36.554Z"
   },
   {
    "duration": 27,
    "start_time": "2021-10-20T15:34:36.583Z"
   },
   {
    "duration": 10,
    "start_time": "2021-10-20T15:34:36.613Z"
   },
   {
    "duration": 26,
    "start_time": "2021-10-20T15:34:36.626Z"
   },
   {
    "duration": 32,
    "start_time": "2021-10-20T15:34:36.655Z"
   },
   {
    "duration": 40,
    "start_time": "2021-10-20T15:34:36.690Z"
   },
   {
    "duration": 11,
    "start_time": "2021-10-20T15:34:36.732Z"
   },
   {
    "duration": 23,
    "start_time": "2021-10-20T15:34:36.746Z"
   },
   {
    "duration": 21,
    "start_time": "2021-10-20T15:34:36.771Z"
   },
   {
    "duration": 42,
    "start_time": "2021-10-20T15:34:36.794Z"
   },
   {
    "duration": 15,
    "start_time": "2021-10-20T15:34:36.838Z"
   },
   {
    "duration": 31,
    "start_time": "2021-10-20T15:34:36.856Z"
   },
   {
    "duration": 20,
    "start_time": "2021-10-20T15:34:36.890Z"
   },
   {
    "duration": 23,
    "start_time": "2021-10-20T15:34:36.912Z"
   },
   {
    "duration": 16,
    "start_time": "2021-10-20T15:34:36.940Z"
   },
   {
    "duration": 25,
    "start_time": "2021-10-20T15:34:36.959Z"
   },
   {
    "duration": 25,
    "start_time": "2021-10-20T15:34:36.987Z"
   },
   {
    "duration": 15,
    "start_time": "2021-10-20T15:34:37.014Z"
   },
   {
    "duration": 23,
    "start_time": "2021-10-20T15:34:37.031Z"
   },
   {
    "duration": 19,
    "start_time": "2021-10-20T15:34:37.056Z"
   },
   {
    "duration": 21,
    "start_time": "2021-10-20T15:34:37.078Z"
   },
   {
    "duration": 30,
    "start_time": "2021-10-20T15:34:37.102Z"
   },
   {
    "duration": 16,
    "start_time": "2021-10-20T15:34:37.134Z"
   },
   {
    "duration": 48,
    "start_time": "2021-10-20T15:34:37.152Z"
   },
   {
    "duration": 31137,
    "start_time": "2021-10-20T15:34:37.203Z"
   },
   {
    "duration": 19,
    "start_time": "2021-10-20T15:35:08.342Z"
   },
   {
    "duration": 44,
    "start_time": "2021-10-20T15:35:08.381Z"
   },
   {
    "duration": 20,
    "start_time": "2021-10-20T15:35:08.428Z"
   },
   {
    "duration": 37,
    "start_time": "2021-10-20T15:35:08.450Z"
   },
   {
    "duration": 36,
    "start_time": "2021-10-20T15:35:08.490Z"
   },
   {
    "duration": 9,
    "start_time": "2021-10-20T15:35:08.529Z"
   },
   {
    "duration": 23621,
    "start_time": "2021-10-20T15:35:08.540Z"
   },
   {
    "duration": 41,
    "start_time": "2021-10-20T15:35:32.163Z"
   },
   {
    "duration": 6,
    "start_time": "2021-10-20T15:35:32.206Z"
   },
   {
    "duration": 23,
    "start_time": "2021-10-20T15:35:32.214Z"
   },
   {
    "duration": 7,
    "start_time": "2021-10-20T15:35:32.240Z"
   },
   {
    "duration": 23,
    "start_time": "2021-10-20T15:35:32.249Z"
   },
   {
    "duration": 9,
    "start_time": "2021-10-20T15:35:32.283Z"
   },
   {
    "duration": 14,
    "start_time": "2021-10-20T15:35:32.295Z"
   },
   {
    "duration": 10,
    "start_time": "2021-10-20T15:35:32.312Z"
   },
   {
    "duration": 8,
    "start_time": "2021-10-20T15:35:32.325Z"
   },
   {
    "duration": 48,
    "start_time": "2021-10-20T15:35:32.335Z"
   },
   {
    "duration": 30,
    "start_time": "2021-10-20T15:35:32.386Z"
   },
   {
    "duration": 9,
    "start_time": "2021-10-20T15:35:32.419Z"
   },
   {
    "duration": 18,
    "start_time": "2021-10-20T15:35:32.430Z"
   },
   {
    "duration": 34,
    "start_time": "2021-10-20T15:35:32.451Z"
   },
   {
    "duration": 18,
    "start_time": "2021-10-20T15:35:32.487Z"
   },
   {
    "duration": 20,
    "start_time": "2021-10-20T15:35:32.507Z"
   },
   {
    "duration": 34,
    "start_time": "2021-10-20T15:35:32.582Z"
   },
   {
    "duration": 33,
    "start_time": "2021-10-20T15:47:40.340Z"
   },
   {
    "duration": 741,
    "start_time": "2021-10-20T15:50:07.086Z"
   },
   {
    "duration": 2133,
    "start_time": "2021-10-20T15:50:15.422Z"
   },
   {
    "duration": 684,
    "start_time": "2021-10-20T15:51:40.762Z"
   },
   {
    "duration": 1497,
    "start_time": "2021-10-20T15:51:56.811Z"
   },
   {
    "duration": 727,
    "start_time": "2021-10-20T15:52:23.475Z"
   },
   {
    "duration": 699,
    "start_time": "2021-10-20T15:52:34.302Z"
   },
   {
    "duration": 92,
    "start_time": "2021-10-20T15:53:22.857Z"
   },
   {
    "duration": 90,
    "start_time": "2021-10-20T15:53:43.513Z"
   },
   {
    "duration": 99,
    "start_time": "2021-10-20T15:54:26.643Z"
   },
   {
    "duration": 90,
    "start_time": "2021-10-20T15:54:38.684Z"
   },
   {
    "duration": 705,
    "start_time": "2021-10-20T15:54:58.455Z"
   },
   {
    "duration": 744,
    "start_time": "2021-10-20T15:55:40.907Z"
   },
   {
    "duration": 97,
    "start_time": "2021-10-20T15:56:16.209Z"
   },
   {
    "duration": 765,
    "start_time": "2021-10-20T15:58:31.793Z"
   },
   {
    "duration": 1496,
    "start_time": "2021-10-20T15:58:49.200Z"
   },
   {
    "duration": 88,
    "start_time": "2021-10-20T15:58:50.699Z"
   },
   {
    "duration": 14,
    "start_time": "2021-10-20T15:58:50.790Z"
   },
   {
    "duration": 95,
    "start_time": "2021-10-20T15:58:50.807Z"
   },
   {
    "duration": 837,
    "start_time": "2021-10-20T15:58:50.905Z"
   },
   {
    "duration": 26,
    "start_time": "2021-10-20T15:58:51.745Z"
   },
   {
    "duration": 4,
    "start_time": "2021-10-20T15:58:51.784Z"
   },
   {
    "duration": 24,
    "start_time": "2021-10-20T15:58:51.794Z"
   },
   {
    "duration": 4,
    "start_time": "2021-10-20T15:58:51.822Z"
   },
   {
    "duration": 71,
    "start_time": "2021-10-20T15:58:51.829Z"
   },
   {
    "duration": 11,
    "start_time": "2021-10-20T15:58:51.903Z"
   },
   {
    "duration": 25,
    "start_time": "2021-10-20T15:58:51.917Z"
   },
   {
    "duration": 39,
    "start_time": "2021-10-20T15:58:51.945Z"
   },
   {
    "duration": 23,
    "start_time": "2021-10-20T15:58:51.988Z"
   },
   {
    "duration": 11,
    "start_time": "2021-10-20T15:58:52.014Z"
   },
   {
    "duration": 54,
    "start_time": "2021-10-20T15:58:52.028Z"
   },
   {
    "duration": 11,
    "start_time": "2021-10-20T15:58:52.085Z"
   },
   {
    "duration": 23,
    "start_time": "2021-10-20T15:58:52.099Z"
   },
   {
    "duration": 7,
    "start_time": "2021-10-20T15:58:52.125Z"
   },
   {
    "duration": 54,
    "start_time": "2021-10-20T15:58:52.135Z"
   },
   {
    "duration": 11,
    "start_time": "2021-10-20T15:58:52.192Z"
   },
   {
    "duration": 13,
    "start_time": "2021-10-20T15:58:52.205Z"
   },
   {
    "duration": 13,
    "start_time": "2021-10-20T15:58:52.223Z"
   },
   {
    "duration": 42,
    "start_time": "2021-10-20T15:58:52.239Z"
   },
   {
    "duration": 19,
    "start_time": "2021-10-20T15:58:52.284Z"
   },
   {
    "duration": 15,
    "start_time": "2021-10-20T15:58:52.306Z"
   },
   {
    "duration": 9,
    "start_time": "2021-10-20T15:58:52.323Z"
   },
   {
    "duration": 49,
    "start_time": "2021-10-20T15:58:52.335Z"
   },
   {
    "duration": 10,
    "start_time": "2021-10-20T15:58:52.386Z"
   },
   {
    "duration": 24,
    "start_time": "2021-10-20T15:58:52.399Z"
   },
   {
    "duration": 14,
    "start_time": "2021-10-20T15:58:52.425Z"
   },
   {
    "duration": 60,
    "start_time": "2021-10-20T15:58:52.442Z"
   },
   {
    "duration": 31261,
    "start_time": "2021-10-20T15:58:52.504Z"
   },
   {
    "duration": 29,
    "start_time": "2021-10-20T15:59:23.767Z"
   },
   {
    "duration": 45,
    "start_time": "2021-10-20T15:59:23.799Z"
   },
   {
    "duration": 45,
    "start_time": "2021-10-20T15:59:23.847Z"
   },
   {
    "duration": 14,
    "start_time": "2021-10-20T15:59:23.895Z"
   },
   {
    "duration": 35,
    "start_time": "2021-10-20T15:59:23.911Z"
   },
   {
    "duration": 38,
    "start_time": "2021-10-20T15:59:23.948Z"
   },
   {
    "duration": 24901,
    "start_time": "2021-10-20T15:59:23.988Z"
   },
   {
    "duration": 29,
    "start_time": "2021-10-20T15:59:48.891Z"
   },
   {
    "duration": 5,
    "start_time": "2021-10-20T15:59:48.922Z"
   },
   {
    "duration": 16,
    "start_time": "2021-10-20T15:59:48.930Z"
   },
   {
    "duration": 36,
    "start_time": "2021-10-20T15:59:48.948Z"
   },
   {
    "duration": 12,
    "start_time": "2021-10-20T15:59:48.987Z"
   },
   {
    "duration": 10,
    "start_time": "2021-10-20T15:59:49.001Z"
   },
   {
    "duration": 10,
    "start_time": "2021-10-20T15:59:49.013Z"
   },
   {
    "duration": 59,
    "start_time": "2021-10-20T15:59:49.025Z"
   },
   {
    "duration": 10,
    "start_time": "2021-10-20T15:59:49.087Z"
   },
   {
    "duration": 14,
    "start_time": "2021-10-20T15:59:49.099Z"
   },
   {
    "duration": 37,
    "start_time": "2021-10-20T15:59:49.116Z"
   },
   {
    "duration": 10,
    "start_time": "2021-10-20T15:59:49.184Z"
   },
   {
    "duration": 11,
    "start_time": "2021-10-20T15:59:49.197Z"
   },
   {
    "duration": 14,
    "start_time": "2021-10-20T15:59:49.211Z"
   },
   {
    "duration": 9,
    "start_time": "2021-10-20T15:59:49.228Z"
   },
   {
    "duration": 46,
    "start_time": "2021-10-20T15:59:49.240Z"
   },
   {
    "duration": 714,
    "start_time": "2021-10-20T15:59:49.289Z"
   },
   {
    "duration": 764,
    "start_time": "2021-10-20T16:00:28.934Z"
   },
   {
    "duration": 665,
    "start_time": "2021-10-20T16:01:20.714Z"
   },
   {
    "duration": 170,
    "start_time": "2021-10-20T16:01:48.824Z"
   },
   {
    "duration": 121,
    "start_time": "2021-10-20T16:02:27.503Z"
   },
   {
    "duration": 89,
    "start_time": "2021-10-20T16:02:39.216Z"
   },
   {
    "duration": 105,
    "start_time": "2021-10-20T16:03:22.055Z"
   },
   {
    "duration": 107,
    "start_time": "2021-10-20T16:04:21.703Z"
   },
   {
    "duration": 102,
    "start_time": "2021-10-20T16:04:46.478Z"
   },
   {
    "duration": 97,
    "start_time": "2021-10-20T16:04:53.131Z"
   },
   {
    "duration": 74,
    "start_time": "2021-10-20T16:05:02.858Z"
   },
   {
    "duration": 79,
    "start_time": "2021-10-20T16:05:34.295Z"
   },
   {
    "duration": 1551,
    "start_time": "2021-10-20T16:05:49.145Z"
   },
   {
    "duration": 90,
    "start_time": "2021-10-20T16:05:50.699Z"
   },
   {
    "duration": 13,
    "start_time": "2021-10-20T16:05:50.792Z"
   },
   {
    "duration": 97,
    "start_time": "2021-10-20T16:05:50.809Z"
   },
   {
    "duration": 813,
    "start_time": "2021-10-20T16:05:50.909Z"
   },
   {
    "duration": 16,
    "start_time": "2021-10-20T16:05:51.725Z"
   },
   {
    "duration": 11,
    "start_time": "2021-10-20T16:05:51.744Z"
   },
   {
    "duration": 32,
    "start_time": "2021-10-20T16:05:51.759Z"
   },
   {
    "duration": 4,
    "start_time": "2021-10-20T16:05:51.794Z"
   },
   {
    "duration": 24,
    "start_time": "2021-10-20T16:05:51.800Z"
   },
   {
    "duration": 7,
    "start_time": "2021-10-20T16:05:51.827Z"
   },
   {
    "duration": 53,
    "start_time": "2021-10-20T16:05:51.837Z"
   },
   {
    "duration": 10,
    "start_time": "2021-10-20T16:05:51.892Z"
   },
   {
    "duration": 16,
    "start_time": "2021-10-20T16:05:51.905Z"
   },
   {
    "duration": 8,
    "start_time": "2021-10-20T16:05:51.923Z"
   },
   {
    "duration": 56,
    "start_time": "2021-10-20T16:05:51.933Z"
   },
   {
    "duration": 10,
    "start_time": "2021-10-20T16:05:51.991Z"
   },
   {
    "duration": 29,
    "start_time": "2021-10-20T16:05:52.003Z"
   },
   {
    "duration": 17,
    "start_time": "2021-10-20T16:05:52.034Z"
   },
   {
    "duration": 38,
    "start_time": "2021-10-20T16:05:52.054Z"
   },
   {
    "duration": 12,
    "start_time": "2021-10-20T16:05:52.094Z"
   },
   {
    "duration": 14,
    "start_time": "2021-10-20T16:05:52.108Z"
   },
   {
    "duration": 12,
    "start_time": "2021-10-20T16:05:52.128Z"
   },
   {
    "duration": 45,
    "start_time": "2021-10-20T16:05:52.143Z"
   },
   {
    "duration": 22,
    "start_time": "2021-10-20T16:05:52.190Z"
   },
   {
    "duration": 15,
    "start_time": "2021-10-20T16:05:52.214Z"
   },
   {
    "duration": 9,
    "start_time": "2021-10-20T16:05:52.231Z"
   },
   {
    "duration": 44,
    "start_time": "2021-10-20T16:05:52.243Z"
   },
   {
    "duration": 10,
    "start_time": "2021-10-20T16:05:52.290Z"
   },
   {
    "duration": 24,
    "start_time": "2021-10-20T16:05:52.303Z"
   },
   {
    "duration": 52,
    "start_time": "2021-10-20T16:05:52.330Z"
   },
   {
    "duration": 24,
    "start_time": "2021-10-20T16:05:52.385Z"
   },
   {
    "duration": 31922,
    "start_time": "2021-10-20T16:05:52.411Z"
   },
   {
    "duration": 22,
    "start_time": "2021-10-20T16:06:24.336Z"
   },
   {
    "duration": 64,
    "start_time": "2021-10-20T16:06:24.361Z"
   },
   {
    "duration": 21,
    "start_time": "2021-10-20T16:06:24.427Z"
   },
   {
    "duration": 38,
    "start_time": "2021-10-20T16:06:24.450Z"
   },
   {
    "duration": 52,
    "start_time": "2021-10-20T16:06:24.492Z"
   },
   {
    "duration": 39,
    "start_time": "2021-10-20T16:06:24.546Z"
   },
   {
    "duration": 25707,
    "start_time": "2021-10-20T16:06:24.587Z"
   },
   {
    "duration": 27,
    "start_time": "2021-10-20T16:06:50.297Z"
   },
   {
    "duration": 5,
    "start_time": "2021-10-20T16:06:50.326Z"
   },
   {
    "duration": 12,
    "start_time": "2021-10-20T16:06:50.333Z"
   },
   {
    "duration": 41,
    "start_time": "2021-10-20T16:06:50.347Z"
   },
   {
    "duration": 18,
    "start_time": "2021-10-20T16:06:50.390Z"
   },
   {
    "duration": 9,
    "start_time": "2021-10-20T16:06:50.411Z"
   },
   {
    "duration": 12,
    "start_time": "2021-10-20T16:06:50.423Z"
   },
   {
    "duration": 19,
    "start_time": "2021-10-20T16:06:50.438Z"
   },
   {
    "duration": 8,
    "start_time": "2021-10-20T16:06:50.482Z"
   },
   {
    "duration": 27,
    "start_time": "2021-10-20T16:06:50.493Z"
   },
   {
    "duration": 31,
    "start_time": "2021-10-20T16:06:50.523Z"
   },
   {
    "duration": 35,
    "start_time": "2021-10-20T16:06:50.556Z"
   },
   {
    "duration": 14,
    "start_time": "2021-10-20T16:06:50.593Z"
   },
   {
    "duration": 13,
    "start_time": "2021-10-20T16:06:50.610Z"
   },
   {
    "duration": 8,
    "start_time": "2021-10-20T16:06:50.626Z"
   },
   {
    "duration": 50,
    "start_time": "2021-10-20T16:06:50.637Z"
   },
   {
    "duration": 100,
    "start_time": "2021-10-20T16:06:50.690Z"
   },
   {
    "duration": 31,
    "start_time": "2021-10-20T16:07:26.860Z"
   },
   {
    "duration": 33,
    "start_time": "2021-10-20T16:07:53.740Z"
   },
   {
    "duration": 468,
    "start_time": "2021-10-20T16:08:08.213Z"
   },
   {
    "duration": 54,
    "start_time": "2021-10-20T16:08:19.409Z"
   },
   {
    "duration": 302,
    "start_time": "2021-10-20T16:10:19.734Z"
   },
   {
    "duration": 262,
    "start_time": "2021-10-20T16:10:40.177Z"
   },
   {
    "duration": 289,
    "start_time": "2021-10-20T16:11:01.889Z"
   },
   {
    "duration": 53,
    "start_time": "2021-10-20T16:11:28.164Z"
   },
   {
    "duration": 52,
    "start_time": "2021-10-20T16:14:29.862Z"
   },
   {
    "duration": 350,
    "start_time": "2021-10-20T20:43:36.513Z"
   },
   {
    "duration": 1238,
    "start_time": "2021-10-20T20:44:06.273Z"
   },
   {
    "duration": 71,
    "start_time": "2021-10-20T20:44:07.513Z"
   },
   {
    "duration": 10,
    "start_time": "2021-10-20T20:44:07.586Z"
   },
   {
    "duration": 70,
    "start_time": "2021-10-20T20:44:07.598Z"
   },
   {
    "duration": 700,
    "start_time": "2021-10-20T20:44:07.669Z"
   },
   {
    "duration": 12,
    "start_time": "2021-10-20T20:44:08.370Z"
   },
   {
    "duration": 10,
    "start_time": "2021-10-20T20:44:08.384Z"
   },
   {
    "duration": 23,
    "start_time": "2021-10-20T20:44:08.396Z"
   },
   {
    "duration": 11,
    "start_time": "2021-10-20T20:44:08.421Z"
   },
   {
    "duration": 30,
    "start_time": "2021-10-20T20:44:08.433Z"
   },
   {
    "duration": 5,
    "start_time": "2021-10-20T20:44:08.465Z"
   },
   {
    "duration": 20,
    "start_time": "2021-10-20T20:44:08.472Z"
   },
   {
    "duration": 11,
    "start_time": "2021-10-20T20:44:08.493Z"
   },
   {
    "duration": 13,
    "start_time": "2021-10-20T20:44:08.505Z"
   },
   {
    "duration": 6,
    "start_time": "2021-10-20T20:44:08.519Z"
   },
   {
    "duration": 23,
    "start_time": "2021-10-20T20:44:08.526Z"
   },
   {
    "duration": 17,
    "start_time": "2021-10-20T20:44:08.552Z"
   },
   {
    "duration": 26,
    "start_time": "2021-10-20T20:44:08.571Z"
   },
   {
    "duration": 26,
    "start_time": "2021-10-20T20:44:08.599Z"
   },
   {
    "duration": 13,
    "start_time": "2021-10-20T20:44:08.627Z"
   },
   {
    "duration": 20,
    "start_time": "2021-10-20T20:44:08.642Z"
   },
   {
    "duration": 14,
    "start_time": "2021-10-20T20:44:08.664Z"
   },
   {
    "duration": 15,
    "start_time": "2021-10-20T20:44:08.682Z"
   },
   {
    "duration": 21,
    "start_time": "2021-10-20T20:44:08.700Z"
   },
   {
    "duration": 35,
    "start_time": "2021-10-20T20:44:08.723Z"
   },
   {
    "duration": 12,
    "start_time": "2021-10-20T20:44:08.760Z"
   },
   {
    "duration": 19,
    "start_time": "2021-10-20T20:44:08.773Z"
   },
   {
    "duration": 19,
    "start_time": "2021-10-20T20:44:08.794Z"
   },
   {
    "duration": 15,
    "start_time": "2021-10-20T20:44:08.815Z"
   },
   {
    "duration": 39,
    "start_time": "2021-10-20T20:44:08.832Z"
   },
   {
    "duration": 16,
    "start_time": "2021-10-20T20:44:08.872Z"
   },
   {
    "duration": 24,
    "start_time": "2021-10-20T20:44:08.889Z"
   },
   {
    "duration": 22625,
    "start_time": "2021-10-20T20:44:08.914Z"
   },
   {
    "duration": 20,
    "start_time": "2021-10-20T20:44:31.545Z"
   },
   {
    "duration": 30,
    "start_time": "2021-10-20T20:44:31.567Z"
   },
   {
    "duration": 15,
    "start_time": "2021-10-20T20:44:31.600Z"
   },
   {
    "duration": 39,
    "start_time": "2021-10-20T20:44:31.616Z"
   },
   {
    "duration": 25,
    "start_time": "2021-10-20T20:44:31.660Z"
   },
   {
    "duration": 8,
    "start_time": "2021-10-20T20:44:31.687Z"
   },
   {
    "duration": 14438,
    "start_time": "2021-10-20T20:44:31.696Z"
   },
   {
    "duration": 33,
    "start_time": "2021-10-20T20:44:46.135Z"
   },
   {
    "duration": 4,
    "start_time": "2021-10-20T20:44:46.170Z"
   },
   {
    "duration": 9,
    "start_time": "2021-10-20T20:44:46.176Z"
   },
   {
    "duration": 5,
    "start_time": "2021-10-20T20:44:46.187Z"
   },
   {
    "duration": 7,
    "start_time": "2021-10-20T20:44:46.194Z"
   },
   {
    "duration": 7,
    "start_time": "2021-10-20T20:44:46.203Z"
   },
   {
    "duration": 39,
    "start_time": "2021-10-20T20:44:46.212Z"
   },
   {
    "duration": 8,
    "start_time": "2021-10-20T20:44:46.256Z"
   },
   {
    "duration": 6,
    "start_time": "2021-10-20T20:44:46.266Z"
   },
   {
    "duration": 15,
    "start_time": "2021-10-20T20:44:46.273Z"
   },
   {
    "duration": 21,
    "start_time": "2021-10-20T20:44:46.290Z"
   },
   {
    "duration": 6,
    "start_time": "2021-10-20T20:44:46.312Z"
   },
   {
    "duration": 39,
    "start_time": "2021-10-20T20:44:46.320Z"
   },
   {
    "duration": 6,
    "start_time": "2021-10-20T20:44:46.362Z"
   },
   {
    "duration": 6,
    "start_time": "2021-10-20T20:44:46.369Z"
   },
   {
    "duration": 8,
    "start_time": "2021-10-20T20:44:46.376Z"
   },
   {
    "duration": 33,
    "start_time": "2021-10-20T20:44:46.385Z"
   },
   {
    "duration": 33,
    "start_time": "2021-10-20T20:45:15.389Z"
   },
   {
    "duration": 425,
    "start_time": "2021-10-20T20:46:15.849Z"
   },
   {
    "duration": 629,
    "start_time": "2021-10-20T20:46:30.246Z"
   },
   {
    "duration": 325,
    "start_time": "2021-10-20T20:46:39.149Z"
   },
   {
    "duration": 291,
    "start_time": "2021-10-20T20:46:52.336Z"
   },
   {
    "duration": 339,
    "start_time": "2021-10-20T20:47:00.740Z"
   },
   {
    "duration": 293,
    "start_time": "2021-10-20T20:47:18.524Z"
   },
   {
    "duration": 325,
    "start_time": "2021-10-20T20:47:23.783Z"
   },
   {
    "duration": 293,
    "start_time": "2021-10-20T20:50:33.057Z"
   },
   {
    "duration": 153,
    "start_time": "2021-10-20T20:51:28.275Z"
   },
   {
    "duration": 161,
    "start_time": "2021-10-20T20:51:43.180Z"
   },
   {
    "duration": 115,
    "start_time": "2021-10-20T20:51:52.024Z"
   },
   {
    "duration": 115,
    "start_time": "2021-10-20T20:51:56.476Z"
   },
   {
    "duration": 113,
    "start_time": "2021-10-20T20:52:07.113Z"
   },
   {
    "duration": 1305,
    "start_time": "2021-10-20T20:52:14.757Z"
   },
   {
    "duration": 74,
    "start_time": "2021-10-20T20:52:16.064Z"
   },
   {
    "duration": 16,
    "start_time": "2021-10-20T20:52:16.141Z"
   },
   {
    "duration": 52,
    "start_time": "2021-10-20T20:52:16.160Z"
   },
   {
    "duration": 884,
    "start_time": "2021-10-20T20:52:16.213Z"
   },
   {
    "duration": 12,
    "start_time": "2021-10-20T20:52:17.099Z"
   },
   {
    "duration": 1,
    "start_time": "2021-10-20T20:52:17.113Z"
   },
   {
    "duration": 33,
    "start_time": "2021-10-20T20:52:17.116Z"
   },
   {
    "duration": 4,
    "start_time": "2021-10-20T20:52:17.153Z"
   },
   {
    "duration": 25,
    "start_time": "2021-10-20T20:52:17.161Z"
   },
   {
    "duration": 8,
    "start_time": "2021-10-20T20:52:17.188Z"
   },
   {
    "duration": 14,
    "start_time": "2021-10-20T20:52:17.197Z"
   },
   {
    "duration": 33,
    "start_time": "2021-10-20T20:52:17.213Z"
   },
   {
    "duration": 23,
    "start_time": "2021-10-20T20:52:17.248Z"
   },
   {
    "duration": 6,
    "start_time": "2021-10-20T20:52:17.273Z"
   },
   {
    "duration": 13,
    "start_time": "2021-10-20T20:52:17.280Z"
   },
   {
    "duration": 6,
    "start_time": "2021-10-20T20:52:17.295Z"
   },
   {
    "duration": 47,
    "start_time": "2021-10-20T20:52:17.303Z"
   },
   {
    "duration": 10,
    "start_time": "2021-10-20T20:52:17.352Z"
   },
   {
    "duration": 15,
    "start_time": "2021-10-20T20:52:17.364Z"
   },
   {
    "duration": 12,
    "start_time": "2021-10-20T20:52:17.381Z"
   },
   {
    "duration": 12,
    "start_time": "2021-10-20T20:52:17.395Z"
   },
   {
    "duration": 12,
    "start_time": "2021-10-20T20:52:17.409Z"
   },
   {
    "duration": 15,
    "start_time": "2021-10-20T20:52:17.450Z"
   },
   {
    "duration": 20,
    "start_time": "2021-10-20T20:52:17.468Z"
   },
   {
    "duration": 16,
    "start_time": "2021-10-20T20:52:17.490Z"
   },
   {
    "duration": 9,
    "start_time": "2021-10-20T20:52:17.511Z"
   },
   {
    "duration": 8,
    "start_time": "2021-10-20T20:52:17.547Z"
   },
   {
    "duration": 13,
    "start_time": "2021-10-20T20:52:17.557Z"
   },
   {
    "duration": 17,
    "start_time": "2021-10-20T20:52:17.571Z"
   },
   {
    "duration": 10,
    "start_time": "2021-10-20T20:52:17.589Z"
   },
   {
    "duration": 54,
    "start_time": "2021-10-20T20:52:17.601Z"
   },
   {
    "duration": 23117,
    "start_time": "2021-10-20T20:52:17.657Z"
   },
   {
    "duration": 13,
    "start_time": "2021-10-20T20:52:40.776Z"
   },
   {
    "duration": 28,
    "start_time": "2021-10-20T20:52:40.790Z"
   },
   {
    "duration": 41,
    "start_time": "2021-10-20T20:52:40.820Z"
   },
   {
    "duration": 10,
    "start_time": "2021-10-20T20:52:40.863Z"
   },
   {
    "duration": 25,
    "start_time": "2021-10-20T20:52:40.875Z"
   },
   {
    "duration": 6,
    "start_time": "2021-10-20T20:52:40.901Z"
   },
   {
    "duration": 14980,
    "start_time": "2021-10-20T20:52:40.909Z"
   },
   {
    "duration": 18,
    "start_time": "2021-10-20T20:52:55.890Z"
   },
   {
    "duration": 4,
    "start_time": "2021-10-20T20:52:55.909Z"
   },
   {
    "duration": 17,
    "start_time": "2021-10-20T20:52:55.914Z"
   },
   {
    "duration": 27,
    "start_time": "2021-10-20T20:52:55.933Z"
   },
   {
    "duration": 7,
    "start_time": "2021-10-20T20:52:55.962Z"
   },
   {
    "duration": 9,
    "start_time": "2021-10-20T20:52:55.971Z"
   },
   {
    "duration": 8,
    "start_time": "2021-10-20T20:52:55.982Z"
   },
   {
    "duration": 10,
    "start_time": "2021-10-20T20:52:55.992Z"
   },
   {
    "duration": 13,
    "start_time": "2021-10-20T20:52:56.004Z"
   },
   {
    "duration": 31,
    "start_time": "2021-10-20T20:52:56.018Z"
   },
   {
    "duration": 24,
    "start_time": "2021-10-20T20:52:56.052Z"
   },
   {
    "duration": 6,
    "start_time": "2021-10-20T20:52:56.078Z"
   },
   {
    "duration": 22,
    "start_time": "2021-10-20T20:52:56.086Z"
   },
   {
    "duration": 27,
    "start_time": "2021-10-20T20:52:56.109Z"
   },
   {
    "duration": 21,
    "start_time": "2021-10-20T20:52:56.137Z"
   },
   {
    "duration": 21,
    "start_time": "2021-10-20T20:52:56.160Z"
   },
   {
    "duration": 145,
    "start_time": "2021-10-20T20:52:56.183Z"
   },
   {
    "duration": 149,
    "start_time": "2021-10-20T20:53:17.589Z"
   },
   {
    "duration": 96,
    "start_time": "2021-10-20T20:53:34.503Z"
   },
   {
    "duration": 132,
    "start_time": "2021-10-20T20:53:42.356Z"
   },
   {
    "duration": 112,
    "start_time": "2021-10-20T20:54:15.220Z"
   },
   {
    "duration": 465,
    "start_time": "2021-10-20T20:54:22.334Z"
   },
   {
    "duration": 355,
    "start_time": "2021-10-20T20:54:30.067Z"
   },
   {
    "duration": 378,
    "start_time": "2021-10-20T20:54:39.023Z"
   },
   {
    "duration": 340,
    "start_time": "2021-10-20T20:54:52.683Z"
   },
   {
    "duration": 545,
    "start_time": "2021-10-20T20:54:56.922Z"
   },
   {
    "duration": 26,
    "start_time": "2021-10-20T20:55:08.635Z"
   },
   {
    "duration": 320,
    "start_time": "2021-10-20T20:55:31.507Z"
   },
   {
    "duration": 469,
    "start_time": "2021-10-20T20:55:50.829Z"
   },
   {
    "duration": 336,
    "start_time": "2021-10-20T20:56:18.746Z"
   },
   {
    "duration": 32,
    "start_time": "2021-10-20T20:56:36.591Z"
   },
   {
    "duration": 318,
    "start_time": "2021-10-20T20:56:55.468Z"
   },
   {
    "duration": 9,
    "start_time": "2021-10-20T21:00:26.716Z"
   },
   {
    "duration": 7,
    "start_time": "2021-10-20T21:00:36.617Z"
   },
   {
    "duration": 6,
    "start_time": "2021-10-20T21:00:38.704Z"
   },
   {
    "duration": 7,
    "start_time": "2021-10-20T21:00:40.898Z"
   },
   {
    "duration": 408,
    "start_time": "2021-10-20T21:01:18.660Z"
   },
   {
    "duration": 364,
    "start_time": "2021-10-20T21:01:31.530Z"
   },
   {
    "duration": 295,
    "start_time": "2021-10-20T21:01:47.899Z"
   },
   {
    "duration": 223,
    "start_time": "2021-10-20T21:02:03.992Z"
   },
   {
    "duration": 339,
    "start_time": "2021-10-20T21:02:09.191Z"
   },
   {
    "duration": 392,
    "start_time": "2021-10-20T21:02:39.541Z"
   },
   {
    "duration": 39,
    "start_time": "2021-10-20T21:08:06.956Z"
   },
   {
    "duration": 4,
    "start_time": "2021-10-20T21:08:44.576Z"
   },
   {
    "duration": 3,
    "start_time": "2021-10-20T21:08:59.747Z"
   },
   {
    "duration": 450,
    "start_time": "2021-10-20T21:09:05.919Z"
   },
   {
    "duration": 59,
    "start_time": "2021-10-20T21:09:43.825Z"
   },
   {
    "duration": -316,
    "start_time": "2021-10-20T21:10:52.672Z"
   },
   {
    "duration": 9514,
    "start_time": "2021-10-20T21:10:55.510Z"
   },
   {
    "duration": 10,
    "start_time": "2021-10-20T21:11:36.917Z"
   },
   {
    "duration": 48,
    "start_time": "2021-10-20T21:11:49.606Z"
   },
   {
    "duration": 433,
    "start_time": "2021-10-20T21:11:55.332Z"
   },
   {
    "duration": 25,
    "start_time": "2021-10-20T21:12:11.577Z"
   },
   {
    "duration": 314,
    "start_time": "2021-10-20T21:12:28.364Z"
   },
   {
    "duration": 101,
    "start_time": "2021-10-20T21:12:36.628Z"
   },
   {
    "duration": 416,
    "start_time": "2021-10-20T21:12:39.403Z"
   },
   {
    "duration": 20,
    "start_time": "2021-10-20T21:13:59.678Z"
   },
   {
    "duration": 3,
    "start_time": "2021-10-20T21:14:14.995Z"
   },
   {
    "duration": 478,
    "start_time": "2021-10-20T21:15:00.550Z"
   },
   {
    "duration": 48,
    "start_time": "2021-10-20T21:15:34.608Z"
   },
   {
    "duration": 282,
    "start_time": "2021-10-20T21:17:19.294Z"
   },
   {
    "duration": 316,
    "start_time": "2021-10-20T21:17:42.758Z"
   },
   {
    "duration": 286,
    "start_time": "2021-10-20T21:19:17.259Z"
   },
   {
    "duration": 1763,
    "start_time": "2021-10-20T21:21:25.674Z"
   },
   {
    "duration": 278,
    "start_time": "2021-10-20T21:21:50.597Z"
   },
   {
    "duration": 40,
    "start_time": "2021-10-20T21:21:55.787Z"
   },
   {
    "duration": 34,
    "start_time": "2021-10-20T21:22:27.353Z"
   },
   {
    "duration": 83,
    "start_time": "2021-10-20T21:22:52.304Z"
   },
   {
    "duration": 107,
    "start_time": "2021-10-20T21:24:18.494Z"
   },
   {
    "duration": 80,
    "start_time": "2021-10-20T21:24:26.542Z"
   },
   {
    "duration": 34,
    "start_time": "2021-10-20T21:26:12.066Z"
   },
   {
    "duration": 279,
    "start_time": "2021-10-20T21:27:50.053Z"
   },
   {
    "duration": 276,
    "start_time": "2021-10-20T21:28:44.592Z"
   },
   {
    "duration": -417,
    "start_time": "2021-10-20T21:29:40.834Z"
   },
   {
    "duration": 6604,
    "start_time": "2021-10-20T21:29:43.342Z"
   },
   {
    "duration": 69,
    "start_time": "2021-10-20T21:34:08.695Z"
   },
   {
    "duration": 319,
    "start_time": "2021-10-20T21:39:11.726Z"
   },
   {
    "duration": 276,
    "start_time": "2021-10-20T21:39:19.309Z"
   },
   {
    "duration": 384,
    "start_time": "2021-10-20T21:39:48.802Z"
   },
   {
    "duration": 42,
    "start_time": "2021-10-20T21:40:52.203Z"
   },
   {
    "duration": 91,
    "start_time": "2021-10-20T21:42:22.698Z"
   },
   {
    "duration": 97,
    "start_time": "2021-10-20T21:43:06.851Z"
   },
   {
    "duration": 98,
    "start_time": "2021-10-20T21:43:38.003Z"
   },
   {
    "duration": 66,
    "start_time": "2021-10-20T21:43:46.298Z"
   },
   {
    "duration": 98,
    "start_time": "2021-10-20T21:44:40.024Z"
   },
   {
    "duration": 1113,
    "start_time": "2021-10-20T21:44:54.987Z"
   },
   {
    "duration": 65,
    "start_time": "2021-10-20T21:44:56.102Z"
   },
   {
    "duration": 12,
    "start_time": "2021-10-20T21:44:56.169Z"
   },
   {
    "duration": 62,
    "start_time": "2021-10-20T21:44:56.183Z"
   },
   {
    "duration": 621,
    "start_time": "2021-10-20T21:44:56.247Z"
   },
   {
    "duration": 12,
    "start_time": "2021-10-20T21:44:56.870Z"
   },
   {
    "duration": 4,
    "start_time": "2021-10-20T21:44:56.883Z"
   },
   {
    "duration": 22,
    "start_time": "2021-10-20T21:44:56.890Z"
   },
   {
    "duration": 13,
    "start_time": "2021-10-20T21:44:56.914Z"
   },
   {
    "duration": 34,
    "start_time": "2021-10-20T21:44:56.929Z"
   },
   {
    "duration": 13,
    "start_time": "2021-10-20T21:44:56.965Z"
   },
   {
    "duration": 28,
    "start_time": "2021-10-20T21:44:56.979Z"
   },
   {
    "duration": 34,
    "start_time": "2021-10-20T21:44:57.008Z"
   },
   {
    "duration": 19,
    "start_time": "2021-10-20T21:44:57.044Z"
   },
   {
    "duration": 17,
    "start_time": "2021-10-20T21:44:57.065Z"
   },
   {
    "duration": 25,
    "start_time": "2021-10-20T21:44:57.084Z"
   },
   {
    "duration": 18,
    "start_time": "2021-10-20T21:44:57.110Z"
   },
   {
    "duration": 29,
    "start_time": "2021-10-20T21:44:57.130Z"
   },
   {
    "duration": 25,
    "start_time": "2021-10-20T21:44:57.160Z"
   },
   {
    "duration": 20,
    "start_time": "2021-10-20T21:44:57.187Z"
   },
   {
    "duration": 17,
    "start_time": "2021-10-20T21:44:57.209Z"
   },
   {
    "duration": 17,
    "start_time": "2021-10-20T21:44:57.228Z"
   },
   {
    "duration": 28,
    "start_time": "2021-10-20T21:44:57.248Z"
   },
   {
    "duration": 41,
    "start_time": "2021-10-20T21:44:57.279Z"
   },
   {
    "duration": 29,
    "start_time": "2021-10-20T21:44:57.322Z"
   },
   {
    "duration": 24,
    "start_time": "2021-10-20T21:44:57.352Z"
   },
   {
    "duration": 14,
    "start_time": "2021-10-20T21:44:57.378Z"
   },
   {
    "duration": 12,
    "start_time": "2021-10-20T21:44:57.394Z"
   },
   {
    "duration": 23,
    "start_time": "2021-10-20T21:44:57.407Z"
   },
   {
    "duration": 25,
    "start_time": "2021-10-20T21:44:57.432Z"
   },
   {
    "duration": 58,
    "start_time": "2021-10-20T21:44:57.459Z"
   },
   {
    "duration": 22,
    "start_time": "2021-10-20T21:44:57.519Z"
   },
   {
    "duration": 21439,
    "start_time": "2021-10-20T21:44:57.543Z"
   },
   {
    "duration": 13,
    "start_time": "2021-10-20T21:45:18.984Z"
   },
   {
    "duration": 29,
    "start_time": "2021-10-20T21:45:18.998Z"
   },
   {
    "duration": 25,
    "start_time": "2021-10-20T21:45:19.029Z"
   },
   {
    "duration": 10,
    "start_time": "2021-10-20T21:45:19.056Z"
   },
   {
    "duration": 23,
    "start_time": "2021-10-20T21:45:19.068Z"
   },
   {
    "duration": 6,
    "start_time": "2021-10-20T21:45:19.092Z"
   },
   {
    "duration": 13639,
    "start_time": "2021-10-20T21:45:19.099Z"
   },
   {
    "duration": 20,
    "start_time": "2021-10-20T21:45:32.740Z"
   },
   {
    "duration": 4,
    "start_time": "2021-10-20T21:45:32.762Z"
   },
   {
    "duration": 22,
    "start_time": "2021-10-20T21:45:32.767Z"
   },
   {
    "duration": 13,
    "start_time": "2021-10-20T21:45:32.790Z"
   },
   {
    "duration": 22,
    "start_time": "2021-10-20T21:45:32.804Z"
   },
   {
    "duration": 17,
    "start_time": "2021-10-20T21:45:32.828Z"
   },
   {
    "duration": 8,
    "start_time": "2021-10-20T21:45:32.846Z"
   },
   {
    "duration": 21,
    "start_time": "2021-10-20T21:45:32.855Z"
   },
   {
    "duration": 9,
    "start_time": "2021-10-20T21:45:32.878Z"
   },
   {
    "duration": 10,
    "start_time": "2021-10-20T21:45:32.889Z"
   },
   {
    "duration": 26,
    "start_time": "2021-10-20T21:45:32.901Z"
   },
   {
    "duration": 7,
    "start_time": "2021-10-20T21:45:32.929Z"
   },
   {
    "duration": 11,
    "start_time": "2021-10-20T21:45:32.945Z"
   },
   {
    "duration": 19,
    "start_time": "2021-10-20T21:45:32.958Z"
   },
   {
    "duration": 21,
    "start_time": "2021-10-20T21:45:32.979Z"
   },
   {
    "duration": 13,
    "start_time": "2021-10-20T21:45:33.002Z"
   },
   {
    "duration": 366,
    "start_time": "2021-10-20T21:45:33.017Z"
   },
   {
    "duration": 371,
    "start_time": "2021-10-20T21:47:43.971Z"
   },
   {
    "duration": 95,
    "start_time": "2021-10-20T21:48:03.513Z"
   },
   {
    "duration": 4,
    "start_time": "2021-10-20T21:54:21.392Z"
   },
   {
    "duration": 5,
    "start_time": "2021-10-20T21:54:36.897Z"
   },
   {
    "duration": 5,
    "start_time": "2021-10-20T21:54:39.484Z"
   },
   {
    "duration": 3,
    "start_time": "2021-10-20T21:54:49.763Z"
   },
   {
    "duration": 4,
    "start_time": "2021-10-20T21:54:59.236Z"
   },
   {
    "duration": 2,
    "start_time": "2021-10-20T21:55:02.932Z"
   },
   {
    "duration": 3,
    "start_time": "2021-10-20T21:55:04.314Z"
   },
   {
    "duration": 281,
    "start_time": "2021-10-20T21:55:43.609Z"
   },
   {
    "duration": 740,
    "start_time": "2021-10-20T21:55:59.826Z"
   },
   {
    "duration": 7,
    "start_time": "2021-10-20T21:56:08.153Z"
   },
   {
    "duration": 10,
    "start_time": "2021-10-20T21:56:20.197Z"
   },
   {
    "duration": 25,
    "start_time": "2021-10-20T21:58:04.092Z"
   },
   {
    "duration": 23,
    "start_time": "2021-10-20T21:58:13.859Z"
   },
   {
    "duration": 1144,
    "start_time": "2021-10-20T21:58:32.353Z"
   },
   {
    "duration": 62,
    "start_time": "2021-10-20T21:58:33.499Z"
   },
   {
    "duration": 10,
    "start_time": "2021-10-20T21:58:33.562Z"
   },
   {
    "duration": 53,
    "start_time": "2021-10-20T21:58:33.574Z"
   },
   {
    "duration": 610,
    "start_time": "2021-10-20T21:58:33.629Z"
   },
   {
    "duration": 14,
    "start_time": "2021-10-20T21:58:34.241Z"
   },
   {
    "duration": 2,
    "start_time": "2021-10-20T21:58:34.258Z"
   },
   {
    "duration": 25,
    "start_time": "2021-10-20T21:58:34.263Z"
   },
   {
    "duration": 2,
    "start_time": "2021-10-20T21:58:34.289Z"
   },
   {
    "duration": 26,
    "start_time": "2021-10-20T21:58:34.292Z"
   },
   {
    "duration": 5,
    "start_time": "2021-10-20T21:58:34.319Z"
   },
   {
    "duration": 21,
    "start_time": "2021-10-20T21:58:34.325Z"
   },
   {
    "duration": 8,
    "start_time": "2021-10-20T21:58:34.348Z"
   },
   {
    "duration": 14,
    "start_time": "2021-10-20T21:58:34.358Z"
   },
   {
    "duration": 6,
    "start_time": "2021-10-20T21:58:34.374Z"
   },
   {
    "duration": 12,
    "start_time": "2021-10-20T21:58:34.381Z"
   },
   {
    "duration": 7,
    "start_time": "2021-10-20T21:58:34.394Z"
   },
   {
    "duration": 24,
    "start_time": "2021-10-20T21:58:34.402Z"
   },
   {
    "duration": 6,
    "start_time": "2021-10-20T21:58:34.444Z"
   },
   {
    "duration": 26,
    "start_time": "2021-10-20T21:58:34.451Z"
   },
   {
    "duration": 18,
    "start_time": "2021-10-20T21:58:34.479Z"
   },
   {
    "duration": 16,
    "start_time": "2021-10-20T21:58:34.498Z"
   },
   {
    "duration": 12,
    "start_time": "2021-10-20T21:58:34.519Z"
   },
   {
    "duration": 10,
    "start_time": "2021-10-20T21:58:34.534Z"
   },
   {
    "duration": 15,
    "start_time": "2021-10-20T21:58:34.546Z"
   },
   {
    "duration": 11,
    "start_time": "2021-10-20T21:58:34.562Z"
   },
   {
    "duration": 9,
    "start_time": "2021-10-20T21:58:34.575Z"
   },
   {
    "duration": 13,
    "start_time": "2021-10-20T21:58:34.586Z"
   },
   {
    "duration": 14,
    "start_time": "2021-10-20T21:58:34.601Z"
   },
   {
    "duration": 19,
    "start_time": "2021-10-20T21:58:34.617Z"
   },
   {
    "duration": 11,
    "start_time": "2021-10-20T21:58:34.644Z"
   },
   {
    "duration": 18,
    "start_time": "2021-10-20T21:58:34.657Z"
   },
   {
    "duration": 20880,
    "start_time": "2021-10-20T21:58:34.677Z"
   },
   {
    "duration": 13,
    "start_time": "2021-10-20T21:58:55.558Z"
   },
   {
    "duration": 28,
    "start_time": "2021-10-20T21:58:55.573Z"
   },
   {
    "duration": 12,
    "start_time": "2021-10-20T21:58:55.603Z"
   },
   {
    "duration": 32,
    "start_time": "2021-10-20T21:58:55.617Z"
   },
   {
    "duration": 31,
    "start_time": "2021-10-20T21:58:55.651Z"
   },
   {
    "duration": 7,
    "start_time": "2021-10-20T21:58:55.685Z"
   },
   {
    "duration": 13284,
    "start_time": "2021-10-20T21:58:55.694Z"
   },
   {
    "duration": 18,
    "start_time": "2021-10-20T21:59:08.979Z"
   },
   {
    "duration": 4,
    "start_time": "2021-10-20T21:59:08.999Z"
   },
   {
    "duration": 10,
    "start_time": "2021-10-20T21:59:09.005Z"
   },
   {
    "duration": 28,
    "start_time": "2021-10-20T21:59:09.017Z"
   },
   {
    "duration": 6,
    "start_time": "2021-10-20T21:59:09.047Z"
   },
   {
    "duration": 18,
    "start_time": "2021-10-20T21:59:09.054Z"
   },
   {
    "duration": 21,
    "start_time": "2021-10-20T21:59:09.074Z"
   },
   {
    "duration": 19,
    "start_time": "2021-10-20T21:59:09.097Z"
   },
   {
    "duration": 15,
    "start_time": "2021-10-20T21:59:09.118Z"
   },
   {
    "duration": 20,
    "start_time": "2021-10-20T21:59:09.135Z"
   },
   {
    "duration": 31,
    "start_time": "2021-10-20T21:59:09.156Z"
   },
   {
    "duration": 6,
    "start_time": "2021-10-20T21:59:09.189Z"
   },
   {
    "duration": 18,
    "start_time": "2021-10-20T21:59:09.197Z"
   },
   {
    "duration": 20,
    "start_time": "2021-10-20T21:59:09.216Z"
   },
   {
    "duration": 15,
    "start_time": "2021-10-20T21:59:09.238Z"
   },
   {
    "duration": 19,
    "start_time": "2021-10-20T21:59:09.254Z"
   },
   {
    "duration": 109,
    "start_time": "2021-10-20T21:59:09.274Z"
   },
   {
    "duration": 25,
    "start_time": "2021-10-20T21:59:09.385Z"
   },
   {
    "duration": 23,
    "start_time": "2021-10-20T21:59:45.137Z"
   },
   {
    "duration": 22,
    "start_time": "2021-10-20T21:59:50.400Z"
   },
   {
    "duration": 289,
    "start_time": "2021-10-21T15:24:49.268Z"
   },
   {
    "duration": 246,
    "start_time": "2021-10-21T15:25:15.303Z"
   },
   {
    "duration": 1290,
    "start_time": "2021-10-21T15:25:43.395Z"
   },
   {
    "duration": 72,
    "start_time": "2021-10-21T15:25:44.687Z"
   },
   {
    "duration": 12,
    "start_time": "2021-10-21T15:25:44.761Z"
   },
   {
    "duration": 58,
    "start_time": "2021-10-21T15:25:44.775Z"
   },
   {
    "duration": 608,
    "start_time": "2021-10-21T15:25:44.834Z"
   },
   {
    "duration": 15,
    "start_time": "2021-10-21T15:25:45.444Z"
   },
   {
    "duration": 3,
    "start_time": "2021-10-21T15:25:45.460Z"
   },
   {
    "duration": 17,
    "start_time": "2021-10-21T15:25:45.465Z"
   },
   {
    "duration": 2,
    "start_time": "2021-10-21T15:25:45.484Z"
   },
   {
    "duration": 22,
    "start_time": "2021-10-21T15:25:45.488Z"
   },
   {
    "duration": 6,
    "start_time": "2021-10-21T15:25:45.512Z"
   },
   {
    "duration": 14,
    "start_time": "2021-10-21T15:25:45.520Z"
   },
   {
    "duration": 34,
    "start_time": "2021-10-21T15:25:45.536Z"
   },
   {
    "duration": 15,
    "start_time": "2021-10-21T15:25:45.572Z"
   },
   {
    "duration": 8,
    "start_time": "2021-10-21T15:25:45.590Z"
   },
   {
    "duration": 14,
    "start_time": "2021-10-21T15:25:45.600Z"
   },
   {
    "duration": 9,
    "start_time": "2021-10-21T15:25:45.617Z"
   },
   {
    "duration": 18,
    "start_time": "2021-10-21T15:25:45.663Z"
   },
   {
    "duration": 6,
    "start_time": "2021-10-21T15:25:45.683Z"
   },
   {
    "duration": 16,
    "start_time": "2021-10-21T15:25:45.691Z"
   },
   {
    "duration": 12,
    "start_time": "2021-10-21T15:25:45.709Z"
   },
   {
    "duration": 13,
    "start_time": "2021-10-21T15:25:45.723Z"
   },
   {
    "duration": 32,
    "start_time": "2021-10-21T15:25:45.740Z"
   },
   {
    "duration": 11,
    "start_time": "2021-10-21T15:25:45.775Z"
   },
   {
    "duration": 18,
    "start_time": "2021-10-21T15:25:45.787Z"
   },
   {
    "duration": 12,
    "start_time": "2021-10-21T15:25:45.807Z"
   },
   {
    "duration": 8,
    "start_time": "2021-10-21T15:25:45.820Z"
   },
   {
    "duration": 38,
    "start_time": "2021-10-21T15:25:45.830Z"
   },
   {
    "duration": 9,
    "start_time": "2021-10-21T15:25:45.870Z"
   },
   {
    "duration": 32,
    "start_time": "2021-10-21T15:25:45.882Z"
   },
   {
    "duration": 16,
    "start_time": "2021-10-21T15:25:45.916Z"
   },
   {
    "duration": 36,
    "start_time": "2021-10-21T15:25:45.934Z"
   },
   {
    "duration": 22551,
    "start_time": "2021-10-21T15:25:45.972Z"
   },
   {
    "duration": 15,
    "start_time": "2021-10-21T15:26:08.525Z"
   },
   {
    "duration": 45,
    "start_time": "2021-10-21T15:26:08.542Z"
   },
   {
    "duration": 15,
    "start_time": "2021-10-21T15:26:08.589Z"
   },
   {
    "duration": 22,
    "start_time": "2021-10-21T15:26:08.606Z"
   },
   {
    "duration": 50,
    "start_time": "2021-10-21T15:26:08.630Z"
   },
   {
    "duration": 8,
    "start_time": "2021-10-21T15:26:08.682Z"
   },
   {
    "duration": 14229,
    "start_time": "2021-10-21T15:26:08.692Z"
   },
   {
    "duration": 21,
    "start_time": "2021-10-21T15:26:22.923Z"
   },
   {
    "duration": 18,
    "start_time": "2021-10-21T15:26:22.946Z"
   },
   {
    "duration": 7,
    "start_time": "2021-10-21T15:26:22.965Z"
   },
   {
    "duration": 7,
    "start_time": "2021-10-21T15:26:22.974Z"
   },
   {
    "duration": 8,
    "start_time": "2021-10-21T15:26:22.982Z"
   },
   {
    "duration": 10,
    "start_time": "2021-10-21T15:26:22.992Z"
   },
   {
    "duration": 8,
    "start_time": "2021-10-21T15:26:23.004Z"
   },
   {
    "duration": 52,
    "start_time": "2021-10-21T15:26:23.014Z"
   },
   {
    "duration": 8,
    "start_time": "2021-10-21T15:26:23.068Z"
   },
   {
    "duration": 9,
    "start_time": "2021-10-21T15:26:23.078Z"
   },
   {
    "duration": 28,
    "start_time": "2021-10-21T15:26:23.089Z"
   },
   {
    "duration": 8,
    "start_time": "2021-10-21T15:26:23.119Z"
   },
   {
    "duration": 36,
    "start_time": "2021-10-21T15:26:23.129Z"
   },
   {
    "duration": 10,
    "start_time": "2021-10-21T15:26:23.166Z"
   },
   {
    "duration": 9,
    "start_time": "2021-10-21T15:26:23.177Z"
   },
   {
    "duration": 13,
    "start_time": "2021-10-21T15:26:23.187Z"
   },
   {
    "duration": 138,
    "start_time": "2021-10-21T15:26:23.203Z"
   },
   {
    "duration": 344,
    "start_time": "2021-10-21T15:26:23.343Z"
   },
   {
    "duration": 244,
    "start_time": "2021-10-21T15:27:57.572Z"
   },
   {
    "duration": 238,
    "start_time": "2021-10-21T15:28:04.082Z"
   },
   {
    "duration": 1283,
    "start_time": "2021-10-21T15:28:11.577Z"
   },
   {
    "duration": 71,
    "start_time": "2021-10-21T15:28:12.863Z"
   },
   {
    "duration": 11,
    "start_time": "2021-10-21T15:28:12.937Z"
   },
   {
    "duration": 61,
    "start_time": "2021-10-21T15:28:12.950Z"
   },
   {
    "duration": 624,
    "start_time": "2021-10-21T15:28:13.012Z"
   },
   {
    "duration": 14,
    "start_time": "2021-10-21T15:28:13.638Z"
   },
   {
    "duration": 3,
    "start_time": "2021-10-21T15:28:13.653Z"
   },
   {
    "duration": 16,
    "start_time": "2021-10-21T15:28:13.658Z"
   },
   {
    "duration": 2,
    "start_time": "2021-10-21T15:28:13.676Z"
   },
   {
    "duration": 27,
    "start_time": "2021-10-21T15:28:13.680Z"
   },
   {
    "duration": 5,
    "start_time": "2021-10-21T15:28:13.709Z"
   },
   {
    "duration": 13,
    "start_time": "2021-10-21T15:28:13.716Z"
   },
   {
    "duration": 7,
    "start_time": "2021-10-21T15:28:13.731Z"
   },
   {
    "duration": 30,
    "start_time": "2021-10-21T15:28:13.740Z"
   },
   {
    "duration": 5,
    "start_time": "2021-10-21T15:28:13.772Z"
   },
   {
    "duration": 14,
    "start_time": "2021-10-21T15:28:13.779Z"
   },
   {
    "duration": 7,
    "start_time": "2021-10-21T15:28:13.795Z"
   },
   {
    "duration": 21,
    "start_time": "2021-10-21T15:28:13.804Z"
   },
   {
    "duration": 40,
    "start_time": "2021-10-21T15:28:13.827Z"
   },
   {
    "duration": 10,
    "start_time": "2021-10-21T15:28:13.870Z"
   },
   {
    "duration": 12,
    "start_time": "2021-10-21T15:28:13.882Z"
   },
   {
    "duration": 7,
    "start_time": "2021-10-21T15:28:13.896Z"
   },
   {
    "duration": 17,
    "start_time": "2021-10-21T15:28:13.907Z"
   },
   {
    "duration": 10,
    "start_time": "2021-10-21T15:28:13.926Z"
   },
   {
    "duration": 15,
    "start_time": "2021-10-21T15:28:13.964Z"
   },
   {
    "duration": 12,
    "start_time": "2021-10-21T15:28:13.980Z"
   },
   {
    "duration": 7,
    "start_time": "2021-10-21T15:28:13.994Z"
   },
   {
    "duration": 12,
    "start_time": "2021-10-21T15:28:14.003Z"
   },
   {
    "duration": 14,
    "start_time": "2021-10-21T15:28:14.017Z"
   },
   {
    "duration": 47,
    "start_time": "2021-10-21T15:28:14.033Z"
   },
   {
    "duration": 16,
    "start_time": "2021-10-21T15:28:14.081Z"
   },
   {
    "duration": 21,
    "start_time": "2021-10-21T15:28:14.099Z"
   },
   {
    "duration": 21741,
    "start_time": "2021-10-21T15:28:14.122Z"
   },
   {
    "duration": 15,
    "start_time": "2021-10-21T15:28:35.865Z"
   },
   {
    "duration": 30,
    "start_time": "2021-10-21T15:28:35.881Z"
   },
   {
    "duration": 13,
    "start_time": "2021-10-21T15:28:35.913Z"
   },
   {
    "duration": 38,
    "start_time": "2021-10-21T15:28:35.928Z"
   },
   {
    "duration": 27,
    "start_time": "2021-10-21T15:28:35.968Z"
   },
   {
    "duration": 7,
    "start_time": "2021-10-21T15:28:35.997Z"
   },
   {
    "duration": 14220,
    "start_time": "2021-10-21T15:28:36.006Z"
   },
   {
    "duration": 19,
    "start_time": "2021-10-21T15:28:50.228Z"
   },
   {
    "duration": 4,
    "start_time": "2021-10-21T15:28:50.263Z"
   },
   {
    "duration": 15,
    "start_time": "2021-10-21T15:28:50.269Z"
   },
   {
    "duration": 7,
    "start_time": "2021-10-21T15:28:50.285Z"
   },
   {
    "duration": 8,
    "start_time": "2021-10-21T15:28:50.294Z"
   },
   {
    "duration": 11,
    "start_time": "2021-10-21T15:28:50.303Z"
   },
   {
    "duration": 8,
    "start_time": "2021-10-21T15:28:50.316Z"
   },
   {
    "duration": 43,
    "start_time": "2021-10-21T15:28:50.325Z"
   },
   {
    "duration": 7,
    "start_time": "2021-10-21T15:28:50.370Z"
   },
   {
    "duration": 12,
    "start_time": "2021-10-21T15:28:50.379Z"
   },
   {
    "duration": 25,
    "start_time": "2021-10-21T15:28:50.393Z"
   },
   {
    "duration": 7,
    "start_time": "2021-10-21T15:28:50.420Z"
   },
   {
    "duration": 36,
    "start_time": "2021-10-21T15:28:50.429Z"
   },
   {
    "duration": 16,
    "start_time": "2021-10-21T15:28:50.466Z"
   },
   {
    "duration": 9,
    "start_time": "2021-10-21T15:28:50.485Z"
   },
   {
    "duration": 13,
    "start_time": "2021-10-21T15:28:50.496Z"
   },
   {
    "duration": 138,
    "start_time": "2021-10-21T15:28:50.511Z"
   },
   {
    "duration": 353,
    "start_time": "2021-10-21T15:28:50.651Z"
   },
   {
    "duration": 276,
    "start_time": "2021-10-21T15:29:10.659Z"
   },
   {
    "duration": 271,
    "start_time": "2021-10-21T15:29:19.523Z"
   },
   {
    "duration": 2,
    "start_time": "2021-10-21T15:29:32.563Z"
   },
   {
    "duration": 366,
    "start_time": "2021-10-21T15:29:34.857Z"
   },
   {
    "duration": 1293,
    "start_time": "2021-10-21T15:29:47.461Z"
   },
   {
    "duration": 70,
    "start_time": "2021-10-21T15:29:48.756Z"
   },
   {
    "duration": 11,
    "start_time": "2021-10-21T15:29:48.828Z"
   },
   {
    "duration": 59,
    "start_time": "2021-10-21T15:29:48.841Z"
   },
   {
    "duration": 587,
    "start_time": "2021-10-21T15:29:48.902Z"
   },
   {
    "duration": 14,
    "start_time": "2021-10-21T15:29:49.491Z"
   },
   {
    "duration": 4,
    "start_time": "2021-10-21T15:29:49.507Z"
   },
   {
    "duration": 22,
    "start_time": "2021-10-21T15:29:49.512Z"
   },
   {
    "duration": 9,
    "start_time": "2021-10-21T15:29:49.536Z"
   },
   {
    "duration": 28,
    "start_time": "2021-10-21T15:29:49.547Z"
   },
   {
    "duration": 5,
    "start_time": "2021-10-21T15:29:49.577Z"
   },
   {
    "duration": 23,
    "start_time": "2021-10-21T15:29:49.584Z"
   },
   {
    "duration": 10,
    "start_time": "2021-10-21T15:29:49.609Z"
   },
   {
    "duration": 17,
    "start_time": "2021-10-21T15:29:49.621Z"
   },
   {
    "duration": 8,
    "start_time": "2021-10-21T15:29:49.640Z"
   },
   {
    "duration": 11,
    "start_time": "2021-10-21T15:29:49.664Z"
   },
   {
    "duration": 8,
    "start_time": "2021-10-21T15:29:49.676Z"
   },
   {
    "duration": 24,
    "start_time": "2021-10-21T15:29:49.686Z"
   },
   {
    "duration": 8,
    "start_time": "2021-10-21T15:29:49.712Z"
   },
   {
    "duration": 11,
    "start_time": "2021-10-21T15:29:49.722Z"
   },
   {
    "duration": 31,
    "start_time": "2021-10-21T15:29:49.735Z"
   },
   {
    "duration": 6,
    "start_time": "2021-10-21T15:29:49.768Z"
   },
   {
    "duration": 19,
    "start_time": "2021-10-21T15:29:49.776Z"
   },
   {
    "duration": 12,
    "start_time": "2021-10-21T15:29:49.797Z"
   },
   {
    "duration": 22,
    "start_time": "2021-10-21T15:29:49.810Z"
   },
   {
    "duration": 31,
    "start_time": "2021-10-21T15:29:49.834Z"
   },
   {
    "duration": 8,
    "start_time": "2021-10-21T15:29:49.868Z"
   },
   {
    "duration": 8,
    "start_time": "2021-10-21T15:29:49.878Z"
   },
   {
    "duration": 14,
    "start_time": "2021-10-21T15:29:49.888Z"
   },
   {
    "duration": 25,
    "start_time": "2021-10-21T15:29:49.904Z"
   },
   {
    "duration": 36,
    "start_time": "2021-10-21T15:29:49.931Z"
   },
   {
    "duration": 19,
    "start_time": "2021-10-21T15:29:49.969Z"
   },
   {
    "duration": 22174,
    "start_time": "2021-10-21T15:29:49.990Z"
   },
   {
    "duration": 14,
    "start_time": "2021-10-21T15:30:12.166Z"
   },
   {
    "duration": 33,
    "start_time": "2021-10-21T15:30:12.182Z"
   },
   {
    "duration": 14,
    "start_time": "2021-10-21T15:30:12.216Z"
   },
   {
    "duration": 35,
    "start_time": "2021-10-21T15:30:12.232Z"
   },
   {
    "duration": 30,
    "start_time": "2021-10-21T15:30:12.269Z"
   },
   {
    "duration": 8,
    "start_time": "2021-10-21T15:30:12.300Z"
   },
   {
    "duration": 14064,
    "start_time": "2021-10-21T15:30:12.309Z"
   },
   {
    "duration": 28,
    "start_time": "2021-10-21T15:30:26.375Z"
   },
   {
    "duration": 6,
    "start_time": "2021-10-21T15:30:26.406Z"
   },
   {
    "duration": 21,
    "start_time": "2021-10-21T15:30:26.414Z"
   },
   {
    "duration": 32,
    "start_time": "2021-10-21T15:30:26.437Z"
   },
   {
    "duration": 21,
    "start_time": "2021-10-21T15:30:26.470Z"
   },
   {
    "duration": 13,
    "start_time": "2021-10-21T15:30:26.493Z"
   },
   {
    "duration": 24,
    "start_time": "2021-10-21T15:30:26.509Z"
   },
   {
    "duration": 24,
    "start_time": "2021-10-21T15:30:26.535Z"
   },
   {
    "duration": 22,
    "start_time": "2021-10-21T15:30:26.560Z"
   },
   {
    "duration": 24,
    "start_time": "2021-10-21T15:30:26.585Z"
   },
   {
    "duration": 42,
    "start_time": "2021-10-21T15:30:26.611Z"
   },
   {
    "duration": 10,
    "start_time": "2021-10-21T15:30:26.655Z"
   },
   {
    "duration": 32,
    "start_time": "2021-10-21T15:30:26.668Z"
   },
   {
    "duration": 25,
    "start_time": "2021-10-21T15:30:26.702Z"
   },
   {
    "duration": 21,
    "start_time": "2021-10-21T15:30:26.730Z"
   },
   {
    "duration": 21,
    "start_time": "2021-10-21T15:30:26.754Z"
   },
   {
    "duration": 8,
    "start_time": "2021-10-21T15:30:26.777Z"
   },
   {
    "duration": 392,
    "start_time": "2021-10-21T15:30:26.787Z"
   },
   {
    "duration": 278,
    "start_time": "2021-10-21T15:32:20.124Z"
   },
   {
    "duration": 269,
    "start_time": "2021-10-21T15:32:23.893Z"
   },
   {
    "duration": 147,
    "start_time": "2021-10-21T15:32:33.424Z"
   },
   {
    "duration": 164,
    "start_time": "2021-10-21T15:32:46.079Z"
   },
   {
    "duration": 315,
    "start_time": "2021-10-21T15:32:59.014Z"
   },
   {
    "duration": 134,
    "start_time": "2021-10-21T15:33:34.249Z"
   },
   {
    "duration": 257,
    "start_time": "2021-10-21T15:33:40.273Z"
   },
   {
    "duration": 305,
    "start_time": "2021-10-21T15:33:53.752Z"
   },
   {
    "duration": 109,
    "start_time": "2021-10-21T15:33:59.587Z"
   },
   {
    "duration": 75,
    "start_time": "2021-10-21T15:34:10.599Z"
   },
   {
    "duration": 83,
    "start_time": "2021-10-21T15:34:26.129Z"
   },
   {
    "duration": 46,
    "start_time": "2021-10-21T15:34:45.683Z"
   },
   {
    "duration": 78,
    "start_time": "2021-10-21T15:36:33.167Z"
   },
   {
    "duration": 75,
    "start_time": "2021-10-21T15:37:17.800Z"
   },
   {
    "duration": 73,
    "start_time": "2021-10-21T15:37:42.505Z"
   },
   {
    "duration": 326,
    "start_time": "2021-10-21T15:41:06.757Z"
   },
   {
    "duration": 69,
    "start_time": "2021-10-21T15:41:48.229Z"
   },
   {
    "duration": 245,
    "start_time": "2021-10-21T15:47:00.470Z"
   },
   {
    "duration": 274,
    "start_time": "2021-10-21T15:50:42.779Z"
   },
   {
    "duration": 315,
    "start_time": "2021-10-21T15:50:54.716Z"
   },
   {
    "duration": 288,
    "start_time": "2021-10-21T15:51:14.634Z"
   },
   {
    "duration": 1282,
    "start_time": "2021-10-21T15:51:39.084Z"
   },
   {
    "duration": 69,
    "start_time": "2021-10-21T15:51:40.368Z"
   },
   {
    "duration": 11,
    "start_time": "2021-10-21T15:51:40.439Z"
   },
   {
    "duration": 62,
    "start_time": "2021-10-21T15:51:40.453Z"
   },
   {
    "duration": 598,
    "start_time": "2021-10-21T15:51:40.517Z"
   },
   {
    "duration": 14,
    "start_time": "2021-10-21T15:51:41.117Z"
   },
   {
    "duration": 2,
    "start_time": "2021-10-21T15:51:41.133Z"
   },
   {
    "duration": 31,
    "start_time": "2021-10-21T15:51:41.138Z"
   },
   {
    "duration": 3,
    "start_time": "2021-10-21T15:51:41.170Z"
   },
   {
    "duration": 23,
    "start_time": "2021-10-21T15:51:41.174Z"
   },
   {
    "duration": 6,
    "start_time": "2021-10-21T15:51:41.198Z"
   },
   {
    "duration": 12,
    "start_time": "2021-10-21T15:51:41.206Z"
   },
   {
    "duration": 8,
    "start_time": "2021-10-21T15:51:41.220Z"
   },
   {
    "duration": 40,
    "start_time": "2021-10-21T15:51:41.230Z"
   },
   {
    "duration": 6,
    "start_time": "2021-10-21T15:51:41.272Z"
   },
   {
    "duration": 12,
    "start_time": "2021-10-21T15:51:41.280Z"
   },
   {
    "duration": 9,
    "start_time": "2021-10-21T15:51:41.294Z"
   },
   {
    "duration": 25,
    "start_time": "2021-10-21T15:51:41.305Z"
   },
   {
    "duration": 7,
    "start_time": "2021-10-21T15:51:41.363Z"
   },
   {
    "duration": 12,
    "start_time": "2021-10-21T15:51:41.372Z"
   },
   {
    "duration": 10,
    "start_time": "2021-10-21T15:51:41.386Z"
   },
   {
    "duration": 11,
    "start_time": "2021-10-21T15:51:41.397Z"
   },
   {
    "duration": 12,
    "start_time": "2021-10-21T15:51:41.412Z"
   },
   {
    "duration": 11,
    "start_time": "2021-10-21T15:51:41.426Z"
   },
   {
    "duration": 13,
    "start_time": "2021-10-21T15:51:41.464Z"
   },
   {
    "duration": 11,
    "start_time": "2021-10-21T15:51:41.479Z"
   },
   {
    "duration": 8,
    "start_time": "2021-10-21T15:51:41.491Z"
   },
   {
    "duration": 14,
    "start_time": "2021-10-21T15:51:41.500Z"
   },
   {
    "duration": 13,
    "start_time": "2021-10-21T15:51:41.516Z"
   },
   {
    "duration": 48,
    "start_time": "2021-10-21T15:51:41.531Z"
   },
   {
    "duration": 13,
    "start_time": "2021-10-21T15:51:41.581Z"
   },
   {
    "duration": 20,
    "start_time": "2021-10-21T15:51:41.596Z"
   },
   {
    "duration": 22246,
    "start_time": "2021-10-21T15:51:41.618Z"
   },
   {
    "duration": 15,
    "start_time": "2021-10-21T15:52:03.866Z"
   },
   {
    "duration": 31,
    "start_time": "2021-10-21T15:52:03.883Z"
   },
   {
    "duration": 14,
    "start_time": "2021-10-21T15:52:03.916Z"
   },
   {
    "duration": 34,
    "start_time": "2021-10-21T15:52:03.932Z"
   },
   {
    "duration": 29,
    "start_time": "2021-10-21T15:52:03.968Z"
   },
   {
    "duration": 7,
    "start_time": "2021-10-21T15:52:03.999Z"
   },
   {
    "duration": 13912,
    "start_time": "2021-10-21T15:52:04.007Z"
   },
   {
    "duration": 18,
    "start_time": "2021-10-21T15:52:17.921Z"
   },
   {
    "duration": 4,
    "start_time": "2021-10-21T15:52:17.941Z"
   },
   {
    "duration": 7,
    "start_time": "2021-10-21T15:52:17.963Z"
   },
   {
    "duration": 7,
    "start_time": "2021-10-21T15:52:17.972Z"
   },
   {
    "duration": 7,
    "start_time": "2021-10-21T15:52:17.981Z"
   },
   {
    "duration": 9,
    "start_time": "2021-10-21T15:52:17.990Z"
   },
   {
    "duration": 8,
    "start_time": "2021-10-21T15:52:18.001Z"
   },
   {
    "duration": 9,
    "start_time": "2021-10-21T15:52:18.011Z"
   },
   {
    "duration": 46,
    "start_time": "2021-10-21T15:52:18.022Z"
   },
   {
    "duration": 10,
    "start_time": "2021-10-21T15:52:18.069Z"
   },
   {
    "duration": 25,
    "start_time": "2021-10-21T15:52:18.080Z"
   },
   {
    "duration": 7,
    "start_time": "2021-10-21T15:52:18.107Z"
   },
   {
    "duration": 12,
    "start_time": "2021-10-21T15:52:18.115Z"
   },
   {
    "duration": 38,
    "start_time": "2021-10-21T15:52:18.129Z"
   },
   {
    "duration": 15,
    "start_time": "2021-10-21T15:52:18.169Z"
   },
   {
    "duration": 16,
    "start_time": "2021-10-21T15:52:18.186Z"
   },
   {
    "duration": 402,
    "start_time": "2021-10-21T15:52:18.204Z"
   },
   {
    "duration": 85,
    "start_time": "2021-10-21T15:52:40.283Z"
   },
   {
    "duration": 78,
    "start_time": "2021-10-21T15:53:05.644Z"
   },
   {
    "duration": 277,
    "start_time": "2021-10-21T15:53:20.836Z"
   },
   {
    "duration": 267,
    "start_time": "2021-10-21T15:53:40.860Z"
   },
   {
    "duration": 104,
    "start_time": "2021-10-21T15:54:04.803Z"
   },
   {
    "duration": 73,
    "start_time": "2021-10-21T15:56:14.923Z"
   },
   {
    "duration": 73,
    "start_time": "2021-10-21T15:56:21.791Z"
   },
   {
    "duration": 259,
    "start_time": "2021-10-21T16:00:30.911Z"
   },
   {
    "duration": 322,
    "start_time": "2021-10-21T16:00:50.284Z"
   },
   {
    "duration": 80,
    "start_time": "2021-10-21T16:01:07.230Z"
   },
   {
    "duration": 260,
    "start_time": "2021-10-21T16:06:21.811Z"
   },
   {
    "duration": 95,
    "start_time": "2021-10-21T16:06:35.705Z"
   },
   {
    "duration": 104,
    "start_time": "2021-10-21T16:07:11.500Z"
   },
   {
    "duration": 84,
    "start_time": "2021-10-21T16:07:30.353Z"
   },
   {
    "duration": 92,
    "start_time": "2021-10-21T16:07:33.790Z"
   },
   {
    "duration": 87,
    "start_time": "2021-10-21T16:07:52.184Z"
   },
   {
    "duration": 87,
    "start_time": "2021-10-21T16:08:14.829Z"
   },
   {
    "duration": 298,
    "start_time": "2021-10-21T16:08:26.505Z"
   },
   {
    "duration": 291,
    "start_time": "2021-10-21T16:08:49.633Z"
   },
   {
    "duration": 292,
    "start_time": "2021-10-21T16:08:58.019Z"
   },
   {
    "duration": 307,
    "start_time": "2021-10-21T16:09:02.562Z"
   },
   {
    "duration": 75,
    "start_time": "2021-10-21T16:09:28.327Z"
   },
   {
    "duration": 8,
    "start_time": "2021-10-21T16:09:53.788Z"
   },
   {
    "duration": 9,
    "start_time": "2021-10-21T16:09:56.014Z"
   },
   {
    "duration": 8,
    "start_time": "2021-10-21T16:10:55.437Z"
   },
   {
    "duration": 7,
    "start_time": "2021-10-21T16:11:03.497Z"
   },
   {
    "duration": 254,
    "start_time": "2021-10-21T16:12:30.073Z"
   },
   {
    "duration": 77,
    "start_time": "2021-10-21T16:12:42.614Z"
   },
   {
    "duration": 1270,
    "start_time": "2021-10-21T16:22:26.248Z"
   },
   {
    "duration": 69,
    "start_time": "2021-10-21T16:22:27.520Z"
   },
   {
    "duration": 12,
    "start_time": "2021-10-21T16:22:27.592Z"
   },
   {
    "duration": 69,
    "start_time": "2021-10-21T16:22:27.607Z"
   },
   {
    "duration": 591,
    "start_time": "2021-10-21T16:22:27.678Z"
   },
   {
    "duration": 15,
    "start_time": "2021-10-21T16:22:28.271Z"
   },
   {
    "duration": 22,
    "start_time": "2021-10-21T16:22:28.289Z"
   },
   {
    "duration": 28,
    "start_time": "2021-10-21T16:22:28.314Z"
   },
   {
    "duration": 10,
    "start_time": "2021-10-21T16:22:28.345Z"
   },
   {
    "duration": 23,
    "start_time": "2021-10-21T16:22:28.357Z"
   },
   {
    "duration": 6,
    "start_time": "2021-10-21T16:22:28.382Z"
   },
   {
    "duration": 13,
    "start_time": "2021-10-21T16:22:28.390Z"
   },
   {
    "duration": 8,
    "start_time": "2021-10-21T16:22:28.405Z"
   },
   {
    "duration": 14,
    "start_time": "2021-10-21T16:22:28.415Z"
   },
   {
    "duration": 33,
    "start_time": "2021-10-21T16:22:28.431Z"
   },
   {
    "duration": 12,
    "start_time": "2021-10-21T16:22:28.466Z"
   },
   {
    "duration": 8,
    "start_time": "2021-10-21T16:22:28.480Z"
   },
   {
    "duration": 22,
    "start_time": "2021-10-21T16:22:28.489Z"
   },
   {
    "duration": 11,
    "start_time": "2021-10-21T16:22:28.513Z"
   },
   {
    "duration": 42,
    "start_time": "2021-10-21T16:22:28.525Z"
   },
   {
    "duration": 9,
    "start_time": "2021-10-21T16:22:28.570Z"
   },
   {
    "duration": 9,
    "start_time": "2021-10-21T16:22:28.581Z"
   },
   {
    "duration": 13,
    "start_time": "2021-10-21T16:22:28.594Z"
   },
   {
    "duration": 19,
    "start_time": "2021-10-21T16:22:28.609Z"
   },
   {
    "duration": 35,
    "start_time": "2021-10-21T16:22:28.630Z"
   },
   {
    "duration": 12,
    "start_time": "2021-10-21T16:22:28.667Z"
   },
   {
    "duration": 8,
    "start_time": "2021-10-21T16:22:28.681Z"
   },
   {
    "duration": 13,
    "start_time": "2021-10-21T16:22:28.691Z"
   },
   {
    "duration": 16,
    "start_time": "2021-10-21T16:22:28.706Z"
   },
   {
    "duration": 40,
    "start_time": "2021-10-21T16:22:28.724Z"
   },
   {
    "duration": 13,
    "start_time": "2021-10-21T16:22:28.766Z"
   },
   {
    "duration": 19,
    "start_time": "2021-10-21T16:22:28.781Z"
   },
   {
    "duration": 21995,
    "start_time": "2021-10-21T16:22:28.802Z"
   },
   {
    "duration": 16,
    "start_time": "2021-10-21T16:22:50.799Z"
   },
   {
    "duration": 50,
    "start_time": "2021-10-21T16:22:50.816Z"
   },
   {
    "duration": 14,
    "start_time": "2021-10-21T16:22:50.868Z"
   },
   {
    "duration": 12,
    "start_time": "2021-10-21T16:22:50.884Z"
   },
   {
    "duration": 42,
    "start_time": "2021-10-21T16:22:50.898Z"
   },
   {
    "duration": 7,
    "start_time": "2021-10-21T16:22:50.942Z"
   },
   {
    "duration": 14099,
    "start_time": "2021-10-21T16:22:50.964Z"
   },
   {
    "duration": 20,
    "start_time": "2021-10-21T16:23:05.065Z"
   },
   {
    "duration": 5,
    "start_time": "2021-10-21T16:23:05.088Z"
   },
   {
    "duration": 17,
    "start_time": "2021-10-21T16:23:05.095Z"
   },
   {
    "duration": 12,
    "start_time": "2021-10-21T16:23:05.114Z"
   },
   {
    "duration": 38,
    "start_time": "2021-10-21T16:23:05.128Z"
   },
   {
    "duration": 8,
    "start_time": "2021-10-21T16:23:05.168Z"
   },
   {
    "duration": 8,
    "start_time": "2021-10-21T16:23:05.178Z"
   },
   {
    "duration": 10,
    "start_time": "2021-10-21T16:23:05.188Z"
   },
   {
    "duration": 8,
    "start_time": "2021-10-21T16:23:05.200Z"
   },
   {
    "duration": 12,
    "start_time": "2021-10-21T16:23:05.209Z"
   },
   {
    "duration": 56,
    "start_time": "2021-10-21T16:23:05.222Z"
   },
   {
    "duration": 7,
    "start_time": "2021-10-21T16:23:05.280Z"
   },
   {
    "duration": 10,
    "start_time": "2021-10-21T16:23:05.288Z"
   },
   {
    "duration": 11,
    "start_time": "2021-10-21T16:23:05.300Z"
   },
   {
    "duration": 10,
    "start_time": "2021-10-21T16:23:05.312Z"
   },
   {
    "duration": 39,
    "start_time": "2021-10-21T16:23:05.324Z"
   },
   {
    "duration": 8,
    "start_time": "2021-10-21T16:23:05.365Z"
   },
   {
    "duration": 9,
    "start_time": "2021-10-21T16:23:05.375Z"
   },
   {
    "duration": 97,
    "start_time": "2021-10-21T16:23:05.386Z"
   },
   {
    "duration": 1531,
    "start_time": "2021-10-21T21:30:29.288Z"
   },
   {
    "duration": 95,
    "start_time": "2021-10-21T21:30:30.821Z"
   },
   {
    "duration": 14,
    "start_time": "2021-10-21T21:30:30.919Z"
   },
   {
    "duration": 106,
    "start_time": "2021-10-21T21:30:30.936Z"
   },
   {
    "duration": 48578,
    "start_time": "2021-10-21T21:30:31.045Z"
   },
   {
    "duration": 17,
    "start_time": "2021-10-21T21:31:19.625Z"
   },
   {
    "duration": 3,
    "start_time": "2021-10-21T21:31:19.644Z"
   },
   {
    "duration": 17,
    "start_time": "2021-10-21T21:31:19.670Z"
   },
   {
    "duration": 3,
    "start_time": "2021-10-21T21:31:19.690Z"
   },
   {
    "duration": 27,
    "start_time": "2021-10-21T21:31:19.695Z"
   },
   {
    "duration": 43,
    "start_time": "2021-10-21T21:31:19.724Z"
   },
   {
    "duration": 16,
    "start_time": "2021-10-21T21:31:19.769Z"
   },
   {
    "duration": 12,
    "start_time": "2021-10-21T21:31:19.788Z"
   },
   {
    "duration": 18,
    "start_time": "2021-10-21T21:31:19.803Z"
   },
   {
    "duration": 11,
    "start_time": "2021-10-21T21:31:19.867Z"
   },
   {
    "duration": 17,
    "start_time": "2021-10-21T21:31:19.881Z"
   },
   {
    "duration": 11,
    "start_time": "2021-10-21T21:31:19.901Z"
   },
   {
    "duration": 65,
    "start_time": "2021-10-21T21:31:19.914Z"
   },
   {
    "duration": 7,
    "start_time": "2021-10-21T21:31:19.981Z"
   },
   {
    "duration": 16,
    "start_time": "2021-10-21T21:31:19.990Z"
   },
   {
    "duration": 12,
    "start_time": "2021-10-21T21:31:20.008Z"
   },
   {
    "duration": 50,
    "start_time": "2021-10-21T21:31:20.022Z"
   },
   {
    "duration": 13,
    "start_time": "2021-10-21T21:31:20.078Z"
   },
   {
    "duration": 11,
    "start_time": "2021-10-21T21:31:20.095Z"
   },
   {
    "duration": 25,
    "start_time": "2021-10-21T21:31:20.109Z"
   },
   {
    "duration": 47,
    "start_time": "2021-10-21T21:31:20.136Z"
   },
   {
    "duration": 10,
    "start_time": "2021-10-21T21:31:20.185Z"
   },
   {
    "duration": 10,
    "start_time": "2021-10-21T21:31:20.197Z"
   },
   {
    "duration": 10,
    "start_time": "2021-10-21T21:31:20.210Z"
   },
   {
    "duration": 65,
    "start_time": "2021-10-21T21:31:20.223Z"
   },
   {
    "duration": 15,
    "start_time": "2021-10-21T21:31:20.292Z"
   },
   {
    "duration": 24,
    "start_time": "2021-10-21T21:31:20.310Z"
   },
   {
    "duration": 31835,
    "start_time": "2021-10-21T21:31:20.367Z"
   },
   {
    "duration": 20,
    "start_time": "2021-10-21T21:31:52.204Z"
   },
   {
    "duration": 65,
    "start_time": "2021-10-21T21:31:52.226Z"
   },
   {
    "duration": 22,
    "start_time": "2021-10-21T21:31:52.293Z"
   },
   {
    "duration": 13,
    "start_time": "2021-10-21T21:31:52.318Z"
   },
   {
    "duration": 67,
    "start_time": "2021-10-21T21:31:52.333Z"
   },
   {
    "duration": 12,
    "start_time": "2021-10-21T21:31:52.404Z"
   },
   {
    "duration": 25742,
    "start_time": "2021-10-21T21:31:52.419Z"
   },
   {
    "duration": 31,
    "start_time": "2021-10-21T21:32:18.167Z"
   },
   {
    "duration": 5,
    "start_time": "2021-10-21T21:32:18.200Z"
   },
   {
    "duration": 13,
    "start_time": "2021-10-21T21:32:18.208Z"
   },
   {
    "duration": 49,
    "start_time": "2021-10-21T21:32:18.223Z"
   },
   {
    "duration": 10,
    "start_time": "2021-10-21T21:32:18.275Z"
   },
   {
    "duration": 13,
    "start_time": "2021-10-21T21:32:18.287Z"
   },
   {
    "duration": 10,
    "start_time": "2021-10-21T21:32:18.303Z"
   },
   {
    "duration": 13,
    "start_time": "2021-10-21T21:32:18.316Z"
   },
   {
    "duration": 11,
    "start_time": "2021-10-21T21:32:18.368Z"
   },
   {
    "duration": 14,
    "start_time": "2021-10-21T21:32:18.382Z"
   },
   {
    "duration": 72,
    "start_time": "2021-10-21T21:32:18.399Z"
   },
   {
    "duration": 11,
    "start_time": "2021-10-21T21:32:18.474Z"
   },
   {
    "duration": 14,
    "start_time": "2021-10-21T21:32:18.488Z"
   },
   {
    "duration": 15,
    "start_time": "2021-10-21T21:32:18.504Z"
   },
   {
    "duration": 10,
    "start_time": "2021-10-21T21:32:18.521Z"
   },
   {
    "duration": 43,
    "start_time": "2021-10-21T21:32:18.533Z"
   },
   {
    "duration": 19,
    "start_time": "2021-10-21T21:32:18.578Z"
   },
   {
    "duration": 10,
    "start_time": "2021-10-21T21:32:18.599Z"
   },
   {
    "duration": 150,
    "start_time": "2021-10-21T21:32:18.611Z"
   }
  ],
  "kernelspec": {
   "display_name": "Python 3",
   "language": "python",
   "name": "python3"
  },
  "language_info": {
   "codemirror_mode": {
    "name": "ipython",
    "version": 3
   },
   "file_extension": ".py",
   "mimetype": "text/x-python",
   "name": "python",
   "nbconvert_exporter": "python",
   "pygments_lexer": "ipython3",
   "version": "3.8.8"
  },
  "toc": {
   "base_numbering": 1,
   "nav_menu": {},
   "number_sections": true,
   "sideBar": true,
   "skip_h1_title": true,
   "title_cell": "Table of Contents",
   "title_sidebar": "Contents",
   "toc_cell": false,
   "toc_position": {},
   "toc_section_display": true,
   "toc_window_display": true
  }
 },
 "nbformat": 4,
 "nbformat_minor": 2
}
